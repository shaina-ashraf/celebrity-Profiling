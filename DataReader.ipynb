{
 "cells": [
  {
   "cell_type": "code",
   "execution_count": 1,
   "metadata": {},
   "outputs": [],
   "source": [
    "import pandas\n",
    "import os"
   ]
  },
  {
   "cell_type": "code",
   "execution_count": 2,
   "metadata": {},
   "outputs": [],
   "source": [
    "users = pandas.read_excel('input_files/user_scrapper_input.xlsx')\n",
    "tweet_files = []\n",
    "for path, directories, elements in os.walk('output_files/'):\n",
    "    for element in elements:\n",
    "        if '.csv' in element:\n",
    "            tweet_files.append(element.replace('.csv',''))"
   ]
  },
  {
   "cell_type": "code",
   "execution_count": 3,
   "metadata": {},
   "outputs": [],
   "source": [
    "users.set_index('username',inplace = True)"
   ]
  },
  {
   "cell_type": "code",
   "execution_count": 5,
   "metadata": {},
   "outputs": [
    {
     "name": "stdout",
     "output_type": "stream",
     "text": [
      "389\n"
     ]
    }
   ],
   "source": [
    "print(len(tweet_files))"
   ]
  },
  {
   "cell_type": "code",
   "execution_count": 31,
   "metadata": {},
   "outputs": [
    {
     "name": "stdout",
     "output_type": "stream",
     "text": [
      "(217, 11) (217, 12) 263\n"
     ]
    }
   ],
   "source": [
    "print(verified.shape,wikidata_input.shape,len(tweet_files))"
   ]
  },
  {
   "cell_type": "code",
   "execution_count": 32,
   "metadata": {},
   "outputs": [],
   "source": [
    "verified.insert(1,'file_found','False')"
   ]
  },
  {
   "cell_type": "code",
   "execution_count": 33,
   "metadata": {},
   "outputs": [
    {
     "name": "stdout",
     "output_type": "stream",
     "text": [
      "BushraGohar  not found\n",
      "fispahani  not found\n",
      "AdeelHashmi3  not found\n",
      "aey  not found\n"
     ]
    }
   ],
   "source": [
    "for data in verified.index:\n",
    "    if data not in tweet_files:\n",
    "        print(data,' not found')"
   ]
  },
  {
   "cell_type": "code",
   "execution_count": 3,
   "metadata": {},
   "outputs": [],
   "source": [
    "tweet_files = []\n",
    "for path, directories, elements in os.walk('output_files/'):\n",
    "    for element in elements:\n",
    "        if '.csv' in element:\n",
    "            tweet_files.append(element.replace('.csv',''))"
   ]
  },
  {
   "cell_type": "code",
   "execution_count": 8,
   "metadata": {},
   "outputs": [],
   "source": [
    "pendingData = pandas.read_excel('input_files/user_scrapper_input.xlsx',index_col='username')"
   ]
  },
  {
   "cell_type": "code",
   "execution_count": 12,
   "metadata": {},
   "outputs": [],
   "source": [
    "newData = pendingData.drop(tweet_files)"
   ]
  },
  {
   "cell_type": "code",
   "execution_count": 14,
   "metadata": {},
   "outputs": [],
   "source": [
    "newData.to_excel('input_files/pending_users.xlsx')"
   ]
  },
  {
   "cell_type": "code",
   "execution_count": null,
   "metadata": {},
   "outputs": [],
   "source": []
  }
 ],
 "metadata": {
  "kernelspec": {
   "display_name": "'Python Interactive'",
   "language": "python",
   "name": "7a860039-f2e2-4198-854a-ba0e84e6436b"
  },
  "language_info": {
   "codemirror_mode": {
    "name": "ipython",
    "version": 3
   },
   "file_extension": ".py",
   "mimetype": "text/x-python",
   "name": "python",
   "nbconvert_exporter": "python",
   "pygments_lexer": "ipython3",
   "version": "3.7.1"
  }
 },
 "nbformat": 4,
 "nbformat_minor": 2
}
