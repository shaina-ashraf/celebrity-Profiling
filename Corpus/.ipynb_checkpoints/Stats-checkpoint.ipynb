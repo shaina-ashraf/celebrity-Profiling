{
 "cells": [
  {
   "cell_type": "code",
   "execution_count": 1,
   "metadata": {},
   "outputs": [],
   "source": [
    "import pandas"
   ]
  },
  {
   "cell_type": "code",
   "execution_count": 9,
   "metadata": {},
   "outputs": [
    {
     "data": {
      "text/plain": [
       "Performer       451\n",
       "Politics        329\n",
       "Professional    264\n",
       "Sports          208\n",
       "Creator          93\n",
       "Businessman      35\n",
       "Manager           9\n",
       "Science           8\n",
       "Religious         3\n",
       "Performer         1\n",
       "Name: Occupation, dtype: int64"
      ]
     },
     "execution_count": 9,
     "metadata": {},
     "output_type": "execute_result"
    }
   ],
   "source": [
    "data = pandas.read_excel('Complete/Labels.xlsx')\n",
    "data.set_index('username',inplace=True)\n",
    "data.Occupation.value_counts()"
   ]
  },
  {
   "cell_type": "code",
   "execution_count": 10,
   "metadata": {},
   "outputs": [
    {
     "data": {
      "text/plain": [
       "male      996\n",
       "female    405\n",
       "Name: Gender, dtype: int64"
      ]
     },
     "execution_count": 10,
     "metadata": {},
     "output_type": "execute_result"
    }
   ],
   "source": [
    "data.Gender.value_counts()"
   ]
  },
  {
   "cell_type": "code",
   "execution_count": 11,
   "metadata": {},
   "outputs": [
    {
     "data": {
      "text/plain": [
       "1800    179\n",
       "1985     60\n",
       "1987     56\n",
       "1984     45\n",
       "1986     43\n",
       "1980     40\n",
       "1982     40\n",
       "1988     39\n",
       "1989     36\n",
       "1990     35\n",
       "1992     33\n",
       "1991     29\n",
       "1977     28\n",
       "1979     28\n",
       "1974     27\n",
       "1981     26\n",
       "1978     25\n",
       "1975     25\n",
       "1976     25\n",
       "1965     24\n",
       "1972     23\n",
       "1973     22\n",
       "1950     22\n",
       "1971     21\n",
       "1970     21\n",
       "1983     21\n",
       "1993     21\n",
       "1959     20\n",
       "1966     20\n",
       "1961     20\n",
       "       ... \n",
       "1943      5\n",
       "1947      5\n",
       "1958      4\n",
       "1998      4\n",
       "1937      3\n",
       "1936      3\n",
       "1929      2\n",
       "1945      2\n",
       "1942      2\n",
       "1941      2\n",
       "1924      2\n",
       "1938      2\n",
       "1935      2\n",
       "1922      1\n",
       "1900      1\n",
       "1910      1\n",
       "1923      1\n",
       "1925      1\n",
       "1926      1\n",
       "1927      1\n",
       "1944      1\n",
       "1931      1\n",
       "1932      1\n",
       "1934      1\n",
       "1939      1\n",
       "1940      1\n",
       "2001      1\n",
       "1999      1\n",
       "2002      1\n",
       "2005      1\n",
       "Name: Birthyear, Length: 82, dtype: int64"
      ]
     },
     "execution_count": 11,
     "metadata": {},
     "output_type": "execute_result"
    }
   ],
   "source": [
    "data.Birthyear.value_counts()"
   ]
  },
  {
   "cell_type": "code",
   "execution_count": null,
   "metadata": {},
   "outputs": [],
   "source": []
  }
 ],
 "metadata": {
  "kernelspec": {
   "display_name": "'Python Interactive'",
   "language": "python",
   "name": "7a860039-f2e2-4198-854a-ba0e84e6436b"
  },
  "language_info": {
   "codemirror_mode": {
    "name": "ipython",
    "version": 3
   },
   "file_extension": ".py",
   "mimetype": "text/x-python",
   "name": "python",
   "nbconvert_exporter": "python",
   "pygments_lexer": "ipython3",
   "version": "3.7.1"
  }
 },
 "nbformat": 4,
 "nbformat_minor": 2
}
