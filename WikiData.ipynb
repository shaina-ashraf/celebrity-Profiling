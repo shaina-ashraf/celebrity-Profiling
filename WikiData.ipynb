{
 "cells": [
  {
   "cell_type": "code",
   "execution_count": 1,
   "metadata": {},
   "outputs": [],
   "source": [
    "import wptools\n",
    "import pandas"
   ]
  },
  {
   "cell_type": "code",
   "execution_count": 27,
   "metadata": {},
   "outputs": [
    {
     "name": "stderr",
     "output_type": "stream",
     "text": [
      "www.wikidata.org (wikidata) Ankita Bhargava Patel\n",
      "www.wikidata.org (labels) P569|Q33999|P21|P26|P106|P735|Q6368396|...\n",
      "Ankita Bhargava Patel (en) data\n",
      "{\n",
      "  claims: <dict(8)> P31, P21, P106, P27, P735, P26, P569, P2031\n",
      "  description: Indian actress\n",
      "  label: Ankita Bhargava\n",
      "  labels: <dict(15)> P569, Q33999, P21, P26, P106, P735, Q6368396,...\n",
      "  modified: <dict(1)> wikidata\n",
      "  requests: <list(2)> wikidata, labels\n",
      "  title: Ankita_Bhargava_Patel\n",
      "  what: human\n",
      "  wikibase: Q16146387\n",
      "  wikidata: <dict(8)> instance of (P31), sex or gender (P21), occu...\n",
      "  wikidata_pageid: 17768279\n",
      "  wikidata_url: https://www.wikidata.org/wiki/Q16146387\n",
      "}\n",
      "www.wikidata.org (wikidata) Rithvik Dhanjani\n"
     ]
    },
    {
     "name": "stdout",
     "output_type": "stream",
     "text": [
      "female (Q6581072) ['actor (Q33999)', 'television actor (Q10798782)'] +1981-08-17T00:00:00Z\n"
     ]
    },
    {
     "name": "stderr",
     "output_type": "stream",
     "text": [
      "www.wikidata.org (labels) P2013|Q10798782|Q1922275|P2002|P18|P569...\n",
      "en.wikipedia.org (imageinfo) File:Rithvik Dhanjani on the set of ...\n",
      "Rithvik Dhanjani (en) data\n",
      "{\n",
      "  claims: <dict(13)> P18, P373, P31, P19, P569, P21, P27, P106, P2...\n",
      "  description: actor\n",
      "  image: <list(1)> {'file': \"File:Rithvik Dhanjani on the set of L...\n",
      "  label: Rithvik Dhanjani\n",
      "  labels: <dict(20)> P2013, Q10798782, Q1922275, P2002, P18, P569,...\n",
      "  modified: <dict(1)> wikidata\n",
      "  requests: <list(3)> wikidata, labels, imageinfo\n",
      "  title: Rithvik_Dhanjani\n",
      "  what: human\n",
      "  wikibase: Q7336735\n",
      "  wikidata: <dict(13)> image (P18), Commons category (P373), insta...\n",
      "  wikidata_pageid: 7243359\n",
      "  wikidata_url: https://www.wikidata.org/wiki/Q7336735\n",
      "}\n",
      "www.wikidata.org (wikidata) Sara Khan\n"
     ]
    },
    {
     "name": "stdout",
     "output_type": "stream",
     "text": [
      "male (Q6581097) ['actor (Q33999)', 'television actor (Q10798782)'] +1988-11-05T00:00:00Z\n"
     ]
    },
    {
     "name": "stderr",
     "output_type": "stream",
     "text": [
      "www.wikidata.org (labels) P31|Q22808320\n",
      "Sara Khan (en) data\n",
      "{\n",
      "  claims: <dict(1)> P31\n",
      "  description: Wikimedia disambiguation page\n",
      "  label: Sara Khan\n",
      "  labels: <dict(2)> P31, Q22808320\n",
      "  modified: <dict(1)> wikidata\n",
      "  requests: <list(2)> wikidata, labels\n",
      "  title: Sara_Khan\n",
      "  what: Wikimedia human name disambiguation page\n",
      "  wikibase: Q30707107\n",
      "  wikidata: <dict(1)> instance of (P31)\n",
      "  wikidata_pageid: 32317492\n",
      "  wikidata_url: https://www.wikidata.org/wiki/Q30707107\n",
      "}\n",
      "www.wikidata.org (wikidata) Erica J Fernandes\n"
     ]
    },
    {
     "name": "stdout",
     "output_type": "stream",
     "text": [
      "Sara Khan Didn't find the gender\n",
      "Sara Khan Didn't find the date of birth\n",
      "Sara Khan Didn't find any data\n",
      "Erica J Fernandes Didn't find any data\n"
     ]
    },
    {
     "name": "stderr",
     "output_type": "stream",
     "text": [
      "www.wikidata.org (wikidata) Rubina Dilaik\n",
      "www.wikidata.org (labels) Q10798782|P7105|Q83786|P18|P569|P345|P1...\n",
      "en.wikipedia.org (imageinfo) File:Rubina Dilaik at the BIG Televi...\n",
      "Rubina Dilaik (en) data\n",
      "{\n",
      "  claims: <dict(14)> P18, P31, P19, P856, P569, P21, P106, P27, P7...\n",
      "  description: Indian actress\n",
      "  image: <list(1)> {'file': 'File:Rubina Dilaik at the BIG Televis...\n",
      "  label: Rubina Dilaik\n",
      "  labels: <dict(22)> Q10798782, P7105, Q83786, P18, P569, P345, P1...\n",
      "  modified: <dict(1)> wikidata\n",
      "  requests: <list(3)> wikidata, labels, imageinfo\n",
      "  title: Rubina_Dilaik\n",
      "  what: human\n",
      "  wikibase: Q7376141\n",
      "  wikidata: <dict(14)> image (P18), instance of (P31), place of bi...\n",
      "  wikidata_pageid: 7284961\n",
      "  wikidata_url: https://www.wikidata.org/wiki/Q7376141\n",
      "}\n",
      "www.wikidata.org (wikidata) Sriti Jha\n"
     ]
    },
    {
     "name": "stdout",
     "output_type": "stream",
     "text": [
      "female (Q6581072) ['actor (Q33999)', 'television actor (Q10798782)'] +1987-08-26T00:00:00Z\n"
     ]
    },
    {
     "name": "stderr",
     "output_type": "stream",
     "text": [
      "www.wikidata.org (labels) Q598985|P109|Q10798782|Q5578583|P2002|P...\n",
      "en.wikipedia.org (imageinfo) File:Sriti jha speaking to media at ...\n",
      "Sriti Jha (en) data\n",
      "{\n",
      "  claims: <dict(16)> P373, P31, P19, P106, P569, P21, P345, P646, ...\n",
      "  description: Indian actress\n",
      "  image: <list(1)> {'file': 'File:Sriti jha speaking to media at Z...\n",
      "  label: Sriti Jha\n",
      "  labels: <dict(25)> Q598985, P109, Q10798782, Q5578583, P2002, P1...\n",
      "  modified: <dict(1)> wikidata\n",
      "  requests: <list(3)> wikidata, labels, imageinfo\n",
      "  title: Sriti_Jha\n",
      "  what: human\n",
      "  wikibase: Q2003605\n",
      "  wikidata: <dict(16)> Commons category (P373), instance of (P31),...\n",
      "  wikidata_pageid: 1931969\n",
      "  wikidata_url: https://www.wikidata.org/wiki/Q2003605\n",
      "}\n",
      "www.wikidata.org (wikidata) Kapil Dev\n"
     ]
    },
    {
     "name": "stdout",
     "output_type": "stream",
     "text": [
      "female (Q6581072) ['actor (Q33999)', 'television actor (Q10798782)'] +1986-02-26T00:00:00Z\n"
     ]
    },
    {
     "name": "stderr",
     "output_type": "stream",
     "text": [
      "www.wikidata.org (labels) P2698|Q41583|P641|Q9089|Q3344193|Q27256...\n",
      "www.wikidata.org (labels) P172\n",
      "en.wikipedia.org (imageinfo) File:Kapil Dev at Equation sports au...\n",
      "Kapil Dev (en) data\n",
      "{\n",
      "  aliases: <list(1)> Kapil Dev Nikhanj\n",
      "  claims: <dict(30)> P21, P214, P213, P569, P31, P646, P106, P27, ...\n",
      "  description: Indian cricketer\n",
      "  image: <list(1)> {'file': 'File:Kapil Dev at Equation sports auc...\n",
      "  label: Kapil Dev\n",
      "  labels: <dict(51)> P2698, Q41583, P641, Q9089, Q3344193, Q272566...\n",
      "  modified: <dict(1)> wikidata\n",
      "  requests: <list(4)> wikidata, labels, labels, imageinfo\n",
      "  title: Kapil_Dev\n",
      "  what: human\n",
      "  wikibase: Q558189\n",
      "  wikidata: <dict(30)> sex or gender (P21), VIAF ID (P214), ISNI (...\n",
      "  wikidata_pageid: 525876\n",
      "  wikidata_url: https://www.wikidata.org/wiki/Q558189\n",
      "}\n",
      "www.wikidata.org (wikidata) Sidharth Shukla\n"
     ]
    },
    {
     "name": "stdout",
     "output_type": "stream",
     "text": [
      "male (Q6581097) ['cricketer (Q12299841)', 'film actor (Q10800557)', 'coach (Q41583)', 'actor (Q33999)'] +1959-01-06T00:00:00Z\n",
      "Sidharth Shukla Didn't find any data\n"
     ]
    },
    {
     "name": "stderr",
     "output_type": "stream",
     "text": [
      "www.wikidata.org (wikidata) Tejasswi Prakash\n",
      "www.wikidata.org (labels) P569|Q374365|Q33999|P21|P69|P106|P345|P...\n",
      "Tejasswi Prakash (en) data\n",
      "{\n",
      "  aliases: <list(3)> Tejaswi Prakash Wayangankar, Tejasswi Prakash...\n",
      "  claims: <dict(10)> P31, P21, P19, P106, P2003, P569, P69, P27, P...\n",
      "  description: Indian television actress\n",
      "  label: Tejaswi Prakash\n",
      "  labels: <dict(17)> P569, Q374365, Q33999, P21, P69, P106, P345, ...\n",
      "  modified: <dict(1)> wikidata\n",
      "  requests: <list(2)> wikidata, labels\n",
      "  title: Tejasswi_Prakash\n",
      "  what: human\n",
      "  wikibase: Q23760881\n",
      "  wikidata: <dict(10)> instance of (P31), sex or gender (P21), pla...\n",
      "  wikidata_pageid: 25761955\n",
      "  wikidata_url: https://www.wikidata.org/wiki/Q23760881\n",
      "}\n",
      "www.wikidata.org (wikidata) Karishma Kapoor\n"
     ]
    },
    {
     "name": "stdout",
     "output_type": "stream",
     "text": [
      "female (Q6581072) ['actor (Q33999)', 'television actor (Q10798782)'] +1992-06-10T00:00:00Z\n",
      "Karishma Kapoor Didn't find any data\n"
     ]
    },
    {
     "name": "stderr",
     "output_type": "stream",
     "text": [
      "www.wikidata.org (wikidata) Sargun Mehta\n",
      "www.wikidata.org (labels) Q5716684|P935|Q10798782|P18|P569|P345|Q...\n",
      "en.wikipedia.org (imageinfo) File:Sargun Mehta.jpg\n",
      "Sargun Mehta (en) data\n",
      "{\n",
      "  claims: <dict(13)> P31, P19, P106, P569, P21, P345, P18, P27, P2...\n",
      "  description: Indian model, comedian, dancer, presenter and actress\n",
      "  image: <list(1)> {'file': 'File:Sargun Mehta.jpg', 'kind': 'wiki...\n",
      "  label: Sargun Mehta\n",
      "  labels: <dict(22)> Q5716684, P935, Q10798782, P18, P569, P345, Q...\n",
      "  modified: <dict(1)> wikidata\n",
      "  requests: <list(3)> wikidata, labels, imageinfo\n",
      "  title: Sargun_Mehta\n",
      "  what: human\n",
      "  wikibase: Q7423973\n",
      "  wikidata: <dict(13)> instance of (P31), place of birth (P19), oc...\n",
      "  wikidata_pageid: 7334589\n",
      "  wikidata_url: https://www.wikidata.org/wiki/Q7423973\n",
      "}\n",
      "www.wikidata.org (wikidata) Shabir Ahluwalia\n"
     ]
    },
    {
     "name": "stdout",
     "output_type": "stream",
     "text": [
      "female (Q6581072) ['model (Q4610556)', 'actor (Q33999)', 'dancer (Q5716684)', 'television actor (Q10798782)'] +1988-09-06T00:00:00Z\n"
     ]
    },
    {
     "name": "stderr",
     "output_type": "stream",
     "text": [
      "www.wikidata.org (labels) Q6361052|Q10798782|P2002|P18|P569|P345|...\n",
      "en.wikipedia.org (imageinfo) File:Shabbir from the sets of kumkum...\n",
      "Shabir Ahluwalia (en) data\n",
      "{\n",
      "  claims: <dict(12)> P31, P21, P569, P27, P19, P106, P373, P2002, ...\n",
      "  description: Indian Actor and Host\n",
      "  image: <list(1)> {'file': 'File:Shabbir from the sets of kumkum ...\n",
      "  label: Shabbir Ahluwalhia\n",
      "  labels: <dict(19)> Q6361052, Q10798782, P2002, P18, P569, P345, ...\n",
      "  modified: <dict(1)> wikidata\n",
      "  requests: <list(3)> wikidata, labels, imageinfo\n",
      "  title: Shabir_Ahluwalia\n",
      "  what: human\n",
      "  wikibase: Q7460063\n",
      "  wikidata: <dict(12)> instance of (P31), sex or gender (P21), dat...\n",
      "  wikidata_pageid: 7373151\n",
      "  wikidata_url: https://www.wikidata.org/wiki/Q7460063\n",
      "}\n",
      "www.wikidata.org (wikidata) Vivian Dsena\n"
     ]
    },
    {
     "name": "stdout",
     "output_type": "stream",
     "text": [
      "male (Q6581097) television actor (Q10798782) +1979-08-10T00:00:00Z\n"
     ]
    },
    {
     "name": "stderr",
     "output_type": "stream",
     "text": [
      "www.wikidata.org (labels) P2013|Q10798782|P18|P569|P345|P26|P19|Q...\n",
      "en.wikipedia.org (imageinfo) File:Vivian Dsena at Umair Zafar fas...\n",
      "Vivian Dsena (en) data\n",
      "{\n",
      "  claims: <dict(16)> P373, P18, P856, P31, P21, P106, P345, P735, ...\n",
      "  description: Indian television actor.\n",
      "  image: <list(1)> {'file': 'File:Vivian Dsena at Umair Zafar fash...\n",
      "  label: Vivian Dsena\n",
      "  labels: <dict(26)> P2013, Q10798782, P18, P569, P345, P26, P19, ...\n",
      "  modified: <dict(1)> wikidata\n",
      "  requests: <list(3)> wikidata, labels, imageinfo\n",
      "  title: Vivian_Dsena\n",
      "  what: human\n",
      "  wikibase: Q7937699\n",
      "  wikidata: <dict(16)> Commons category (P373), image (P18), offic...\n",
      "  wikidata_pageid: 7877690\n",
      "  wikidata_url: https://www.wikidata.org/wiki/Q7937699\n",
      "}\n",
      "www.wikidata.org (wikidata) Nakuul Mehta\n"
     ]
    },
    {
     "name": "stdout",
     "output_type": "stream",
     "text": [
      "male (Q6581097) ['actor (Q33999)', 'model (Q4610556)', 'television actor (Q10798782)'] +1988-06-28T00:00:00Z\n"
     ]
    },
    {
     "name": "stderr",
     "output_type": "stream",
     "text": [
      "www.wikidata.org (labels) Q5716684|P2604|Q200340|Q10798782|P2002|...\n",
      "en.wikipedia.org (imageinfo) File:Nakuul Mehta at special screeni...\n",
      "Nakuul Mehta (en) data\n",
      "{\n",
      "  claims: <dict(13)> P345, P31, P19, P106, P27, P569, P21, P2435, ...\n",
      "  description: Indian actor\n",
      "  image: <list(1)> {'file': 'File:Nakuul Mehta at special screenin...\n",
      "  label: Nakuul Mehta\n",
      "  labels: <dict(22)> Q5716684, P2604, Q200340, Q10798782, P2002, P...\n",
      "  modified: <dict(1)> wikidata\n",
      "  requests: <list(3)> wikidata, labels, imageinfo\n",
      "  title: Nakuul_Mehta\n",
      "  what: human\n",
      "  wikibase: Q6960746\n",
      "  wikidata: <dict(13)> IMDb ID (P345), instance of (P31), place of...\n",
      "  wikidata_pageid: 6828474\n",
      "  wikidata_url: https://www.wikidata.org/wiki/Q6960746\n",
      "}\n",
      "www.wikidata.org (wikidata) Karan V Grover\n"
     ]
    },
    {
     "name": "stdout",
     "output_type": "stream",
     "text": [
      "male (Q6581097) ['model (Q4610556)', 'film director (Q2526255)', 'actor (Q33999)', 'dancer (Q5716684)', 'television actor (Q10798782)'] +1985-01-18T00:00:00Z\n",
      "Karan V Grover Didn't find any data\n"
     ]
    },
    {
     "name": "stderr",
     "output_type": "stream",
     "text": [
      "www.wikidata.org (wikidata) Raqesh Bapat\n",
      "www.wikidata.org (labels) Q7332371|Q10798782|P18|P569|P26|P345|P1...\n",
      "en.wikipedia.org (imageinfo) File:Raqesh Vashisth.jpg\n",
      "Raqesh Bapat (en) data\n",
      "{\n",
      "  claims: <dict(11)> P18, P31, P19, P106, P27, P569, P21, P26, P34...\n",
      "  description: Indian actor\n",
      "  image: <list(1)> {'file': 'File:Raqesh Vashisth.jpg', 'kind': 'w...\n",
      "  label: Raqesh Vashisth\n",
      "  labels: <dict(19)> Q7332371, Q10798782, P18, P569, P26, P345, P1...\n",
      "  modified: <dict(1)> wikidata\n",
      "  requests: <list(3)> wikidata, labels, imageinfo\n",
      "  title: Raqesh_Bapat\n",
      "  what: human\n",
      "  wikibase: Q7294410\n",
      "  wikidata: <dict(11)> image (P18), instance of (P31), place of bi...\n",
      "  wikidata_pageid: 7199614\n",
      "  wikidata_url: https://www.wikidata.org/wiki/Q7294410\n",
      "}\n",
      "www.wikidata.org (wikidata) Kritika Kamra\n"
     ]
    },
    {
     "name": "stdout",
     "output_type": "stream",
     "text": [
      "male (Q6581097) ['actor (Q33999)', 'model (Q4610556)', 'television actor (Q10798782)'] +1978-09-01T00:00:00Z\n"
     ]
    },
    {
     "name": "stderr",
     "output_type": "stream",
     "text": [
      "www.wikidata.org (labels) P2013|Q10798782|P2002|P18|P569|P345|P19...\n",
      "en.wikipedia.org (imageinfo) File:Kritika kamra colors indian tel...\n",
      "Kritika Kamra (en) data\n",
      "{\n",
      "  claims: <dict(14)> P373, P18, P31, P106, P856, P569, P21, P345, ...\n",
      "  description: Indian actress\n",
      "  image: <list(1)> {'file': 'File:Kritika kamra colors indian tell...\n",
      "  label: Kritika Kamra\n",
      "  labels: <dict(21)> P2013, Q10798782, P2002, P18, P569, P345, P19...\n",
      "  modified: <dict(1)> wikidata\n",
      "  requests: <list(3)> wikidata, labels, imageinfo\n",
      "  title: Kritika_Kamra\n",
      "  what: human\n",
      "  wikibase: Q12061048\n",
      "  wikidata: <dict(14)> Commons category (P373), image (P18), insta...\n",
      "  wikidata_pageid: 13280389\n",
      "  wikidata_url: https://www.wikidata.org/wiki/Q12061048\n",
      "}\n",
      "www.wikidata.org (wikidata) Karan Mehra\n"
     ]
    },
    {
     "name": "stdout",
     "output_type": "stream",
     "text": [
      "female (Q6581072) ['model (Q4610556)', 'actor (Q33999)', 'television actor (Q10798782)'] +1988-10-25T00:00:00Z\n"
     ]
    },
    {
     "name": "stderr",
     "output_type": "stream",
     "text": [
      "www.wikidata.org (labels) Q48688214|Q10798782|P2002|P18|P569|P345...\n",
      "en.wikipedia.org (imageinfo) File:KaranMehraYrkkh1000EpisodesParty.jpg\n",
      "Karan Mehra (en) data\n",
      "{\n",
      "  claims: <dict(15)> P18, P31, P19, P569, P21, P27, P106, P345, P7...\n",
      "  description: Indian actor\n",
      "  image: <list(1)> {'file': 'File:KaranMehraYrkkh1000EpisodesParty...\n",
      "  label: Karan Mehra\n",
      "  labels: <dict(26)> Q48688214, Q10798782, P2002, P18, P569, P345,...\n",
      "  modified: <dict(1)> wikidata\n",
      "  requests: <list(3)> wikidata, labels, imageinfo\n",
      "  title: Karan_Mehra\n",
      "  what: human\n",
      "  wikibase: Q6368391\n",
      "  wikidata: <dict(15)> image (P18), instance of (P31), place of bi...\n",
      "  wikidata_pageid: 6180238\n",
      "  wikidata_url: https://www.wikidata.org/wiki/Q6368391\n",
      "}\n",
      "www.wikidata.org (wikidata) Dipika kakar Ibrahim\n"
     ]
    },
    {
     "name": "stdout",
     "output_type": "stream",
     "text": [
      "male (Q6581097) ['actor (Q33999)', 'television actor (Q10798782)'] +1982-09-10T00:00:00Z\n",
      "Dipika kakar Ibrahim Didn't find any data\n"
     ]
    },
    {
     "name": "stderr",
     "output_type": "stream",
     "text": [
      "www.wikidata.org (wikidata) Chulbul Pandey\n",
      "www.wikidata.org (labels) P31|P3417|Q15632617\n",
      "Chulbul Pandey (en) data\n",
      "{\n",
      "  claims: <dict(2)> P31, P3417\n",
      "  description: <str(89)> fictional human character who appears in ...\n",
      "  label: Chulbul Pandey\n",
      "  labels: <dict(3)> P31, P3417, Q15632617\n",
      "  modified: <dict(1)> wikidata\n",
      "  requests: <list(2)> wikidata, labels\n",
      "  title: Chulbul_Pandey\n",
      "  what: fictional human\n",
      "  wikibase: Q17007290\n",
      "  wikidata: <dict(2)> instance of (P31), OEE (P3417)\n",
      "  wikidata_pageid: 18612159\n",
      "  wikidata_url: https://www.wikidata.org/wiki/Q17007290\n",
      "}\n",
      "www.wikidata.org (wikidata) Amy Jackson\n"
     ]
    },
    {
     "name": "stdout",
     "output_type": "stream",
     "text": [
      "Chulbul Pandey Didn't find the gender\n",
      "Chulbul Pandey Didn't find the date of birth\n",
      "Chulbul Pandey Didn't find any data\n"
     ]
    },
    {
     "name": "stderr",
     "output_type": "stream",
     "text": [
      "www.wikidata.org (labels) P2266|Q8097|Q18581305|P2604|P2002|P18|P...\n",
      "en.wikipedia.org (imageinfo) File:Amy Jackson From The Press meet...\n",
      "Amy Jackson (en) data\n",
      "{\n",
      "  aliases: <list(1)> Amy Louise Jackson\n",
      "  claims: <dict(25)> P19, P31, P373, P106, P569, P646, P21, P345, ...\n",
      "  description: British Actress\n",
      "  image: <list(1)> {'file': 'File:Amy Jackson From The Press meet ...\n",
      "  label: Amy Jackson\n",
      "  labels: <dict(40)> P2266, Q8097, Q18581305, P2604, P2002, P18, P...\n",
      "  modified: <dict(1)> wikidata\n",
      "  requests: <list(3)> wikidata, labels, imageinfo\n",
      "  title: Amy_Jackson\n",
      "  what: human\n",
      "  wikibase: Q2121695\n",
      "  wikidata: <dict(25)> place of birth (P19), instance of (P31), Co...\n",
      "  wikidata_pageid: 2047929\n",
      "  wikidata_url: https://www.wikidata.org/wiki/Q2121695\n",
      "}\n",
      "www.wikidata.org (wikidata) Shriya Pilgaonkar\n"
     ]
    },
    {
     "name": "stdout",
     "output_type": "stream",
     "text": [
      "female (Q6581072) ['model (Q4610556)', 'actor (Q33999)', 'beauty pageant contestant (Q18581305)', 'film actor (Q10800557)'] +1991-01-31T00:00:00Z\n"
     ]
    },
    {
     "name": "stderr",
     "output_type": "stream",
     "text": [
      "www.wikidata.org (labels) P22|P2604|Q10798782|P2002|P18|P569|Q363...\n",
      "en.wikipedia.org (imageinfo) File:Shriya Pilgaonkar.jpg\n",
      "Shriya Pilgaonkar (en) data\n",
      "{\n",
      "  claims: <dict(16)> P31, P21, P25, P22, P27, P106, P2002, P18, P3...\n",
      "  description: actress\n",
      "  image: <list(1)> {'file': 'File:Shriya Pilgaonkar.jpg', 'kind': ...\n",
      "  label: Shriya Pilgaonkar\n",
      "  labels: <dict(25)> P22, P2604, Q10798782, P2002, P18, P569, Q363...\n",
      "  modified: <dict(1)> wikidata\n",
      "  requests: <list(3)> wikidata, labels, imageinfo\n",
      "  title: Shriya_Pilgaonkar\n",
      "  what: human\n",
      "  wikibase: Q19666177\n",
      "  wikidata: <dict(16)> instance of (P31), sex or gender (P21), mot...\n",
      "  wikidata_pageid: 21267904\n",
      "  wikidata_url: https://www.wikidata.org/wiki/Q19666177\n",
      "}\n",
      "www.wikidata.org (wikidata) Kim Sharma\n"
     ]
    },
    {
     "name": "stdout",
     "output_type": "stream",
     "text": [
      "female (Q6581072) ['actor (Q33999)', 'film actor (Q10800557)', 'television actor (Q10798782)'] +1989-04-25T00:00:00Z\n"
     ]
    },
    {
     "name": "stderr",
     "output_type": "stream",
     "text": [
      "www.wikidata.org (labels) Q9089|P2604|Q10798782|P18|P569|P4332|P3...\n",
      "en.wikipedia.org (imageinfo) File:Kim sharma4.jpg\n",
      "Kim Sharma (en) data\n",
      "{\n",
      "  claims: <dict(21)> P21, P106, P373, P345, P18, P31, P19, P569, P...\n",
      "  description: Indian actress\n",
      "  image: <list(1)> {'file': 'File:Kim sharma4.jpg', 'kind': 'wikid...\n",
      "  label: Kim Sharma\n",
      "  labels: <dict(33)> Q9089, P2604, Q10798782, P18, P569, P4332, P3...\n",
      "  modified: <dict(1)> wikidata\n",
      "  requests: <list(3)> wikidata, labels, imageinfo\n",
      "  title: Kim_Sharma\n",
      "  what: human\n",
      "  wikibase: Q469887\n",
      "  wikidata: <dict(21)> sex or gender (P21), occupation (P106), Com...\n",
      "  wikidata_pageid: 443190\n",
      "  wikidata_url: https://www.wikidata.org/wiki/Q469887\n",
      "}\n",
      "www.wikidata.org (wikidata) Shriya Saran\n"
     ]
    },
    {
     "name": "stdout",
     "output_type": "stream",
     "text": [
      "female (Q6581072) ['actor (Q33999)', 'model (Q4610556)', 'film actor (Q10800557)', 'television actor (Q10798782)'] +1980-01-21T00:00:00Z\n"
     ]
    },
    {
     "name": "stderr",
     "output_type": "stream",
     "text": [
      "www.wikidata.org (labels) P2519|Q8097|Q9089|P2604|Q665105|P2002|P...\n",
      "en.wikipedia.org (imageinfo) File:Shriya Saran at Jackky Bhagnani...\n",
      "Shriya Saran (en) data\n",
      "{\n",
      "  aliases: <list(2)> Sriya Saran, Sreya\n",
      "  claims: <dict(29)> P21, P373, P214, P106, P345, P244, P18, P31, ...\n",
      "  description: Indian film actress and model\n",
      "  image: <list(1)> {'file': 'File:Shriya Saran at Jackky Bhagnani’...\n",
      "  label: Shriya Saran\n",
      "  labels: <dict(42)> P2519, Q8097, Q9089, P2604, Q665105, P2002, P...\n",
      "  modified: <dict(1)> wikidata\n",
      "  requests: <list(3)> wikidata, labels, imageinfo\n",
      "  title: Shriya_Saran\n",
      "  what: human\n",
      "  wikibase: Q292943\n",
      "  wikidata: <dict(29)> sex or gender (P21), Commons category (P373...\n",
      "  wikidata_pageid: 283098\n",
      "  wikidata_url: https://www.wikidata.org/wiki/Q292943\n",
      "}\n",
      "www.wikidata.org (wikidata) Aarti Chhabria\n"
     ]
    },
    {
     "name": "stdout",
     "output_type": "stream",
     "text": [
      "female (Q6581072) ['actor (Q33999)', 'model (Q4610556)', 'film actor (Q10800557)'] +1982-09-11T00:00:00Z\n",
      "Aarti Chhabria Didn't find any data\n"
     ]
    },
    {
     "name": "stderr",
     "output_type": "stream",
     "text": [
      "www.wikidata.org (wikidata) Taapsee Pannu\n",
      "www.wikidata.org (labels) Q5620446|Q18581305|Q23647131|Q5449108|Q...\n",
      "en.wikipedia.org (imageinfo) File:IIFA 2017 Rocks Green Carpet (3...\n",
      "Taapsee Pannu (en) data\n",
      "{\n",
      "  aliases: <list(2)> Thapsi, Tapsi\n",
      "  claims: <dict(24)> P373, P18, P31, P106, P856, P27, P569, P21, P...\n",
      "  description: Indian actress\n",
      "  image: <list(1)> {'file': 'File:IIFA 2017 Rocks Green Carpet (37...\n",
      "  label: Taapsee Pannu\n",
      "  labels: <dict(43)> Q5620446, Q18581305, Q23647131, Q5449108, Q54...\n",
      "  modified: <dict(1)> wikidata\n",
      "  requests: <list(3)> wikidata, labels, imageinfo\n",
      "  title: Taapsee_Pannu\n",
      "  what: human\n",
      "  wikibase: Q7672815\n",
      "  wikidata: <dict(24)> Commons category (P373), image (P18), insta...\n",
      "  wikidata_pageid: 7597399\n",
      "  wikidata_url: https://www.wikidata.org/wiki/Q7672815\n",
      "}\n",
      "www.wikidata.org (wikidata) Rhea Chakraborty\n"
     ]
    },
    {
     "name": "stdout",
     "output_type": "stream",
     "text": [
      "female (Q6581072) ['model (Q4610556)', 'actor (Q33999)', 'beauty pageant contestant (Q18581305)'] +1987-08-01T00:00:00Z\n"
     ]
    },
    {
     "name": "stderr",
     "output_type": "stream",
     "text": [
      "www.wikidata.org (labels) P2013|Q20000206|Q1355|P2002|P18|P569|P3...\n",
      "en.wikipedia.org (imageinfo) File:Rhea Chakraborty at the Launch ...\n",
      "Rhea Chakraborty (en) data\n",
      "{\n",
      "  claims: <dict(20)> P31, P19, P106, P27, P569, P21, P345, P1412, ...\n",
      "  description: Indian Bollywood & Telugu film actress, and VJ & anchor.\n",
      "  image: <list(1)> {'file': \"File:Rhea Chakraborty at the Launch o...\n",
      "  label: Rhea Chakraborty\n",
      "  labels: <dict(30)> P2013, Q20000206, Q1355, P2002, P18, P569, P3...\n",
      "  modified: <dict(1)> wikidata\n",
      "  requests: <list(3)> wikidata, labels, imageinfo\n",
      "  title: Rhea_Chakraborty\n",
      "  what: human\n",
      "  wikibase: Q7320290\n",
      "  wikidata: <dict(20)> instance of (P31), place of birth (P19), oc...\n",
      "  wikidata_pageid: 7226321\n",
      "  wikidata_url: https://www.wikidata.org/wiki/Q7320290\n",
      "}\n",
      "www.wikidata.org (wikidata) Ameesha Patel\n"
     ]
    },
    {
     "name": "stdout",
     "output_type": "stream",
     "text": [
      "female (Q6581072) ['actor (Q33999)', 'presenter (Q13590141)'] +1992-07-01T00:00:00Z\n"
     ]
    },
    {
     "name": "stderr",
     "output_type": "stream",
     "text": [
      "www.wikidata.org (labels) P2519|Q9089|P2604|P1315|P2002|P18|P569|...\n",
      "www.wikidata.org (labels) Q668|Q10800557\n",
      "en.wikipedia.org (imageinfo) File:Ameesha Patel at Premiere of 'S...\n",
      "Ameesha Patel (en) data\n",
      "{\n",
      "  aliases: <list(1)> Amisha Amit Patel\n",
      "  claims: <dict(38)> P214, P213, P106, P373, P227, P345, P18, P31,...\n",
      "  description: Indian actress\n",
      "  image: <list(2)> {'file': \"File:Ameesha Patel at Premiere of 'Sh...\n",
      "  label: Ameesha Patel\n",
      "  labels: <dict(52)> P2519, Q9089, P2604, P1315, P2002, P18, P569,...\n",
      "  modified: <dict(1)> wikidata\n",
      "  requests: <list(4)> wikidata, labels, labels, imageinfo\n",
      "  title: Ameesha_Patel\n",
      "  what: human\n",
      "  wikibase: Q263819\n",
      "  wikidata: <dict(38)> VIAF ID (P214), ISNI (P213), occupation (P1...\n",
      "  wikidata_pageid: 255785\n",
      "  wikidata_url: https://www.wikidata.org/wiki/Q263819\n",
      "}\n",
      "www.wikidata.org (wikidata) Esha Deol\n"
     ]
    },
    {
     "name": "stdout",
     "output_type": "stream",
     "text": [
      "female (Q6581072) ['model (Q4610556)', 'film actor (Q10800557)', 'film producer (Q3282637)'] +1975-06-09T00:00:00Z\n"
     ]
    },
    {
     "name": "stderr",
     "output_type": "stream",
     "text": [
      "www.wikidata.org (labels) Q11066787|P22|P1315|P2604|P2002|P18|P56...\n",
      "en.wikipedia.org (imageinfo) File:EshaDeol.jpg\n",
      "Esha Deol (en) data\n",
      "{\n",
      "  claims: <dict(29)> P21, P106, P373, P214, P345, P18, P22, P25, P...\n",
      "  description: Indian actress\n",
      "  image: <list(1)> {'file': 'File:EshaDeol.jpg', 'kind': 'wikidata...\n",
      "  label: Esha Deol\n",
      "  labels: <dict(44)> Q11066787, P22, P1315, P2604, P2002, P18, P56...\n",
      "  modified: <dict(1)> wikidata\n",
      "  requests: <list(3)> wikidata, labels, imageinfo\n",
      "  title: Esha_Deol\n",
      "  what: human\n",
      "  wikibase: Q48622\n",
      "  wikidata: <dict(29)> sex or gender (P21), occupation (P106), Com...\n",
      "  wikidata_pageid: 50576\n",
      "  wikidata_url: https://www.wikidata.org/wiki/Q48622\n",
      "}\n",
      "www.wikidata.org (wikidata) Sonnalli Seygall\n"
     ]
    },
    {
     "name": "stdout",
     "output_type": "stream",
     "text": [
      "female (Q6581072) ['actor (Q33999)', 'film actor (Q10800557)'] +1981-11-02T00:00:00Z\n"
     ]
    },
    {
     "name": "stderr",
     "output_type": "stream",
     "text": [
      "www.wikidata.org (labels) P2013|P2002|P18|P569|P345|P551|Q33999|Q...\n",
      "en.wikipedia.org (imageinfo) File:Sonnalli Seygall graces H&M's s...\n",
      "Sonnalli Seygall (en) data\n",
      "{\n",
      "  claims: <dict(13)> P345, P21, P31, P106, P2002, P2013, P18, P646...\n",
      "  description: Indian actress\n",
      "  image: <list(1)> {'file': \"File:Sonnalli Seygall graces H&M's st...\n",
      "  label: Sonalli Sehgall\n",
      "  labels: <dict(19)> P2013, P2002, P18, P569, P345, P551, Q33999, ...\n",
      "  modified: <dict(1)> wikidata\n",
      "  requests: <list(3)> wikidata, labels, imageinfo\n",
      "  title: Sonnalli_Seygall\n",
      "  what: human\n",
      "  wikibase: Q7560774\n",
      "  wikidata: <dict(13)> IMDb ID (P345), sex or gender (P21), instan...\n",
      "  wikidata_pageid: 7478825\n",
      "  wikidata_url: https://www.wikidata.org/wiki/Q7560774\n",
      "}\n",
      "www.wikidata.org (wikidata) Sneha Ullah\n"
     ]
    },
    {
     "name": "stdout",
     "output_type": "stream",
     "text": [
      "female (Q6581072) ['actor (Q33999)', 'model (Q4610556)'] +1989-05-01T00:00:00Z\n",
      "Sneha Ullah Didn't find any data\n"
     ]
    },
    {
     "name": "stderr",
     "output_type": "stream",
     "text": [
      "www.wikidata.org (wikidata) Bhumika Chawla\n",
      "www.wikidata.org (labels) P2604|P434|P18|P569|Q382780|P345|Q1568|...\n",
      "en.wikipedia.org (imageinfo) File:Bhumika Chawla at Bharat Thakur...\n",
      "Bhumika Chawla (en) data\n",
      "{\n",
      "  aliases: <list(1)> Bhoomika Chawla\n",
      "  claims: <dict(24)> P106, P21, P18, P373, P31, P19, P646, P27, P5...\n",
      "  description: Indian actress\n",
      "  image: <list(1)> {'file': 'File:Bhumika Chawla at Bharat Thakurs...\n",
      "  label: Bhumika Chawla\n",
      "  labels: <dict(34)> P2604, P434, P18, P569, Q382780, P345, Q1568,...\n",
      "  modified: <dict(1)> wikidata\n",
      "  requests: <list(3)> wikidata, labels, imageinfo\n",
      "  title: Bhumika_Chawla\n",
      "  what: human\n",
      "  wikibase: Q3236611\n",
      "  wikidata: <dict(24)> occupation (P106), sex or gender (P21), ima...\n",
      "  wikidata_pageid: 3089527\n",
      "  wikidata_url: https://www.wikidata.org/wiki/Q3236611\n",
      "}\n",
      "www.wikidata.org (wikidata) Neha Sharma\n"
     ]
    },
    {
     "name": "stdout",
     "output_type": "stream",
     "text": [
      "female (Q6581072) actor (Q33999) +1978-08-21T00:00:00Z\n"
     ]
    },
    {
     "name": "stderr",
     "output_type": "stream",
     "text": [
      "www.wikidata.org (labels) P2013|P2002|P18|P569|P345|P19|P214|Q760...\n",
      "en.wikipedia.org (imageinfo) File:Neha Sharma at the Promo launch...\n",
      "Neha Sharma (en) data\n",
      "{\n",
      "  claims: <dict(19)> P345, P18, P31, P106, P646, P569, P21, P27, P...\n",
      "  description: Indian actress\n",
      "  image: <list(1)> {'file': \"File:Neha Sharma at the Promo launch ...\n",
      "  label: Neha Sharma\n",
      "  labels: <dict(27)> P2013, P2002, P18, P569, P345, P19, P214, Q76...\n",
      "  modified: <dict(1)> wikidata\n",
      "  requests: <list(3)> wikidata, labels, imageinfo\n",
      "  title: Neha_Sharma\n",
      "  what: human\n",
      "  wikibase: Q863745\n",
      "  wikidata: <dict(19)> IMDb ID (P345), image (P18), instance of (P...\n",
      "  wikidata_pageid: 815154\n",
      "  wikidata_url: https://www.wikidata.org/wiki/Q863745\n",
      "}\n",
      "www.wikidata.org (wikidata) Sana Khan\n"
     ]
    },
    {
     "name": "stdout",
     "output_type": "stream",
     "text": [
      "female (Q6581072) ['model (Q4610556)', 'actor (Q33999)'] +1987-11-21T00:00:00Z\n"
     ]
    },
    {
     "name": "stderr",
     "output_type": "stream",
     "text": [
      "www.wikidata.org (labels) P2604|P2013|Q10798782|P2002|P18|P569|P3...\n",
      "en.wikipedia.org (imageinfo) File:Sana Khan in a special photosho...\n",
      "Sana Khan (en) data\n",
      "{\n",
      "  claims: <dict(17)> P373, P18, P31, P19, P140, P27, P106, P569, P...\n",
      "  description: Indian actress and model\n",
      "  image: <list(1)> {'file': 'File:Sana Khan in a special photoshoo...\n",
      "  label: Sana Khan\n",
      "  labels: <dict(27)> P2604, P2013, Q10798782, P2002, P18, P569, P3...\n",
      "  modified: <dict(1)> wikidata\n",
      "  requests: <list(3)> wikidata, labels, imageinfo\n",
      "  title: Sana_Khan\n",
      "  what: human\n",
      "  wikibase: Q5408135\n",
      "  wikidata: <dict(17)> Commons category (P373), image (P18), insta...\n",
      "  wikidata_pageid: 5172337\n",
      "  wikidata_url: https://www.wikidata.org/wiki/Q5408135\n",
      "}\n",
      "www.wikidata.org (wikidata) Nimrat Kaur\n"
     ]
    },
    {
     "name": "stdout",
     "output_type": "stream",
     "text": [
      "female (Q6581072) ['actor (Q33999)', 'television actor (Q10798782)', 'model (Q4610556)'] +1987-08-21T00:00:00Z\n"
     ]
    },
    {
     "name": "stderr",
     "output_type": "stream",
     "text": [
      "www.wikidata.org (labels) Q1936947|P2519|P2604|P2639|P5534|Q30834...\n",
      "Nimrat Kaur (en) data\n",
      "{\n",
      "  claims: <dict(41)> P31, P27, P106, P21, P569, P345, P1412, P69, ...\n",
      "  description: Indian actress\n",
      "  label: Nimrat Kaur\n",
      "  labels: <dict(50)> Q1936947, P2519, P2604, P2639, P5534, Q308348...\n",
      "  modified: <dict(1)> wikidata\n",
      "  requests: <list(2)> wikidata, labels\n",
      "  title: Nimrat_Kaur\n",
      "  what: human\n",
      "  wikibase: Q15611257\n",
      "  wikidata: <dict(41)> instance of (P31), country of citizenship (...\n",
      "  wikidata_pageid: 17250220\n",
      "  wikidata_url: https://www.wikidata.org/wiki/Q15611257\n",
      "}\n",
      "www.wikidata.org (wikidata) Mugdha Veira Godse\n"
     ]
    },
    {
     "name": "stdout",
     "output_type": "stream",
     "text": [
      "female (Q6581072) ['actor (Q33999)', 'stage actor (Q2259451)'] +1982-03-13T00:00:00Z\n",
      "Mugdha Veira Godse Didn't find any data\n"
     ]
    },
    {
     "name": "stderr",
     "output_type": "stream",
     "text": [
      "www.wikidata.org (wikidata) Samantha Akkineni\n",
      "www.wikidata.org (labels) Q5120625|Q4838786|Q8097|P109|P434|Q7607...\n",
      "www.wikidata.org (labels) P27|Q668|Q5885\n",
      "en.wikipedia.org (imageinfo) File:Samantha At The Irumbu Thirai T...\n",
      "Samantha Akkineni (en) data\n",
      "{\n",
      "  aliases: <list(2)> Samanta, Samantha Ruth Prabhu\n",
      "  claims: <dict(33)> P345, P373, P31, P19, P646, P27, P106, P569, ...\n",
      "  description: Indian actress\n",
      "  image: <list(1)> {'file': 'File:Samantha At The Irumbu Thirai Tr...\n",
      "  label: Samantha Akkineni\n",
      "  labels: <dict(53)> Q5120625, Q4838786, Q8097, P109, P434, Q76070...\n",
      "  modified: <dict(1)> wikidata\n",
      "  requests: <list(4)> wikidata, labels, labels, imageinfo\n",
      "  title: Samantha_Akkineni\n",
      "  what: human\n",
      "  wikibase: Q3520314\n",
      "  wikidata: <dict(33)> IMDb ID (P345), Commons category (P373), in...\n",
      "  wikidata_pageid: 3351786\n",
      "  wikidata_url: https://www.wikidata.org/wiki/Q3520314\n",
      "}\n",
      "www.wikidata.org (wikidata) Priyanka Bose\n"
     ]
    },
    {
     "name": "stdout",
     "output_type": "stream",
     "text": [
      "female (Q6581072) actor (Q33999) +1987-04-28T00:00:00Z\n"
     ]
    },
    {
     "name": "stderr",
     "output_type": "stream",
     "text": [
      "www.wikidata.org (labels) P2604|P18|Q1353|P345|P19|Q62976254|Q339...\n",
      "en.wikipedia.org (imageinfo) File:Priyanka Bose in Nirbhaya.jpg\n",
      "Priyanka Bose (en) data\n",
      "{\n",
      "  claims: <dict(12)> P31, P21, P345, P106, P27, P2605, P2604, P201...\n",
      "  description: Indian actress\n",
      "  image: <list(1)> {'file': 'File:Priyanka Bose in Nirbhaya.jpg', ...\n",
      "  label: Priyanka Bose\n",
      "  labels: <dict(19)> P2604, P18, Q1353, P345, P19, Q62976254, Q339...\n",
      "  modified: <dict(1)> wikidata\n",
      "  requests: <list(3)> wikidata, labels, imageinfo\n",
      "  title: Priyanka_Bose\n",
      "  what: human\n",
      "  wikibase: Q20740655\n",
      "  wikidata: <dict(12)> instance of (P31), sex or gender (P21), IMD...\n",
      "  wikidata_pageid: 22485879\n",
      "  wikidata_url: https://www.wikidata.org/wiki/Q20740655\n",
      "}\n",
      "www.wikidata.org (wikidata) Neetu N Chandra\n"
     ]
    },
    {
     "name": "stdout",
     "output_type": "stream",
     "text": [
      "Priyanka Bose Didn't find the date of birth\n",
      "Priyanka Bose Didn't find any data\n",
      "Neetu N Chandra Didn't find any data\n"
     ]
    },
    {
     "name": "stderr",
     "output_type": "stream",
     "text": [
      "www.wikidata.org (wikidata) Purijagan\n"
     ]
    },
    {
     "name": "stdout",
     "output_type": "stream",
     "text": [
      "Purijagan Didn't find any data\n"
     ]
    },
    {
     "name": "stderr",
     "output_type": "stream",
     "text": [
      "www.wikidata.org (wikidata) Adah Sharma\n",
      "www.wikidata.org (labels) Q8097|P2013|P2002|P18|P569|Q1267987|P34...\n",
      "en.wikipedia.org (imageinfo) File:Adah Sharma graces the Star Scr...\n",
      "Adah Sharma (en) data\n",
      "{\n",
      "  aliases: <list(1)> Ada Sharma\n",
      "  claims: <dict(17)> P373, P345, P18, P31, P19, P172, P106, P27, P...\n",
      "  description: Indian actress\n",
      "  image: <list(1)> {'file': 'File:Adah Sharma graces the Star Scre...\n",
      "  label: Adah Sharma\n",
      "  labels: <dict(28)> Q8097, P2013, P2002, P18, P569, Q1267987, P34...\n",
      "  modified: <dict(1)> wikidata\n",
      "  requests: <list(3)> wikidata, labels, imageinfo\n",
      "  title: Adah_Sharma\n",
      "  what: human\n",
      "  wikibase: Q4678398\n",
      "  wikidata: <dict(17)> Commons category (P373), IMDb ID (P345), im...\n",
      "  wikidata_pageid: 4469881\n",
      "  wikidata_url: https://www.wikidata.org/wiki/Q4678398\n",
      "}\n",
      "www.wikidata.org (wikidata) Urvashi Rautela\n"
     ]
    },
    {
     "name": "stdout",
     "output_type": "stream",
     "text": [
      "female (Q6581072) actor (Q33999) +1992-05-11T00:00:00Z\n"
     ]
    },
    {
     "name": "stderr",
     "output_type": "stream",
     "text": [
      "www.wikidata.org (labels) Q18581305|P2013|Q17244465|P2002|P18|P56...\n",
      "en.wikipedia.org (imageinfo) File:Urvashi Rautela at the special ...\n",
      "Urvashi Rautela (en) data\n",
      "{\n",
      "  claims: <dict(19)> P31, P27, P106, P569, P18, P21, P1412, P1340,...\n",
      "  description: Indian film actress, model and beauty pageant title...\n",
      "  image: <list(1)> {'file': \"File:Urvashi Rautela at the special s...\n",
      "  label: Urvashi Rautela\n",
      "  labels: <dict(28)> Q18581305, P2013, Q17244465, P2002, P18, P569...\n",
      "  modified: <dict(1)> wikidata\n",
      "  requests: <list(3)> wikidata, labels, imageinfo\n",
      "  title: Urvashi_Rautela\n",
      "  what: human\n",
      "  wikibase: Q7901587\n",
      "  wikidata: <dict(19)> instance of (P31), country of citizenship (...\n",
      "  wikidata_pageid: 7839379\n",
      "  wikidata_url: https://www.wikidata.org/wiki/Q7901587\n",
      "}\n",
      "www.wikidata.org (wikidata) Surveen\n"
     ]
    },
    {
     "name": "stdout",
     "output_type": "stream",
     "text": [
      "female (Q6581072) ['actor (Q33999)', 'model (Q4610556)', 'beauty pageant contestant (Q18581305)'] +1994-02-25T00:00:00Z\n",
      "Surveen  Didn't find any data\n"
     ]
    },
    {
     "name": "stderr",
     "output_type": "stream",
     "text": [
      "www.wikidata.org (wikidata) Manjari Fadnnis\n"
     ]
    },
    {
     "name": "stdout",
     "output_type": "stream",
     "text": [
      "Manjari Fadnnis Didn't find any data\n"
     ]
    },
    {
     "name": "stderr",
     "output_type": "stream",
     "text": [
      "www.wikidata.org (wikidata) Maryam Zakaria\n",
      "www.wikidata.org (labels) Q19810276|P18|P569|P345|P19|Q33999|P140...\n",
      "en.wikipedia.org (imageinfo) File:Maryam zakaria sadda adda.jpg\n",
      "Maryam Zakaria (en) data\n",
      "{\n",
      "  claims: <dict(12)> P18, P31, P19, P140, P27, P106, P569, P21, P3...\n",
      "  description: actress\n",
      "  image: <list(1)> {'file': 'File:Maryam zakaria sadda adda.jpg', ...\n",
      "  label: Maryam Zakaria\n",
      "  labels: <dict(20)> Q19810276, P18, P569, P345, P19, Q33999, P140...\n",
      "  modified: <dict(1)> wikidata\n",
      "  requests: <list(3)> wikidata, labels, imageinfo\n",
      "  title: Maryam_Zakaria\n",
      "  what: human\n",
      "  wikibase: Q6781094\n",
      "  wikidata: <dict(12)> image (P18), instance of (P31), place of bi...\n",
      "  wikidata_pageid: 6628611\n",
      "  wikidata_url: https://www.wikidata.org/wiki/Q6781094\n",
      "}\n",
      "www.wikidata.org (wikidata) Gracy Singh\n"
     ]
    },
    {
     "name": "stdout",
     "output_type": "stream",
     "text": [
      "female (Q6581072) ['actor (Q33999)', 'model (Q4610556)'] +1985-09-27T00:00:00Z\n"
     ]
    },
    {
     "name": "stderr",
     "output_type": "stream",
     "text": [
      "www.wikidata.org (labels) P2519|P2604|P1258|Q10798782|P2002|P18|P...\n",
      "en.wikipedia.org (imageinfo) File:Gracy Singh at Lagaan 10 Year C...\n",
      "Gracy Singh (en) data\n",
      "{\n",
      "  claims: <dict(33)> P214, P213, P106, P227, P345, P18, P31, P19, ...\n",
      "  description: Indian actress\n",
      "  image: <list(1)> {'file': 'File:Gracy Singh at Lagaan 10 Year Ce...\n",
      "  label: Gracy Singh\n",
      "  labels: <dict(41)> P2519, P2604, P1258, Q10798782, P2002, P18, P...\n",
      "  modified: <dict(1)> wikidata\n",
      "  requests: <list(3)> wikidata, labels, imageinfo\n",
      "  title: Gracy_Singh\n",
      "  what: human\n",
      "  wikibase: Q431012\n",
      "  wikidata: <dict(33)> VIAF ID (P214), ISNI (P213), occupation (P1...\n",
      "  wikidata_pageid: 406613\n",
      "  wikidata_url: https://www.wikidata.org/wiki/Q431012\n",
      "}\n",
      "www.wikidata.org (wikidata) Parvathy Omanakuttan\n"
     ]
    },
    {
     "name": "stdout",
     "output_type": "stream",
     "text": [
      "female (Q6581072) ['film actor (Q10800557)', 'television actor (Q10798782)'] +1980-07-20T00:00:00Z\n"
     ]
    },
    {
     "name": "stderr",
     "output_type": "stream",
     "text": [
      "www.wikidata.org (labels) Q18581305|P18|P569|P345|P19|Q36236|Q688...\n",
      "en.wikipedia.org (imageinfo) File:Parvathy omanakuttan 2010.jpg|F...\n",
      "Parvathy Omanakuttan (en) data\n",
      "{\n",
      "  claims: <dict(15)> P373, P569, P19, P172, P106, P31, P646, P21, ...\n",
      "  description: Indian actress\n",
      "  image: <list(2)> {'file': 'File:Miss India 08 Parvathy Omanakutt...\n",
      "  label: Parvathy Omanakuttan\n",
      "  labels: <dict(26)> Q18581305, P18, P569, P345, P19, Q36236, Q688...\n",
      "  modified: <dict(1)> wikidata\n",
      "  requests: <list(3)> wikidata, labels, imageinfo\n",
      "  title: Parvathy_Omanakuttan\n",
      "  what: human\n",
      "  wikibase: Q2634510\n",
      "  wikidata: <dict(15)> Commons category (P373), date of birth (P56...\n",
      "  wikidata_pageid: 2540063\n",
      "  wikidata_url: https://www.wikidata.org/wiki/Q2634510\n",
      "}\n",
      "www.wikidata.org (wikidata) Sonalee\n"
     ]
    },
    {
     "name": "stdout",
     "output_type": "stream",
     "text": [
      "female (Q6581072) ['actor (Q33999)', 'model (Q4610556)', 'beauty pageant contestant (Q18581305)'] +1987-12-20T00:00:00Z\n",
      "Sonalee  Didn't find any data\n"
     ]
    },
    {
     "name": "stderr",
     "output_type": "stream",
     "text": [
      "www.wikidata.org (wikidata) Sayani Gupta\n",
      "www.wikidata.org (labels) Q1414326|P2002|P18|P569|P345|P19|P214|Q...\n",
      "en.wikipedia.org (imageinfo) File:Sayani Gupta graces the Filmfar...\n",
      "Sayani Gupta (en) data\n",
      "{\n",
      "  claims: <dict(13)> P106, P21, P31, P27, P69, P19, P18, P345, P56...\n",
      "  description: Indian actor\n",
      "  image: <list(1)> {'file': 'File:Sayani Gupta graces the Filmfare...\n",
      "  label: Sayani Gupta\n",
      "  labels: <dict(19)> Q1414326, P2002, P18, P569, P345, P19, P214, ...\n",
      "  modified: <dict(1)> wikidata\n",
      "  requests: <list(3)> wikidata, labels, imageinfo\n",
      "  title: Sayani_Gupta\n",
      "  what: human\n",
      "  wikibase: Q23712963\n",
      "  wikidata: <dict(13)> occupation (P106), sex or gender (P21), ins...\n",
      "  wikidata_pageid: 25716858\n",
      "  wikidata_url: https://www.wikidata.org/wiki/Q23712963\n",
      "}\n",
      "www.wikidata.org (wikidata) Pallavi Sharda\n"
     ]
    },
    {
     "name": "stdout",
     "output_type": "stream",
     "text": [
      "female (Q6581072) actor (Q33999) +1985-10-09T00:00:00Z\n"
     ]
    },
    {
     "name": "stderr",
     "output_type": "stream",
     "text": [
      "www.wikidata.org (labels) Q3183|P2013|P18|P569|P345|Q1568|P19|Q33...\n",
      "en.wikipedia.org (imageinfo) File:PallaviSharda.jpg\n",
      "Pallavi Sharda (en) data\n",
      "{\n",
      "  claims: <dict(13)> P18, P373, P31, P19, P106, P27, P21, P569, P1...\n",
      "  description: Indian actress\n",
      "  image: <list(1)> {'file': 'File:PallaviSharda.jpg', 'kind': 'wik...\n",
      "  label: Pallavi Sharda\n",
      "  labels: <dict(20)> Q3183, P2013, P18, P569, P345, Q1568, P19, Q3...\n",
      "  modified: <dict(1)> wikidata\n",
      "  requests: <list(3)> wikidata, labels, imageinfo\n",
      "  title: Pallavi_Sharda\n",
      "  what: human\n",
      "  wikibase: Q7127780\n",
      "  wikidata: <dict(13)> image (P18), Commons category (P373), insta...\n",
      "  wikidata_pageid: 7023968\n",
      "  wikidata_url: https://www.wikidata.org/wiki/Q7127780\n",
      "}\n",
      "www.wikidata.org (wikidata) Saiyami Kher\n"
     ]
    },
    {
     "name": "stdout",
     "output_type": "stream",
     "text": [
      "female (Q6581072) actor (Q33999) ['+1988-03-05T00:00:00Z', '+1990-03-05T00:00:00Z']\n"
     ]
    },
    {
     "name": "stderr",
     "output_type": "stream",
     "text": [
      "www.wikidata.org (labels) P22|Q465863|Q64827142|P2013|P2002|P18|P...\n",
      "en.wikipedia.org (imageinfo) File:Saiyami Kher graces Lakme Fashi...\n",
      "Saiyami Kher (en) data\n",
      "{\n",
      "  claims: <dict(17)> P31, P21, P106, P569, P25, P27, P2002, P2013,...\n",
      "  description: Indian actress\n",
      "  image: <list(1)> {'file': 'File:Saiyami Kher graces Lakme Fashio...\n",
      "  label: Saiyami Kher\n",
      "  labels: <dict(30)> P22, Q465863, Q64827142, P2013, P2002, P18, P...\n",
      "  modified: <dict(1)> wikidata\n",
      "  requests: <list(3)> wikidata, labels, imageinfo\n",
      "  title: Saiyami_Kher\n",
      "  what: human\n",
      "  wikibase: Q16745369\n",
      "  wikidata: <dict(17)> instance of (P31), sex or gender (P21), occ...\n",
      "  wikidata_pageid: 18349027\n",
      "  wikidata_url: https://www.wikidata.org/wiki/Q16745369\n",
      "}\n",
      "www.wikidata.org (wikidata) Ruhi Singh\n"
     ]
    },
    {
     "name": "stdout",
     "output_type": "stream",
     "text": [
      "female (Q6581072) actor (Q33999) +1992-01-01T00:00:00Z\n"
     ]
    },
    {
     "name": "stderr",
     "output_type": "stream",
     "text": [
      "www.wikidata.org (labels) P2002|P18|P569|P345|P19|Q7896201|P2003|...\n",
      "en.wikipedia.org (imageinfo) File:Ruhi Singh graces the 10th Mirc...\n",
      "Ruhi Singh (en) data\n",
      "{\n",
      "  claims: <dict(15)> P31, P21, P2003, P2002, P345, P106, P569, P19...\n",
      "  image: <list(1)> {'file': 'File:Ruhi Singh graces the 10th Mirch...\n",
      "  label: Ruhi Singh\n",
      "  labels: <dict(23)> P2002, P18, P569, P345, P19, Q7896201, P2003,...\n",
      "  modified: <dict(1)> wikidata\n",
      "  requests: <list(3)> wikidata, labels, imageinfo\n",
      "  title: Ruhi_Singh\n",
      "  what: human\n",
      "  wikibase: Q21066525\n",
      "  wikidata: <dict(15)> instance of (P31), sex or gender (P21), Ins...\n",
      "  wikidata_pageid: 23113649\n",
      "  wikidata_url: https://www.wikidata.org/wiki/Q21066525\n",
      "}\n",
      "www.wikidata.org (wikidata) Kiara Advani\n"
     ]
    },
    {
     "name": "stdout",
     "output_type": "stream",
     "text": [
      "female (Q6581072) ['actor (Q33999)', 'model (Q4610556)'] +1991-00-00T00:00:00Z\n"
     ]
    },
    {
     "name": "stderr",
     "output_type": "stream",
     "text": [
      "www.wikidata.org (labels) P2604|P2013|P2002|P18|P569|P345|P19|P20...\n",
      "en.wikipedia.org (imageinfo) File:Kiara Advani walks for Shyamal-...\n",
      "Kiara Advani (en) data\n",
      "{\n",
      "  claims: <dict(21)> P31, P569, P27, P21, P106, P735, P18, P19, P2...\n",
      "  description: Indian film actress\n",
      "  image: <list(1)> {'file': 'File:Kiara Advani walks for Shyamal-B...\n",
      "  label: Kiara Advani\n",
      "  labels: <dict(29)> P2604, P2013, P2002, P18, P569, P345, P19, P2...\n",
      "  modified: <dict(1)> wikidata\n",
      "  requests: <list(3)> wikidata, labels, imageinfo\n",
      "  title: Kiara_Advani\n",
      "  what: human\n",
      "  wikibase: Q16762720\n",
      "  wikidata: <dict(21)> instance of (P31), date of birth (P569), co...\n",
      "  wikidata_pageid: 18365864\n",
      "  wikidata_url: https://www.wikidata.org/wiki/Q16762720\n",
      "}\n",
      "www.wikidata.org (wikidata) Aadhi's\n"
     ]
    },
    {
     "name": "stdout",
     "output_type": "stream",
     "text": [
      "female (Q6581072) film actor (Q10800557) +1992-07-31T00:00:00Z\n",
      "Aadhi's Didn't find any data\n"
     ]
    },
    {
     "name": "stderr",
     "output_type": "stream",
     "text": [
      "www.wikidata.org (wikidata) Abhay Deol\n",
      "www.wikidata.org (labels) Q9089|P2604|P2002|P18|P569|P345|Q1568|P...\n",
      "en.wikipedia.org (imageinfo) File:Abhay Deol.jpg\n",
      "Abhay Deol (en) data\n",
      "{\n",
      "  claims: <dict(22)> P373, P214, P213, P345, P18, P31, P19, P569, ...\n",
      "  description: Indian actor\n",
      "  image: <list(1)> {'file': 'File:Abhay Deol.jpg', 'kind': 'wikida...\n",
      "  label: Abhay Deol\n",
      "  labels: <dict(29)> Q9089, P2604, P2002, P18, P569, P345, Q1568, ...\n",
      "  modified: <dict(1)> wikidata\n",
      "  requests: <list(3)> wikidata, labels, imageinfo\n",
      "  title: Abhay_Deol\n",
      "  what: human\n",
      "  wikibase: Q511589\n",
      "  wikidata: <dict(22)> Commons category (P373), VIAF ID (P214), IS...\n",
      "  wikidata_pageid: 481141\n",
      "  wikidata_url: https://www.wikidata.org/wiki/Q511589\n",
      "}\n",
      "www.wikidata.org (wikidata) Gurpreet Ghuggi\n"
     ]
    },
    {
     "name": "stdout",
     "output_type": "stream",
     "text": [
      "male (Q6581097) actor (Q33999) +1976-03-15T00:00:00Z\n"
     ]
    },
    {
     "name": "stderr",
     "output_type": "stream",
     "text": [
      "www.wikidata.org (labels) P569|Q33999|Q1707629|P21|P345|P106|Q156...\n",
      "en.wikipedia.org (imageinfo) File:Gurpreet Guggi at Dara Singh's ...\n",
      "Gurpreet Ghuggi (en) data\n",
      "{\n",
      "  claims: <dict(11)> P31, P27, P106, P569, P21, P345, P1412, P18, ...\n",
      "  description: Indian actor\n",
      "  image: <list(1)> {'file': \"File:Gurpreet Guggi at Dara Singh's f...\n",
      "  label: Gurpreet Ghuggi\n",
      "  labels: <dict(18)> P569, Q33999, Q1707629, P21, P345, P106, Q156...\n",
      "  modified: <dict(1)> wikidata\n",
      "  requests: <list(3)> wikidata, labels, imageinfo\n",
      "  title: Gurpreet_Ghuggi\n",
      "  what: human\n",
      "  wikibase: Q5620246\n",
      "  wikidata: <dict(11)> instance of (P31), country of citizenship (...\n",
      "  wikidata_pageid: 5381349\n",
      "  wikidata_url: https://www.wikidata.org/wiki/Q5620246\n",
      "}\n",
      "www.wikidata.org (wikidata) Jimmy Shergill\n"
     ]
    },
    {
     "name": "stdout",
     "output_type": "stream",
     "text": [
      "male (Q6581097) actor (Q33999) +1971-07-19T00:00:00Z\n",
      "Jimmy Shergill Didn't find any data\n"
     ]
    },
    {
     "name": "stderr",
     "output_type": "stream",
     "text": [
      "www.wikidata.org (wikidata) Manjot\n"
     ]
    },
    {
     "name": "stdout",
     "output_type": "stream",
     "text": [
      "Manjot  Didn't find any data\n"
     ]
    },
    {
     "name": "stderr",
     "output_type": "stream",
     "text": [
      "www.wikidata.org (wikidata) Rahul Dev\n",
      "www.wikidata.org (labels) P2604|P2013|P2002|P18|P569|Q1353|P345|Q...\n",
      "en.wikipedia.org (imageinfo) File:Rahul dev.jpg\n",
      "Rahul Dev (en) data\n",
      "{\n",
      "  claims: <dict(21)> P214, P373, P345, P18, P31, P19, P106, P27, P...\n",
      "  description: Indian actor\n",
      "  image: <list(1)> {'file': 'File:Rahul dev.jpg', 'kind': 'wikidat...\n",
      "  label: Rahul Dev\n",
      "  labels: <dict(29)> P2604, P2013, P2002, P18, P569, Q1353, P345, ...\n",
      "  modified: <dict(1)> wikidata\n",
      "  requests: <list(3)> wikidata, labels, imageinfo\n",
      "  title: Rahul_Dev\n",
      "  what: human\n",
      "  wikibase: Q7283589\n",
      "  wikidata: <dict(21)> VIAF ID (P214), Commons category (P373), IM...\n",
      "  wikidata_pageid: 7187951\n",
      "  wikidata_url: https://www.wikidata.org/wiki/Q7283589\n",
      "}\n",
      "www.wikidata.org (wikidata) Ramya Krishnan\n"
     ]
    },
    {
     "name": "stdout",
     "output_type": "stream",
     "text": [
      "male (Q6581097) ['actor (Q33999)', 'model (Q4610556)'] +1968-09-27T00:00:00Z\n"
     ]
    },
    {
     "name": "stderr",
     "output_type": "stream",
     "text": [
      "www.wikidata.org (labels) Q8097|P2604|P18|P569|Q382780|P345|P26|P...\n",
      "en.wikipedia.org (imageinfo) File:Ramya Krishnan.jpg\n",
      "Ramya Krishnan (en) data\n",
      "{\n",
      "  aliases: <list(1)> Ramya Krishna\n",
      "  claims: <dict(18)> P214, P21, P106, P31, P19, P27, P569, P345, P...\n",
      "  description: Indian actress\n",
      "  image: <list(1)> {'file': 'File:Ramya Krishnan.jpg', 'kind': 'wi...\n",
      "  label: Ramya Krishnan\n",
      "  labels: <dict(29)> Q8097, P2604, P18, P569, Q382780, P345, P26, ...\n",
      "  modified: <dict(1)> wikidata\n",
      "  requests: <list(3)> wikidata, labels, imageinfo\n",
      "  title: Ramya_Krishnan\n",
      "  what: human\n",
      "  wikibase: Q3520429\n",
      "  wikidata: <dict(18)> VIAF ID (P214), sex or gender (P21), occupa...\n",
      "  wikidata_pageid: 3351890\n",
      "  wikidata_url: https://www.wikidata.org/wiki/Q3520429\n",
      "}\n",
      "www.wikidata.org (wikidata) Sudesh Lehri\n"
     ]
    },
    {
     "name": "stdout",
     "output_type": "stream",
     "text": [
      "female (Q6581072) actor (Q33999) +1967-09-15T00:00:00Z\n"
     ]
    },
    {
     "name": "stderr",
     "output_type": "stream",
     "text": [
      "www.wikidata.org (labels) P2604|P2002|P18|P569|P345|P19|Q33999|Q3...\n",
      "en.wikipedia.org (imageinfo) File:Sudesh Lehri attend the press c...\n",
      "Sudesh Lehri (en) data\n",
      "{\n",
      "  claims: <dict(14)> P31, P21, P569, P106, P345, P2604, P1266, P39...\n",
      "  description: Indian actor\n",
      "  image: <list(1)> {'file': 'File:Sudesh Lehri attend the press co...\n",
      "  label: Sudesh Lehri\n",
      "  labels: <dict(19)> P2604, P2002, P18, P569, P345, P19, Q33999, Q...\n",
      "  modified: <dict(1)> wikidata\n",
      "  requests: <list(3)> wikidata, labels, imageinfo\n",
      "  title: Sudesh_Lehri\n",
      "  what: human\n",
      "  wikibase: Q16200946\n",
      "  wikidata: <dict(14)> instance of (P31), sex or gender (P21), dat...\n",
      "  wikidata_pageid: 17827586\n",
      "  wikidata_url: https://www.wikidata.org/wiki/Q16200946\n",
      "}\n",
      "www.wikidata.org (wikidata) Saurabh Shukla\n"
     ]
    },
    {
     "name": "stdout",
     "output_type": "stream",
     "text": [
      "male (Q6581097) actor (Q33999) +1968-10-27T00:00:00Z\n"
     ]
    },
    {
     "name": "stderr",
     "output_type": "stream",
     "text": [
      "www.wikidata.org (labels) P2519|P2604|Q665105|Q10798782|P18|P569|...\n",
      "en.wikipedia.org (imageinfo) File:Saurabh Shukla.jpg\n",
      "Saurabh Shukla (en) data\n",
      "{\n",
      "  claims: <dict(29)> P214, P345, P18, P31, P19, P106, P27, P569, P...\n",
      "  description: Indian film and television actor, director, and scr...\n",
      "  image: <list(1)> {'file': 'File:Saurabh Shukla.jpg', 'kind': 'wi...\n",
      "  label: Saurabh Shukla\n",
      "  labels: <dict(42)> P2519, P2604, Q665105, Q10798782, P18, P569, ...\n",
      "  modified: <dict(1)> wikidata\n",
      "  requests: <list(3)> wikidata, labels, imageinfo\n",
      "  title: Saurabh_Shukla\n",
      "  what: human\n",
      "  wikibase: Q7427518\n",
      "  wikidata: <dict(29)> VIAF ID (P214), IMDb ID (P345), image (P18)...\n",
      "  wikidata_pageid: 7338233\n",
      "  wikidata_url: https://www.wikidata.org/wiki/Q7427518\n",
      "}\n",
      "www.wikidata.org (wikidata) Kichcha Sudeep\n"
     ]
    },
    {
     "name": "stdout",
     "output_type": "stream",
     "text": [
      "male (Q6581097) ['film director (Q2526255)', 'screenwriter (Q28389)', 'film actor (Q10800557)', 'television actor (Q10798782)'] +1963-03-05T00:00:00Z\n",
      "Kichcha Sudeep Didn't find any data\n"
     ]
    },
    {
     "name": "stderr",
     "output_type": "stream",
     "text": [
      "www.wikidata.org (wikidata) Prithvi Shaw\n",
      "www.wikidata.org (labels) P641|P2013|P31|Q5375|P569|P19|Q207749|P...\n",
      "Prithvi Shaw (en) data\n",
      "{\n",
      "  claims: <dict(13)> P31, P569, P21, P106, P27, P19, P641, P54, P7...\n",
      "  description: Indian cricketer\n",
      "  label: Prithvi Shaw\n",
      "  labels: <dict(22)> P641, P2013, P31, Q5375, P569, P19, Q207749, ...\n",
      "  modified: <dict(1)> wikidata\n",
      "  requests: <list(2)> wikidata, labels\n",
      "  title: Prithvi_Shaw\n",
      "  what: human\n",
      "  wikibase: Q16240331\n",
      "  wikidata: <dict(13)> instance of (P31), date of birth (P569), se...\n",
      "  wikidata_pageid: 17864487\n",
      "  wikidata_url: https://www.wikidata.org/wiki/Q16240331\n",
      "}\n",
      "www.wikidata.org (wikidata) Karun Nair\n"
     ]
    },
    {
     "name": "stdout",
     "output_type": "stream",
     "text": [
      "male (Q6581097) cricketer (Q12299841) +1999-11-09T00:00:00Z\n"
     ]
    },
    {
     "name": "stderr",
     "output_type": "stream",
     "text": [
      "www.wikidata.org (labels) P2698|P4204|P641|Q200019|Q1384634|P18|P...\n",
      "en.wikipedia.org (imageinfo) File:Karun nair.jpg\n",
      "Karun Nair (en) data\n",
      "{\n",
      "  aliases: <list(1)> Karun Kaladharan Nair\n",
      "  claims: <dict(14)> P569, P31, P21, P106, P27, P19, P3526, P2698,...\n",
      "  description: Indian cricketer\n",
      "  image: <list(1)> {'file': 'File:Karun nair.jpg', 'kind': 'wikida...\n",
      "  label: Karun Nair\n",
      "  labels: <dict(26)> P2698, P4204, P641, Q200019, Q1384634, P18, P...\n",
      "  modified: <dict(1)> wikidata\n",
      "  requests: <list(3)> wikidata, labels, imageinfo\n",
      "  title: Karun_Nair\n",
      "  what: human\n",
      "  wikibase: Q6373656\n",
      "  wikidata: <dict(14)> date of birth (P569), instance of (P31), se...\n",
      "  wikidata_pageid: 6185812\n",
      "  wikidata_url: https://www.wikidata.org/wiki/Q6373656\n",
      "}\n",
      "www.wikidata.org (wikidata) Naman Ojha\n"
     ]
    },
    {
     "name": "stdout",
     "output_type": "stream",
     "text": [
      "male (Q6581097) cricketer (Q12299841) +1991-12-06T00:00:00Z\n"
     ]
    },
    {
     "name": "stderr",
     "output_type": "stream",
     "text": [
      "www.wikidata.org (labels) P2698|P4204|P641|P2002|P18|P569|Q5375|P...\n",
      "en.wikipedia.org (imageinfo) File:NAMAN OJHA (16192960225).jpg\n",
      "Naman Ojha (en) data\n",
      "{\n",
      "  claims: <dict(15)> P31, P21, P106, P569, P27, P19, P3526, P2697,...\n",
      "  description: Indian cricketer\n",
      "  image: <list(1)> {'file': 'File:NAMAN OJHA (16192960225).jpg', '...\n",
      "  label: Naman Ojha\n",
      "  labels: <dict(26)> P2698, P4204, P641, P2002, P18, P569, Q5375, ...\n",
      "  modified: <dict(1)> wikidata\n",
      "  requests: <list(3)> wikidata, labels, imageinfo\n",
      "  title: Naman_Ojha\n",
      "  what: human\n",
      "  wikibase: Q6961274\n",
      "  wikidata: <dict(15)> instance of (P31), sex or gender (P21), occ...\n",
      "  wikidata_pageid: 6829128\n",
      "  wikidata_url: https://www.wikidata.org/wiki/Q6961274\n",
      "}\n",
      "www.wikidata.org (wikidata) karn Sharma\n"
     ]
    },
    {
     "name": "stdout",
     "output_type": "stream",
     "text": [
      "male (Q6581097) cricketer (Q12299841) +1983-07-20T00:00:00Z\n",
      "karn Sharma Didn't find any data\n"
     ]
    },
    {
     "name": "stderr",
     "output_type": "stream",
     "text": [
      "www.wikidata.org (wikidata) Pankaj Singh\n"
     ]
    },
    {
     "name": "stdout",
     "output_type": "stream",
     "text": [
      "Pankaj Singh Didn't find any data\n"
     ]
    },
    {
     "name": "stderr",
     "output_type": "stream",
     "text": [
      "www.wikidata.org (wikidata) R.P Singh\n"
     ]
    },
    {
     "name": "stdout",
     "output_type": "stream",
     "text": [
      "R.P Singh Didn't find any data\n"
     ]
    },
    {
     "name": "stderr",
     "output_type": "stream",
     "text": [
      "www.wikidata.org (wikidata) Aakash Chopra\n",
      "www.wikidata.org (labels) Q42941|P2698|P641|Q5375|P569|P19|P1532|...\n",
      "Aakash Chopra (en) data\n",
      "{\n",
      "  claims: <dict(13)> P214, P31, P106, P27, P21, P569, P54, P443, P...\n",
      "  description: Indian cricket player.\n",
      "  label: Aakash Chopra\n",
      "  labels: <dict(22)> Q42941, P2698, P641, Q5375, P569, P19, P1532,...\n",
      "  modified: <dict(1)> wikidata\n",
      "  requests: <list(2)> wikidata, labels\n",
      "  title: Aakash_Chopra\n",
      "  what: human\n",
      "  wikibase: Q3528244\n",
      "  wikidata: <dict(13)> VIAF ID (P214), instance of (P31), occupati...\n",
      "  wikidata_pageid: 3359172\n",
      "  wikidata_url: https://www.wikidata.org/wiki/Q3528244\n",
      "}\n",
      "www.wikidata.org (wikidata) Wasim Jaffer\n"
     ]
    },
    {
     "name": "stdout",
     "output_type": "stream",
     "text": [
      "male (Q6581097) cricketer (Q12299841) +1977-09-19T00:00:00Z\n"
     ]
    },
    {
     "name": "stderr",
     "output_type": "stream",
     "text": [
      "www.wikidata.org (labels) P2698|P641|Q1378539|Q3566548|P18|P569|Q...\n",
      "en.wikipedia.org (imageinfo) File:Waseem Jaffer.jpg\n",
      "Wasim Jaffer (en) data\n",
      "{\n",
      "  claims: <dict(16)> P31, P106, P27, P21, P569, P140, P735, P18, P...\n",
      "  description: Indian cricket player.\n",
      "  image: <list(1)> {'file': 'File:Waseem Jaffer.jpg', 'kind': 'wik...\n",
      "  label: Wasim Jaffer\n",
      "  labels: <dict(28)> P2698, P641, Q1378539, Q3566548, P18, P569, Q...\n",
      "  modified: <dict(1)> wikidata\n",
      "  requests: <list(3)> wikidata, labels, imageinfo\n",
      "  title: Wasim_Jaffer\n",
      "  what: human\n",
      "  wikibase: Q3520728\n",
      "  wikidata: <dict(16)> instance of (P31), occupation (P106), count...\n",
      "  wikidata_pageid: 3352163\n",
      "  wikidata_url: https://www.wikidata.org/wiki/Q3520728\n",
      "}\n",
      "www.wikidata.org (wikidata) Shabbir Ahluwalia\n"
     ]
    },
    {
     "name": "stdout",
     "output_type": "stream",
     "text": [
      "male (Q6581097) cricketer (Q12299841) +1978-02-16T00:00:00Z\n",
      "Shabbir Ahluwalia Didn't find any data\n"
     ]
    },
    {
     "name": "stderr",
     "output_type": "stream",
     "text": [
      "www.wikidata.org (wikidata) Gaurav Chopra\n",
      "www.wikidata.org (labels) P569|Q33999|P3417|P345|P21|P106|P735|P1...\n",
      "en.wikipedia.org (imageinfo) File:Gaurav Chopra.jpg\n",
      "Gaurav Chopra (en) data\n",
      "{\n",
      "  claims: <dict(11)> P345, P18, P31, P19, P106, P21, P569, P735, P...\n",
      "  description: Indian actor\n",
      "  image: <list(1)> {'file': 'File:Gaurav Chopra.jpg', 'kind': 'wik...\n",
      "  label: Gaurav Chopra\n",
      "  labels: <dict(18)> P569, Q33999, P3417, P345, P21, P106, P735, P...\n",
      "  modified: <dict(1)> wikidata\n",
      "  requests: <list(3)> wikidata, labels, imageinfo\n",
      "  title: Gaurav_Chopra\n",
      "  what: human\n",
      "  wikibase: Q5527746\n",
      "  wikidata: <dict(11)> IMDb ID (P345), image (P18), instance of (P...\n",
      "  wikidata_pageid: 5288296\n",
      "  wikidata_url: https://www.wikidata.org/wiki/Q5527746\n",
      "}\n",
      "www.wikidata.org (wikidata) Mishal Raheja\n"
     ]
    },
    {
     "name": "stdout",
     "output_type": "stream",
     "text": [
      "male (Q6581097) ['actor (Q33999)', 'television actor (Q10798782)'] +1979-04-04T00:00:00Z\n"
     ]
    },
    {
     "name": "stderr",
     "output_type": "stream",
     "text": [
      "www.wikidata.org (labels) P569|Q33999|P21|P345|P106|P373|P19|Q115...\n",
      "en.wikipedia.org (imageinfo) File:Mishal.png\n",
      "Mishal Raheja (en) data\n",
      "{\n",
      "  claims: <dict(9)> P31, P19, P27, P106, P569, P21, P345, P373, P18\n",
      "  description: Indian actor\n",
      "  image: <list(1)> {'file': 'File:Mishal.png', 'kind': 'wikidata-i...\n",
      "  label: Mishal Raheja\n",
      "  labels: <dict(15)> P569, Q33999, P21, P345, P106, P373, P19, Q11...\n",
      "  modified: <dict(1)> wikidata\n",
      "  requests: <list(3)> wikidata, labels, imageinfo\n",
      "  title: Mishal_Raheja\n",
      "  what: human\n",
      "  wikibase: Q6875491\n",
      "  wikidata: <dict(9)> instance of (P31), place of birth (P19), cou...\n",
      "  wikidata_pageid: 6730761\n",
      "  wikidata_url: https://www.wikidata.org/wiki/Q6875491\n",
      "}\n",
      "www.wikidata.org (wikidata) Tathagata Satpsthy\n"
     ]
    },
    {
     "name": "stdout",
     "output_type": "stream",
     "text": [
      "male (Q6581097) ['actor (Q33999)', 'television actor (Q10798782)'] +1982-08-17T00:00:00Z\n",
      "Tathagata Satpsthy Didn't find any data\n"
     ]
    },
    {
     "name": "stderr",
     "output_type": "stream",
     "text": [
      "www.wikidata.org (wikidata) Dr Ramesh Pokhriyal Nishank\n"
     ]
    },
    {
     "name": "stdout",
     "output_type": "stream",
     "text": [
      "Dr Ramesh Pokhriyal Nishank Didn't find any data\n"
     ]
    },
    {
     "name": "stderr",
     "output_type": "stream",
     "text": [
      "www.wikidata.org (wikidata) Narendra Singh Tomar\n",
      "www.wikidata.org (labels) Q6203498|P3602|P18|P569|Q16874648|Q5605...\n",
      "en.wikipedia.org (imageinfo) File:Shri Narendra Singh Tomar, Unio...\n",
      "Narendra Singh Tomar (en) data\n",
      "{\n",
      "  claims: <dict(15)> P31, P106, P27, P39, P21, P569, P69, P735, P1...\n",
      "  description: Indian politician\n",
      "  image: <list(1)> {'file': 'File:Shri Narendra Singh Tomar, Union...\n",
      "  label: Narendra Singh Tomar\n",
      "  labels: <dict(29)> Q6203498, P3602, P18, P569, Q16874648, Q56051...\n",
      "  modified: <dict(1)> wikidata\n",
      "  requests: <list(3)> wikidata, labels, imageinfo\n",
      "  title: Narendra_Singh_Tomar\n",
      "  what: human\n",
      "  wikibase: Q6965799\n",
      "  wikidata: <dict(15)> instance of (P31), occupation (P106), count...\n",
      "  wikidata_pageid: 6834626\n",
      "  wikidata_url: https://www.wikidata.org/wiki/Q6965799\n",
      "}\n",
      "www.wikidata.org (wikidata) Priyanka Singh Rawat\n"
     ]
    },
    {
     "name": "stdout",
     "output_type": "stream",
     "text": [
      "male (Q6581097) politician (Q82955) +1957-06-12T00:00:00Z\n"
     ]
    },
    {
     "name": "stderr",
     "output_type": "stream",
     "text": [
      "www.wikidata.org (labels) P569|Q213026|P21|P106|Q82955|P39|P4978|...\n",
      "Priyanka Singh Rawat (en) data\n",
      "{\n",
      "  claims: <dict(10)> P31, P27, P21, P102, P39, P106, P569, P4978, ...\n",
      "  description: Indian politician\n",
      "  label: Priyanka Singh Rawat\n",
      "  labels: <dict(18)> P569, Q213026, P21, P106, Q82955, P39, P4978,...\n",
      "  modified: <dict(1)> wikidata\n",
      "  requests: <list(2)> wikidata, labels\n",
      "  title: Priyanka_Singh_Rawat\n",
      "  what: human\n",
      "  wikibase: Q16736878\n",
      "  wikidata: <dict(10)> instance of (P31), country of citizenship (...\n",
      "  wikidata_pageid: 18340953\n",
      "  wikidata_url: https://www.wikidata.org/wiki/Q16736878\n",
      "}\n",
      "www.wikidata.org (wikidata) Rahul Kaswan\n"
     ]
    },
    {
     "name": "stdout",
     "output_type": "stream",
     "text": [
      "female (Q6581072) politician (Q82955) +1985-08-07T00:00:00Z\n"
     ]
    },
    {
     "name": "stderr",
     "output_type": "stream",
     "text": [
      "www.wikidata.org (labels) Q63988653|P3602|Q3813160|P18|P569|Q5605...\n",
      "en.wikipedia.org (imageinfo) File:RAHUL JI KASWAN MP.jpg\n",
      "Rahul Kaswan (en) data\n",
      "{\n",
      "  claims: <dict(12)> P31, P39, P27, P106, P21, P735, P569, P18, P4...\n",
      "  description: Indian politician\n",
      "  image: <list(1)> {'file': 'File:RAHUL JI KASWAN MP.jpg', 'kind':...\n",
      "  label: Rahul Kaswan\n",
      "  labels: <dict(22)> Q63988653, P3602, Q3813160, P18, P569, Q56051...\n",
      "  modified: <dict(1)> wikidata\n",
      "  requests: <list(3)> wikidata, labels, imageinfo\n",
      "  title: Rahul_Kaswan\n",
      "  what: human\n",
      "  wikibase: Q16902238\n",
      "  wikidata: <dict(12)> instance of (P31), position held (P39), cou...\n",
      "  wikidata_pageid: 18502310\n",
      "  wikidata_url: https://www.wikidata.org/wiki/Q16902238\n",
      "}\n",
      "www.wikidata.org (wikidata) Rabindra Kumar Jena\n"
     ]
    },
    {
     "name": "stdout",
     "output_type": "stream",
     "text": [
      "male (Q6581097) politician (Q82955) +1977-01-20T00:00:00Z\n"
     ]
    },
    {
     "name": "stderr",
     "output_type": "stream",
     "text": [
      "www.wikidata.org (labels) Q33810|P3602|P2002|Q63988585|Q859993|P4...\n",
      "Rabindra Kumar Jena (en) data\n",
      "{\n",
      "  claims: <dict(13)> P21, P39, P31, P106, P27, P102, P4978, P1559,...\n",
      "  description: Lok Sabha MP, Balasore\n",
      "  label: Rabindra Kumar Jena\n",
      "  labels: <dict(21)> Q33810, P3602, P2002, Q63988585, Q859993, P49...\n",
      "  modified: <dict(1)> wikidata\n",
      "  requests: <list(2)> wikidata, labels\n",
      "  title: Rabindra_Kumar_Jena\n",
      "  what: human\n",
      "  wikibase: Q16910446\n",
      "  wikidata: <dict(13)> sex or gender (P21), position held (P39), i...\n",
      "  wikidata_pageid: 18510443\n",
      "  wikidata_url: https://www.wikidata.org/wiki/Q16910446\n",
      "}\n",
      "www.wikidata.org (wikidata) Ganesh Singh\n"
     ]
    },
    {
     "name": "stdout",
     "output_type": "stream",
     "text": [
      "Rabindra Kumar Jena Didn't find the date of birth\n",
      "Rabindra Kumar Jena Didn't find any data\n"
     ]
    },
    {
     "name": "stderr",
     "output_type": "stream",
     "text": [
      "www.wikidata.org (labels) Q58794|Q9089|P3602|P569|Q63988401|P19|Q...\n",
      "Ganesh Singh (en) data\n",
      "{\n",
      "  claims: <dict(12)> P102, P31, P19, P106, P569, P27, P39, P21, P1...\n",
      "  description: Indian politician\n",
      "  label: Ganesh Singh\n",
      "  labels: <dict(24)> Q58794, Q9089, P3602, P569, Q63988401, P19, Q...\n",
      "  modified: <dict(1)> wikidata\n",
      "  requests: <list(2)> wikidata, labels\n",
      "  title: Ganesh_Singh\n",
      "  what: human\n",
      "  wikibase: Q5520852\n",
      "  wikidata: <dict(12)> member of political party (P102), instance ...\n",
      "  wikidata_pageid: 5281645\n",
      "  wikidata_url: https://www.wikidata.org/wiki/Q5520852\n",
      "}\n",
      "www.wikidata.org (wikidata) Pawan Chamling\n"
     ]
    },
    {
     "name": "stdout",
     "output_type": "stream",
     "text": [
      "male (Q6581097) politician (Q82955) +1962-07-02T00:00:00Z\n",
      "Pawan Chamling Didn't find any data\n"
     ]
    },
    {
     "name": "stderr",
     "output_type": "stream",
     "text": [
      "www.wikidata.org (wikidata) PD Rai\n"
     ]
    },
    {
     "name": "stdout",
     "output_type": "stream",
     "text": [
      "PD Rai Didn't find any data\n"
     ]
    },
    {
     "name": "stderr",
     "output_type": "stream",
     "text": [
      "www.wikidata.org (wikidata) Ashok Chavan\n",
      "www.wikidata.org (labels) P22|Q13119774|P3602|Q221922|P18|P569|Q4...\n",
      "en.wikipedia.org (imageinfo) File:Ashok Chavan 2010 - still 11491...\n",
      "Ashok Chavan (en) data\n",
      "{\n",
      "  claims: <dict(16)> P102, P569, P31, P18, P39, P27, P21, P106, P2...\n",
      "  description: Indian politician\n",
      "  image: <list(1)> {'file': 'File:Ashok Chavan 2010 - still 114915...\n",
      "  label: Ashok Chavan\n",
      "  labels: <dict(31)> P22, Q13119774, P3602, Q221922, P18, P569, Q4...\n",
      "  modified: <dict(1)> wikidata\n",
      "  requests: <list(3)> wikidata, labels, imageinfo\n",
      "  title: Ashok_Chavan\n",
      "  what: human\n",
      "  wikibase: Q3345623\n",
      "  wikidata: <dict(16)> member of political party (P102), date of b...\n",
      "  wikidata_pageid: 3189276\n",
      "  wikidata_url: https://www.wikidata.org/wiki/Q3345623\n",
      "}\n",
      "www.wikidata.org (wikidata) Parimal Nathwani\n"
     ]
    },
    {
     "name": "stdout",
     "output_type": "stream",
     "text": [
      "male (Q6581097) ['politician (Q82955)', 'businessperson (Q43845)'] +1958-10-28T00:00:00Z\n"
     ]
    },
    {
     "name": "stderr",
     "output_type": "stream",
     "text": [
      "www.wikidata.org (labels) P569|P2013|P21|P106|Q82955|P39|P19|P497...\n",
      "en.wikipedia.org (imageinfo) File:Shri Parimal Nathwaniji.jpg\n",
      "Parimal Nathwani (en) data\n",
      "{\n",
      "  claims: <dict(11)> P31, P21, P569, P106, P27, P18, P19, P4978, P...\n",
      "  description: Indian politician and industrialist\n",
      "  image: <list(1)> {'file': 'File:Shri Parimal Nathwaniji.jpg', 'k...\n",
      "  label: Parimal Nathwani\n",
      "  labels: <dict(18)> P569, P2013, P21, P106, Q82955, P39, P19, P49...\n",
      "  modified: <dict(1)> wikidata\n",
      "  requests: <list(3)> wikidata, labels, imageinfo\n",
      "  title: Parimal_Nathwani\n",
      "  what: human\n",
      "  wikibase: Q19666846\n",
      "  wikidata: <dict(11)> instance of (P31), sex or gender (P21), dat...\n",
      "  wikidata_pageid: 21268564\n",
      "  wikidata_url: https://www.wikidata.org/wiki/Q19666846\n",
      "}\n",
      "www.wikidata.org (wikidata) Prahlad Singh Patel\n"
     ]
    },
    {
     "name": "stdout",
     "output_type": "stream",
     "text": [
      "male (Q6581097) politician (Q82955) +1956-02-01T00:00:00Z\n"
     ]
    },
    {
     "name": "stderr",
     "output_type": "stream",
     "text": [
      "www.wikidata.org (labels) Q63988397|P3602|P18|P569|P1971|Q5605177...\n",
      "en.wikipedia.org (imageinfo) File:Prahalad Patel Oath Ceremony As...\n",
      "Prahlad Singh Patel (en) data\n",
      "{\n",
      "  aliases: <list(1)> Prahlad Patel\n",
      "  claims: <dict(13)> P102, P69, P31, P106, P27, P569, P18, P39, P2...\n",
      "  description: Indian politician\n",
      "  image: <list(1)> {'file': 'File:Prahalad Patel Oath Ceremony As ...\n",
      "  label: Prahlad Singh Patel\n",
      "  labels: <dict(25)> Q63988397, P3602, P18, P569, P1971, Q56051771...\n",
      "  modified: <dict(1)> wikidata\n",
      "  requests: <list(3)> wikidata, labels, imageinfo\n",
      "  title: Prahlad_Singh_Patel\n",
      "  what: human\n",
      "  wikibase: Q7237724\n",
      "  wikidata: <dict(13)> member of political party (P102), educated ...\n",
      "  wikidata_pageid: 7140852\n",
      "  wikidata_url: https://www.wikidata.org/wiki/Q7237724\n",
      "}\n",
      "www.wikidata.org (wikidata) Kadiyam Srihari\n"
     ]
    },
    {
     "name": "stdout",
     "output_type": "stream",
     "text": [
      "male (Q6581097) politician (Q82955) +1960-06-28T00:00:00Z\n"
     ]
    },
    {
     "name": "stderr",
     "output_type": "stream",
     "text": [
      "www.wikidata.org (labels) P3602|P18|P569|P19|P4978|Q63988032|Q162...\n",
      "en.wikipedia.org (imageinfo) File:Kadiyam Srihari.jpg\n",
      "Kadiyam Srihari (en) data\n",
      "{\n",
      "  claims: <dict(12)> P102, P569, P106, P373, P31, P21, P39, P27, P...\n",
      "  description: Indian politician\n",
      "  image: <list(1)> {'file': 'File:Kadiyam Srihari.jpg', 'kind': 'w...\n",
      "  label: Kadiyam Srihari\n",
      "  labels: <dict(20)> P3602, P18, P569, P19, P4978, Q63988032, Q162...\n",
      "  modified: <dict(1)> wikidata\n",
      "  requests: <list(3)> wikidata, labels, imageinfo\n",
      "  title: Kadiyam_Srihari\n",
      "  what: human\n",
      "  wikibase: Q6345575\n",
      "  wikidata: <dict(12)> member of political party (P102), date of b...\n",
      "  wikidata_pageid: 6155165\n",
      "  wikidata_url: https://www.wikidata.org/wiki/Q6345575\n",
      "}\n",
      "www.wikidata.org (wikidata) Manoj Sinha\n"
     ]
    },
    {
     "name": "stdout",
     "output_type": "stream",
     "text": [
      "male (Q6581097) politician (Q82955) +1952-07-08T00:00:00Z\n"
     ]
    },
    {
     "name": "stderr",
     "output_type": "stream",
     "text": [
      "www.wikidata.org (labels) Q1006321|P3602|P18|P569|Q63988917|P4978...\n",
      "en.wikipedia.org (imageinfo) File:Manoj Sinha Profile Pic.jpeg\n",
      "Manoj Sinha (en) data\n",
      "{\n",
      "  claims: <dict(16)> P102, P31, P106, P569, P27, P39, P21, P18, P3...\n",
      "  description: Indian politician\n",
      "  image: <list(1)> {'file': 'File:Manoj Sinha Profile Pic.jpeg', '...\n",
      "  label: Manoj Sinha\n",
      "  labels: <dict(28)> Q1006321, P3602, P18, P569, Q63988917, P4978,...\n",
      "  modified: <dict(1)> wikidata\n",
      "  requests: <list(3)> wikidata, labels, imageinfo\n",
      "  title: Manoj_Sinha\n",
      "  what: human\n",
      "  wikibase: Q6751189\n",
      "  wikidata: <dict(16)> member of political party (P102), instance ...\n",
      "  wikidata_pageid: 6595120\n",
      "  wikidata_url: https://www.wikidata.org/wiki/Q6751189\n",
      "}\n",
      "www.wikidata.org (wikidata) Ram Swaroop Sharma\n"
     ]
    },
    {
     "name": "stdout",
     "output_type": "stream",
     "text": [
      "male (Q6581097) politician (Q82955) +1959-07-01T00:00:00Z\n"
     ]
    },
    {
     "name": "stderr",
     "output_type": "stream",
     "text": [
      "www.wikidata.org (labels) Q63988259|P3602|P18|P569|Q56051771|P497...\n",
      "en.wikipedia.org (imageinfo) File:Ram Swaroop Sharma - PCC Meetin...\n",
      "Ram Swaroop Sharma (en) data\n",
      "{\n",
      "  claims: <dict(17)> P31, P27, P39, P106, P21, P569, P735, P214, P...\n",
      "  description: Indian politician\n",
      "  image: <list(1)> {'file': 'File:Ram Swaroop Sharma - PCC Meeting...\n",
      "  label: Ram Swaroop Sharma\n",
      "  labels: <dict(28)> Q63988259, P3602, P18, P569, Q56051771, P4978...\n",
      "  modified: <dict(1)> wikidata\n",
      "  requests: <list(3)> wikidata, labels, imageinfo\n",
      "  title: Ram_Swaroop_Sharma\n",
      "  what: human\n",
      "  wikibase: Q16734915\n",
      "  wikidata: <dict(17)> instance of (P31), country of citizenship (...\n",
      "  wikidata_pageid: 18339037\n",
      "  wikidata_url: https://www.wikidata.org/wiki/Q16734915\n",
      "}\n",
      "www.wikidata.org (wikidata) Raksha Khadse\n"
     ]
    },
    {
     "name": "stdout",
     "output_type": "stream",
     "text": [
      "male (Q6581097) politician (Q82955) +1959-06-10T00:00:00Z\n",
      "Raksha Khadse Didn't find any data\n"
     ]
    },
    {
     "name": "stderr",
     "output_type": "stream",
     "text": [
      "www.wikidata.org (wikidata) Prithviraj Chavan\n",
      "www.wikidata.org (labels) P22|Q2648311|Q9089|Q221922|Q17324844|P2...\n",
      "en.wikipedia.org (imageinfo) File:Prithviraj Chavan - India Econo...\n",
      "Prithviraj Chavan (en) data\n",
      "{\n",
      "  claims: <dict(16)> P373, P21, P106, P102, P69, P31, P39, P569, P...\n",
      "  description: politician\n",
      "  image: <list(1)> {'file': 'File:Prithviraj Chavan - India Econom...\n",
      "  label: Prithviraj Chavan\n",
      "  labels: <dict(35)> P22, Q2648311, Q9089, Q221922, Q17324844, P20...\n",
      "  modified: <dict(1)> wikidata\n",
      "  requests: <list(3)> wikidata, labels, imageinfo\n",
      "  title: Prithviraj_Chavan\n",
      "  what: human\n",
      "  wikibase: Q3520217\n",
      "  wikidata: <dict(16)> Commons category (P373), sex or gender (P21...\n",
      "  wikidata_pageid: 3351700\n",
      "  wikidata_url: https://www.wikidata.org/wiki/Q3520217\n",
      "}\n",
      "www.wikidata.org (wikidata) Abhishek Singh\n"
     ]
    },
    {
     "name": "stdout",
     "output_type": "stream",
     "text": [
      "male (Q6581097) politician (Q82955) +1946-03-18T00:00:00Z\n"
     ]
    },
    {
     "name": "stderr",
     "output_type": "stream",
     "text": [
      "www.wikidata.org (labels) P31|Q22808320\n",
      "Abhishek Singh (en) data\n",
      "{\n",
      "  claims: <dict(1)> P31\n",
      "  description: Wikimedia disambiguation page\n",
      "  label: Abhishek Singh\n",
      "  labels: <dict(2)> P31, Q22808320\n",
      "  modified: <dict(1)> wikidata\n",
      "  requests: <list(2)> wikidata, labels\n",
      "  title: Abhishek_Singh\n",
      "  what: Wikimedia human name disambiguation page\n",
      "  wikibase: Q54680940\n",
      "  wikidata: <dict(1)> instance of (P31)\n",
      "  wikidata_pageid: 54829096\n",
      "  wikidata_url: https://www.wikidata.org/wiki/Q54680940\n",
      "}\n",
      "www.wikidata.org (wikidata) Kalyan Banerjee\n"
     ]
    },
    {
     "name": "stdout",
     "output_type": "stream",
     "text": [
      "Abhishek Singh Didn't find the gender\n",
      "Abhishek Singh Didn't find the date of birth\n",
      "Abhishek Singh Didn't find any data\n"
     ]
    },
    {
     "name": "stderr",
     "output_type": "stream",
     "text": [
      "www.wikidata.org (labels) P31|Q22808320\n",
      "Kalyan Banerjee (en) data\n",
      "{\n",
      "  claims: <dict(1)> P31\n",
      "  description: Wikimedia disambiguation page\n",
      "  label: Kalyan Banerjee\n",
      "  labels: <dict(2)> P31, Q22808320\n",
      "  modified: <dict(1)> wikidata\n",
      "  requests: <list(2)> wikidata, labels\n",
      "  title: Kalyan_Banerjee\n",
      "  what: Wikimedia human name disambiguation page\n",
      "  wikibase: Q17238906\n",
      "  wikidata: <dict(1)> instance of (P31)\n",
      "  wikidata_pageid: 18836153\n",
      "  wikidata_url: https://www.wikidata.org/wiki/Q17238906\n",
      "}\n",
      "www.wikidata.org (wikidata) Rao Inderjit Singh\n"
     ]
    },
    {
     "name": "stdout",
     "output_type": "stream",
     "text": [
      "Kalyan Banerjee Didn't find the gender\n",
      "Kalyan Banerjee Didn't find the date of birth\n",
      "Kalyan Banerjee Didn't find any data\n"
     ]
    },
    {
     "name": "stderr",
     "output_type": "stream",
     "text": [
      "www.wikidata.org (labels) P641|Q206989|P3602|Q665105|P18|P569|P19...\n",
      "en.wikipedia.org (imageinfo) File:Rao Inderjit Singh addressing a...\n",
      "Rao Inderjit Singh (en) data\n",
      "{\n",
      "  claims: <dict(14)> P102, P31, P19, P106, P27, P569, P39, P21, P6...\n",
      "  description: Indian politician\n",
      "  image: <list(1)> {'file': 'File:Rao Inderjit Singh addressing at...\n",
      "  label: Rao Inderjit Singh\n",
      "  labels: <dict(29)> P641, Q206989, P3602, Q665105, P18, P569, P19...\n",
      "  modified: <dict(1)> wikidata\n",
      "  requests: <list(3)> wikidata, labels, imageinfo\n",
      "  title: Rao_Inderjit_Singh\n",
      "  what: human\n",
      "  wikibase: Q7293676\n",
      "  wikidata: <dict(14)> member of political party (P102), instance ...\n",
      "  wikidata_pageid: 7198859\n",
      "  wikidata_url: https://www.wikidata.org/wiki/Q7293676\n",
      "}\n",
      "www.wikidata.org (wikidata) Sadananda Gowda\n"
     ]
    },
    {
     "name": "stdout",
     "output_type": "stream",
     "text": [
      "male (Q6581097) politician (Q82955) +1950-02-11T00:00:00Z\n",
      "Sadananda Gowda Didn't find any data\n"
     ]
    },
    {
     "name": "stderr",
     "output_type": "stream",
     "text": [
      "www.wikidata.org (wikidata) Gopal Shetty\n",
      "www.wikidata.org (labels) Q13119774|P3602|P569|Q56051771|P19|Q102...\n",
      "Gopal Shetty (en) data\n",
      "{\n",
      "  claims: <dict(11)> P31, P27, P39, P106, P21, P569, P735, P102, P...\n",
      "  description: Indian politician\n",
      "  label: Gopal Shetty\n",
      "  labels: <dict(22)> Q13119774, P3602, P569, Q56051771, P19, Q1023...\n",
      "  modified: <dict(1)> wikidata\n",
      "  requests: <list(2)> wikidata, labels\n",
      "  title: Gopal_Shetty\n",
      "  what: human\n",
      "  wikibase: Q16186482\n",
      "  wikidata: <dict(11)> instance of (P31), country of citizenship (...\n",
      "  wikidata_pageid: 17812862\n",
      "  wikidata_url: https://www.wikidata.org/wiki/Q16186482\n",
      "}\n",
      "www.wikidata.org (wikidata) Gajanan Kirtikar\n"
     ]
    },
    {
     "name": "stdout",
     "output_type": "stream",
     "text": [
      "male (Q6581097) politician (Q82955) +1954-01-01T00:00:00Z\n"
     ]
    },
    {
     "name": "stderr",
     "output_type": "stream",
     "text": [
      "www.wikidata.org (labels) Q13119774|P3602|P18|P569|Q63988499|Q560...\n",
      "en.wikipedia.org (imageinfo) File:Gajanan kirtikar.jpg\n",
      "Gajanan Kirtikar (en) data\n",
      "{\n",
      "  claims: <dict(12)> P102, P31, P27, P39, P106, P569, P21, P18, P1...\n",
      "  description: Indian politician\n",
      "  image: <list(1)> {'file': 'File:Gajanan kirtikar.jpg', 'kind': '...\n",
      "  label: Gajanan Kirtikar\n",
      "  labels: <dict(24)> Q13119774, P3602, P18, P569, Q63988499, Q5605...\n",
      "  modified: <dict(1)> wikidata\n",
      "  requests: <list(3)> wikidata, labels, imageinfo\n",
      "  title: Gajanan_Kirtikar\n",
      "  what: human\n",
      "  wikibase: Q5517547\n",
      "  wikidata: <dict(12)> member of political party (P102), instance ...\n",
      "  wikidata_pageid: 5278494\n",
      "  wikidata_url: https://www.wikidata.org/wiki/Q5517547\n",
      "}\n",
      "www.wikidata.org (wikidata) Dr Shrikant Eknath Shinde\n"
     ]
    },
    {
     "name": "stdout",
     "output_type": "stream",
     "text": [
      "male (Q6581097) politician (Q82955) +1943-09-03T00:00:00Z\n",
      "Dr Shrikant Eknath Shinde Didn't find any data\n"
     ]
    },
    {
     "name": "stderr",
     "output_type": "stream",
     "text": [
      "www.wikidata.org (wikidata) Arvind Sawant\n",
      "www.wikidata.org (labels) Q63988508|P3602|P569|Q56051771|P4978|P1...\n",
      "Arvind Sawant (en) data\n",
      "{\n",
      "  claims: <dict(11)> P31, P39, P27, P106, P21, P102, P735, P569, P...\n",
      "  description: Indian politician\n",
      "  label: Arvind Sawant\n",
      "  labels: <dict(21)> Q63988508, P3602, P569, Q56051771, P4978, P19...\n",
      "  modified: <dict(1)> wikidata\n",
      "  requests: <list(2)> wikidata, labels\n",
      "  title: Arvind_Sawant\n",
      "  what: human\n",
      "  wikibase: Q16890500\n",
      "  wikidata: <dict(11)> instance of (P31), position held (P39), cou...\n",
      "  wikidata_pageid: 18490711\n",
      "  wikidata_url: https://www.wikidata.org/wiki/Q16890500\n",
      "}\n",
      "www.wikidata.org (wikidata) Shatrughan Sinha\n"
     ]
    },
    {
     "name": "stdout",
     "output_type": "stream",
     "text": [
      "male (Q6581097) politician (Q82955) +1951-12-31T00:00:00Z\n"
     ]
    },
    {
     "name": "stderr",
     "output_type": "stream",
     "text": [
      "www.wikidata.org (labels) Q1414326|Q9089|P2604|P3602|P2013|P40|Q1...\n",
      "www.wikidata.org (labels) Q668|P102\n",
      "en.wikipedia.org (imageinfo) File:Shatrughan Sinha 00451.JPG\n",
      "Shatrughan Sinha (en) data\n",
      "{\n",
      "  claims: <dict(33)> P214, P373, P18, P21, P106, P345, P31, P19, P...\n",
      "  description: Indian Actor and politician\n",
      "  image: <list(1)> {'file': 'File:Shatrughan Sinha 00451.JPG', 'ki...\n",
      "  label: Shatrughan Sinha\n",
      "  labels: <dict(52)> Q1414326, Q9089, P2604, P3602, P2013, P40, Q1...\n",
      "  modified: <dict(1)> wikidata\n",
      "  requests: <list(4)> wikidata, labels, labels, imageinfo\n",
      "  title: Shatrughan_Sinha\n",
      "  what: human\n",
      "  wikibase: Q3595242\n",
      "  wikidata: <dict(33)> VIAF ID (P214), Commons category (P373), im...\n",
      "  wikidata_pageid: 3423571\n",
      "  wikidata_url: https://www.wikidata.org/wiki/Q3595242\n",
      "}\n",
      "www.wikidata.org (wikidata) Virbhadra Singh\n"
     ]
    },
    {
     "name": "stdout",
     "output_type": "stream",
     "text": [
      "male (Q6581097) ['actor (Q33999)', 'politician (Q82955)'] +1945-12-09T00:00:00Z\n"
     ]
    },
    {
     "name": "stderr",
     "output_type": "stream",
     "text": [
      "www.wikidata.org (labels) Q7238683|P109|P40|P18|P569|P26|P19|P214...\n",
      "en.wikipedia.org (imageinfo) File:Virbhadra Singh HP.jpg\n",
      "Virbhadra Singh (en) data\n",
      "{\n",
      "  claims: <dict(20)> P21, P214, P244, P227, P102, P569, P31, P646,...\n",
      "  description: Indian politician\n",
      "  image: <list(1)> {'file': 'File:Virbhadra Singh HP.jpg', 'kind':...\n",
      "  label: Virbhadra Singh\n",
      "  labels: <dict(32)> Q7238683, P109, P40, P18, P569, P26, P19, P21...\n",
      "  modified: <dict(1)> wikidata\n",
      "  requests: <list(3)> wikidata, labels, imageinfo\n",
      "  title: Virbhadra_Singh\n",
      "  what: human\n",
      "  wikibase: Q777478\n",
      "  wikidata: <dict(20)> sex or gender (P21), VIAF ID (P214), Librar...\n",
      "  wikidata_pageid: 730513\n",
      "  wikidata_url: https://www.wikidata.org/wiki/Q777478\n",
      "}\n",
      "www.wikidata.org (wikidata) Krupal Tumane\n"
     ]
    },
    {
     "name": "stdout",
     "output_type": "stream",
     "text": [
      "male (Q6581097) politician (Q82955) +1934-06-23T00:00:00Z\n"
     ]
    },
    {
     "name": "stderr",
     "output_type": "stream",
     "text": [
      "www.wikidata.org (labels) P569|P21|Q63988461|P106|Q82955|P39|Q560...\n",
      "Krupal Tumane (en) data\n",
      "{\n",
      "  claims: <dict(8)> P31, P21, P39, P106, P27, P102, P569, P3602\n",
      "  description: Member of Parliament\n",
      "  label: Krupal Tumane\n",
      "  labels: <dict(16)> P569, P21, Q63988461, P106, Q82955, P39, Q560...\n",
      "  modified: <dict(1)> wikidata\n",
      "  requests: <list(2)> wikidata, labels\n",
      "  title: Krupal_Tumane\n",
      "  what: human\n",
      "  wikibase: Q16914132\n",
      "  wikidata: <dict(8)> instance of (P31), sex or gender (P21), posi...\n",
      "  wikidata_pageid: 18515628\n",
      "  wikidata_url: https://www.wikidata.org/wiki/Q16914132\n",
      "}\n",
      "www.wikidata.org (wikidata) Narendra Sawaikar\n"
     ]
    },
    {
     "name": "stdout",
     "output_type": "stream",
     "text": [
      "male (Q6581097) politician (Q82955) +1965-06-01T00:00:00Z\n",
      "Narendra Sawaikar Didn't find any data\n"
     ]
    },
    {
     "name": "stderr",
     "output_type": "stream",
     "text": [
      "www.wikidata.org (wikidata) Supriya Sule\n",
      "www.wikidata.org (labels) P22|P3602|Q17324844|P18|P569|Q56051771|...\n",
      "en.wikipedia.org (imageinfo) File:Supriya Sule.jpg\n",
      "Supriya Sule (en) data\n",
      "{\n",
      "  claims: <dict(13)> P102, P21, P31, P27, P106, P569, P39, P22, P1...\n",
      "  description: Indian politician\n",
      "  image: <list(1)> {'file': 'File:Supriya Sule.jpg', 'kind': 'wiki...\n",
      "  label: Supriya Sule\n",
      "  labels: <dict(26)> P22, P3602, Q17324844, P18, P569, Q56051771, ...\n",
      "  modified: <dict(1)> wikidata\n",
      "  requests: <list(3)> wikidata, labels, imageinfo\n",
      "  title: Supriya_Sule\n",
      "  what: human\n",
      "  wikibase: Q7645148\n",
      "  wikidata: <dict(13)> member of political party (P102), sex or ge...\n",
      "  wikidata_pageid: 7567144\n",
      "  wikidata_url: https://www.wikidata.org/wiki/Q7645148\n",
      "}\n",
      "www.wikidata.org (wikidata) Rajeev Satav\n"
     ]
    },
    {
     "name": "stdout",
     "output_type": "stream",
     "text": [
      "female (Q6581072) politician (Q82955) +1969-06-30T00:00:00Z\n",
      "Rajeev Satav Didn't find any data\n"
     ]
    },
    {
     "name": "stderr",
     "output_type": "stream",
     "text": [
      "www.wikidata.org (wikidata) Nabam Tuki\n",
      "www.wikidata.org (labels) Q15432|Q55018630|P18|P569|P19|Q10225|P3...\n",
      "en.wikipedia.org (imageinfo) File:Nabam Tuki.jpg\n",
      "Nabam Tuki (en) data\n",
      "{\n",
      "  claims: <dict(11)> P102, P569, P31, P21, P27, P106, P39, P3417, ...\n",
      "  description: <str(64)> Indian politician and Former Chief Minist...\n",
      "  image: <list(1)> {'file': 'File:Nabam Tuki.jpg', 'kind': 'wikida...\n",
      "  label: Nabam Tuki\n",
      "  labels: <dict(19)> Q15432, Q55018630, P18, P569, P19, Q10225, P3...\n",
      "  modified: <dict(1)> wikidata\n",
      "  requests: <list(3)> wikidata, labels, imageinfo\n",
      "  title: Nabam_Tuki\n",
      "  what: human\n",
      "  wikibase: Q3595251\n",
      "  wikidata: <dict(11)> member of political party (P102), date of b...\n",
      "  wikidata_pageid: 3423579\n",
      "  wikidata_url: https://www.wikidata.org/wiki/Q3595251\n",
      "}\n",
      "www.wikidata.org (wikidata) Arun Jaitley\n"
     ]
    },
    {
     "name": "stdout",
     "output_type": "stream",
     "text": [
      "male (Q6581097) politician (Q82955) +1964-07-07T00:00:00Z\n"
     ]
    },
    {
     "name": "stderr",
     "output_type": "stream",
     "text": [
      "www.wikidata.org (labels) Q18128071|Q40348|P1196|P509|Q3739104|Q9...\n",
      "www.wikidata.org (labels) P1559|Q7621877|Q6581097|P31|P27|Q668|P102\n",
      "en.wikipedia.org (imageinfo) File:The official photograph of the ...\n",
      "Arun Jaitley (en) data\n",
      "{\n",
      "  claims: <dict(30)> P21, P569, P102, P31, P106, P646, P27, P39, P...\n",
      "  description: Indian politician\n",
      "  image: <list(1)> {'file': 'File:The official photograph of the D...\n",
      "  label: Arun Jaitley\n",
      "  labels: <dict(57)> Q18128071, Q40348, P1196, P509, Q3739104, Q90...\n",
      "  modified: <dict(1)> wikidata\n",
      "  requests: <list(4)> wikidata, labels, labels, imageinfo\n",
      "  title: Arun_Jaitley\n",
      "  what: human\n",
      "  wikibase: Q3629480\n",
      "  wikidata: <dict(30)> sex or gender (P21), date of birth (P569), ...\n",
      "  wikidata_pageid: 3457052\n",
      "  wikidata_url: https://www.wikidata.org/wiki/Q3629480\n",
      "}\n",
      "www.wikidata.org (wikidata) Dilip Gandhi\n"
     ]
    },
    {
     "name": "stdout",
     "output_type": "stream",
     "text": [
      "male (Q6581097) ['politician (Q82955)', 'lawyer (Q40348)', 'spokesperson (Q17221)', 'strategist (Q7621877)'] +1952-12-28T00:00:00Z\n",
      "Dilip Gandhi Didn't find any data\n"
     ]
    },
    {
     "name": "stderr",
     "output_type": "stream",
     "text": [
      "www.wikidata.org (wikidata) P C Mohan\n"
     ]
    },
    {
     "name": "stdout",
     "output_type": "stream",
     "text": [
      "P C Mohan Didn't find any data\n"
     ]
    },
    {
     "name": "stderr",
     "output_type": "stream",
     "text": [
      "www.wikidata.org (wikidata) Dharmendra Pradhan\n",
      "www.wikidata.org (labels) P22|Q33810|P2013|Q17324844|P2002|P18|P5...\n",
      "en.wikipedia.org (imageinfo) File:Dharmendra Pradhan ଧର୍ମେନ୍ଦ୍ର ପ...\n",
      "Dharmendra Pradhan (en) data\n",
      "{\n",
      "  claims: <dict(17)> P102, P31, P19, P106, P27, P569, P39, P21, P2...\n",
      "  description: politician from Odisha, India\n",
      "  image: <list(1)> {'file': 'File:Dharmendra Pradhan ଧର୍ମେନ୍ଦ୍ର ପ୍...\n",
      "  label: Dharmendra Pradhan\n",
      "  labels: <dict(29)> P22, Q33810, P2013, Q17324844, P2002, P18, P5...\n",
      "  modified: <dict(1)> wikidata\n",
      "  requests: <list(3)> wikidata, labels, imageinfo\n",
      "  title: Dharmendra_Pradhan\n",
      "  what: human\n",
      "  wikibase: Q5269370\n",
      "  wikidata: <dict(17)> member of political party (P102), instance ...\n",
      "  wikidata_pageid: 5038856\n",
      "  wikidata_url: https://www.wikidata.org/wiki/Q5269370\n",
      "}\n",
      "www.wikidata.org (wikidata) Vijay Kumar Singh\n"
     ]
    },
    {
     "name": "stdout",
     "output_type": "stream",
     "text": [
      "male (Q6581097) politician (Q82955) +1969-06-26T00:00:00Z\n",
      "Vijay Kumar Singh Didn't find any data\n"
     ]
    },
    {
     "name": "stderr",
     "output_type": "stream",
     "text": [
      "www.wikidata.org (wikidata) Balka Suman\n",
      "www.wikidata.org (labels) P3602|P18|P569|Q2092358|P4978|P19|Q6398...\n",
      "en.wikipedia.org (imageinfo) File:Balka Suman.jpg\n",
      "Balka Suman (en) data\n",
      "{\n",
      "  claims: <dict(12)> P31, P39, P27, P106, P21, P102, P569, P4978, ...\n",
      "  description: Indian politician\n",
      "  image: <list(1)> {'file': 'File:Balka Suman.jpg', 'kind': 'wikid...\n",
      "  label: Balka Suman\n",
      "  labels: <dict(21)> P3602, P18, P569, Q2092358, P4978, P19, Q6398...\n",
      "  modified: <dict(1)> wikidata\n",
      "  requests: <list(3)> wikidata, labels, imageinfo\n",
      "  title: Balka_Suman\n",
      "  what: human\n",
      "  wikibase: Q16897825\n",
      "  wikidata: <dict(12)> instance of (P31), position held (P39), cou...\n",
      "  wikidata_pageid: 18497954\n",
      "  wikidata_url: https://www.wikidata.org/wiki/Q16897825\n",
      "}\n",
      "www.wikidata.org (wikidata) Vinod khanna\n"
     ]
    },
    {
     "name": "stdout",
     "output_type": "stream",
     "text": [
      "male (Q6581097) politician (Q82955) +1983-10-18T00:00:00Z\n",
      "Vinod khanna Didn't find any data\n"
     ]
    },
    {
     "name": "stderr",
     "output_type": "stream",
     "text": [
      "www.wikidata.org (wikidata) Shandilya Giriraj Singh\n"
     ]
    },
    {
     "name": "stdout",
     "output_type": "stream",
     "text": [
      "Shandilya Giriraj Singh Didn't find any data\n"
     ]
    },
    {
     "name": "stderr",
     "output_type": "stream",
     "text": [
      "www.wikidata.org (wikidata) A T Nana Patil M P\n"
     ]
    },
    {
     "name": "stdout",
     "output_type": "stream",
     "text": [
      "A T Nana Patil M P Didn't find any data\n"
     ]
    },
    {
     "name": "stderr",
     "output_type": "stream",
     "text": [
      "www.wikidata.org (wikidata) Rajan Vichare\n",
      "www.wikidata.org (labels) Q13119774|P3602|P18|P569|Q56051771|P19|...\n",
      "en.wikipedia.org (imageinfo) File:Rajanvichare img.jpg\n",
      "Rajan Vichare (en) data\n",
      "{\n",
      "  claims: <dict(10)> P31, P27, P39, P106, P21, P102, P569, P3602, ...\n",
      "  description: Indian politician\n",
      "  image: <list(1)> {'file': 'File:Rajanvichare img.jpg', 'kind': '...\n",
      "  label: Rajan Vichare\n",
      "  labels: <dict(20)> Q13119774, P3602, P18, P569, Q56051771, P19, ...\n",
      "  modified: <dict(1)> wikidata\n",
      "  requests: <list(3)> wikidata, labels, imageinfo\n",
      "  title: Rajan_Vichare\n",
      "  what: human\n",
      "  wikibase: Q16736907\n",
      "  wikidata: <dict(10)> instance of (P31), country of citizenship (...\n",
      "  wikidata_pageid: 18340980\n",
      "  wikidata_url: https://www.wikidata.org/wiki/Q16736907\n",
      "}\n",
      "www.wikidata.org (wikidata) Keshav Prasad Maurya\n"
     ]
    },
    {
     "name": "stdout",
     "output_type": "stream",
     "text": [
      "male (Q6581097) politician (Q82955) +1961-08-01T00:00:00Z\n"
     ]
    },
    {
     "name": "stderr",
     "output_type": "stream",
     "text": [
      "www.wikidata.org (labels) Q9089|P3602|Q2717592|P18|P569|Q63988890...\n",
      "en.wikipedia.org (imageinfo) File:Keshav Prasad Maurya.jpg\n",
      "Keshav Prasad Maurya (en) data\n",
      "{\n",
      "  claims: <dict(13)> P31, P102, P39, P106, P27, P21, P735, P18, P5...\n",
      "  description: Deputy CM of Uttar Pradesh\n",
      "  image: <list(1)> {'file': 'File:Keshav Prasad Maurya.jpg', 'kind...\n",
      "  label: Keshav Prasad Maurya\n",
      "  labels: <dict(23)> Q9089, P3602, Q2717592, P18, P569, Q63988890,...\n",
      "  modified: <dict(1)> wikidata\n",
      "  requests: <list(3)> wikidata, labels, imageinfo\n",
      "  title: Keshav_Prasad_Maurya\n",
      "  what: human\n",
      "  wikibase: Q16902180\n",
      "  wikidata: <dict(13)> instance of (P31), member of political part...\n",
      "  wikidata_pageid: 18502252\n",
      "  wikidata_url: https://www.wikidata.org/wiki/Q16902180\n",
      "}\n",
      "www.wikidata.org (wikidata) Ramcharan Bohra\n"
     ]
    },
    {
     "name": "stdout",
     "output_type": "stream",
     "text": [
      "male (Q6581097) politician (Q82955) +1969-05-07T00:00:00Z\n"
     ]
    },
    {
     "name": "stderr",
     "output_type": "stream",
     "text": [
      "www.wikidata.org (labels) P3602|P569|Q56051771|P4978|P19|Q6398866...\n",
      "Ramcharan Bohra (en) data\n",
      "{\n",
      "  claims: <dict(10)> P31, P39, P27, P106, P21, P569, P4978, P102, ...\n",
      "  description: Indian politician\n",
      "  label: Ramcharan Bohara\n",
      "  labels: <dict(19)> P3602, P569, Q56051771, P4978, P19, Q63988666...\n",
      "  modified: <dict(1)> wikidata\n",
      "  requests: <list(2)> wikidata, labels\n",
      "  title: Ramcharan_Bohra\n",
      "  what: human\n",
      "  wikibase: Q16902248\n",
      "  wikidata: <dict(10)> instance of (P31), position held (P39), cou...\n",
      "  wikidata_pageid: 18502320\n",
      "  wikidata_url: https://www.wikidata.org/wiki/Q16902248\n",
      "}\n",
      "www.wikidata.org (wikidata) Geetha Kothapalli\n"
     ]
    },
    {
     "name": "stdout",
     "output_type": "stream",
     "text": [
      "male (Q6581097) politician (Q82955) +1956-07-01T00:00:00Z\n",
      "Geetha Kothapalli Didn't find any data\n"
     ]
    },
    {
     "name": "stderr",
     "output_type": "stream",
     "text": [
      "www.wikidata.org (wikidata) Uma Bharti\n",
      "www.wikidata.org (labels) Q37309090|Q9089|Q63988886|P3602|Q245297...\n",
      "en.wikipedia.org (imageinfo) File:Uma Bharti, Pachmarhi, MP, crop.jpg\n",
      "Uma Bharti (en) data\n",
      "{\n",
      "  claims: <dict(20)> P21, P373, P214, P569, P31, P19, P102, P27, P...\n",
      "  description: Indian politician\n",
      "  image: <list(1)> {'file': 'File:Uma Bharti, Pachmarhi, MP, crop....\n",
      "  label: Uma Bharti\n",
      "  labels: <dict(36)> Q37309090, Q9089, Q63988886, P3602, Q24529702...\n",
      "  modified: <dict(1)> wikidata\n",
      "  requests: <list(3)> wikidata, labels, imageinfo\n",
      "  title: Uma_Bharti\n",
      "  what: human\n",
      "  wikibase: Q3109128\n",
      "  wikidata: <dict(20)> sex or gender (P21), Commons category (P373...\n",
      "  wikidata_pageid: 2971017\n",
      "  wikidata_url: https://www.wikidata.org/wiki/Q3109128\n",
      "}\n",
      "www.wikidata.org (wikidata) Dr. Sakshi Ji Maharaj\n"
     ]
    },
    {
     "name": "stdout",
     "output_type": "stream",
     "text": [
      "female (Q6581072) politician (Q82955) +1959-05-03T00:00:00Z\n",
      "Dr. Sakshi Ji Maharaj Didn't find any data\n"
     ]
    },
    {
     "name": "stderr",
     "output_type": "stream",
     "text": [
      "www.wikidata.org (wikidata) Yogendra Yadav\n",
      "www.wikidata.org (labels) Q129844|P3602|P2013|Q7399515|P2002|P18|...\n",
      "en.wikipedia.org (imageinfo) File:Yogendra Yadav.jpg\n",
      "Yogendra Yadav (en) data\n",
      "{\n",
      "  claims: <dict(17)> P31, P21, P106, P27, P18, P2002, P2013, P646,...\n",
      "  description: Indian social scientist, psephologist and politician\n",
      "  image: <list(1)> {'file': 'File:Yogendra Yadav.jpg', 'kind': 'wi...\n",
      "  label: Yogendra Yadav\n",
      "  labels: <dict(27)> Q129844, P3602, P2013, Q7399515, P2002, P18, ...\n",
      "  modified: <dict(1)> wikidata\n",
      "  requests: <list(3)> wikidata, labels, imageinfo\n",
      "  title: Yogendra_Yadav\n",
      "  what: human\n",
      "  wikibase: Q8054365\n",
      "  wikidata: <dict(17)> instance of (P31), sex or gender (P21), occ...\n",
      "  wikidata_pageid: 8002404\n",
      "  wikidata_url: https://www.wikidata.org/wiki/Q8054365\n",
      "}\n",
      "www.wikidata.org (wikidata) Arjun Munda\n"
     ]
    },
    {
     "name": "stdout",
     "output_type": "stream",
     "text": [
      "male (Q6581097) ['politician (Q82955)', 'psephologist (Q20879352)'] +1963-09-05T00:00:00Z\n"
     ]
    },
    {
     "name": "stderr",
     "output_type": "stream",
     "text": [
      "www.wikidata.org (labels) Q9089|Q24525324|P18|P569|P19|Q56051771|...\n",
      "en.wikipedia.org (imageinfo) File:Arjun Munda 8992.JPG\n",
      "Arjun Munda (en) data\n",
      "{\n",
      "  claims: <dict(14)> P373, P102, P31, P19, P106, P569, P27, P39, P...\n",
      "  description: Indian politician\n",
      "  image: <list(1)> {'file': 'File:Arjun Munda 8992.JPG', 'kind': '...\n",
      "  label: Arjun Munda\n",
      "  labels: <dict(25)> Q9089, Q24525324, P18, P569, P19, Q56051771, ...\n",
      "  modified: <dict(1)> wikidata\n",
      "  requests: <list(3)> wikidata, labels, imageinfo\n",
      "  title: Arjun_Munda\n",
      "  what: human\n",
      "  wikibase: Q3520052\n",
      "  wikidata: <dict(14)> Commons category (P373), member of politica...\n",
      "  wikidata_pageid: 3351547\n",
      "  wikidata_url: https://www.wikidata.org/wiki/Q3520052\n",
      "}\n",
      "www.wikidata.org (wikidata) Konda Vishweshwar Reddy\n"
     ]
    },
    {
     "name": "stdout",
     "output_type": "stream",
     "text": [
      "male (Q6581097) politician (Q82955) +1968-01-05T00:00:00Z\n"
     ]
    },
    {
     "name": "stderr",
     "output_type": "stream",
     "text": [
      "www.wikidata.org (labels) P3602|P2013|Q1361|P18|P569|P26|Q6256812...\n",
      "en.wikipedia.org (imageinfo) File:Konda Vishweshwar Reddy.jpg\n",
      "Konda Vishweshwar Reddy (en) data\n",
      "{\n",
      "  claims: <dict(13)> P31, P39, P27, P106, P21, P569, P102, P2013, ...\n",
      "  description: Indian politician\n",
      "  image: <list(1)> {'file': 'File:Konda Vishweshwar Reddy.jpg', 'k...\n",
      "  label: Konda Vishweshwar Reddy\n",
      "  labels: <dict(22)> P3602, P2013, Q1361, P18, P569, P26, Q6256812...\n",
      "  modified: <dict(1)> wikidata\n",
      "  requests: <list(3)> wikidata, labels, imageinfo\n",
      "  title: Konda_Vishweshwar_Reddy\n",
      "  what: human\n",
      "  wikibase: Q16897896\n",
      "  wikidata: <dict(13)> instance of (P31), position held (P39), cou...\n",
      "  wikidata_pageid: 18498026\n",
      "  wikidata_url: https://www.wikidata.org/wiki/Q16897896\n",
      "}\n",
      "www.wikidata.org (wikidata) Ramesh Bidhuri\n"
     ]
    },
    {
     "name": "stdout",
     "output_type": "stream",
     "text": [
      "male (Q6581097) politician (Q82955) +1960-02-26T00:00:00Z\n"
     ]
    },
    {
     "name": "stderr",
     "output_type": "stream",
     "text": [
      "www.wikidata.org (labels) Q24461612|P3602|P569|Q7461533|Q56051771...\n",
      "Ramesh Bidhuri (en) data\n",
      "{\n",
      "  claims: <dict(14)> P31, P27, P39, P106, P21, P569, P735, P19, P1...\n",
      "  description: Indian politician\n",
      "  label: Ramesh Bidhuri\n",
      "  labels: <dict(27)> Q24461612, P3602, P569, Q7461533, Q56051771, ...\n",
      "  modified: <dict(1)> wikidata\n",
      "  requests: <list(2)> wikidata, labels\n",
      "  title: Ramesh_Bidhuri\n",
      "  what: human\n",
      "  wikibase: Q16193959\n",
      "  wikidata: <dict(14)> instance of (P31), country of citizenship (...\n",
      "  wikidata_pageid: 17820380\n",
      "  wikidata_url: https://www.wikidata.org/wiki/Q16193959\n",
      "}\n",
      "www.wikidata.org (wikidata) Prakash Javadekar\n"
     ]
    },
    {
     "name": "stdout",
     "output_type": "stream",
     "text": [
      "male (Q6581097) politician (Q82955) +1961-07-18T00:00:00Z\n"
     ]
    },
    {
     "name": "stderr",
     "output_type": "stream",
     "text": [
      "www.wikidata.org (labels) Q17221|P2013|Q1583195|Q3135913|Q1732484...\n",
      "en.wikipedia.org (imageinfo) File:Shri Prakash Javadekar, Ministe...\n",
      "Prakash Javadekar (en) data\n",
      "{\n",
      "  claims: <dict(18)> P373, P19, P102, P31, P106, P27, P569, P21, P...\n",
      "  description: Indian politician\n",
      "  image: <list(1)> {'file': 'File:Shri Prakash Javadekar, Minister...\n",
      "  label: Prakash Javadekar\n",
      "  labels: <dict(33)> Q17221, P2013, Q1583195, Q3135913, Q17324844,...\n",
      "  modified: <dict(1)> wikidata\n",
      "  requests: <list(3)> wikidata, labels, imageinfo\n",
      "  title: Prakash_Javadekar\n",
      "  what: human\n",
      "  wikibase: Q7238178\n",
      "  wikidata: <dict(18)> Commons category (P373), place of birth (P1...\n",
      "  wikidata_pageid: 7141373\n",
      "  wikidata_url: https://www.wikidata.org/wiki/Q7238178\n",
      "}\n",
      "www.wikidata.org (wikidata) Pon Radhakrishnan\n"
     ]
    },
    {
     "name": "stdout",
     "output_type": "stream",
     "text": [
      "male (Q6581097) ['politician (Q82955)', 'spokesperson (Q17221)'] +1951-01-30T00:00:00Z\n"
     ]
    },
    {
     "name": "stderr",
     "output_type": "stream",
     "text": [
      "www.wikidata.org (labels) P3602|P18|P569|P19|Q847606|Q10230|Q4251...\n",
      "en.wikipedia.org (imageinfo) File:Ponji.jpeg\n",
      "Pon Radhakrishnan (en) data\n",
      "{\n",
      "  claims: <dict(12)> P102, P31, P106, P27, P39, P21, P569, P373, P...\n",
      "  description: Indian politician\n",
      "  image: <list(1)> {'file': 'File:Ponji.jpeg', 'kind': 'wikidata-i...\n",
      "  label: Pon Radhakrishnan\n",
      "  labels: <dict(22)> P3602, P18, P569, P19, Q847606, Q10230, Q4251...\n",
      "  modified: <dict(1)> wikidata\n",
      "  requests: <list(3)> wikidata, labels, imageinfo\n",
      "  title: Pon_Radhakrishnan\n",
      "  what: human\n",
      "  wikibase: Q7227546\n",
      "  wikidata: <dict(12)> member of political party (P102), instance ...\n",
      "  wikidata_pageid: 7129997\n",
      "  wikidata_url: https://www.wikidata.org/wiki/Q7227546\n",
      "}\n",
      "www.wikidata.org (wikidata) Tarun Gogoi\n"
     ]
    },
    {
     "name": "stdout",
     "output_type": "stream",
     "text": [
      "male (Q6581097) politician (Q82955) +1952-03-01T00:00:00Z\n"
     ]
    },
    {
     "name": "stderr",
     "output_type": "stream",
     "text": [
      "www.wikidata.org (labels) Q4475791|Q21191662|Q7292604|P3602|P40|P...\n",
      "en.wikipedia.org (imageinfo) File:Tarun Gogoi - Kolkata 2013-02-1...\n",
      "Tarun Gogoi (en) data\n",
      "{\n",
      "  claims: <dict(17)> P102, P69, P31, P39, P569, P18, P27, P21, P10...\n",
      "  description: former Chief Minister of the state of Assam in India\n",
      "  image: <list(1)> {'file': 'File:Tarun Gogoi - Kolkata 2013-02-10...\n",
      "  label: Tarun Gogoi\n",
      "  labels: <dict(33)> Q4475791, Q21191662, Q7292604, P3602, P40, P2...\n",
      "  modified: <dict(1)> wikidata\n",
      "  requests: <list(3)> wikidata, labels, imageinfo\n",
      "  title: Tarun_Gogoi\n",
      "  what: human\n",
      "  wikibase: Q3349343\n",
      "  wikidata: <dict(17)> member of political party (P102), educated ...\n",
      "  wikidata_pageid: 3192636\n",
      "  wikidata_url: https://www.wikidata.org/wiki/Q3349343\n",
      "}\n",
      "www.wikidata.org (wikidata) Jual Oram\n"
     ]
    },
    {
     "name": "stdout",
     "output_type": "stream",
     "text": [
      "male (Q6581097) politician (Q82955) +1936-04-01T00:00:00Z\n"
     ]
    },
    {
     "name": "stderr",
     "output_type": "stream",
     "text": [
      "www.wikidata.org (labels) Q63988574|Q33810|Q9089|P3602|P18|P569|P...\n",
      "en.wikipedia.org (imageinfo) File:Jual Oram addressing a meeting ...\n",
      "Jual Oram (en) data\n",
      "{\n",
      "  claims: <dict(15)> P102, P31, P19, P140, P106, P27, P569, P39, P...\n",
      "  description: politician from Odisha, India\n",
      "  image: <list(1)> {'file': 'File:Jual Oram addressing a meeting o...\n",
      "  label: Jual Oram\n",
      "  labels: <dict(30)> Q63988574, Q33810, Q9089, P3602, P18, P569, P...\n",
      "  modified: <dict(1)> wikidata\n",
      "  requests: <list(3)> wikidata, labels, imageinfo\n",
      "  title: Jual_Oram\n",
      "  what: human\n",
      "  wikibase: Q6298726\n",
      "  wikidata: <dict(15)> member of political party (P102), instance ...\n",
      "  wikidata_pageid: 6104919\n",
      "  wikidata_url: https://www.wikidata.org/wiki/Q6298726\n",
      "}\n",
      "www.wikidata.org (wikidata) Bhagwant Khuba\n"
     ]
    },
    {
     "name": "stdout",
     "output_type": "stream",
     "text": [
      "male (Q6581097) politician (Q82955) +1961-03-22T00:00:00Z\n",
      "Bhagwant Khuba Didn't find any data\n"
     ]
    },
    {
     "name": "stderr",
     "output_type": "stream",
     "text": [
      "www.wikidata.org (wikidata) Devusinh Chauhan\n"
     ]
    },
    {
     "name": "stdout",
     "output_type": "stream",
     "text": [
      "Devusinh Chauhan Didn't find any data\n"
     ]
    },
    {
     "name": "stderr",
     "output_type": "stream",
     "text": [
      "www.wikidata.org (wikidata) Alok Sanjar\n",
      "www.wikidata.org (labels) P3602|P18|P569|P4978|P19|Q80989|Q639884...\n",
      "en.wikipedia.org (imageinfo) File:Alok Sanjar - Kolkata 2017-07-1...\n",
      "Alok Sanjar (en) data\n",
      "{\n",
      "  claims: <dict(13)> P31, P39, P21, P106, P27, P735, P569, P102, P...\n",
      "  description: Indian politician\n",
      "  image: <list(1)> {'file': 'File:Alok Sanjar - Kolkata 2017-07-10...\n",
      "  label: Alok Sanjar\n",
      "  labels: <dict(23)> P3602, P18, P569, P4978, P19, Q80989, Q639884...\n",
      "  modified: <dict(1)> wikidata\n",
      "  requests: <list(3)> wikidata, labels, imageinfo\n",
      "  title: Alok_Sanjar\n",
      "  what: human\n",
      "  wikibase: Q16902081\n",
      "  wikidata: <dict(13)> instance of (P31), position held (P39), sex...\n",
      "  wikidata_pageid: 18502153\n",
      "  wikidata_url: https://www.wikidata.org/wiki/Q16902081\n",
      "}\n",
      "www.wikidata.org (wikidata) Kirti Azad\n"
     ]
    },
    {
     "name": "stdout",
     "output_type": "stream",
     "text": [
      "male (Q6581097) politician (Q82955) +1963-04-04T00:00:00Z\n"
     ]
    },
    {
     "name": "stderr",
     "output_type": "stream",
     "text": [
      "www.wikidata.org (labels) P22|Q4900694|P2698|P641|P3602|Q665105|Q...\n",
      "Kirti Azad (en) data\n",
      "{\n",
      "  claims: <dict(17)> P22, P31, P106, P27, P569, P21, P39, P102, P6...\n",
      "  description: cricketer\n",
      "  label: Kirti Azad\n",
      "  labels: <dict(31)> P22, Q4900694, P2698, P641, P3602, Q665105, Q...\n",
      "  modified: <dict(1)> wikidata\n",
      "  requests: <list(2)> wikidata, labels\n",
      "  title: Kirti_Azad\n",
      "  what: human\n",
      "  wikibase: Q2728260\n",
      "  wikidata: <dict(17)> father (P22), instance of (P31), occupation...\n",
      "  wikidata_pageid: 2621075\n",
      "  wikidata_url: https://www.wikidata.org/wiki/Q2728260\n",
      "}\n",
      "www.wikidata.org (wikidata) Dr. Mahesh Sharma\n"
     ]
    },
    {
     "name": "stdout",
     "output_type": "stream",
     "text": [
      "male (Q6581097) ['politician (Q82955)', 'cricketer (Q12299841)'] +1959-01-02T00:00:00Z\n",
      "Dr. Mahesh Sharma Didn't find any data\n"
     ]
    },
    {
     "name": "stderr",
     "output_type": "stream",
     "text": [
      "www.wikidata.org (wikidata) Parvesh Sahib Singh\n"
     ]
    },
    {
     "name": "stdout",
     "output_type": "stream",
     "text": [
      "Parvesh Sahib Singh Didn't find any data\n"
     ]
    },
    {
     "name": "stderr",
     "output_type": "stream",
     "text": [
      "www.wikidata.org (wikidata) Maheish Girri\n",
      "www.wikidata.org (labels) P3602|P2013|P2002|P18|P569|P4978|P19|Q1...\n",
      "en.wikipedia.org (imageinfo) File:Maheish Girri.jpg\n",
      "Maheish Girri (en) data\n",
      "{\n",
      "  claims: <dict(15)> P31, P27, P39, P106, P21, P569, P102, P2002, ...\n",
      "  description: Indian politician\n",
      "  image: <list(1)> {'file': 'File:Maheish Girri.jpg', 'kind': 'wik...\n",
      "  label: Maheish Girri\n",
      "  labels: <dict(24)> P3602, P2013, P2002, P18, P569, P4978, P19, Q...\n",
      "  modified: <dict(1)> wikidata\n",
      "  requests: <list(3)> wikidata, labels, imageinfo\n",
      "  title: Maheish_Girri\n",
      "  what: human\n",
      "  wikibase: Q16214853\n",
      "  wikidata: <dict(15)> instance of (P31), country of citizenship (...\n",
      "  wikidata_pageid: 17841835\n",
      "  wikidata_url: https://www.wikidata.org/wiki/Q16214853\n",
      "}\n",
      "www.wikidata.org (wikidata) Nalinkumar Kateel\n"
     ]
    },
    {
     "name": "stdout",
     "output_type": "stream",
     "text": [
      "male (Q6581097) politician (Q82955) +1974-02-08T00:00:00Z\n",
      "Nalinkumar Kateel Didn't find any data\n"
     ]
    },
    {
     "name": "stderr",
     "output_type": "stream",
     "text": [
      "www.wikidata.org (wikidata) Dr. Udit Raj\n"
     ]
    },
    {
     "name": "stdout",
     "output_type": "stream",
     "text": [
      "Dr. Udit Raj Didn't find any data\n"
     ]
    },
    {
     "name": "stderr",
     "output_type": "stream",
     "text": [
      "www.wikidata.org (wikidata) Sushmita Dev\n",
      "www.wikidata.org (labels) Q9089|P3602|Q944769|Q665105|P569|Q24524...\n",
      "Sushmita Dev (en) data\n",
      "{\n",
      "  claims: <dict(14)> P31, P39, P27, P106, P21, P569, P69, P19, P10...\n",
      "  description: Indian politician\n",
      "  label: Sushmita Dev\n",
      "  labels: <dict(25)> Q9089, P3602, Q944769, Q665105, P569, Q245247...\n",
      "  modified: <dict(1)> wikidata\n",
      "  requests: <list(2)> wikidata, labels\n",
      "  title: Sushmita_Dev\n",
      "  what: human\n",
      "  wikibase: Q16901284\n",
      "  wikidata: <dict(14)> instance of (P31), position held (P39), cou...\n",
      "  wikidata_pageid: 18501358\n",
      "  wikidata_url: https://www.wikidata.org/wiki/Q16901284\n",
      "}\n",
      "www.wikidata.org (wikidata) Anandiben Patel\n"
     ]
    },
    {
     "name": "stdout",
     "output_type": "stream",
     "text": [
      "female (Q6581072) politician (Q82955) +1976-01-01T00:00:00Z\n"
     ]
    },
    {
     "name": "stderr",
     "output_type": "stream",
     "text": [
      "www.wikidata.org (labels) Q9089|Q17324844|Q17582810|P569|P18|P19|...\n",
      "en.wikipedia.org (imageinfo) File:Anandiben Patel BJP.jpg\n",
      "Anandiben Patel (en) data\n",
      "{\n",
      "  claims: <dict(15)> P19, P21, P31, P27, P106, P569, P140, P856, P...\n",
      "  description: Indian politician and Governer of Uttar Pradesh\n",
      "  image: <list(1)> {'file': 'File:Anandiben Patel BJP.jpg', 'kind'...\n",
      "  label: Anandiben Patel\n",
      "  labels: <dict(28)> Q9089, Q17324844, Q17582810, P569, P18, P19, ...\n",
      "  modified: <dict(1)> wikidata\n",
      "  requests: <list(3)> wikidata, labels, imageinfo\n",
      "  title: Anandiben_Patel\n",
      "  what: human\n",
      "  wikibase: Q4751365\n",
      "  wikidata: <dict(15)> place of birth (P19), sex or gender (P21), ...\n",
      "  wikidata_pageid: 4540241\n",
      "  wikidata_url: https://www.wikidata.org/wiki/Q4751365\n",
      "}\n",
      "www.wikidata.org (wikidata) Meenakshi Lekhi\n"
     ]
    },
    {
     "name": "stdout",
     "output_type": "stream",
     "text": [
      "female (Q6581072) politician (Q82955) +1941-11-21T00:00:00Z\n"
     ]
    },
    {
     "name": "stderr",
     "output_type": "stream",
     "text": [
      "www.wikidata.org (labels) Q40348|P3602|P2002|P18|P569|P26|Q560517...\n",
      "en.wikipedia.org (imageinfo) File:Meenakshi Lekhi.jpg\n",
      "Meenakshi Lekhi (en) data\n",
      "{\n",
      "  claims: <dict(17)> P21, P31, P27, P106, P102, P39, P569, P2002, ...\n",
      "  description: Indian politician\n",
      "  image: <list(1)> {'file': 'File:Meenakshi Lekhi.jpg', 'kind': 'w...\n",
      "  label: Meenakshi Lekhi\n",
      "  labels: <dict(30)> Q40348, P3602, P2002, P18, P569, P26, Q560517...\n",
      "  modified: <dict(1)> wikidata\n",
      "  requests: <list(3)> wikidata, labels, imageinfo\n",
      "  title: Meenakshi_Lekhi\n",
      "  what: human\n",
      "  wikibase: Q15113996\n",
      "  wikidata: <dict(17)> sex or gender (P21), instance of (P31), cou...\n",
      "  wikidata_pageid: 16775393\n",
      "  wikidata_url: https://www.wikidata.org/wiki/Q15113996\n",
      "}\n",
      "www.wikidata.org (wikidata) Dr. Raman Singh\n"
     ]
    },
    {
     "name": "stdout",
     "output_type": "stream",
     "text": [
      "female (Q6581072) ['politician (Q82955)', 'lawyer (Q40348)'] +1967-04-30T00:00:00Z\n",
      "Dr. Raman Singh Didn't find any data\n"
     ]
    },
    {
     "name": "stderr",
     "output_type": "stream",
     "text": [
      "www.wikidata.org (wikidata) Digvijya Singh\n"
     ]
    },
    {
     "name": "stdout",
     "output_type": "stream",
     "text": [
      "Digvijya Singh Didn't find any data\n"
     ]
    },
    {
     "name": "stderr",
     "output_type": "stream",
     "text": [
      "www.wikidata.org (wikidata) Atishi\n",
      "www.wikidata.org (labels) Q129844|Q5289309|Q81162|P2002|P18|P569|...\n",
      "en.wikipedia.org (imageinfo) File:Atishi Marlena.jpg\n",
      "Atishi (en) data\n",
      "{\n",
      "  claims: <dict(11)> P31, P21, P69, P19, P569, P27, P18, P166, P10...\n",
      "  description: Indian politician\n",
      "  image: <list(1)> {'file': 'File:Atishi Marlena.jpg', 'kind': 'wi...\n",
      "  label: Atishi Marlena\n",
      "  labels: <dict(20)> Q129844, Q5289309, Q81162, P2002, P18, P569, ...\n",
      "  modified: <dict(1)> wikidata\n",
      "  requests: <list(3)> wikidata, labels, imageinfo\n",
      "  title: Atishi\n",
      "  what: human\n",
      "  wikibase: Q19559992\n",
      "  wikidata: <dict(11)> instance of (P31), sex or gender (P21), edu...\n",
      "  wikidata_pageid: 21167933\n",
      "  wikidata_url: https://www.wikidata.org/wiki/Q19559992\n",
      "}\n",
      "www.wikidata.org (wikidata) Naveen Jindal\n"
     ]
    },
    {
     "name": "stdout",
     "output_type": "stream",
     "text": [
      "female (Q6581072) politician (Q82955) +1981-06-08T00:00:00Z\n"
     ]
    },
    {
     "name": "stderr",
     "output_type": "stream",
     "text": [
      "www.wikidata.org (labels) P641|Q9089|Q206989|P3602|Q63988243|Q665...\n",
      "en.wikipedia.org (imageinfo) File:Naveen Jindal at the India Econ...\n",
      "Naveen Jindal (en) data\n",
      "{\n",
      "  claims: <dict(20)> P102, P69, P31, P19, P140, P569, P18, P106, P...\n",
      "  description: Indian politician\n",
      "  image: <list(1)> {'file': 'File:Naveen Jindal at the India Econo...\n",
      "  label: Naveen Jindal\n",
      "  labels: <dict(42)> P641, Q9089, Q206989, P3602, Q63988243, Q6651...\n",
      "  modified: <dict(1)> wikidata\n",
      "  requests: <list(3)> wikidata, labels, imageinfo\n",
      "  title: Naveen_Jindal\n",
      "  what: human\n",
      "  wikibase: Q7077154\n",
      "  wikidata: <dict(20)> member of political party (P102), educated ...\n",
      "  wikidata_pageid: 6970066\n",
      "  wikidata_url: https://www.wikidata.org/wiki/Q7077154\n",
      "}\n",
      "www.wikidata.org (wikidata) Syed Shahnawaz Hussain\n"
     ]
    },
    {
     "name": "stdout",
     "output_type": "stream",
     "text": [
      "male (Q6581097) politician (Q82955) +1970-03-09T00:00:00Z\n"
     ]
    },
    {
     "name": "stderr",
     "output_type": "stream",
     "text": [
      "www.wikidata.org (labels) P3602|P2013|P2002|P18|P569|P19|Q10230|Q...\n",
      "en.wikipedia.org (imageinfo) File:The Union Minister for Textiles...\n",
      "Syed Shahnawaz Hussain (en) data\n",
      "{\n",
      "  claims: <dict(17)> P102, P31, P19, P140, P106, P27, P569, P39, P...\n",
      "  description: Indian politician\n",
      "  image: <list(1)> {'file': 'File:The Union Minister for Textiles ...\n",
      "  label: Syed Shahnawaz Hussain\n",
      "  labels: <dict(28)> P3602, P2013, P2002, P18, P569, P19, Q10230, ...\n",
      "  modified: <dict(1)> wikidata\n",
      "  requests: <list(3)> wikidata, labels, imageinfo\n",
      "  title: Syed_Shahnawaz_Hussain\n",
      "  what: human\n",
      "  wikibase: Q7660441\n",
      "  wikidata: <dict(17)> member of political party (P102), instance ...\n",
      "  wikidata_pageid: 7583629\n",
      "  wikidata_url: https://www.wikidata.org/wiki/Q7660441\n",
      "}\n",
      "www.wikidata.org (wikidata) Manohar Parrikar Memorial\n"
     ]
    },
    {
     "name": "stdout",
     "output_type": "stream",
     "text": [
      "male (Q6581097) politician (Q82955) +1968-12-12T00:00:00Z\n",
      "Manohar Parrikar Memorial Didn't find any data\n"
     ]
    },
    {
     "name": "stderr",
     "output_type": "stream",
     "text": [
      "www.wikidata.org (wikidata) Asaduddin Owaisi\n",
      "www.wikidata.org (labels) P3602|Q1361|P2002|P18|P569|Q2092358|P19...\n",
      "en.wikipedia.org (imageinfo) File:Asaduddin Owaisi (24 December 2...\n",
      "Asaduddin Owaisi (en) data\n",
      "{\n",
      "  claims: <dict(16)> P102, P31, P19, P569, P106, P27, P39, P21, P6...\n",
      "  description: Indian politician\n",
      "  image: <list(1)> {'file': 'File:Asaduddin Owaisi (24 December 20...\n",
      "  label: Asaduddin Owaisi\n",
      "  labels: <dict(30)> P3602, Q1361, P2002, P18, P569, Q2092358, P19...\n",
      "  modified: <dict(1)> wikidata\n",
      "  requests: <list(3)> wikidata, labels, imageinfo\n",
      "  title: Asaduddin_Owaisi\n",
      "  what: human\n",
      "  wikibase: Q3210225\n",
      "  wikidata: <dict(16)> member of political party (P102), instance ...\n",
      "  wikidata_pageid: 3065181\n",
      "  wikidata_url: https://www.wikidata.org/wiki/Q3210225\n",
      "}\n",
      "www.wikidata.org (wikidata) Milind Deora\n"
     ]
    },
    {
     "name": "stdout",
     "output_type": "stream",
     "text": [
      "male (Q6581097) politician (Q82955) +1969-05-13T00:00:00Z\n"
     ]
    },
    {
     "name": "stderr",
     "output_type": "stream",
     "text": [
      "www.wikidata.org (labels) P22|Q63988508|P3602|Q56257180|P18|P569|...\n",
      "en.wikipedia.org (imageinfo) File:Milind Deora.JPG\n",
      "Milind Deora (en) data\n",
      "{\n",
      "  claims: <dict(17)> P69, P31, P27, P39, P18, P22, P106, P21, P569...\n",
      "  description: Indian politician\n",
      "  image: <list(1)> {'file': 'File:Milind Deora.JPG', 'kind': 'wiki...\n",
      "  label: Milind Murli Deora\n",
      "  labels: <dict(33)> P22, Q63988508, P3602, Q56257180, P18, P569, ...\n",
      "  modified: <dict(1)> wikidata\n",
      "  requests: <list(3)> wikidata, labels, imageinfo\n",
      "  title: Milind_Deora\n",
      "  what: human\n",
      "  wikibase: Q16215749\n",
      "  wikidata: <dict(17)> educated at (P69), instance of (P31), count...\n",
      "  wikidata_pageid: 17842700\n",
      "  wikidata_url: https://www.wikidata.org/wiki/Q16215749\n",
      "}\n",
      "www.wikidata.org (wikidata) Baijayant Jay Panda\n"
     ]
    },
    {
     "name": "stdout",
     "output_type": "stream",
     "text": [
      "male (Q6581097) politician (Q82955) +1976-12-04T00:00:00Z\n",
      "Baijayant Jay Panda Didn't find any data\n"
     ]
    },
    {
     "name": "stderr",
     "output_type": "stream",
     "text": [
      "www.wikidata.org (wikidata) Shivajirao Adhalrao\n"
     ]
    },
    {
     "name": "stdout",
     "output_type": "stream",
     "text": [
      "Shivajirao Adhalrao Didn't find any data\n"
     ]
    },
    {
     "name": "stderr",
     "output_type": "stream",
     "text": [
      "www.wikidata.org (wikidata) Sanjay Singh AAP\n"
     ]
    },
    {
     "name": "stdout",
     "output_type": "stream",
     "text": [
      "Sanjay Singh AAP Didn't find any data\n"
     ]
    },
    {
     "name": "stderr",
     "output_type": "stream",
     "text": [
      "www.wikidata.org (wikidata) C R Paatil\n"
     ]
    },
    {
     "name": "stdout",
     "output_type": "stream",
     "text": [
      "C R Paatil Didn't find any data\n"
     ]
    },
    {
     "name": "stderr",
     "output_type": "stream",
     "text": [
      "www.wikidata.org (wikidata) Sewak Pappu Yadav\n"
     ]
    },
    {
     "name": "stdout",
     "output_type": "stream",
     "text": [
      "Sewak Pappu Yadav Didn't find any data\n"
     ]
    },
    {
     "name": "stderr",
     "output_type": "stream",
     "text": [
      "www.wikidata.org (wikidata) Raju Shetti\n",
      "www.wikidata.org (labels) P3602|Q7652855|P569|Q7498928|P19|P4978|...\n",
      "Raju Shetti (en) data\n",
      "{\n",
      "  claims: <dict(12)> P102, P31, P106, P27, P569, P39, P21, P735, P...\n",
      "  description: Indian politician\n",
      "  label: Raju Shetti\n",
      "  labels: <dict(24)> P3602, Q7652855, P569, Q7498928, P19, P4978, ...\n",
      "  modified: <dict(1)> wikidata\n",
      "  requests: <list(2)> wikidata, labels\n",
      "  title: Raju_Shetti\n",
      "  what: human\n",
      "  wikibase: Q7286475\n",
      "  wikidata: <dict(12)> member of political party (P102), instance ...\n",
      "  wikidata_pageid: 7191070\n",
      "  wikidata_url: https://www.wikidata.org/wiki/Q7286475\n",
      "}\n",
      "www.wikidata.org (wikidata) Manohar Lal\n"
     ]
    },
    {
     "name": "stdout",
     "output_type": "stream",
     "text": [
      "male (Q6581097) politician (Q82955) +1967-06-01T00:00:00Z\n"
     ]
    },
    {
     "name": "stderr",
     "output_type": "stream",
     "text": [
      "www.wikidata.org (labels) P569|Q18039836|P21|P69|P106|P735|Q82955...\n",
      "Manohar Lal (en) data\n",
      "{\n",
      "  claims: <dict(8)> P31, P21, P39, P106, P27, P69, P569, P735\n",
      "  description: Indian politician\n",
      "  label: Manohar Lal\n",
      "  labels: <dict(17)> P569, Q18039836, P21, P69, P106, P735, Q82955...\n",
      "  modified: <dict(1)> wikidata\n",
      "  requests: <list(2)> wikidata, labels\n",
      "  title: Manohar_Lal\n",
      "  what: human\n",
      "  wikibase: Q16980027\n",
      "  wikidata: <dict(8)> instance of (P31), sex or gender (P21), posi...\n",
      "  wikidata_pageid: 18583955\n",
      "  wikidata_url: https://www.wikidata.org/wiki/Q16980027\n",
      "}\n",
      "www.wikidata.org (wikidata) Ravneet Singh Bittu\n"
     ]
    },
    {
     "name": "stdout",
     "output_type": "stream",
     "text": [
      "male (Q6581097) politician (Q82955) +1938-06-03T00:00:00Z\n"
     ]
    },
    {
     "name": "stderr",
     "output_type": "stream",
     "text": [
      "www.wikidata.org (labels) Q2586558|P3602|P18|P569|Q56051771|P19|P...\n",
      "en.wikipedia.org (imageinfo) File:Ravneet Singh Bittu.jpg\n",
      "Ravneet Singh Bittu (en) data\n",
      "{\n",
      "  aliases: <list(1)> Ravneet Singh Bittu\n",
      "  claims: <dict(12)> P102, P31, P106, P27, P39, P21, P19, P569, P4...\n",
      "  description: Indian politician\n",
      "  image: <list(1)> {'file': 'File:Ravneet Singh Bittu.jpg', 'kind'...\n",
      "  label: Ravneet Singh\n",
      "  labels: <dict(23)> Q2586558, P3602, P18, P569, Q56051771, P19, P...\n",
      "  modified: <dict(1)> wikidata\n",
      "  requests: <list(3)> wikidata, labels, imageinfo\n",
      "  title: Ravneet_Singh_Bittu\n",
      "  what: human\n",
      "  wikibase: Q7296806\n",
      "  wikidata: <dict(12)> member of political party (P102), instance ...\n",
      "  wikidata_pageid: 7202033\n",
      "  wikidata_url: https://www.wikidata.org/wiki/Q7296806\n",
      "}\n",
      "www.wikidata.org (wikidata) Vincent\n"
     ]
    },
    {
     "name": "stdout",
     "output_type": "stream",
     "text": [
      "male (Q6581097) politician (Q82955) +1975-09-10T00:00:00Z\n"
     ]
    },
    {
     "name": "stderr",
     "output_type": "stream",
     "text": [
      "www.wikidata.org (labels) Q20000643|Q7411|Q21061294|Q18402209|P28...\n",
      "Vincent (en) data\n",
      "{\n",
      "  aliases: <list(2)> Vincent (first name), Vincent (given name)\n",
      "  claims: <dict(20)> P460, P31, P1750, P1888, P373, P1533, P407, P...\n",
      "  description: male given name\n",
      "  label: Vincent\n",
      "  labels: <dict(48)> Q20000643, Q7411, Q21061294, Q18402209, P282,...\n",
      "  modified: <dict(1)> wikidata\n",
      "  requests: <list(2)> wikidata, labels\n",
      "  title: Vincent\n",
      "  what: male given name\n",
      "  wikibase: Q4928254\n",
      "  wikidata: <dict(20)> said to be the same as (P460), instance of ...\n",
      "  wikidata_pageid: 4709105\n",
      "  wikidata_url: https://www.wikidata.org/wiki/Q4928254\n",
      "}\n",
      "www.wikidata.org (wikidata) Mukhtar Abbas Naqvi\n"
     ]
    },
    {
     "name": "stdout",
     "output_type": "stream",
     "text": [
      "Vincent Didn't find the gender\n",
      "Vincent Didn't find the date of birth\n",
      "Vincent Didn't find any data\n"
     ]
    },
    {
     "name": "stderr",
     "output_type": "stream",
     "text": [
      "www.wikidata.org (labels) P2013|Q17324844|P18|P569|P19|Q9585|Q162...\n",
      "en.wikipedia.org (imageinfo) File:Mukhtar Abbas Naqvi new.jpg\n",
      "Mukhtar Abbas Naqvi (en) data\n",
      "{\n",
      "  claims: <dict(14)> P102, P31, P19, P106, P569, P18, P69, P39, P2...\n",
      "  description: Indian politician\n",
      "  image: <list(1)> {'file': 'File:Mukhtar Abbas Naqvi new.jpg', 'k...\n",
      "  label: Mukhtar Abbas Naqvi\n",
      "  labels: <dict(25)> P2013, Q17324844, P18, P569, P19, Q9585, Q162...\n",
      "  modified: <dict(1)> wikidata\n",
      "  requests: <list(3)> wikidata, labels, imageinfo\n",
      "  title: Mukhtar_Abbas_Naqvi\n",
      "  what: human\n",
      "  wikibase: Q6933491\n",
      "  wikidata: <dict(14)> member of political party (P102), instance ...\n",
      "  wikidata_pageid: 6795656\n",
      "  wikidata_url: https://www.wikidata.org/wiki/Q6933491\n",
      "}\n",
      "www.wikidata.org (wikidata) Captain Abhimanyu\n"
     ]
    },
    {
     "name": "stdout",
     "output_type": "stream",
     "text": [
      "male (Q6581097) politician (Q82955) +1957-10-15T00:00:00Z\n"
     ]
    },
    {
     "name": "stderr",
     "output_type": "stream",
     "text": [
      "www.wikidata.org (labels) Q24497178|P18|P569|P19|Q10230|P856|P646...\n",
      "en.wikipedia.org (imageinfo) File:Capt abhimanyu.JPG\n",
      "Captain Abhimanyu (en) data\n",
      "{\n",
      "  claims: <dict(12)> P569, P31, P21, P102, P27, P106, P856, P39, P...\n",
      "  description: Indian politician\n",
      "  image: <list(1)> {'file': 'File:Capt abhimanyu.JPG', 'kind': 'wi...\n",
      "  label: Abhimanyu Sindhu\n",
      "  labels: <dict(20)> Q24497178, P18, P569, P19, Q10230, P856, P646...\n",
      "  modified: <dict(1)> wikidata\n",
      "  requests: <list(3)> wikidata, labels, imageinfo\n",
      "  title: Captain_Abhimanyu\n",
      "  what: human\n",
      "  wikibase: Q4667422\n",
      "  wikidata: <dict(12)> date of birth (P569), instance of (P31), se...\n",
      "  wikidata_pageid: 4459223\n",
      "  wikidata_url: https://www.wikidata.org/wiki/Q4667422\n",
      "}\n",
      "www.wikidata.org (wikidata) Capt.Amarinder Singh\n"
     ]
    },
    {
     "name": "stdout",
     "output_type": "stream",
     "text": [
      "male (Q6581097) politician (Q82955) +1967-12-18T00:00:00Z\n",
      "Capt.Amarinder Singh Didn't find any data\n"
     ]
    },
    {
     "name": "stderr",
     "output_type": "stream",
     "text": [
      "www.wikidata.org (wikidata) Arjun Ram Meghwal\n",
      "www.wikidata.org (labels) P3602|P18|P569|Q56051771|P4978|P19|P551...\n",
      "en.wikipedia.org (imageinfo) File:Arjun Meghwal.jpg\n",
      "Arjun Ram Meghwal (en) data\n",
      "{\n",
      "  claims: <dict(15)> P31, P39, P27, P106, P102, P569, P21, P18, P5...\n",
      "  description: Indian politician\n",
      "  image: <list(1)> {'file': 'File:Arjun Meghwal.jpg', 'kind': 'wik...\n",
      "  label: Arjun Ram Meghwal\n",
      "  labels: <dict(26)> P3602, P18, P569, Q56051771, P4978, P19, P551...\n",
      "  modified: <dict(1)> wikidata\n",
      "  requests: <list(3)> wikidata, labels, imageinfo\n",
      "  title: Arjun_Ram_Meghwal\n",
      "  what: human\n",
      "  wikibase: Q4791582\n",
      "  wikidata: <dict(15)> instance of (P31), position held (P39), cou...\n",
      "  wikidata_pageid: 4578543\n",
      "  wikidata_url: https://www.wikidata.org/wiki/Q4791582\n",
      "}\n",
      "www.wikidata.org (wikidata) Kalraj Mishra\n"
     ]
    },
    {
     "name": "stdout",
     "output_type": "stream",
     "text": [
      "male (Q6581097) politician (Q82955) +1954-12-07T00:00:00Z\n"
     ]
    },
    {
     "name": "stderr",
     "output_type": "stream",
     "text": [
      "www.wikidata.org (labels) P3602|Q17324844|P18|P569|Q18039836|P497...\n",
      "en.wikipedia.org (imageinfo) File:Kalraj Mishra Minister.jpg\n",
      "Kalraj Mishra (en) data\n",
      "{\n",
      "  claims: <dict(15)> P102, P31, P106, P27, P39, P21, P569, P214, P...\n",
      "  description: Governor of Rajasthan state of India\n",
      "  image: <list(1)> {'file': 'File:Kalraj Mishra Minister.jpg', 'ki...\n",
      "  label: Kalraj Mishra\n",
      "  labels: <dict(27)> P3602, Q17324844, P18, P569, Q18039836, P4978...\n",
      "  modified: <dict(1)> wikidata\n",
      "  requests: <list(3)> wikidata, labels, imageinfo\n",
      "  title: Kalraj_Mishra\n",
      "  what: human\n",
      "  wikibase: Q6354410\n",
      "  wikidata: <dict(15)> member of political party (P102), instance ...\n",
      "  wikidata_pageid: 6164814\n",
      "  wikidata_url: https://www.wikidata.org/wiki/Q6354410\n",
      "}\n",
      "www.wikidata.org (wikidata) Ananthkumar\n"
     ]
    },
    {
     "name": "stdout",
     "output_type": "stream",
     "text": [
      "male (Q6581097) politician (Q82955) +1941-07-01T00:00:00Z\n",
      "Ananthkumar Didn't find any data\n"
     ]
    },
    {
     "name": "stderr",
     "output_type": "stream",
     "text": [
      "www.wikidata.org (wikidata) Jayaprakash Narayan\n",
      "www.wikidata.org (labels) Q7019111|Q182973|P463|P4342|P1415|P1315...\n",
      "www.wikidata.org (labels) Q82955|P3987|P1417|P1559|P2924|Q5|P244|...\n",
      "en.wikipedia.org (imageinfo) File:Jayaprakash Narayan 1980 stamp ...\n",
      "Jayaprakash Narayan (en) data\n",
      "{\n",
      "  aliases: <list(5)> JP Narayan, Jayaprakash, Loknayak, Jayprakash...\n",
      "  claims: <dict(42)> P27, P21, P20, P106, P214, P244, P227, P19, P...\n",
      "  description: <str(66)> an Indian independence activist and polit...\n",
      "  image: <list(1)> {'file': 'File:Jayaprakash Narayan 1980 stamp o...\n",
      "  label: Jayaprakash Narayan\n",
      "  labels: <dict(64)> Q7019111, Q182973, P463, P4342, P1415, P1315,...\n",
      "  modified: <dict(1)> wikidata\n",
      "  requests: <list(4)> wikidata, labels, labels, imageinfo\n",
      "  title: Jayaprakash_Narayan\n",
      "  what: human\n",
      "  wikibase: Q734509\n",
      "  wikidata: <dict(42)> country of citizenship (P27), sex or gender...\n",
      "  wikidata_pageid: 690725\n",
      "  wikidata_url: https://www.wikidata.org/wiki/Q734509\n",
      "}\n",
      "www.wikidata.org (wikidata) Tariq Anwar\n"
     ]
    },
    {
     "name": "stdout",
     "output_type": "stream",
     "text": [
      "male (Q6581097) ['politician (Q82955)', 'social worker (Q7019111)'] +1902-10-11T00:00:00Z\n"
     ]
    },
    {
     "name": "stderr",
     "output_type": "stream",
     "text": [
      "www.wikidata.org (labels) P31|Q22808320\n",
      "Tariq Anwar (en) data\n",
      "{\n",
      "  claims: <dict(1)> P31\n",
      "  description: Wikipedia disambiguation page\n",
      "  label: Tariq Anwar\n",
      "  labels: <dict(2)> P31, Q22808320\n",
      "  modified: <dict(1)> wikidata\n",
      "  requests: <list(2)> wikidata, labels\n",
      "  title: Tariq_Anwar\n",
      "  what: Wikimedia human name disambiguation page\n",
      "  wikibase: Q2394286\n",
      "  wikidata: <dict(1)> instance of (P31)\n",
      "  wikidata_pageid: 2313043\n",
      "  wikidata_url: https://www.wikidata.org/wiki/Q2394286\n",
      "}\n",
      "www.wikidata.org (wikidata) Shushma Swaraj\n"
     ]
    },
    {
     "name": "stdout",
     "output_type": "stream",
     "text": [
      "Tariq Anwar Didn't find the gender\n",
      "Tariq Anwar Didn't find the date of birth\n",
      "Tariq Anwar Didn't find any data\n",
      "Shushma Swaraj Didn't find any data\n"
     ]
    },
    {
     "name": "stderr",
     "output_type": "stream",
     "text": [
      "www.wikidata.org (wikidata) Shobha Karandlaje\n",
      "www.wikidata.org (labels) P3602|P18|P569|Q56051771|P4978|P19|Q102...\n",
      "en.wikipedia.org (imageinfo) File:Shobha karandlaje 2014-05-17 07...\n",
      "Shobha Karandlaje (en) data\n",
      "{\n",
      "  claims: <dict(14)> P102, P21, P31, P27, P106, P569, P39, P735, P...\n",
      "  description: Incumbent MP from Udupi-chikmagalur lok sabha const...\n",
      "  image: <list(1)> {'file': 'File:Shobha karandlaje 2014-05-17 07-...\n",
      "  label: Shobha Karandlaje\n",
      "  labels: <dict(24)> P3602, P18, P569, Q56051771, P4978, P19, Q102...\n",
      "  modified: <dict(1)> wikidata\n",
      "  requests: <list(3)> wikidata, labels, imageinfo\n",
      "  title: Shobha_Karandlaje\n",
      "  what: human\n",
      "  wikibase: Q7499789\n",
      "  wikidata: <dict(14)> member of political party (P102), sex or ge...\n",
      "  wikidata_pageid: 7412734\n",
      "  wikidata_url: https://www.wikidata.org/wiki/Q7499789\n",
      "}\n",
      "www.wikidata.org (wikidata) Dushyant Chautala\n"
     ]
    },
    {
     "name": "stdout",
     "output_type": "stream",
     "text": [
      "female (Q6581072) politician (Q82955) +1966-10-23T00:00:00Z\n"
     ]
    },
    {
     "name": "stderr",
     "output_type": "stream",
     "text": [
      "www.wikidata.org (labels) P22|P3602|Q1815773|P569|P18|Q10534955|Q...\n",
      "en.wikipedia.org (imageinfo) File:Dushyant Chautala MP Hisar.jpg\n",
      "Dushyant Chautala (en) data\n",
      "{\n",
      "  claims: <dict(14)> P31, P39, P27, P106, P21, P18, P19, P569, P22...\n",
      "  description: Deputy Chief Minister of Haryana\n",
      "  image: <list(1)> {'file': 'File:Dushyant Chautala MP Hisar.jpg',...\n",
      "  label: Dushyant Chautala\n",
      "  labels: <dict(24)> P22, P3602, Q1815773, P569, P18, Q10534955, Q...\n",
      "  modified: <dict(1)> wikidata\n",
      "  requests: <list(3)> wikidata, labels, imageinfo\n",
      "  title: Dushyant_Chautala\n",
      "  what: human\n",
      "  wikibase: Q16890553\n",
      "  wikidata: <dict(14)> instance of (P31), position held (P39), cou...\n",
      "  wikidata_pageid: 18490764\n",
      "  wikidata_url: https://www.wikidata.org/wiki/Q16890553\n",
      "}\n",
      "www.wikidata.org (wikidata) Om Birla\n"
     ]
    },
    {
     "name": "stdout",
     "output_type": "stream",
     "text": [
      "male (Q6581097) politician (Q82955) +1988-04-03T00:00:00Z\n"
     ]
    },
    {
     "name": "stderr",
     "output_type": "stream",
     "text": [
      "www.wikidata.org (labels) P3602|P18|P569|Q330531|Q56051771|P19|P4...\n",
      "en.wikipedia.org (imageinfo) File:Om Birla Member of Parliament R...\n",
      "Om Birla (en) data\n",
      "{\n",
      "  claims: <dict(11)> P31, P106, P27, P102, P569, P39, P21, P18, P1...\n",
      "  description: Speaker of The Lok Sabha\n",
      "  image: <list(1)> {'file': 'File:Om Birla Member of Parliament Ra...\n",
      "  label: Om Birla\n",
      "  labels: <dict(22)> P3602, P18, P569, Q330531, Q56051771, P19, P4...\n",
      "  modified: <dict(1)> wikidata\n",
      "  requests: <list(3)> wikidata, labels, imageinfo\n",
      "  title: Om_Birla\n",
      "  what: human\n",
      "  wikibase: Q7089335\n",
      "  wikidata: <dict(11)> instance of (P31), occupation (P106), count...\n",
      "  wikidata_pageid: 6983423\n",
      "  wikidata_url: https://www.wikidata.org/wiki/Q7089335\n",
      "}\n",
      "www.wikidata.org (wikidata) Kavitha Kalvakuntla\n"
     ]
    },
    {
     "name": "stdout",
     "output_type": "stream",
     "text": [
      "male (Q6581097) politician (Q82955) +1962-12-04T00:00:00Z\n",
      "Kavitha Kalvakuntla Didn't find any data\n"
     ]
    },
    {
     "name": "stderr",
     "output_type": "stream",
     "text": [
      "www.wikidata.org (wikidata) Varun Gandhi\n",
      "www.wikidata.org (labels) P22|Q174570|Q9089|P3602|P2002|P18|P569|...\n",
      "en.wikipedia.org (imageinfo) File:Feroze Varun Gandhi 003.jpg\n",
      "Varun Gandhi (en) data\n",
      "{\n",
      "  aliases: <list(1)> Feroze Varun Gandhi\n",
      "  claims: <dict(24)> P22, P25, P373, P21, P102, P69, P31, P19, P10...\n",
      "  description: Indian politician\n",
      "  image: <list(1)> {'file': 'File:Feroze Varun Gandhi 003.jpg', 'k...\n",
      "  label: Varun Gandhi\n",
      "  labels: <dict(42)> P22, Q174570, Q9089, P3602, P2002, P18, P569,...\n",
      "  modified: <dict(1)> wikidata\n",
      "  requests: <list(3)> wikidata, labels, imageinfo\n",
      "  title: Varun_Gandhi\n",
      "  what: human\n",
      "  wikibase: Q2728775\n",
      "  wikidata: <dict(24)> father (P22), mother (P25), Commons categor...\n",
      "  wikidata_pageid: 2621544\n",
      "  wikidata_url: https://www.wikidata.org/wiki/Q2728775\n",
      "}\n",
      "www.wikidata.org (wikidata) Bhagwant Mann\n"
     ]
    },
    {
     "name": "stdout",
     "output_type": "stream",
     "text": [
      "male (Q6581097) politician (Q82955) +1980-03-13T00:00:00Z\n"
     ]
    },
    {
     "name": "stderr",
     "output_type": "stream",
     "text": [
      "www.wikidata.org (labels) Q129844|Q63988645|P3602|P18|P569|P7704|...\n",
      "en.wikipedia.org (imageinfo) File:Bhagwant.jpg\n",
      "Bhagwant Mann (en) data\n",
      "{\n",
      "  claims: <dict(14)> P31, P27, P102, P39, P106, P21, P569, P735, P...\n",
      "  description: Indian politician and comedian\n",
      "  image: <list(1)> {'file': 'File:Bhagwant.jpg', 'kind': 'wikidata...\n",
      "  label: Bhagwant Maan\n",
      "  labels: <dict(24)> Q129844, Q63988645, P3602, P18, P569, P7704, ...\n",
      "  modified: <dict(1)> wikidata\n",
      "  requests: <list(3)> wikidata, labels, imageinfo\n",
      "  title: Bhagwant_Mann\n",
      "  what: human\n",
      "  wikibase: Q4900687\n",
      "  wikidata: <dict(14)> instance of (P31), country of citizenship (...\n",
      "  wikidata_pageid: 4681769\n",
      "  wikidata_url: https://www.wikidata.org/wiki/Q4900687\n",
      "}\n",
      "www.wikidata.org (wikidata) Rajiv Pratap Rudy\n"
     ]
    },
    {
     "name": "stdout",
     "output_type": "stream",
     "text": [
      "male (Q6581097) politician (Q82955) +1972-10-17T00:00:00Z\n"
     ]
    },
    {
     "name": "stderr",
     "output_type": "stream",
     "text": [
      "www.wikidata.org (labels) Q9089|P3602|P2013|Q779224|Q17324844|P20...\n",
      "en.wikipedia.org (imageinfo) File:Rajivrudy.png\n",
      "Rajiv Pratap Rudy (en) data\n",
      "{\n",
      "  claims: <dict(20)> P21, P102, P69, P31, P19, P140, P106, P569, P...\n",
      "  description: Indian politician\n",
      "  image: <list(1)> {'file': 'File:Rajivrudy.png', 'kind': 'wikidat...\n",
      "  label: Rajiv Pratap Rudy\n",
      "  labels: <dict(37)> Q9089, P3602, P2013, Q779224, Q17324844, P200...\n",
      "  modified: <dict(1)> wikidata\n",
      "  requests: <list(3)> wikidata, labels, imageinfo\n",
      "  title: Rajiv_Pratap_Rudy\n",
      "  what: human\n",
      "  wikibase: Q3634892\n",
      "  wikidata: <dict(20)> sex or gender (P21), member of political pa...\n",
      "  wikidata_pageid: 3462370\n",
      "  wikidata_url: https://www.wikidata.org/wiki/Q3634892\n",
      "}\n",
      "www.wikidata.org (wikidata) Vijay Sampla\n"
     ]
    },
    {
     "name": "stdout",
     "output_type": "stream",
     "text": [
      "male (Q6581097) politician (Q82955) +1962-03-30T00:00:00Z\n"
     ]
    },
    {
     "name": "stderr",
     "output_type": "stream",
     "text": [
      "www.wikidata.org (labels) Q1817425|Q19845408|P3602|P18|P569|P4978...\n",
      "en.wikipedia.org (imageinfo) File:The Minister of State for Socia...\n",
      "Vijay Sampla (en) data\n",
      "{\n",
      "  claims: <dict(13)> P31, P21, P39, P106, P27, P569, P735, P102, P...\n",
      "  description: Indian politician\n",
      "  image: <list(1)> {'file': 'File:The Minister of State for Social...\n",
      "  label: Vijay Sampla\n",
      "  labels: <dict(22)> Q1817425, Q19845408, P3602, P18, P569, P4978,...\n",
      "  modified: <dict(1)> wikidata\n",
      "  requests: <list(3)> wikidata, labels, imageinfo\n",
      "  title: Vijay_Sampla\n",
      "  what: human\n",
      "  wikibase: Q16901308\n",
      "  wikidata: <dict(13)> instance of (P31), sex or gender (P21), pos...\n",
      "  wikidata_pageid: 18501382\n",
      "  wikidata_url: https://www.wikidata.org/wiki/Q16901308\n",
      "}\n",
      "www.wikidata.org (wikidata) Oommen Chandy\n"
     ]
    },
    {
     "name": "stdout",
     "output_type": "stream",
     "text": [
      "male (Q6581097) politician (Q82955) +1961-07-06T00:00:00Z\n"
     ]
    },
    {
     "name": "stderr",
     "output_type": "stream",
     "text": [
      "www.wikidata.org (labels) Q26218416|Q19468152|Q5013010|P18|P569|P...\n",
      "en.wikipedia.org (imageinfo) File:Oommen Chandy.png\n",
      "Oommen Chandy (en) data\n",
      "{\n",
      "  claims: <dict(17)> P18, P21, P373, P102, P27, P31, P569, P646, P...\n",
      "  description: Ex chief minister of Kerala, India\n",
      "  image: <list(1)> {'file': 'File:Oommen Chandy.png', 'kind': 'wik...\n",
      "  label: Oommen Chandy\n",
      "  labels: <dict(30)> Q26218416, Q19468152, Q5013010, P18, P569, P1...\n",
      "  modified: <dict(1)> wikidata\n",
      "  requests: <list(3)> wikidata, labels, imageinfo\n",
      "  title: Oommen_Chandy\n",
      "  what: human\n",
      "  wikibase: Q1775400\n",
      "  wikidata: <dict(17)> image (P18), sex or gender (P21), Commons c...\n",
      "  wikidata_pageid: 1707369\n",
      "  wikidata_url: https://www.wikidata.org/wiki/Q1775400\n",
      "}\n",
      "www.wikidata.org (wikidata) Dr Jitendra Singh\n"
     ]
    },
    {
     "name": "stdout",
     "output_type": "stream",
     "text": [
      "male (Q6581097) politician (Q82955) +1943-10-31T00:00:00Z\n",
      "Dr Jitendra Singh Didn't find any data\n"
     ]
    },
    {
     "name": "stderr",
     "output_type": "stream",
     "text": [
      "www.wikidata.org (wikidata) Darshana Jardosh\n",
      "www.wikidata.org (labels) P3602|P569|Q4629|Q56051771|P19|P4978|Q1...\n",
      "Darshana Jardosh (en) data\n",
      "{\n",
      "  aliases: <list(1)> Darshana Vikram Jardosh\n",
      "  claims: <dict(10)> P21, P31, P27, P106, P102, P39, P569, P19, P4...\n",
      "  description: Indian politician\n",
      "  label: Darshana Jardosh\n",
      "  labels: <dict(20)> P3602, P569, Q4629, Q56051771, P19, P4978, Q1...\n",
      "  modified: <dict(1)> wikidata\n",
      "  requests: <list(2)> wikidata, labels\n",
      "  title: Darshana_Jardosh\n",
      "  what: human\n",
      "  wikibase: Q5225537\n",
      "  wikidata: <dict(10)> sex or gender (P21), instance of (P31), cou...\n",
      "  wikidata_pageid: 4994968\n",
      "  wikidata_url: https://www.wikidata.org/wiki/Q5225537\n",
      "}\n",
      "www.wikidata.org (wikidata) Dr Kumar Vishvas\n"
     ]
    },
    {
     "name": "stdout",
     "output_type": "stream",
     "text": [
      "female (Q6581072) politician (Q82955) +1961-01-21T00:00:00Z\n",
      "Dr Kumar Vishvas Didn't find any data\n"
     ]
    },
    {
     "name": "stderr",
     "output_type": "stream",
     "text": [
      "www.wikidata.org (wikidata) Gaurav Gogoi\n",
      "www.wikidata.org (labels) P22|P3602|Q3349343|P569|Q1353|Q56051771...\n",
      "Gaurav Gogoi (en) data\n",
      "{\n",
      "  claims: <dict(12)> P31, P27, P39, P106, P21, P569, P735, P22, P1...\n",
      "  description: Indian politician\n",
      "  label: Gaurav Gogoi\n",
      "  labels: <dict(25)> P22, P3602, Q3349343, P569, Q1353, Q56051771,...\n",
      "  modified: <dict(1)> wikidata\n",
      "  requests: <list(2)> wikidata, labels\n",
      "  title: Gaurav_Gogoi\n",
      "  what: human\n",
      "  wikibase: Q16221747\n",
      "  wikidata: <dict(12)> instance of (P31), country of citizenship (...\n",
      "  wikidata_pageid: 17848055\n",
      "  wikidata_url: https://www.wikidata.org/wiki/Q16221747\n",
      "}\n",
      "www.wikidata.org (wikidata) Omar Abdullah\n"
     ]
    },
    {
     "name": "stdout",
     "output_type": "stream",
     "text": [
      "male (Q6581097) politician (Q82955) +1982-01-01T00:00:00Z\n"
     ]
    },
    {
     "name": "stderr",
     "output_type": "stream",
     "text": [
      "www.wikidata.org (labels) P22|Q4475314|Q3517911|Q313465|Q1859178|...\n",
      "en.wikipedia.org (imageinfo) File:Omar Abdullah (cropped).jpg\n",
      "Omar Abdullah (en) data\n",
      "{\n",
      "  claims: <dict(21)> P22, P21, P214, P102, P31, P19, P39, P69, P37...\n",
      "  description: Indian politician\n",
      "  image: <list(1)> {'file': 'File:Omar Abdullah (cropped).jpg', 'k...\n",
      "  label: Omar Abdullah\n",
      "  labels: <dict(39)> P22, Q4475314, Q3517911, Q313465, Q1859178, P...\n",
      "  modified: <dict(1)> wikidata\n",
      "  requests: <list(3)> wikidata, labels, imageinfo\n",
      "  title: Omar_Abdullah\n",
      "  what: human\n",
      "  wikibase: Q2745305\n",
      "  wikidata: <dict(21)> father (P22), sex or gender (P21), VIAF ID ...\n",
      "  wikidata_pageid: 2636144\n",
      "  wikidata_url: https://www.wikidata.org/wiki/Q2745305\n",
      "}\n",
      "www.wikidata.org (wikidata) Dev\n"
     ]
    },
    {
     "name": "stdout",
     "output_type": "stream",
     "text": [
      "male (Q6581097) politician (Q82955) +1970-03-10T00:00:00Z\n"
     ]
    },
    {
     "name": "stderr",
     "output_type": "stream",
     "text": [
      "www.wikidata.org (labels) P31|Q28843155|P1889|Q4167410\n",
      "Dev (en) data\n",
      "{\n",
      "  aliases: <list(1)> DEV\n",
      "  claims: <dict(2)> P31, P1889\n",
      "  description: Wikimedia disambiguation page\n",
      "  label: Dev\n",
      "  labels: <dict(4)> P31, Q28843155, P1889, Q4167410\n",
      "  modified: <dict(1)> wikidata\n",
      "  requests: <list(2)> wikidata, labels\n",
      "  title: Dev\n",
      "  what: Wikimedia disambiguation page\n",
      "  wikibase: Q408125\n",
      "  wikidata: <dict(2)> instance of (P31), different from (P1889)\n",
      "  wikidata_pageid: 386812\n",
      "  wikidata_url: https://www.wikidata.org/wiki/Q408125\n",
      "}\n",
      "www.wikidata.org (wikidata) Dr Ajoy Kumar\n"
     ]
    },
    {
     "name": "stdout",
     "output_type": "stream",
     "text": [
      "Dev Didn't find the gender\n",
      "Dev Didn't find the date of birth\n",
      "Dev Didn't find any data\n",
      "Dr Ajoy Kumar Didn't find any data\n"
     ]
    },
    {
     "name": "stderr",
     "output_type": "stream",
     "text": [
      "www.wikidata.org (wikidata) Abhishek Banerjee\n",
      "www.wikidata.org (labels) P3602|P18|P569|P19|Q56051771|Q16001407|...\n",
      "en.wikipedia.org (imageinfo) File:Abhishek Banerjee at N24 pargan...\n",
      "Abhishek Banerjee (en) data\n",
      "{\n",
      "  claims: <dict(14)> P373, P31, P19, P569, P27, P21, P102, P39, P1...\n",
      "  description: Indian politician\n",
      "  image: <list(1)> {'file': 'File:Abhishek Banerjee at N24 pargana...\n",
      "  label: Abhishek Banerjee\n",
      "  labels: <dict(25)> P3602, P18, P569, P19, Q56051771, Q16001407, ...\n",
      "  modified: <dict(1)> wikidata\n",
      "  requests: <list(3)> wikidata, labels, imageinfo\n",
      "  title: Abhishek_Banerjee\n",
      "  what: human\n",
      "  wikibase: Q4667463\n",
      "  wikidata: <dict(14)> Commons category (P373), instance of (P31),...\n",
      "  wikidata_pageid: 4459265\n",
      "  wikidata_url: https://www.wikidata.org/wiki/Q4667463\n",
      "}\n",
      "www.wikidata.org (wikidata) Kuldeep Bishnoi\n"
     ]
    },
    {
     "name": "stdout",
     "output_type": "stream",
     "text": [
      "male (Q6581097) politician (Q82955) +1987-11-07T00:00:00Z\n"
     ]
    },
    {
     "name": "stderr",
     "output_type": "stream",
     "text": [
      "www.wikidata.org (labels) P22|Q24497178|P3602|Q21620882|P31|P40|Q...\n",
      "en.wikipedia.org (imageinfo) File:Kuldeep Bishnoi, Sirsa, 2nd Dec...\n",
      "Kuldeep Bishnoi (en) data\n",
      "{\n",
      "  claims: <dict(14)> P22, P31, P19, P106, P27, P569, P39, P18, P10...\n",
      "  description: Indian politician\n",
      "  image: <list(1)> {'file': 'File:Kuldeep Bishnoi, Sirsa, 2nd Dece...\n",
      "  label: Kuldeep Bishnoi\n",
      "  labels: <dict(29)> P22, Q24497178, P3602, Q21620882, P31, P40, Q...\n",
      "  modified: <dict(1)> wikidata\n",
      "  requests: <list(3)> wikidata, labels, imageinfo\n",
      "  title: Kuldeep_Bishnoi\n",
      "  what: human\n",
      "  wikibase: Q6442875\n",
      "  wikidata: <dict(14)> father (P22), instance of (P31), place of b...\n",
      "  wikidata_pageid: 6259365\n",
      "  wikidata_url: https://www.wikidata.org/wiki/Q6442875\n",
      "}\n",
      "www.wikidata.org (wikidata) Smriti Z Irani\n"
     ]
    },
    {
     "name": "stdout",
     "output_type": "stream",
     "text": [
      "male (Q6581097) politician (Q82955) +1968-09-22T00:00:00Z\n",
      "Smriti Z Irani Didn't find any data\n"
     ]
    },
    {
     "name": "stderr",
     "output_type": "stream",
     "text": [
      "www.wikidata.org (wikidata) Babul Supriyo\n",
      "www.wikidata.org (labels) Q9089|P434|Q2317215|P3602|P1953|P18|P56...\n",
      "en.wikipedia.org (imageinfo) File:BabulSupriyo.jpg\n",
      "Babul Supriyo (en) data\n",
      "{\n",
      "  claims: <dict(25)> P434, P345, P106, P18, P569, P31, P27, P21, P...\n",
      "  description: Indian singer\n",
      "  image: <list(1)> {'file': 'File:BabulSupriyo.jpg', 'kind': 'wiki...\n",
      "  label: Babul Supriyo\n",
      "  labels: <dict(40)> Q9089, P434, Q2317215, P3602, P1953, P18, P56...\n",
      "  modified: <dict(1)> wikidata\n",
      "  requests: <list(3)> wikidata, labels, imageinfo\n",
      "  title: Babul_Supriyo\n",
      "  what: human\n",
      "  wikibase: Q555778\n",
      "  wikidata: <dict(25)> MusicBrainz artist ID (P434), IMDb ID (P345...\n",
      "  wikidata_pageid: 523682\n",
      "  wikidata_url: https://www.wikidata.org/wiki/Q555778\n",
      "}\n",
      "www.wikidata.org (wikidata) Daddan Mishra\n"
     ]
    },
    {
     "name": "stdout",
     "output_type": "stream",
     "text": [
      "male (Q6581097) ['actor (Q33999)', 'politician (Q82955)', 'singer (Q177220)'] +1970-12-15T00:00:00Z\n"
     ]
    },
    {
     "name": "stderr",
     "output_type": "stream",
     "text": [
      "www.wikidata.org (labels) P3602|Q4827404|P569|P4978|P19|Q63988898...\n",
      "Daddan Mishra (en) data\n",
      "{\n",
      "  claims: <dict(12)> P31, P21, P102, P39, P106, P27, P569, P4978, ...\n",
      "  description: Indian politician\n",
      "  label: Daddan Mishra\n",
      "  labels: <dict(22)> P3602, Q4827404, P569, P4978, P19, Q63988898,...\n",
      "  modified: <dict(1)> wikidata\n",
      "  requests: <list(2)> wikidata, labels\n",
      "  title: Daddan_Mishra\n",
      "  what: human\n",
      "  wikibase: Q16902207\n",
      "  wikidata: <dict(12)> instance of (P31), sex or gender (P21), mem...\n",
      "  wikidata_pageid: 18502279\n",
      "  wikidata_url: https://www.wikidata.org/wiki/Q16902207\n",
      "}\n",
      "www.wikidata.org (wikidata) Pratap Simha\n"
     ]
    },
    {
     "name": "stdout",
     "output_type": "stream",
     "text": [
      "male (Q6581097) politician (Q82955) +1969-09-30T00:00:00Z\n"
     ]
    },
    {
     "name": "stderr",
     "output_type": "stream",
     "text": [
      "www.wikidata.org (labels) Q63988323|P3602|Q1930187|P569|Q56051771...\n",
      "Pratap Simha (en) data\n",
      "{\n",
      "  claims: <dict(9)> P31, P39, P27, P106, P21, P102, P569, P19, P3602\n",
      "  description: Incumbent MP from Mysore-Kodagu Lok Sabha Constituency\n",
      "  label: Pratap Simha\n",
      "  labels: <dict(19)> Q63988323, P3602, Q1930187, P569, Q56051771, ...\n",
      "  modified: <dict(1)> wikidata\n",
      "  requests: <list(2)> wikidata, labels\n",
      "  title: Pratap_Simha\n",
      "  what: human\n",
      "  wikibase: Q15719409\n",
      "  wikidata: <dict(9)> instance of (P31), position held (P39), coun...\n",
      "  wikidata_pageid: 17354430\n",
      "  wikidata_url: https://www.wikidata.org/wiki/Q15719409\n",
      "}\n",
      "www.wikidata.org (wikidata) N Chandrababu Naidu\n"
     ]
    },
    {
     "name": "stdout",
     "output_type": "stream",
     "text": [
      "male (Q6581097) ['politician (Q82955)', 'journalist (Q1930187)'] +1979-06-21T00:00:00Z\n",
      "N Chandrababu Naidu Didn't find any data\n"
     ]
    },
    {
     "name": "stderr",
     "output_type": "stream",
     "text": [
      "www.wikidata.org (wikidata) Vikramaditya Singh\n",
      "www.wikidata.org (labels) P569|Q1518229|P22|P21|P25|P27|P39|Q2590...\n",
      "Vikramaditya Singh (en) data\n",
      "{\n",
      "  claims: <dict(9)> P31, P21, P570, P569, P22, P25, P39, P27, P3373\n",
      "  description: ruler of Mewar Kingdom\n",
      "  label: Vikramaditya Singh\n",
      "  labels: <dict(16)> P569, Q1518229, P22, P21, P25, P27, P39, Q259...\n",
      "  modified: <dict(1)> wikidata\n",
      "  requests: <list(2)> wikidata, labels\n",
      "  title: Vikramaditya_Singh\n",
      "  what: human\n",
      "  wikibase: Q12449457\n",
      "  wikidata: <dict(9)> instance of (P31), sex or gender (P21), date...\n",
      "  wikidata_pageid: 13699340\n",
      "  wikidata_url: https://www.wikidata.org/wiki/Q12449457\n",
      "}\n",
      "www.wikidata.org (wikidata) Dr Harsh Vardha\n"
     ]
    },
    {
     "name": "stdout",
     "output_type": "stream",
     "text": [
      "Vikramaditya Singh Didn't find any data\n",
      "Dr Harsh Vardha Didn't find any data\n"
     ]
    },
    {
     "name": "stderr",
     "output_type": "stream",
     "text": [
      "www.wikidata.org (wikidata) Dinesh Trivedi\n",
      "www.wikidata.org (labels) Q7592175|P3602|Q6866301|Q1226314|Q49213...\n",
      "en.wikipedia.org (imageinfo) File:Dinesh trivedi.jpg\n",
      "Dinesh Trivedi (en) data\n",
      "{\n",
      "  claims: <dict(17)> P102, P69, P31, P569, P106, P27, P39, P18, P2...\n",
      "  description: Indian politician\n",
      "  image: <list(1)> {'file': 'File:Dinesh trivedi.jpg', 'kind': 'wi...\n",
      "  label: Dinesh Trivedi\n",
      "  labels: <dict(34)> Q7592175, P3602, Q6866301, Q1226314, Q49213, ...\n",
      "  modified: <dict(1)> wikidata\n",
      "  requests: <list(3)> wikidata, labels, imageinfo\n",
      "  title: Dinesh_Trivedi\n",
      "  what: human\n",
      "  wikibase: Q3525366\n",
      "  wikidata: <dict(17)> member of political party (P102), educated ...\n",
      "  wikidata_pageid: 3356487\n",
      "  wikidata_url: https://www.wikidata.org/wiki/Q3525366\n",
      "}\n",
      "www.wikidata.org (wikidata) Jay Galla\n"
     ]
    },
    {
     "name": "stdout",
     "output_type": "stream",
     "text": [
      "male (Q6581097) politician (Q82955) +1950-06-04T00:00:00Z\n",
      "Jay Galla Didn't find any data\n"
     ]
    },
    {
     "name": "stderr",
     "output_type": "stream",
     "text": [
      "www.wikidata.org (wikidata) Rajyavardhar Rathore\n"
     ]
    },
    {
     "name": "stdout",
     "output_type": "stream",
     "text": [
      "Rajyavardhar Rathore Didn't find any data\n"
     ]
    },
    {
     "name": "stderr",
     "output_type": "stream",
     "text": [
      "www.wikidata.org (wikidata) Subramanian Swamy\n",
      "www.wikidata.org (labels) Q9089|Q6866058|P2013|Q17324844|P2002|P1...\n",
      "en.wikipedia.org (imageinfo) File:Dr. Subramanian Swamy at KLF2016.jpg\n",
      "Subramanian Swamy (en) data\n",
      "{\n",
      "  claims: <dict(27)> P214, P69, P102, P31, P39, P106, P569, P27, P...\n",
      "  description: Indian politician\n",
      "  image: <list(1)> {'file': 'File:Dr. Subramanian Swamy at KLF2016...\n",
      "  label: Subramanian Swamy\n",
      "  labels: <dict(45)> Q9089, Q6866058, P2013, Q17324844, P2002, P18...\n",
      "  modified: <dict(1)> wikidata\n",
      "  requests: <list(3)> wikidata, labels, imageinfo\n",
      "  title: Subramanian_Swamy\n",
      "  what: human\n",
      "  wikibase: Q3530322\n",
      "  wikidata: <dict(27)> VIAF ID (P214), educated at (P69), member o...\n",
      "  wikidata_pageid: 3361106\n",
      "  wikidata_url: https://www.wikidata.org/wiki/Q3530322\n",
      "}\n",
      "www.wikidata.org (wikidata) Nirmala Sitharaman\n"
     ]
    },
    {
     "name": "stdout",
     "output_type": "stream",
     "text": [
      "male (Q6581097) ['economist (Q188094)', 'politician (Q82955)', 'author (Q482980)'] +1939-09-15T00:00:00Z\n"
     ]
    },
    {
     "name": "stderr",
     "output_type": "stream",
     "text": [
      "www.wikidata.org (labels) Q1147063|Q3533315|Q6866058|P2013|Q17324...\n",
      "en.wikipedia.org (imageinfo) File:Nirmala Sitharaman - 2018 (4616...\n",
      "Nirmala Sitharaman (en) data\n",
      "{\n",
      "  claims: <dict(17)> P102, P69, P21, P31, P27, P106, P569, P39, P1...\n",
      "  description: Indian politician\n",
      "  image: <list(1)> {'file': 'File:Nirmala Sitharaman - 2018 (46166...\n",
      "  label: Nirmala Sitaraman\n",
      "  labels: <dict(31)> Q1147063, Q3533315, Q6866058, P2013, Q1732484...\n",
      "  modified: <dict(1)> wikidata\n",
      "  requests: <list(3)> wikidata, labels, imageinfo\n",
      "  title: Nirmala_Sitharaman\n",
      "  what: human\n",
      "  wikibase: Q7040049\n",
      "  wikidata: <dict(17)> member of political party (P102), educated ...\n",
      "  wikidata_pageid: 6927313\n",
      "  wikidata_url: https://www.wikidata.org/wiki/Q7040049\n",
      "}\n",
      "www.wikidata.org (wikidata) Akhilesh Yadav\n"
     ]
    },
    {
     "name": "stdout",
     "output_type": "stream",
     "text": [
      "female (Q6581072) politician (Q82955) +1959-08-18T00:00:00Z\n"
     ]
    },
    {
     "name": "stderr",
     "output_type": "stream",
     "text": [
      "www.wikidata.org (labels) P22|Q5269371|P3602|Q1370721|Q1546941|P1...\n",
      "en.wikipedia.org (imageinfo) File:UP CM Akhilesh Yadav.PNG\n",
      "Akhilesh Yadav (en) data\n",
      "{\n",
      "  claims: <dict(23)> P21, P69, P102, P19, P31, P646, P569, P106, P...\n",
      "  description: Indian Politician\n",
      "  image: <list(1)> {'file': 'File:UP CM Akhilesh Yadav.PNG', 'kind...\n",
      "  label: Akhilesh Yadav\n",
      "  labels: <dict(44)> P22, Q5269371, P3602, Q1370721, Q1546941, P18...\n",
      "  modified: <dict(1)> wikidata\n",
      "  requests: <list(3)> wikidata, labels, imageinfo\n",
      "  title: Akhilesh_Yadav\n",
      "  what: human\n",
      "  wikibase: Q417657\n",
      "  wikidata: <dict(23)> sex or gender (P21), educated at (P69), mem...\n",
      "  wikidata_pageid: 395139\n",
      "  wikidata_url: https://www.wikidata.org/wiki/Q417657\n",
      "}\n",
      "www.wikidata.org (wikidata) B.S. Yediyurappa\n"
     ]
    },
    {
     "name": "stdout",
     "output_type": "stream",
     "text": [
      "male (Q6581097) politician (Q82955) +1973-07-01T00:00:00Z\n",
      "B.S. Yediyurappa Didn't find any data\n"
     ]
    },
    {
     "name": "stderr",
     "output_type": "stream",
     "text": [
      "www.wikidata.org (wikidata) Deepender Singh Hooda\n",
      "www.wikidata.org (labels) P22|Q1453180|Q63988250|P3602|Q3523063|P...\n",
      "Deepender Singh Hooda (en) data\n",
      "{\n",
      "  claims: <dict(13)> P21, P102, P31, P19, P569, P106, P27, P39, P6...\n",
      "  description: Indian politician\n",
      "  label: Deepender Singh Hooda\n",
      "  labels: <dict(25)> P22, Q1453180, Q63988250, P3602, Q3523063, P5...\n",
      "  modified: <dict(1)> wikidata\n",
      "  requests: <list(2)> wikidata, labels\n",
      "  title: Deepender_Singh_Hooda\n",
      "  what: human\n",
      "  wikibase: Q5250584\n",
      "  wikidata: <dict(13)> sex or gender (P21), member of political pa...\n",
      "  wikidata_pageid: 5020098\n",
      "  wikidata_url: https://www.wikidata.org/wiki/Q5250584\n",
      "}\n",
      "www.wikidata.org (wikidata) Krishna Byre Gowda\n"
     ]
    },
    {
     "name": "stdout",
     "output_type": "stream",
     "text": [
      "male (Q6581097) politician (Q82955) +1978-01-04T00:00:00Z\n"
     ]
    },
    {
     "name": "stderr",
     "output_type": "stream",
     "text": [
      "www.wikidata.org (labels) Q7432481|Q1355|P569|P19|Q24525419|Q1022...\n",
      "Krishna Byre Gowda (en) data\n",
      "{\n",
      "  claims: <dict(10)> P102, P569, P31, P21, P735, P39, P19, P69, P1...\n",
      "  description: Indian politician\n",
      "  label: Krishna Byre Gowda\n",
      "  labels: <dict(19)> Q7432481, Q1355, P569, P19, Q24525419, Q10225...\n",
      "  modified: <dict(1)> wikidata\n",
      "  requests: <list(2)> wikidata, labels\n",
      "  title: Krishna_Byre_Gowda\n",
      "  what: human\n",
      "  wikibase: Q6437387\n",
      "  wikidata: <dict(10)> member of political party (P102), date of b...\n",
      "  wikidata_pageid: 6253724\n",
      "  wikidata_url: https://www.wikidata.org/wiki/Q6437387\n",
      "}\n",
      "www.wikidata.org (wikidata) Rajeev Chandrasekhar\n"
     ]
    },
    {
     "name": "stdout",
     "output_type": "stream",
     "text": [
      "male (Q6581097) politician (Q82955) +1973-04-04T00:00:00Z\n"
     ]
    },
    {
     "name": "stderr",
     "output_type": "stream",
     "text": [
      "www.wikidata.org (labels) P2013|Q17324844|P569|P19|P4978|Q659706|...\n",
      "Rajeev Chandrasekhar (en) data\n",
      "{\n",
      "  claims: <dict(13)> P31, P21, P569, P39, P106, P27, P69, P856, P1...\n",
      "  description: Indian politician\n",
      "  label: Rajeev Chandrasekhar\n",
      "  labels: <dict(23)> P2013, Q17324844, P569, P19, P4978, Q659706, ...\n",
      "  modified: <dict(1)> wikidata\n",
      "  requests: <list(2)> wikidata, labels\n",
      "  title: Rajeev_Chandrasekhar\n",
      "  what: human\n",
      "  wikibase: Q7285934\n",
      "  wikidata: <dict(13)> instance of (P31), sex or gender (P21), dat...\n",
      "  wikidata_pageid: 7190476\n",
      "  wikidata_url: https://www.wikidata.org/wiki/Q7285934\n",
      "}\n",
      "www.wikidata.org (wikidata) Shahsi Tharoor\n"
     ]
    },
    {
     "name": "stdout",
     "output_type": "stream",
     "text": [
      "male (Q6581097) ['computer scientist (Q82594)', 'politician (Q82955)'] +1964-05-31T00:00:00Z\n",
      "Shahsi Tharoor Didn't find any data\n"
     ]
    },
    {
     "name": "stderr",
     "output_type": "stream",
     "text": [
      "www.wikidata.org (wikidata) Rajeev Gowda\n",
      "www.wikidata.org (labels) P2013|Q17324844|P18|P569|P1343|P214|Q10...\n",
      "en.wikipedia.org (imageinfo) File:Prof.-Gowda.jpeg\n",
      "Rajeev Gowda (en) data\n",
      "{\n",
      "  aliases: <list(1)> M.V. Rajeev Gowda\n",
      "  claims: <dict(13)> P31, P569, P21, P27, P18, P214, P106, P102, P...\n",
      "  description: Indian academic and politician\n",
      "  image: <list(1)> {'file': 'File:Prof.-Gowda.jpeg', 'kind': 'wiki...\n",
      "  label: Rajeev Gowda\n",
      "  labels: <dict(22)> P2013, Q17324844, P18, P569, P1343, P214, Q10...\n",
      "  modified: <dict(1)> wikidata\n",
      "  requests: <list(3)> wikidata, labels, imageinfo\n",
      "  title: Rajeev_Gowda\n",
      "  what: human\n",
      "  wikibase: Q16195086\n",
      "  wikidata: <dict(13)> instance of (P31), date of birth (P569), se...\n",
      "  wikidata_pageid: 17821508\n",
      "  wikidata_url: https://www.wikidata.org/wiki/Q16195086\n",
      "}\n",
      "www.wikidata.org (wikidata) Priyanka Chaturvedi\n"
     ]
    },
    {
     "name": "stdout",
     "output_type": "stream",
     "text": [
      "male (Q6581097) politician (Q82955) +1963-10-29T00:00:00Z\n"
     ]
    },
    {
     "name": "stderr",
     "output_type": "stream",
     "text": [
      "www.wikidata.org (labels) Q9089|Q4872271|P2002|P569|P1971|P19|Q10...\n",
      "Priyanka Chaturvedi (en) data\n",
      "{\n",
      "  claims: <dict(13)> P31, P21, P102, P569, P27, P1971, P2002, P106...\n",
      "  description: Indian politician\n",
      "  label: Priyanka Chaturvedi\n",
      "  labels: <dict(21)> Q9089, Q4872271, P2002, P569, P1971, P19, Q10...\n",
      "  modified: <dict(1)> wikidata\n",
      "  requests: <list(2)> wikidata, labels\n",
      "  title: Priyanka_Chaturvedi\n",
      "  what: human\n",
      "  wikibase: Q16218408\n",
      "  wikidata: <dict(13)> instance of (P31), sex or gender (P21), mem...\n",
      "  wikidata_pageid: 17844781\n",
      "  wikidata_url: https://www.wikidata.org/wiki/Q16218408\n",
      "}\n",
      "www.wikidata.org (wikidata) P Muralidhar Rao\n"
     ]
    },
    {
     "name": "stdout",
     "output_type": "stream",
     "text": [
      "female (Q6581072) politician (Q82955) +1979-11-19T00:00:00Z\n",
      "P Muralidhar Rao Didn't find any data\n"
     ]
    },
    {
     "name": "stderr",
     "output_type": "stream",
     "text": [
      "www.wikidata.org (wikidata) Jayant Sinha\n",
      "www.wikidata.org (labels) P3602|P793|Q1194650|P18|P569|Q42722842|...\n",
      "en.wikipedia.org (imageinfo) File:JayantSinha.JPG\n",
      "Jayant Sinha (en) data\n",
      "{\n",
      "  claims: <dict(15)> P31, P39, P27, P106, P21, P102, P569, P18, P1...\n",
      "  description: Indian politician\n",
      "  image: <list(1)> {'file': 'File:JayantSinha.JPG', 'kind': 'wikid...\n",
      "  label: Jayant Sinha\n",
      "  labels: <dict(28)> P3602, P793, Q1194650, P18, P569, Q42722842, ...\n",
      "  modified: <dict(1)> wikidata\n",
      "  requests: <list(3)> wikidata, labels, imageinfo\n",
      "  title: Jayant_Sinha\n",
      "  what: human\n",
      "  wikibase: Q16897887\n",
      "  wikidata: <dict(15)> instance of (P31), position held (P39), cou...\n",
      "  wikidata_pageid: 18498016\n",
      "  wikidata_url: https://www.wikidata.org/wiki/Q16897887\n",
      "}\n",
      "www.wikidata.org (wikidata) Vishal\n"
     ]
    },
    {
     "name": "stdout",
     "output_type": "stream",
     "text": [
      "male (Q6581097) politician (Q82955) +1963-04-21T00:00:00Z\n"
     ]
    },
    {
     "name": "stderr",
     "output_type": "stream",
     "text": [
      "www.wikidata.org (labels) Q7935918|P31|P1889|Q4167410\n",
      "Vishal (en) data\n",
      "{\n",
      "  claims: <dict(2)> P31, P1889\n",
      "  description: Wikimedia disambiguation page\n",
      "  label: Vishal\n",
      "  labels: <dict(4)> Q7935918, P31, P1889, Q4167410\n",
      "  modified: <dict(1)> wikidata\n",
      "  requests: <list(2)> wikidata, labels\n",
      "  title: Vishal\n",
      "  what: Wikimedia disambiguation page\n",
      "  wikibase: Q3099325\n",
      "  wikidata: <dict(2)> instance of (P31), different from (P1889)\n",
      "  wikidata_pageid: 2961791\n",
      "  wikidata_url: https://www.wikidata.org/wiki/Q3099325\n",
      "}\n",
      "www.wikidata.org (wikidata) Actor Karthi\n"
     ]
    },
    {
     "name": "stdout",
     "output_type": "stream",
     "text": [
      "Vishal Didn't find the gender\n",
      "Vishal Didn't find the date of birth\n",
      "Vishal Didn't find any data\n",
      "Actor Karthi Didn't find any data\n"
     ]
    },
    {
     "name": "stderr",
     "output_type": "stream",
     "text": [
      "www.wikidata.org (wikidata) Jairam Ramesh\n",
      "www.wikidata.org (labels) Q980917|Q63988844|P3602|P2013|Q17324844...\n",
      "en.wikipedia.org (imageinfo) File:Jairam ramesh.jpg\n",
      "Jairam Ramesh (en) data\n",
      "{\n",
      "  claims: <dict(26)> P21, P214, P213, P373, P227, P244, P102, P69,...\n",
      "  description: Indian politician\n",
      "  image: <list(1)> {'file': 'File:Jairam ramesh.jpg', 'kind': 'wik...\n",
      "  label: Jairam Ramesh\n",
      "  labels: <dict(42)> Q980917, Q63988844, P3602, P2013, Q17324844, ...\n",
      "  modified: <dict(1)> wikidata\n",
      "  requests: <list(3)> wikidata, labels, imageinfo\n",
      "  title: Jairam_Ramesh\n",
      "  what: human\n",
      "  wikibase: Q907912\n",
      "  wikidata: <dict(26)> sex or gender (P21), VIAF ID (P214), ISNI (...\n",
      "  wikidata_pageid: 858605\n",
      "  wikidata_url: https://www.wikidata.org/wiki/Q907912\n",
      "}\n",
      "www.wikidata.org (wikidata) Salman Anees Soz\n"
     ]
    },
    {
     "name": "stdout",
     "output_type": "stream",
     "text": [
      "male (Q6581097) ['economist (Q188094)', 'politician (Q82955)'] +1954-04-09T00:00:00Z\n",
      "Salman Anees Soz Didn't find any data\n"
     ]
    },
    {
     "name": "stderr",
     "output_type": "stream",
     "text": [
      "www.wikidata.org (wikidata) Dr. G Parameshwara\n"
     ]
    },
    {
     "name": "stdout",
     "output_type": "stream",
     "text": [
      "Dr. G Parameshwara Didn't find any data\n"
     ]
    },
    {
     "name": "stderr",
     "output_type": "stream",
     "text": [
      "www.wikidata.org (wikidata) H D Kumaraswamy\n"
     ]
    },
    {
     "name": "stdout",
     "output_type": "stream",
     "text": [
      "H D Kumaraswamy Didn't find any data\n"
     ]
    },
    {
     "name": "stderr",
     "output_type": "stream",
     "text": [
      "www.wikidata.org (wikidata) Siddaramaiah\n",
      "www.wikidata.org (labels) Q9089|P18|P569|Q53761260|P19|Q24525419|...\n",
      "en.wikipedia.org (imageinfo) File:Siddaramaiah.jpg\n",
      "Siddaramaiah (en) data\n",
      "{\n",
      "  aliases: <list(2)> K. Siddaramaiah, S. Siddaramaiah\n",
      "  claims: <dict(12)> P102, P31, P140, P21, P39, P18, P569, P106, P...\n",
      "  description: 22nd Chief Minister of Karnataka state in South India\n",
      "  image: <list(1)> {'file': 'File:Siddaramaiah.jpg', 'kind': 'wiki...\n",
      "  label: Siddaramaiah\n",
      "  labels: <dict(21)> Q9089, P18, P569, Q53761260, P19, Q24525419, ...\n",
      "  modified: <dict(1)> wikidata\n",
      "  requests: <list(3)> wikidata, labels, imageinfo\n",
      "  title: Siddaramaiah\n",
      "  what: human\n",
      "  wikibase: Q7508046\n",
      "  wikidata: <dict(12)> member of political party (P102), instance ...\n",
      "  wikidata_pageid: 7421749\n",
      "  wikidata_url: https://www.wikidata.org/wiki/Q7508046\n",
      "}\n",
      "www.wikidata.org (wikidata) DK Shivakumar\n"
     ]
    },
    {
     "name": "stdout",
     "output_type": "stream",
     "text": [
      "male (Q6581097) politician (Q82955) +1948-08-12T00:00:00Z\n",
      "DK Shivakumar Didn't find any data\n"
     ]
    },
    {
     "name": "stderr",
     "output_type": "stream",
     "text": [
      "www.wikidata.org (wikidata) Ravi Shankar Prasad\n",
      "www.wikidata.org (labels) Q40348|Q9089|Q6581097|P2013|Q2133692|Q1...\n",
      "en.wikipedia.org (imageinfo) File:Ravi Shankar Prasad At Office.jpg\n",
      "Ravi Shankar Prasad (en) data\n",
      "{\n",
      "  claims: <dict(16)> P102, P31, P569, P19, P106, P646, P27, P21, P...\n",
      "  description: Indian politician\n",
      "  image: <list(1)> {'file': 'File:Ravi Shankar Prasad At Office.jp...\n",
      "  label: Ravi Shankar Prasad\n",
      "  labels: <dict(29)> Q40348, Q9089, Q6581097, P2013, Q2133692, Q17...\n",
      "  modified: <dict(1)> wikidata\n",
      "  requests: <list(3)> wikidata, labels, imageinfo\n",
      "  title: Ravi_Shankar_Prasad\n",
      "  what: human\n",
      "  wikibase: Q3630922\n",
      "  wikidata: <dict(16)> member of political party (P102), instance ...\n",
      "  wikidata_pageid: 3458471\n",
      "  wikidata_url: https://www.wikidata.org/wiki/Q3630922\n",
      "}\n",
      "www.wikidata.org (wikidata) Suresh Prabhu\n"
     ]
    },
    {
     "name": "stdout",
     "output_type": "stream",
     "text": [
      "male (Q6581097) ['politician (Q82955)', 'lawyer (Q40348)'] +1954-08-30T00:00:00Z\n"
     ]
    },
    {
     "name": "stderr",
     "output_type": "stream",
     "text": [
      "www.wikidata.org (labels) Q66568|Q6866058|P2013|Q17324844|P18|P56...\n",
      "en.wikipedia.org (imageinfo) File:The Union Minister for Commerce...\n",
      "Suresh Prabhu (en) data\n",
      "{\n",
      "  aliases: <list(1)> Suresh Prabhakar Prabhu\n",
      "  claims: <dict(18)> P102, P31, P19, P856, P569, P39, P27, P106, P...\n",
      "  description: Indian politician\n",
      "  image: <list(1)> {'file': 'File:The Union Minister for Commerce ...\n",
      "  label: Suresh Prabhu\n",
      "  labels: <dict(34)> Q66568, Q6866058, P2013, Q17324844, P18, P569...\n",
      "  modified: <dict(1)> wikidata\n",
      "  requests: <list(3)> wikidata, labels, imageinfo\n",
      "  title: Suresh_Prabhu\n",
      "  what: human\n",
      "  wikibase: Q7645772\n",
      "  wikidata: <dict(18)> member of political party (P102), instance ...\n",
      "  wikidata_pageid: 7567810\n",
      "  wikidata_url: https://www.wikidata.org/wiki/Q7645772\n",
      "}\n",
      "www.wikidata.org (wikidata) Ram Madhav\n"
     ]
    },
    {
     "name": "stdout",
     "output_type": "stream",
     "text": [
      "male (Q6581097) politician (Q82955) +1953-07-11T00:00:00Z\n"
     ]
    },
    {
     "name": "stderr",
     "output_type": "stream",
     "text": [
      "www.wikidata.org (labels) Q9089|Q1370721|P18|P569|P19|P214|Q58862...\n",
      "en.wikipedia.org (imageinfo) File:Ram Madhav.jpg\n",
      "Ram Madhav (en) data\n",
      "{\n",
      "  claims: <dict(16)> P31, P21, P569, P27, P69, P735, P214, P106, P...\n",
      "  description: Indian politician\n",
      "  image: <list(1)> {'file': 'File:Ram Madhav.jpg', 'kind': 'wikida...\n",
      "  label: Ram Madhav\n",
      "  labels: <dict(25)> Q9089, Q1370721, P18, P569, P19, P214, Q58862...\n",
      "  modified: <dict(1)> wikidata\n",
      "  requests: <list(3)> wikidata, labels, imageinfo\n",
      "  title: Ram_Madhav\n",
      "  what: human\n",
      "  wikibase: Q7288518\n",
      "  wikidata: <dict(16)> instance of (P31), sex or gender (P21), dat...\n",
      "  wikidata_pageid: 7193278\n",
      "  wikidata_url: https://www.wikidata.org/wiki/Q7288518\n",
      "}\n",
      "www.wikidata.org (wikidata) GVL Narasimha Rao\n"
     ]
    },
    {
     "name": "stdout",
     "output_type": "stream",
     "text": [
      "male (Q6581097) politician (Q82955) +1965-04-22T00:00:00Z\n",
      "GVL Narasimha Rao Didn't find any data\n"
     ]
    },
    {
     "name": "stderr",
     "output_type": "stream",
     "text": [
      "www.wikidata.org (wikidata) G Kishan Reddy\n"
     ]
    },
    {
     "name": "stdout",
     "output_type": "stream",
     "text": [
      "G Kishan Reddy Didn't find any data\n"
     ]
    },
    {
     "name": "stderr",
     "output_type": "stream",
     "text": [
      "www.wikidata.org (wikidata) Raja Singh\n"
     ]
    },
    {
     "name": "stdout",
     "output_type": "stream",
     "text": [
      "Raja Singh Didn't find any data\n"
     ]
    },
    {
     "name": "stderr",
     "output_type": "stream",
     "text": [
      "www.wikidata.org (wikidata) Dr K Laxman\n"
     ]
    },
    {
     "name": "stdout",
     "output_type": "stream",
     "text": [
      "Dr K Laxman Didn't find any data\n"
     ]
    },
    {
     "name": "stderr",
     "output_type": "stream",
     "text": [
      "www.wikidata.org (wikidata) Sanjay Jha\n"
     ]
    },
    {
     "name": "stdout",
     "output_type": "stream",
     "text": [
      "Sanjay Jha Didn't find any data\n"
     ]
    },
    {
     "name": "stderr",
     "output_type": "stream",
     "text": [
      "www.wikidata.org (wikidata) Rahul Gandhi\n",
      "www.wikidata.org (labels) P22|P53|P3221|Q9089|P109|P3602|P1449|Q6...\n",
      "www.wikidata.org (labels) P1741|P25|P373|P106|Q82955|P39|P735|Q50...\n",
      "en.wikipedia.org (imageinfo) File:Rahul Gandhi.jpg\n",
      "Rahul Gandhi (en) data\n",
      "{\n",
      "  aliases: <list(1)> RG\n",
      "  claims: <dict(43)> P22, P25, P214, P213, P373, P244, P227, P569,...\n",
      "  description: Indian Politician\n",
      "  image: <list(1)> {'file': 'File:Rahul Gandhi.jpg', 'kind': 'wiki...\n",
      "  label: Rahul Gandhi\n",
      "  labels: <dict(69)> P22, P53, P3221, Q9089, P109, P3602, P1449, Q...\n",
      "  modified: <dict(1)> wikidata\n",
      "  requests: <list(4)> wikidata, labels, labels, imageinfo\n",
      "  title: Rahul_Gandhi\n",
      "  what: human\n",
      "  wikibase: Q10218\n",
      "  wikidata: <dict(43)> father (P22), mother (P25), VIAF ID (P214),...\n",
      "  wikidata_pageid: 11623\n",
      "  wikidata_url: https://www.wikidata.org/wiki/Q10218\n",
      "}\n",
      "www.wikidata.org (wikidata) Randeep Singh Surjewala\n"
     ]
    },
    {
     "name": "stdout",
     "output_type": "stream",
     "text": [
      "male (Q6581097) politician (Q82955) +1970-06-19T00:00:00Z\n",
      "Randeep Singh Surjewala Didn't find any data\n"
     ]
    },
    {
     "name": "stderr",
     "output_type": "stream",
     "text": [
      "www.wikidata.org (wikidata) Jyotiraditya M. Scindia\n"
     ]
    },
    {
     "name": "stdout",
     "output_type": "stream",
     "text": [
      "Jyotiraditya M. Scindia Didn't find any data\n"
     ]
    },
    {
     "name": "stderr",
     "output_type": "stream",
     "text": [
      "www.wikidata.org (wikidata) Sharmistha Mukherjee\n",
      "www.wikidata.org (labels) P22|P18|P569|Q4667397|P19|P3373|Q10225|...\n",
      "en.wikipedia.org (imageinfo) File:Sharmistha Mukherjee.jpg\n",
      "Sharmistha Mukherjee (en) data\n",
      "{\n",
      "  claims: <dict(11)> P31, P21, P27, P106, P18, P22, P25, P102, P33...\n",
      "  description: Indian politician\n",
      "  image: <list(1)> {'file': 'File:Sharmistha Mukherjee.jpg', 'kind...\n",
      "  label: Sharmistha Mukherjee\n",
      "  labels: <dict(20)> P22, P18, P569, Q4667397, P19, P3373, Q10225,...\n",
      "  modified: <dict(1)> wikidata\n",
      "  requests: <list(3)> wikidata, labels, imageinfo\n",
      "  title: Sharmistha_Mukherjee\n",
      "  what: human\n",
      "  wikibase: Q17411301\n",
      "  wikidata: <dict(11)> instance of (P31), sex or gender (P21), cou...\n",
      "  wikidata_pageid: 19007555\n",
      "  wikidata_url: https://www.wikidata.org/wiki/Q17411301\n",
      "}\n",
      "www.wikidata.org (wikidata) Ashok Gehlot\n"
     ]
    },
    {
     "name": "stdout",
     "output_type": "stream",
     "text": [
      "female (Q6581072) politician (Q82955) +1965-10-30T00:00:00Z\n"
     ]
    },
    {
     "name": "stderr",
     "output_type": "stream",
     "text": [
      "www.wikidata.org (labels) Q200019|P793|P18|P569|Q42722842|P19|Q10...\n",
      "en.wikipedia.org (imageinfo) File:Mr. Ashok Gehlot, Chief Ministe...\n",
      "Ashok Gehlot (en) data\n",
      "{\n",
      "  claims: <dict(12)> P102, P31, P19, P569, P18, P39, P27, P21, P10...\n",
      "  description: Indian politician\n",
      "  image: <list(1)> {'file': 'File:Mr. Ashok Gehlot, Chief Minister...\n",
      "  label: Ashok Gehlot\n",
      "  labels: <dict(23)> Q200019, P793, P18, P569, Q42722842, P19, Q10...\n",
      "  modified: <dict(1)> wikidata\n",
      "  requests: <list(3)> wikidata, labels, imageinfo\n",
      "  title: Ashok_Gehlot\n",
      "  what: human\n",
      "  wikibase: Q3345004\n",
      "  wikidata: <dict(12)> member of political party (P102), instance ...\n",
      "  wikidata_pageid: 3188724\n",
      "  wikidata_url: https://www.wikidata.org/wiki/Q3345004\n",
      "}\n",
      "www.wikidata.org (wikidata) Abhishek Singhvi\n"
     ]
    },
    {
     "name": "stdout",
     "output_type": "stream",
     "text": [
      "male (Q6581097) politician (Q82955) +1951-05-03T00:00:00Z\n"
     ]
    },
    {
     "name": "stderr",
     "output_type": "stream",
     "text": [
      "www.wikidata.org (labels) Q7450670|Q5289309|P109|Q200019|Q4765635...\n",
      "en.wikipedia.org (imageinfo) File:Abhishek Manu Singhvi at the In...\n",
      "Abhishek Singhvi (en) data\n",
      "{\n",
      "  claims: <dict(16)> P27, P102, P31, P21, P18, P569, P69, P109, P2...\n",
      "  description: Indian politician\n",
      "  image: <list(1)> {'file': 'File:Abhishek Manu Singhvi at the Ind...\n",
      "  label: Abhishek Manu Singhvi\n",
      "  labels: <dict(30)> Q7450670, Q5289309, P109, Q200019, Q4765635, ...\n",
      "  modified: <dict(1)> wikidata\n",
      "  requests: <list(3)> wikidata, labels, imageinfo\n",
      "  title: Abhishek_Singhvi\n",
      "  what: human\n",
      "  wikibase: Q3530233\n",
      "  wikidata: <dict(16)> country of citizenship (P27), member of pol...\n",
      "  wikidata_pageid: 3361023\n",
      "  wikidata_url: https://www.wikidata.org/wiki/Q3530233\n",
      "}\n",
      "www.wikidata.org (wikidata) P. Chidambaram\n"
     ]
    },
    {
     "name": "stdout",
     "output_type": "stream",
     "text": [
      "male (Q6581097) ['senior counsel (Q7450670)', 'politician (Q82955)'] +1959-02-24T00:00:00Z\n"
     ]
    },
    {
     "name": "stderr",
     "output_type": "stream",
     "text": [
      "www.wikidata.org (labels) Q40348|Q3440901|Q9089|P2013|Q17324844|P...\n",
      "en.wikipedia.org (imageinfo) File:Palaniappan Chidambaram - World...\n",
      "P. Chidambaram (en) data\n",
      "{\n",
      "  aliases: <list(1)> Palaniappan Chidambaram\n",
      "  claims: <dict(24)> P21, P373, P569, P102, P69, P31, P39, P646, P...\n",
      "  description: Indian politician\n",
      "  image: <list(1)> {'file': 'File:Palaniappan Chidambaram - World ...\n",
      "  label: P. Chidambaram\n",
      "  labels: <dict(50)> Q40348, Q3440901, Q9089, P2013, Q17324844, P1...\n",
      "  modified: <dict(1)> wikidata\n",
      "  requests: <list(3)> wikidata, labels, imageinfo\n",
      "  title: P._Chidambaram\n",
      "  what: human\n",
      "  wikibase: Q377358\n",
      "  wikidata: <dict(24)> sex or gender (P21), Commons category (P373...\n",
      "  wikidata_pageid: 359142\n",
      "  wikidata_url: https://www.wikidata.org/wiki/Q377358\n",
      "}\n",
      "www.wikidata.org (wikidata) Ahmed Patel\n"
     ]
    },
    {
     "name": "stdout",
     "output_type": "stream",
     "text": [
      "male (Q6581097) ['politician (Q82955)', 'lawyer (Q40348)'] +1945-09-16T00:00:00Z\n"
     ]
    },
    {
     "name": "stderr",
     "output_type": "stream",
     "text": [
      "www.wikidata.org (labels) Q2773403|Q760153|Q18607893|P2013|Q17324...\n",
      "en.wikipedia.org (imageinfo) File:Ahmed Patel..jpeg\n",
      "Ahmed Patel (en) data\n",
      "{\n",
      "  claims: <dict(17)> P102, P31, P19, P569, P21, P39, P27, P106, P1...\n",
      "  description: senior leader of Indian National Congress party\n",
      "  image: <list(1)> {'file': 'File:Ahmed Patel..jpeg', 'kind': 'wik...\n",
      "  label: Ahmed Patel\n",
      "  labels: <dict(28)> Q2773403, Q760153, Q18607893, P2013, Q1732484...\n",
      "  modified: <dict(1)> wikidata\n",
      "  requests: <list(3)> wikidata, labels, imageinfo\n",
      "  title: Ahmed_Patel\n",
      "  what: human\n",
      "  wikibase: Q1850695\n",
      "  wikidata: <dict(17)> member of political party (P102), instance ...\n",
      "  wikidata_pageid: 1781224\n",
      "  wikidata_url: https://www.wikidata.org/wiki/Q1850695\n",
      "}\n",
      "www.wikidata.org (wikidata) Anand Sharma\n"
     ]
    },
    {
     "name": "stdout",
     "output_type": "stream",
     "text": [
      "male (Q6581097) politician (Q82955) +1949-08-21T00:00:00Z\n"
     ]
    },
    {
     "name": "stderr",
     "output_type": "stream",
     "text": [
      "www.wikidata.org (labels) P2013|Q17324844|Q83786|P18|P569|P1207|P...\n",
      "en.wikipedia.org (imageinfo) File:Anand Sharma - World Economic F...\n",
      "Anand Sharma (en) data\n",
      "{\n",
      "  claims: <dict(25)> P214, P373, P102, P69, P31, P569, P39, P27, P...\n",
      "  description: Indian politician\n",
      "  image: <list(1)> {'file': 'File:Anand Sharma - World Economic Fo...\n",
      "  label: Anand Sharma\n",
      "  labels: <dict(35)> P2013, Q17324844, Q83786, P18, P569, P1207, P...\n",
      "  modified: <dict(1)> wikidata\n",
      "  requests: <list(3)> wikidata, labels, imageinfo\n",
      "  title: Anand_Sharma\n",
      "  what: human\n",
      "  wikibase: Q755831\n",
      "  wikidata: <dict(25)> VIAF ID (P214), Commons category (P373), me...\n",
      "  wikidata_pageid: 710980\n",
      "  wikidata_url: https://www.wikidata.org/wiki/Q755831\n",
      "}\n",
      "www.wikidata.org (wikidata) Sanjay Nirupam\n"
     ]
    },
    {
     "name": "stdout",
     "output_type": "stream",
     "text": [
      "male (Q6581097) politician (Q82955) +1953-01-05T00:00:00Z\n"
     ]
    },
    {
     "name": "stderr",
     "output_type": "stream",
     "text": [
      "www.wikidata.org (labels) Q23663369|Q17324844|P18|P569|P19|Q10225...\n",
      "en.wikipedia.org (imageinfo) File:Sanjay Nirupam.jpg\n",
      "Sanjay Nirupam (en) data\n",
      "{\n",
      "  claims: <dict(11)> P102, P31, P19, P106, P27, P569, P39, P18, P2...\n",
      "  description: Indian politician\n",
      "  image: <list(1)> {'file': 'File:Sanjay Nirupam.jpg', 'kind': 'wi...\n",
      "  label: Sanjay Nirupam\n",
      "  labels: <dict(20)> Q23663369, Q17324844, P18, P569, P19, Q10225,...\n",
      "  modified: <dict(1)> wikidata\n",
      "  requests: <list(3)> wikidata, labels, imageinfo\n",
      "  title: Sanjay_Nirupam\n",
      "  what: human\n",
      "  wikibase: Q7418456\n",
      "  wikidata: <dict(11)> member of political party (P102), instance ...\n",
      "  wikidata_pageid: 7328856\n",
      "  wikidata_url: https://www.wikidata.org/wiki/Q7418456\n",
      "}\n",
      "www.wikidata.org (wikidata) Manish Tewari\n"
     ]
    },
    {
     "name": "stdout",
     "output_type": "stream",
     "text": [
      "male (Q6581097) politician (Q82955) +1965-02-06T00:00:00Z\n"
     ]
    },
    {
     "name": "stderr",
     "output_type": "stream",
     "text": [
      "www.wikidata.org (labels) P2002|P18|P569|Q56051771|P19|P214|Q1022...\n",
      "en.wikipedia.org (imageinfo) File:Manish Tewari 2014.jpg\n",
      "Manish Tewari (en) data\n",
      "{\n",
      "  claims: <dict(17)> P102, P31, P106, P27, P569, P39, P21, P2002, ...\n",
      "  description: Indian politician\n",
      "  image: <list(1)> {'file': 'File:Manish Tewari 2014.jpg', 'kind':...\n",
      "  label: Manish Tewari\n",
      "  labels: <dict(27)> P2002, P18, P569, Q56051771, P19, P214, Q1022...\n",
      "  modified: <dict(1)> wikidata\n",
      "  requests: <list(3)> wikidata, labels, imageinfo\n",
      "  title: Manish_Tewari\n",
      "  what: human\n",
      "  wikibase: Q6749904\n",
      "  wikidata: <dict(17)> member of political party (P102), instance ...\n",
      "  wikidata_pageid: 6593662\n",
      "  wikidata_url: https://www.wikidata.org/wiki/Q6749904\n",
      "}\n",
      "www.wikidata.org (wikidata) Pavan Khera\n"
     ]
    },
    {
     "name": "stdout",
     "output_type": "stream",
     "text": [
      "male (Q6581097) politician (Q82955) +1965-12-08T00:00:00Z\n",
      "Pavan Khera Didn't find any data\n"
     ]
    },
    {
     "name": "stderr",
     "output_type": "stream",
     "text": [
      "www.wikidata.org (wikidata) Sambit Patra\n",
      "www.wikidata.org (labels) Q9089|Q774306|Q7503865|P569|P18|P19|Q10...\n",
      "en.wikipedia.org (imageinfo) File:Zee News live debate, Rajpath, ...\n",
      "Sambit Patra (en) data\n",
      "{\n",
      "  claims: <dict(11)> P21, P31, P569, P106, P27, P102, P19, P140, P...\n",
      "  description: Indian politician, BJP National Spokperson\n",
      "  image: <list(1)> {'file': 'File:Zee News live debate, Rajpath, I...\n",
      "  label: Sambit Patra\n",
      "  labels: <dict(21)> Q9089, Q774306, Q7503865, P569, P18, P19, Q10...\n",
      "  modified: <dict(1)> wikidata\n",
      "  requests: <list(3)> wikidata, labels, imageinfo\n",
      "  title: Sambit_Patra\n",
      "  what: human\n",
      "  wikibase: Q18226273\n",
      "  wikidata: <dict(11)> sex or gender (P21), instance of (P31), dat...\n",
      "  wikidata_pageid: 19755326\n",
      "  wikidata_url: https://www.wikidata.org/wiki/Q18226273\n",
      "}\n",
      "www.wikidata.org (wikidata) Shanvi Srivastava\n"
     ]
    },
    {
     "name": "stdout",
     "output_type": "stream",
     "text": [
      "male (Q6581097) ['politician (Q82955)', 'surgeon (Q774306)'] +1974-12-13T00:00:00Z\n"
     ]
    },
    {
     "name": "stderr",
     "output_type": "stream",
     "text": [
      "www.wikidata.org (labels) P2604|P2013|P2002|P569|P345|P19|P3373|P...\n",
      "Shanvi Srivastava (en) data\n",
      "{\n",
      "  claims: <dict(15)> P31, P21, P106, P27, P345, P2003, P2002, P201...\n",
      "  description: Indian Actress\n",
      "  label: Shanvi Srivastava\n",
      "  labels: <dict(21)> P2604, P2013, P2002, P569, P345, P19, P3373, ...\n",
      "  modified: <dict(1)> wikidata\n",
      "  requests: <list(2)> wikidata, labels\n",
      "  title: Shanvi_Srivastava\n",
      "  what: human\n",
      "  wikibase: Q16199660\n",
      "  wikidata: <dict(15)> instance of (P31), sex or gender (P21), occ...\n",
      "  wikidata_pageid: 17826291\n",
      "  wikidata_url: https://www.wikidata.org/wiki/Q16199660\n",
      "}\n",
      "www.wikidata.org (wikidata) Pragya Jaiswal\n"
     ]
    },
    {
     "name": "stdout",
     "output_type": "stream",
     "text": [
      "female (Q6581072) actor (Q33999) +1992-12-08T00:00:00Z\n"
     ]
    },
    {
     "name": "stderr",
     "output_type": "stream",
     "text": [
      "www.wikidata.org (labels) P2604|P2013|P2002|P18|P569|P345|P19|Q20...\n",
      "en.wikipedia.org (imageinfo) File:Pragya Jaiswal CCL.jpg\n",
      "Pragya Jaiswal (en) data\n",
      "{\n",
      "  claims: <dict(17)> P31, P21, P345, P106, P18, P19, P27, P2604, P...\n",
      "  description: Indian actress\n",
      "  image: <list(1)> {'file': 'File:Pragya Jaiswal CCL.jpg', 'kind':...\n",
      "  label: Pragya Jaiswal\n",
      "  labels: <dict(24)> P2604, P2013, P2002, P18, P569, P345, P19, Q2...\n",
      "  modified: <dict(1)> wikidata\n",
      "  requests: <list(3)> wikidata, labels, imageinfo\n",
      "  title: Pragya_Jaiswal\n",
      "  what: human\n",
      "  wikibase: Q20649445\n",
      "  wikidata: <dict(17)> instance of (P31), sex or gender (P21), IMD...\n",
      "  wikidata_pageid: 22396635\n",
      "  wikidata_url: https://www.wikidata.org/wiki/Q20649445\n",
      "}\n",
      "www.wikidata.org (wikidata) Sushanth A\n"
     ]
    },
    {
     "name": "stdout",
     "output_type": "stream",
     "text": [
      "female (Q6581072) ['actor (Q33999)', 'model (Q4610556)'] +1991-01-12T00:00:00Z\n",
      "Sushanth A Didn't find any data\n"
     ]
    },
    {
     "name": "stderr",
     "output_type": "stream",
     "text": [
      "www.wikidata.org (wikidata) Sumanth\n",
      "www.wikidata.org (labels) Q5149662|P2013|Q1361|P2002|P18|P569|P26...\n",
      "en.wikipedia.org (imageinfo) File:Happy-Birthday-Sumanths.jpg\n",
      "Sumanth (en) data\n",
      "{\n",
      "  claims: <dict(16)> P31, P19, P569, P21, P106, P27, P26, P2002, P...\n",
      "  description: Telugu film actor\n",
      "  image: <list(1)> {'file': 'File:Happy-Birthday-Sumanths.jpg', 'k...\n",
      "  label: Sumanth\n",
      "  labels: <dict(23)> Q5149662, P2013, Q1361, P2002, P18, P569, P26...\n",
      "  modified: <dict(1)> wikidata\n",
      "  requests: <list(3)> wikidata, labels, imageinfo\n",
      "  title: Sumanth\n",
      "  what: human\n",
      "  wikibase: Q7636956\n",
      "  wikidata: <dict(16)> instance of (P31), place of birth (P19), da...\n",
      "  wikidata_pageid: 7558200\n",
      "  wikidata_url: https://www.wikidata.org/wiki/Q7636956\n",
      "}\n",
      "www.wikidata.org (wikidata) Sachin Pilot\n"
     ]
    },
    {
     "name": "stdout",
     "output_type": "stream",
     "text": [
      "male (Q6581097) actor (Q33999) ['+1975-02-09T00:00:00Z', '+1976-02-09T00:00:00Z']\n"
     ]
    },
    {
     "name": "stderr",
     "output_type": "stream",
     "text": [
      "www.wikidata.org (labels) P22|Q5289309|P3602|P793|Q665105|Q728608...\n",
      "en.wikipedia.org (imageinfo) File:Sachin Pilot at the India Econo...\n",
      "Sachin Pilot (en) data\n",
      "{\n",
      "  claims: <dict(23)> P214, P102, P69, P31, P19, P106, P27, P569, P...\n",
      "  description: Indian Politician, born 1977\n",
      "  image: <list(1)> {'file': 'File:Sachin Pilot at the India Econom...\n",
      "  label: Sachin Pilot\n",
      "  labels: <dict(40)> P22, Q5289309, P3602, P793, Q665105, Q7286080...\n",
      "  modified: <dict(1)> wikidata\n",
      "  requests: <list(3)> wikidata, labels, imageinfo\n",
      "  title: Sachin_Pilot\n",
      "  what: human\n",
      "  wikibase: Q314351\n",
      "  wikidata: <dict(23)> VIAF ID (P214), member of political party (...\n",
      "  wikidata_pageid: 302223\n",
      "  wikidata_url: https://www.wikidata.org/wiki/Q314351\n",
      "}\n",
      "www.wikidata.org (wikidata) Dr. Ragini Nayak\n"
     ]
    },
    {
     "name": "stdout",
     "output_type": "stream",
     "text": [
      "male (Q6581097) politician (Q82955) +1977-09-07T00:00:00Z\n",
      "Dr. Ragini Nayak Didn't find any data\n"
     ]
    },
    {
     "name": "stderr",
     "output_type": "stream",
     "text": [
      "www.wikidata.org (wikidata) Ajay Maken\n",
      "www.wikidata.org (labels) Q24461612|Q665105|P2002|P18|P569|Q1353|...\n",
      "en.wikipedia.org (imageinfo) File:Ajay Maken at NDTV Sports event.jpg\n",
      "Ajay Maken (en) data\n",
      "{\n",
      "  claims: <dict(15)> P373, P102, P31, P19, P39, P569, P106, P27, P...\n",
      "  description: Indian politician\n",
      "  image: <list(1)> {'file': 'File:Ajay Maken at NDTV Sports event....\n",
      "  label: Ajay Maken\n",
      "  labels: <dict(27)> Q24461612, Q665105, P2002, P18, P569, Q1353, ...\n",
      "  modified: <dict(1)> wikidata\n",
      "  requests: <list(3)> wikidata, labels, imageinfo\n",
      "  title: Ajay_Maken\n",
      "  what: human\n",
      "  wikibase: Q3595205\n",
      "  wikidata: <dict(15)> Commons category (P373), member of politica...\n",
      "  wikidata_pageid: 3423533\n",
      "  wikidata_url: https://www.wikidata.org/wiki/Q3595205\n",
      "}\n",
      "www.wikidata.org (wikidata) Akhilesh P. Singh\n"
     ]
    },
    {
     "name": "stdout",
     "output_type": "stream",
     "text": [
      "male (Q6581097) ['politician (Q82955)', 'trade unionist (Q15627169)'] +1964-01-12T00:00:00Z\n",
      "Akhilesh P. Singh Didn't find any data\n"
     ]
    },
    {
     "name": "stderr",
     "output_type": "stream",
     "text": [
      "www.wikidata.org (wikidata) Sharmishta Mukherjee\n"
     ]
    },
    {
     "name": "stdout",
     "output_type": "stream",
     "text": [
      "Sharmishta Mukherjee Didn't find any data\n"
     ]
    },
    {
     "name": "stderr",
     "output_type": "stream",
     "text": [
      "www.wikidata.org (wikidata) Pawan Khera\n"
     ]
    },
    {
     "name": "stdout",
     "output_type": "stream",
     "text": [
      "Pawan Khera Didn't find any data\n"
     ]
    },
    {
     "name": "stderr",
     "output_type": "stream",
     "text": [
      "www.wikidata.org (wikidata) Kapil Sibal\n",
      "www.wikidata.org (labels) Q40348|Q5289309|Q9089|P109|Q6581097|P36...\n",
      "en.wikipedia.org (imageinfo) File:Kapil Sibal.jpg\n",
      "Kapil Sibal (en) data\n",
      "{\n",
      "  claims: <dict(24)> P18, P106, P27, P373, P214, P102, P69, P31, P...\n",
      "  description: Indian lawyer and politician\n",
      "  image: <list(1)> {'file': 'File:Kapil Sibal.jpg', 'kind': 'wikid...\n",
      "  label: Kapil Sibal\n",
      "  labels: <dict(43)> Q40348, Q5289309, Q9089, P109, Q6581097, P360...\n",
      "  modified: <dict(1)> wikidata\n",
      "  requests: <list(3)> wikidata, labels, imageinfo\n",
      "  title: Kapil_Sibal\n",
      "  what: human\n",
      "  wikibase: Q1206954\n",
      "  wikidata: <dict(24)> image (P18), occupation (P106), country of ...\n",
      "  wikidata_pageid: 1149498\n",
      "  wikidata_url: https://www.wikidata.org/wiki/Q1206954\n",
      "}\n",
      "www.wikidata.org (wikidata) Dr. C.P. Joshi\n"
     ]
    },
    {
     "name": "stdout",
     "output_type": "stream",
     "text": [
      "male (Q6581097) ['lawyer (Q40348)', 'politician (Q82955)'] +1948-08-08T00:00:00Z\n",
      "Dr. C.P. Joshi Didn't find any data\n"
     ]
    },
    {
     "name": "stderr",
     "output_type": "stream",
     "text": [
      "www.wikidata.org (wikidata) Sanjay Raut\n",
      "www.wikidata.org (labels) Q23663369|Q21934378|P2013|Q17324844|P18...\n",
      "en.wikipedia.org (imageinfo) File:Bappa Lahiri, Bappi Lahiri, Swa...\n",
      "Sanjay Raut (en) data\n",
      "{\n",
      "  claims: <dict(16)> P31, P569, P21, P39, P106, P27, P102, P18, P1...\n",
      "  description: Indian politician\n",
      "  image: <list(1)> {'file': 'File:Bappa Lahiri, Bappi Lahiri, Swap...\n",
      "  label: Sanjay Raut\n",
      "  labels: <dict(26)> Q23663369, Q21934378, P2013, Q17324844, P18, ...\n",
      "  modified: <dict(1)> wikidata\n",
      "  requests: <list(3)> wikidata, labels, imageinfo\n",
      "  title: Sanjay_Raut\n",
      "  what: human\n",
      "  wikibase: Q7418472\n",
      "  wikidata: <dict(16)> instance of (P31), date of birth (P569), se...\n",
      "  wikidata_pageid: 7328873\n",
      "  wikidata_url: https://www.wikidata.org/wiki/Q7418472\n",
      "}\n",
      "www.wikidata.org (wikidata) Raj Thackeray\n"
     ]
    },
    {
     "name": "stdout",
     "output_type": "stream",
     "text": [
      "male (Q6581097) politician (Q82955) +1961-11-15T00:00:00Z\n"
     ]
    },
    {
     "name": "stderr",
     "output_type": "stream",
     "text": [
      "www.wikidata.org (labels) Q3140347|Q9089|P18|P569|P19|Q29583032|P...\n",
      "en.wikipedia.org (imageinfo) File:Raj Thackeray2.jpg\n",
      "Raj Thackeray (en) data\n",
      "{\n",
      "  aliases: <list(2)> Raj Shrikant Thackeray, Sharmila Thackeray\n",
      "  claims: <dict(15)> P19, P373, P102, P31, P69, P21, P569, P27, P1...\n",
      "  description: Indian politician\n",
      "  image: <list(1)> {'file': 'File:Raj Thackeray2.jpg', 'kind': 'wi...\n",
      "  label: Raj Thackeray\n",
      "  labels: <dict(24)> Q3140347, Q9089, P18, P569, P19, Q29583032, P...\n",
      "  modified: <dict(1)> wikidata\n",
      "  requests: <list(3)> wikidata, labels, imageinfo\n",
      "  title: Raj_Thackeray\n",
      "  what: human\n",
      "  wikibase: Q3088558\n",
      "  wikidata: <dict(15)> place of birth (P19), Commons category (P37...\n",
      "  wikidata_pageid: 2951816\n",
      "  wikidata_url: https://www.wikidata.org/wiki/Q3088558\n",
      "}\n",
      "www.wikidata.org (wikidata) Uddhav Thackeray\n"
     ]
    },
    {
     "name": "stdout",
     "output_type": "stream",
     "text": [
      "male (Q6581097) politician (Q82955) +1968-06-14T00:00:00Z\n"
     ]
    },
    {
     "name": "stderr",
     "output_type": "stream",
     "text": [
      "www.wikidata.org (labels) P22|Q9089|Q221922|Q61193|P40|P18|P569|P...\n",
      "en.wikipedia.org (imageinfo) File:Uddhav thackeray 20090703.jpg\n",
      "Uddhav Thackeray (en) data\n",
      "{\n",
      "  aliases: <list(1)> उद्धव ठाकरे\n",
      "  claims: <dict(18)> P19, P22, P373, P214, P21, P27, P569, P102, P...\n",
      "  description: Indian politician\n",
      "  image: <list(1)> {'file': 'File:Uddhav thackeray 20090703.jpg', ...\n",
      "  label: Uddhav Thackeray\n",
      "  labels: <dict(29)> P22, Q9089, Q221922, Q61193, P40, P18, P569, ...\n",
      "  modified: <dict(1)> wikidata\n",
      "  requests: <list(3)> wikidata, labels, imageinfo\n",
      "  title: Uddhav_Thackeray\n",
      "  what: human\n",
      "  wikibase: Q3634346\n",
      "  wikidata: <dict(17)> place of birth (P19), father (P22), Commons...\n",
      "  wikidata_pageid: 3461819\n",
      "  wikidata_url: https://www.wikidata.org/wiki/Q3634346\n",
      "}\n",
      "www.wikidata.org (wikidata) MNS Adhikrut\n"
     ]
    },
    {
     "name": "stdout",
     "output_type": "stream",
     "text": [
      "male (Q6581097) politician (Q82955) +1960-07-27T00:00:00Z\n",
      "MNS Adhikrut Didn't find any data\n"
     ]
    },
    {
     "name": "stderr",
     "output_type": "stream",
     "text": [
      "www.wikidata.org (wikidata) CMO Maharashtra\n"
     ]
    },
    {
     "name": "stdout",
     "output_type": "stream",
     "text": [
      "CMO Maharashtra Didn't find any data\n"
     ]
    },
    {
     "name": "stderr",
     "output_type": "stream",
     "text": [
      "www.wikidata.org (wikidata) Lalu Prasad Yadav\n",
      "www.wikidata.org (labels) Q3176919|Q3503625|Q14317045|Q9089|Q6866...\n",
      "en.wikipedia.org (imageinfo) File:Lalu Prasad Yadav.jpg\n",
      "Lalu Prasad Yadav (en) data\n",
      "{\n",
      "  claims: <dict(26)> P21, P373, P569, P26, P102, P69, P31, P39, P4...\n",
      "  description: Indian politician\n",
      "  image: <list(1)> {'file': 'File:Lalu Prasad Yadav.jpg', 'kind': ...\n",
      "  label: Lalu Prasad Yadav\n",
      "  labels: <dict(44)> Q3176919, Q3503625, Q14317045, Q9089, Q686630...\n",
      "  modified: <dict(1)> wikidata\n",
      "  requests: <list(3)> wikidata, labels, imageinfo\n",
      "  title: Lalu_Prasad_Yadav\n",
      "  what: human\n",
      "  wikibase: Q561812\n",
      "  wikidata: <dict(26)> sex or gender (P21), Commons category (P373...\n",
      "  wikidata_pageid: 529104\n",
      "  wikidata_url: https://www.wikidata.org/wiki/Q561812\n",
      "}\n",
      "www.wikidata.org (wikidata) President Mukherjee\n"
     ]
    },
    {
     "name": "stdout",
     "output_type": "stream",
     "text": [
      "male (Q6581097) politician (Q82955) +1948-06-11T00:00:00Z\n",
      "President Mukherjee Didn't find any data\n"
     ]
    },
    {
     "name": "stderr",
     "output_type": "stream",
     "text": [
      "www.wikidata.org (wikidata) Vijay Rupani\n",
      "www.wikidata.org (labels) Q19845408|Q17324844|Q17582810|P569|P18|...\n",
      "en.wikipedia.org (imageinfo) File:The Chief Minister of Gujarat V...\n",
      "Vijay Rupani (en) data\n",
      "{\n",
      "  claims: <dict(14)> P102, P31, P106, P27, P569, P39, P21, P19, P1...\n",
      "  description: Indian politician\n",
      "  image: <list(1)> {'file': 'File:The Chief Minister of Gujarat Vi...\n",
      "  label: Vijay Rupani\n",
      "  labels: <dict(25)> Q19845408, Q17324844, Q17582810, P569, P18, P...\n",
      "  modified: <dict(1)> wikidata\n",
      "  requests: <list(3)> wikidata, labels, imageinfo\n",
      "  title: Vijay_Rupani\n",
      "  what: human\n",
      "  wikibase: Q7929316\n",
      "  wikidata: <dict(14)> member of political party (P102), instance ...\n",
      "  wikidata_pageid: 7868796\n",
      "  wikidata_url: https://www.wikidata.org/wiki/Q7929316\n",
      "}\n",
      "www.wikidata.org (wikidata) Dr Raman Singh\n"
     ]
    },
    {
     "name": "stdout",
     "output_type": "stream",
     "text": [
      "male (Q6581097) politician (Q82955) +1956-08-02T00:00:00Z\n",
      "Dr Raman Singh Didn't find any data\n"
     ]
    },
    {
     "name": "stderr",
     "output_type": "stream",
     "text": [
      "www.wikidata.org (wikidata) Raveesh Kumar\n",
      "www.wikidata.org (labels) P569|P21|P69|P106|P19|Q6919508|Q5|Q7607...\n",
      "en.wikipedia.org (imageinfo) File:CG-Raveesh-Kumar.jpg\n",
      "Raveesh Kumar (en) data\n",
      "{\n",
      "  claims: <dict(7)> P31, P569, P18, P19, P106, P21, P69\n",
      "  description: Official spokesperson for the MEA, India\n",
      "  image: <list(1)> {'file': 'File:CG-Raveesh-Kumar.jpg', 'kind': '...\n",
      "  label: Raveesh Kumar\n",
      "  labels: <dict(12)> P569, P21, P69, P106, P19, Q6919508, Q5, Q760...\n",
      "  modified: <dict(1)> wikidata\n",
      "  requests: <list(3)> wikidata, labels, imageinfo\n",
      "  title: Raveesh_Kumar\n",
      "  what: human\n",
      "  wikibase: Q35489166\n",
      "  wikidata: <dict(7)> instance of (P31), date of birth (P569), ima...\n",
      "  wikidata_pageid: 36900328\n",
      "  wikidata_url: https://www.wikidata.org/wiki/Q35489166\n",
      "}\n",
      "www.wikidata.org (wikidata) Manish Sisodia\n"
     ]
    },
    {
     "name": "stdout",
     "output_type": "stream",
     "text": [
      "male (Q6581097) diplomat (Q193391) +1971-01-26T00:00:00Z\n"
     ]
    },
    {
     "name": "stderr",
     "output_type": "stream",
     "text": [
      "www.wikidata.org (labels) Q129844|Q24461612|P2002|P18|P569|P3417|...\n",
      "en.wikipedia.org (imageinfo) File:Manish Sisodia.JPG\n",
      "Manish Sisodia (en) data\n",
      "{\n",
      "  claims: <dict(12)> P21, P106, P31, P569, P102, P735, P39, P3417,...\n",
      "  description: Indian politician\n",
      "  image: <list(1)> {'file': 'File:Manish Sisodia.JPG', 'kind': 'wi...\n",
      "  label: Manish Sisodia\n",
      "  labels: <dict(19)> Q129844, Q24461612, P2002, P18, P569, P3417, ...\n",
      "  modified: <dict(1)> wikidata\n",
      "  requests: <list(3)> wikidata, labels, imageinfo\n",
      "  title: Manish_Sisodia\n",
      "  what: human\n",
      "  wikibase: Q6749900\n",
      "  wikidata: <dict(12)> sex or gender (P21), occupation (P106), ins...\n",
      "  wikidata_pageid: 6593659\n",
      "  wikidata_url: https://www.wikidata.org/wiki/Q6749900\n",
      "}\n",
      "www.wikidata.org (wikidata) Tejashwi Yadav\n"
     ]
    },
    {
     "name": "stdout",
     "output_type": "stream",
     "text": [
      "male (Q6581097) politician (Q82955) +1972-01-05T00:00:00Z\n"
     ]
    },
    {
     "name": "stderr",
     "output_type": "stream",
     "text": [
      "www.wikidata.org (labels) Q3176919|P22|Q3503625|P641|P2013|P2002|...\n",
      "Tejashwi Yadav (en) data\n",
      "{\n",
      "  aliases: <list(1)> Tejashwi Prasad Yadav\n",
      "  claims: <dict(19)> P21, P569, P19, P22, P25, P106, P69, P27, P31...\n",
      "  description: Indian cricketer and politician\n",
      "  label: Tejashwi Yadav\n",
      "  labels: <dict(35)> Q3176919, P22, Q3503625, P641, P2013, P2002, ...\n",
      "  modified: <dict(1)> wikidata\n",
      "  requests: <list(2)> wikidata, labels\n",
      "  title: Tejashwi_Yadav\n",
      "  what: human\n",
      "  wikibase: Q14317045\n",
      "  wikidata: <dict(19)> sex or gender (P21), date of birth (P569), ...\n",
      "  wikidata_pageid: 15985736\n",
      "  wikidata_url: https://www.wikidata.org/wiki/Q14317045\n",
      "}\n",
      "www.wikidata.org (wikidata) Nirupama Menon Rao\n"
     ]
    },
    {
     "name": "stdout",
     "output_type": "stream",
     "text": [
      "male (Q6581097) ['cricketer (Q12299841)', 'politician (Q82955)'] +1988-11-09T00:00:00Z\n",
      "Nirupama Menon Rao Didn't find any data\n"
     ]
    },
    {
     "name": "stderr",
     "output_type": "stream",
     "text": [
      "www.wikidata.org (wikidata) Prashant Bhushan\n",
      "www.wikidata.org (labels) Q129844|P22|Q40348|Q7238494|P2013|P2002...\n",
      "en.wikipedia.org (imageinfo) File:Prashant Bhushan.png\n",
      "Prashant Bhushan (en) data\n",
      "{\n",
      "  claims: <dict(21)> P106, P27, P31, P102, P69, P569, P21, P735, P...\n",
      "  description: Indian activist, lawyer and politician\n",
      "  image: <list(1)> {'file': 'File:Prashant Bhushan.png', 'kind': '...\n",
      "  label: Prashant Bhushan\n",
      "  labels: <dict(32)> Q129844, P22, Q40348, Q7238494, P2013, P2002,...\n",
      "  modified: <dict(1)> wikidata\n",
      "  requests: <list(3)> wikidata, labels, imageinfo\n",
      "  title: Prashant_Bhushan\n",
      "  what: human\n",
      "  wikibase: Q3520886\n",
      "  wikidata: <dict(21)> occupation (P106), country of citizenship (...\n",
      "  wikidata_pageid: 3352307\n",
      "  wikidata_url: https://www.wikidata.org/wiki/Q3520886\n",
      "}\n",
      "www.wikidata.org (wikidata) M Venkaiah Naidu\n"
     ]
    },
    {
     "name": "stdout",
     "output_type": "stream",
     "text": [
      "male (Q6581097) ['lawyer (Q40348)', 'activist (Q15253558)', 'politician (Q82955)'] +1956-06-23T00:00:00Z\n",
      "M Venkaiah Naidu Didn't find any data\n"
     ]
    },
    {
     "name": "stderr",
     "output_type": "stream",
     "text": [
      "www.wikidata.org (wikidata) Swapan Dasgupta\n",
      "www.wikidata.org (labels) Q5289309|Q1086863|Q9089|Q1758457|P2013|...\n",
      "en.wikipedia.org (imageinfo) File:Swapan Dasgupta in May 2016.jpg\n",
      "Swapan Dasgupta (en) data\n",
      "{\n",
      "  aliases: <list(1)> Swapan Dasgupta\n",
      "  claims: <dict(19)> P214, P31, P19, P172, P106, P140, P569, P21, ...\n",
      "  description: Indian politician, journalist and columnist\n",
      "  image: <list(1)> {'file': 'File:Swapan Dasgupta in May 2016.jpg'...\n",
      "  label: Swapan Dasgupta\n",
      "  labels: <dict(34)> Q5289309, Q1086863, Q9089, Q1758457, P2013, Q...\n",
      "  modified: <dict(1)> wikidata\n",
      "  requests: <list(3)> wikidata, labels, imageinfo\n",
      "  title: Swapan_Dasgupta\n",
      "  what: human\n",
      "  wikibase: Q7653792\n",
      "  wikidata: <dict(19)> VIAF ID (P214), instance of (P31), place of...\n",
      "  wikidata_pageid: 7576474\n",
      "  wikidata_url: https://www.wikidata.org/wiki/Q7653792\n",
      "}\n",
      "www.wikidata.org (wikidata) P.Chidambaram\n"
     ]
    },
    {
     "name": "stdout",
     "output_type": "stream",
     "text": [
      "male (Q6581097) ['journalist (Q1930187)', 'columnist (Q1086863)', 'politician (Q82955)'] +1955-09-03T00:00:00Z\n",
      "P.Chidambaram Didn't find any data\n"
     ]
    },
    {
     "name": "stderr",
     "output_type": "stream",
     "text": [
      "www.wikidata.org (wikidata) Priyanka Gandhi Vadra\n"
     ]
    },
    {
     "name": "stdout",
     "output_type": "stream",
     "text": [
      "Priyanka Gandhi Vadra Didn't find any data\n"
     ]
    },
    {
     "name": "stderr",
     "output_type": "stream",
     "text": [
      "www.wikidata.org (wikidata) Hardik Patel\n",
      "www.wikidata.org (labels) P569|P3417|P21|P106|Q15253558|P1412|P19...\n",
      "en.wikipedia.org (imageinfo) File:Hardikpatel.png\n",
      "Hardik Patel (en) data\n",
      "{\n",
      "  claims: <dict(11)> P31, P21, P569, P3417, P27, P106, P1412, P856...\n",
      "  description: Political activist\n",
      "  image: <list(1)> {'file': 'File:Hardikpatel.png', 'kind': 'wikid...\n",
      "  label: Hardik Patel\n",
      "  labels: <dict(18)> P569, P3417, P21, P106, Q15253558, P1412, P19...\n",
      "  modified: <dict(1)> wikidata\n",
      "  requests: <list(3)> wikidata, labels, imageinfo\n",
      "  title: Hardik_Patel\n",
      "  what: human\n",
      "  wikibase: Q20882771\n",
      "  wikidata: <dict(11)> instance of (P31), sex or gender (P21), dat...\n",
      "  wikidata_pageid: 22626037\n",
      "  wikidata_url: https://www.wikidata.org/wiki/Q20882771\n",
      "}\n",
      "www.wikidata.org (wikidata) R Sarath Kumar\n"
     ]
    },
    {
     "name": "stdout",
     "output_type": "stream",
     "text": [
      "male (Q6581097) activist (Q15253558) +1993-07-20T00:00:00Z\n",
      "R Sarath Kumar Didn't find any data\n"
     ]
    },
    {
     "name": "stderr",
     "output_type": "stream",
     "text": [
      "www.wikidata.org (wikidata) Kanhaiya Kumar\n",
      "www.wikidata.org (labels) Q598985|P18|P569|Q17083482|P19|P214|P34...\n",
      "en.wikipedia.org (imageinfo) File:Kanhaiya Kumar.jpg\n",
      "Kanhaiya Kumar (en) data\n",
      "{\n",
      "  claims: <dict(13)> P31, P21, P1559, P18, P27, P106, P19, P3417, ...\n",
      "  description: Indian student activist\n",
      "  image: <list(1)> {'file': 'File:Kanhaiya Kumar.jpg', 'kind': 'wi...\n",
      "  label: Kanhaiya Kumar\n",
      "  labels: <dict(19)> Q598985, P18, P569, Q17083482, P19, P214, P34...\n",
      "  modified: <dict(1)> wikidata\n",
      "  requests: <list(3)> wikidata, labels, imageinfo\n",
      "  title: Kanhaiya_Kumar\n",
      "  what: human\n",
      "  wikibase: Q22811570\n",
      "  wikidata: <dict(13)> instance of (P31), sex or gender (P21), nam...\n",
      "  wikidata_pageid: 24832937\n",
      "  wikidata_url: https://www.wikidata.org/wiki/Q22811570\n",
      "}\n",
      "www.wikidata.org (wikidata) Manoj Tiwari\n"
     ]
    },
    {
     "name": "stdout",
     "output_type": "stream",
     "text": [
      "male (Q6581097) student leader (Q17083482) +1987-01-13T00:00:00Z\n"
     ]
    },
    {
     "name": "stderr",
     "output_type": "stream",
     "text": [
      "www.wikidata.org (labels) Q63989014|P2604|P3602|P18|P569|P1303|P3...\n",
      "en.wikipedia.org (imageinfo) File:Manoj Tiwari at the launch of T...\n",
      "Manoj Tiwari (en) data\n",
      "{\n",
      "  claims: <dict(26)> P18, P31, P19, P856, P27, P106, P569, P21, P3...\n",
      "  description: Indian politician, singer and actor\n",
      "  image: <list(2)> {'file': \"File:Manoj Tiwari at the launch of T ...\n",
      "  label: Manoj Tiwari\n",
      "  labels: <dict(44)> Q63989014, P2604, P3602, P18, P569, P1303, P3...\n",
      "  modified: <dict(1)> wikidata\n",
      "  requests: <list(3)> wikidata, labels, imageinfo\n",
      "  title: Manoj_Tiwari\n",
      "  what: human\n",
      "  wikibase: Q6751197\n",
      "  wikidata: <dict(26)> image (P18), instance of (P31), place of bi...\n",
      "  wikidata_pageid: 6595130\n",
      "  wikidata_url: https://www.wikidata.org/wiki/Q6751197\n",
      "}\n",
      "www.wikidata.org (wikidata) Harish Rao Thanneeru\n"
     ]
    },
    {
     "name": "stdout",
     "output_type": "stream",
     "text": [
      "male (Q6581097) ['film director (Q2526255)', 'actor (Q33999)', 'politician (Q82955)', 'singer (Q177220)'] +1971-02-01T00:00:00Z\n",
      "Harish Rao Thanneeru Didn't find any data\n"
     ]
    },
    {
     "name": "stderr",
     "output_type": "stream",
     "text": [
      "www.wikidata.org (wikidata) Kapil Mishra\n",
      "www.wikidata.org (labels) Q129844|Q24461612|P18|P569|P3417|P734|Q...\n",
      "en.wikipedia.org (imageinfo) File:Kapil Mishra AAP.jpg\n",
      "Kapil Mishra (en) data\n",
      "{\n",
      "  claims: <dict(12)> P31, P569, P21, P735, P106, P39, P18, P27, P3...\n",
      "  description: Indian politician and Former MLA\n",
      "  image: <list(1)> {'file': 'File:Kapil Mishra AAP.jpg', 'kind': '...\n",
      "  label: Kapil Mishra\n",
      "  labels: <dict(20)> Q129844, Q24461612, P18, P569, P3417, P734, Q...\n",
      "  modified: <dict(1)> wikidata\n",
      "  requests: <list(3)> wikidata, labels, imageinfo\n",
      "  title: Kapil_Mishra\n",
      "  what: human\n",
      "  wikibase: Q6366610\n",
      "  wikidata: <dict(12)> instance of (P31), date of birth (P569), se...\n",
      "  wikidata_pageid: 6178304\n",
      "  wikidata_url: https://www.wikidata.org/wiki/Q6366610\n",
      "}\n",
      "www.wikidata.org (wikidata) Sarbananda Sonowal\n"
     ]
    },
    {
     "name": "stdout",
     "output_type": "stream",
     "text": [
      "male (Q6581097) politician (Q82955) +1980-11-13T00:00:00Z\n"
     ]
    },
    {
     "name": "stderr",
     "output_type": "stream",
     "text": [
      "www.wikidata.org (labels) Q21191662|P3602|P2013|P2002|Q55018631|P...\n",
      "en.wikipedia.org (imageinfo) File:Chief Minister of Assam Sarbana...\n",
      "Sarbananda Sonowal (en) data\n",
      "{\n",
      "  claims: <dict(16)> P31, P19, P102, P106, P569, P39, P27, P21, P2...\n",
      "  description: Indian politician\n",
      "  image: <list(1)> {'file': 'File:Chief Minister of Assam Sarbanan...\n",
      "  label: Sarbananda Sonowal\n",
      "  labels: <dict(27)> Q21191662, P3602, P2013, P2002, Q55018631, P1...\n",
      "  modified: <dict(1)> wikidata\n",
      "  requests: <list(3)> wikidata, labels, imageinfo\n",
      "  title: Sarbananda_Sonowal\n",
      "  what: human\n",
      "  wikibase: Q7423486\n",
      "  wikidata: <dict(16)> instance of (P31), place of birth (P19), me...\n",
      "  wikidata_pageid: 7334098\n",
      "  wikidata_url: https://www.wikidata.org/wiki/Q7423486\n",
      "}\n",
      "www.wikidata.org (wikidata) Lokesh Nara\n"
     ]
    },
    {
     "name": "stdout",
     "output_type": "stream",
     "text": [
      "male (Q6581097) politician (Q82955) +1962-10-31T00:00:00Z\n",
      "Lokesh Nara Didn't find any data\n"
     ]
    },
    {
     "name": "stderr",
     "output_type": "stream",
     "text": [
      "www.wikidata.org (wikidata) Ponam Mahajan\n"
     ]
    },
    {
     "name": "stdout",
     "output_type": "stream",
     "text": [
      "Ponam Mahajan Didn't find any data\n"
     ]
    },
    {
     "name": "stderr",
     "output_type": "stream",
     "text": [
      "www.wikidata.org (wikidata) Kiren Rijiju\n",
      "www.wikidata.org (labels) P3602|Q665105|P2002|P18|P569|Q748|P19|Q...\n",
      "en.wikipedia.org (imageinfo) File:The Minister of State for Home ...\n",
      "Kiren Rijiju (en) data\n",
      "{\n",
      "  claims: <dict(18)> P106, P102, P31, P19, P140, P27, P569, P39, P...\n",
      "  description: Bharatiya Janata Party politician\n",
      "  image: <list(1)> {'file': 'File:The Minister of State for Home A...\n",
      "  label: Kiren Rijiju\n",
      "  labels: <dict(30)> P3602, Q665105, P2002, P18, P569, Q748, P19, ...\n",
      "  modified: <dict(1)> wikidata\n",
      "  requests: <list(3)> wikidata, labels, imageinfo\n",
      "  title: Kiren_Rijiju\n",
      "  what: human\n",
      "  wikibase: Q6415053\n",
      "  wikidata: <dict(18)> occupation (P106), member of political part...\n",
      "  wikidata_pageid: 6230380\n",
      "  wikidata_url: https://www.wikidata.org/wiki/Q6415053\n",
      "}\n",
      "www.wikidata.org (wikidata) Jagat Prakash Nadda\n"
     ]
    },
    {
     "name": "stdout",
     "output_type": "stream",
     "text": [
      "male (Q6581097) politician (Q82955) +1971-11-19T00:00:00Z\n"
     ]
    },
    {
     "name": "stderr",
     "output_type": "stream",
     "text": [
      "www.wikidata.org (labels) Q17073489|P2013|Q17324844|P18|P569|P197...\n",
      "en.wikipedia.org (imageinfo) File:J.P. Nadda in New Delhi - 2018 ...\n",
      "Jagat Prakash Nadda (en) data\n",
      "{\n",
      "  claims: <dict(14)> P31, P21, P102, P569, P39, P27, P106, P69, P1...\n",
      "  description: Indian politician\n",
      "  image: <list(1)> {'file': 'File:J.P. Nadda in New Delhi - 2018 (...\n",
      "  label: Jagat Prakash Nadda\n",
      "  labels: <dict(23)> Q17073489, P2013, Q17324844, P18, P569, P1971...\n",
      "  modified: <dict(1)> wikidata\n",
      "  requests: <list(3)> wikidata, labels, imageinfo\n",
      "  title: Jagat_Prakash_Nadda\n",
      "  what: human\n",
      "  wikibase: Q16193764\n",
      "  wikidata: <dict(14)> instance of (P31), sex or gender (P21), mem...\n",
      "  wikidata_pageid: 17820185\n",
      "  wikidata_url: https://www.wikidata.org/wiki/Q16193764\n",
      "}\n",
      "www.wikidata.org (wikidata) Mayawati\n"
     ]
    },
    {
     "name": "stdout",
     "output_type": "stream",
     "text": [
      "male (Q6581097) politician (Q82955) +1960-12-02T00:00:00Z\n"
     ]
    },
    {
     "name": "stderr",
     "output_type": "stream",
     "text": [
      "www.wikidata.org (labels) Q5088072|Q665105|Q803681|Q17324844|P18|...\n",
      "en.wikipedia.org (imageinfo) File:Mayawati in 2016.jpg\n",
      "Mayawati (en) data\n",
      "{\n",
      "  aliases: <list(5)> Mayawati Prabhu Das, Iron Lady Mayawati, Kuma...\n",
      "  claims: <dict(27)> P21, P227, P569, P102, P69, P31, P39, P27, P1...\n",
      "  description: Indian politician\n",
      "  image: <list(1)> {'file': 'File:Mayawati in 2016.jpg', 'kind': '...\n",
      "  label: Mayawati\n",
      "  labels: <dict(43)> Q5088072, Q665105, Q803681, Q17324844, P18, P...\n",
      "  modified: <dict(1)> wikidata\n",
      "  requests: <list(3)> wikidata, labels, imageinfo\n",
      "  title: Mayawati\n",
      "  what: human\n",
      "  wikibase: Q264896\n",
      "  wikidata: <dict(27)> sex or gender (P21), GND ID (P227), date of...\n",
      "  wikidata_pageid: 256773\n",
      "  wikidata_url: https://www.wikidata.org/wiki/Q264896\n",
      "}\n",
      "www.wikidata.org (wikidata) Vijay Goel\n"
     ]
    },
    {
     "name": "stdout",
     "output_type": "stream",
     "text": [
      "female (Q6581072) politician (Q82955) +1956-01-15T00:00:00Z\n",
      "Vijay Goel Didn't find any data\n"
     ]
    },
    {
     "name": "stderr",
     "output_type": "stream",
     "text": [
      "www.wikidata.org (wikidata) Eknath Khadse\n",
      "www.wikidata.org (labels) P569|P646|Q2722481|P21|P106|Q82955|P39|...\n",
      "Eknath Khadse (en) data\n",
      "{\n",
      "  claims: <dict(10)> P102, P31, P106, P27, P21, P569, P39, P856, P...\n",
      "  description: Indian politician\n",
      "  label: Eknath Khadse\n",
      "  labels: <dict(18)> P569, P646, Q2722481, P21, P106, Q82955, P39,...\n",
      "  modified: <dict(1)> wikidata\n",
      "  requests: <list(2)> wikidata, labels\n",
      "  title: Eknath_Khadse\n",
      "  what: human\n",
      "  wikibase: Q5350513\n",
      "  wikidata: <dict(10)> member of political party (P102), instance ...\n",
      "  wikidata_pageid: 5117348\n",
      "  wikidata_url: https://www.wikidata.org/wiki/Q5350513\n",
      "}\n",
      "www.wikidata.org (wikidata) Adv. Ashish Shelar\n"
     ]
    },
    {
     "name": "stdout",
     "output_type": "stream",
     "text": [
      "male (Q6581097) politician (Q82955) +1952-09-02T00:00:00Z\n",
      "Adv. Ashish Shelar Didn't find any data\n"
     ]
    },
    {
     "name": "stderr",
     "output_type": "stream",
     "text": [
      "www.wikidata.org (wikidata) Vijayasai Reddy V\n"
     ]
    },
    {
     "name": "stdout",
     "output_type": "stream",
     "text": [
      "Vijayasai Reddy V Didn't find any data\n"
     ]
    },
    {
     "name": "stderr",
     "output_type": "stream",
     "text": [
      "www.wikidata.org (wikidata) J Anbazhagan\n"
     ]
    },
    {
     "name": "stdout",
     "output_type": "stream",
     "text": [
      "J Anbazhagan Didn't find any data\n"
     ]
    },
    {
     "name": "stderr",
     "output_type": "stream",
     "text": [
      "www.wikidata.org (wikidata) Arvind Gupta\n",
      "www.wikidata.org (labels) Q782682|Q901|Q4853732|P18|P569|P214|Q48...\n",
      "en.wikipedia.org (imageinfo) File:Arvind Gupta Oct 2010 IUCAA.JPG\n",
      "Arvind Gupta (en) data\n",
      "{\n",
      "  aliases: <list(1)> Arvind Kumar Gupta\n",
      "  claims: <dict(14)> P31, P21, P27, P735, P18, P214, P244, P2611, ...\n",
      "  description: Populariser of science and toy-maker young IIT engineer\n",
      "  image: <list(1)> {'file': 'File:Arvind Gupta Oct 2010 IUCAA.JPG'...\n",
      "  label: Arvind Gupta\n",
      "  labels: <dict(23)> Q782682, Q901, Q4853732, P18, P569, P214, Q48...\n",
      "  modified: <dict(1)> wikidata\n",
      "  requests: <list(3)> wikidata, labels, imageinfo\n",
      "  title: Arvind_Gupta\n",
      "  what: human\n",
      "  wikibase: Q3633965\n",
      "  wikidata: <dict(14)> instance of (P31), sex or gender (P21), cou...\n",
      "  wikidata_pageid: 3461453\n",
      "  wikidata_url: https://www.wikidata.org/wiki/Q3633965\n",
      "}\n",
      "www.wikidata.org (wikidata) Mansukh Mandaviya\n"
     ]
    },
    {
     "name": "stdout",
     "output_type": "stream",
     "text": [
      "male (Q6581097) ['scientist (Q901)', \"children's writer (Q4853732)\"] +1953-12-04T00:00:00Z\n",
      "Mansukh Mandaviya Didn't find any data\n"
     ]
    },
    {
     "name": "stderr",
     "output_type": "stream",
     "text": [
      "www.wikidata.org (wikidata) Makkal Needhi Maiam\n",
      "www.wikidata.org (labels) Q1352|P1142|P488|Q381477|Q7278|P17|Q113...\n",
      "Makkal Needhi Maiam (en) data\n",
      "{\n",
      "  claims: <dict(7)> P31, P571, P17, P1142, P488, P856, P159\n",
      "  description: 2018, a political party founded by Kamal Haasan\n",
      "  label: Makkal Neethi Maiyam\n",
      "  labels: <dict(12)> Q1352, P1142, P488, Q381477, Q7278, P17, Q113...\n",
      "  modified: <dict(1)> wikidata\n",
      "  requests: <list(2)> wikidata, labels\n",
      "  title: Makkal_Needhi_Maiam\n",
      "  what: political party\n",
      "  wikibase: Q49647268\n",
      "  wikidata: <dict(7)> instance of (P31), inception (P571), country...\n",
      "  wikidata_pageid: 50648925\n",
      "  wikidata_url: https://www.wikidata.org/wiki/Q49647268\n",
      "}\n",
      "www.wikidata.org (wikidata) Gajendra Singh Shekhawat\n"
     ]
    },
    {
     "name": "stdout",
     "output_type": "stream",
     "text": [
      "Makkal Needhi Maiam Didn't find the gender\n",
      "Makkal Needhi Maiam Didn't find the date of birth\n",
      "Makkal Needhi Maiam Didn't find any data\n"
     ]
    },
    {
     "name": "stderr",
     "output_type": "stream",
     "text": [
      "www.wikidata.org (labels) P3602|P18|P569|Q56051771|P4978|P19|Q639...\n",
      "en.wikipedia.org (imageinfo) File:GajendraSingh Shekhawat.jpg\n",
      "Gajendra Singh Shekhawat (en) data\n",
      "{\n",
      "  claims: <dict(14)> P31, P39, P102, P21, P106, P27, P569, P4978, ...\n",
      "  description: Indian politician\n",
      "  image: <list(1)> {'file': 'File:GajendraSingh Shekhawat.jpg', 'k...\n",
      "  label: Gajendrasingh Shekhawat\n",
      "  labels: <dict(24)> P3602, P18, P569, Q56051771, P4978, P19, Q639...\n",
      "  modified: <dict(1)> wikidata\n",
      "  requests: <list(3)> wikidata, labels, imageinfo\n",
      "  title: Gajendra_Singh_Shekhawat\n",
      "  what: human\n",
      "  wikibase: Q16914124\n",
      "  wikidata: <dict(14)> instance of (P31), position held (P39), mem...\n",
      "  wikidata_pageid: 18515620\n",
      "  wikidata_url: https://www.wikidata.org/wiki/Q16914124\n",
      "}\n",
      "www.wikidata.org (wikidata) Bhupesh Bhagel\n"
     ]
    },
    {
     "name": "stdout",
     "output_type": "stream",
     "text": [
      "male (Q6581097) politician (Q82955) +1967-10-03T00:00:00Z\n",
      "Bhupesh Bhagel Didn't find any data\n"
     ]
    },
    {
     "name": "stderr",
     "output_type": "stream",
     "text": [
      "www.wikidata.org (wikidata) Rahul Mahajan\n",
      "www.wikidata.org (labels) P22|Q5277790|P2002|P18|P569|P26|P19|Q72...\n",
      "en.wikipedia.org (imageinfo) File:Rahul Mahajan FilmiTadka.JPG\n",
      "Rahul Mahajan (en) data\n",
      "{\n",
      "  claims: <dict(14)> P18, P31, P19, P569, P21, P27, P735, P26, P22...\n",
      "  description: Indian entertainer, politician\n",
      "  image: <list(1)> {'file': 'File:Rahul Mahajan FilmiTadka.JPG', '...\n",
      "  label: Rahul Mahajan\n",
      "  labels: <dict(24)> P22, Q5277790, P2002, P18, P569, P26, P19, Q7...\n",
      "  modified: <dict(1)> wikidata\n",
      "  requests: <list(3)> wikidata, labels, imageinfo\n",
      "  title: Rahul_Mahajan\n",
      "  what: human\n",
      "  wikibase: Q7283602\n",
      "  wikidata: <dict(14)> image (P18), instance of (P31), place of bi...\n",
      "  wikidata_pageid: 7187966\n",
      "  wikidata_url: https://www.wikidata.org/wiki/Q7283602\n",
      "}\n",
      "www.wikidata.org (wikidata) Dr. Vinay Sahasrabuddhe\n"
     ]
    },
    {
     "name": "stdout",
     "output_type": "stream",
     "text": [
      "male (Q6581097) artist (Q483501) +1975-07-25T00:00:00Z\n",
      "Dr. Vinay Sahasrabuddhe Didn't find any data\n"
     ]
    },
    {
     "name": "stderr",
     "output_type": "stream",
     "text": [
      "www.wikidata.org (wikidata) Dr. Ramesh Pokhriyal Nishank\n"
     ]
    },
    {
     "name": "stdout",
     "output_type": "stream",
     "text": [
      "Dr. Ramesh Pokhriyal Nishank Didn't find any data\n"
     ]
    },
    {
     "name": "stderr",
     "output_type": "stream",
     "text": [
      "www.wikidata.org (wikidata) Praful patel\n"
     ]
    },
    {
     "name": "stdout",
     "output_type": "stream",
     "text": [
      "Praful patel Didn't find any data\n"
     ]
    },
    {
     "name": "stderr",
     "output_type": "stream",
     "text": [
      "www.wikidata.org (wikidata) Meera Sanyal\n",
      "www.wikidata.org (labels) Q129844|Q63988508|P1196|P509|Q806798|Q3...\n",
      "en.wikipedia.org (imageinfo) File:Meerahsanyal.JPG\n",
      "Meera Sanyal (en) data\n",
      "{\n",
      "  aliases: <list(1)> Meera H Sanyal\n",
      "  claims: <dict(18)> P373, P21, P31, P27, P106, P569, P102, P18, P...\n",
      "  description: <str(93)> Leading Indian Banker, Independent candid...\n",
      "  image: <list(1)> {'file': 'File:Meerahsanyal.JPG', 'kind': 'wiki...\n",
      "  label: Meera Sanyal\n",
      "  labels: <dict(30)> Q129844, Q63988508, P1196, P509, Q806798, Q37...\n",
      "  modified: <dict(1)> wikidata\n",
      "  requests: <list(3)> wikidata, labels, imageinfo\n",
      "  title: Meera_Sanyal\n",
      "  what: human\n",
      "  wikibase: Q12068272\n",
      "  wikidata: <dict(18)> Commons category (P373), sex or gender (P21...\n",
      "  wikidata_pageid: 13288023\n",
      "  wikidata_url: https://www.wikidata.org/wiki/Q12068272\n",
      "}\n",
      "www.wikidata.org (wikidata) Dr. Anil Jain\n"
     ]
    },
    {
     "name": "stdout",
     "output_type": "stream",
     "text": [
      "female (Q6581072) ['politician (Q82955)', 'banker (Q806798)'] +1961-04-15T00:00:00Z\n",
      "Dr. Anil Jain Didn't find any data\n"
     ]
    },
    {
     "name": "stderr",
     "output_type": "stream",
     "text": [
      "www.wikidata.org (wikidata) Sheila Dikshit\n",
      "www.wikidata.org (labels) Q5189702|Q24461612|P509|P1196|Q3739104|...\n",
      "www.wikidata.org (labels) Q668|P102\n",
      "en.wikipedia.org (imageinfo) File:The Chairperson, National Advis...\n",
      "Sheila Dikshit (en) data\n",
      "{\n",
      "  aliases: <list(2)> Sheila Kapoor, Sheila Dixit\n",
      "  claims: <dict(32)> P40, P21, P27, P39, P69, P18, P19, P106, P102...\n",
      "  description: Indian politician and former Chief Minister of Delhi\n",
      "  image: <list(1)> {'file': 'File:The Chairperson, National Adviso...\n",
      "  label: Sheila Dikshit\n",
      "  labels: <dict(52)> Q5189702, Q24461612, P509, P1196, Q3739104, Q...\n",
      "  modified: <dict(1)> wikidata\n",
      "  requests: <list(4)> wikidata, labels, labels, imageinfo\n",
      "  title: Sheila_Dikshit\n",
      "  what: human\n",
      "  wikibase: Q464900\n",
      "  wikidata: <dict(32)> child (P40), sex or gender (P21), country o...\n",
      "  wikidata_pageid: 438482\n",
      "  wikidata_url: https://www.wikidata.org/wiki/Q464900\n",
      "}\n",
      "www.wikidata.org (wikidata) Prashant Kishor\n"
     ]
    },
    {
     "name": "stdout",
     "output_type": "stream",
     "text": [
      "female (Q6581072) politician (Q82955) +1938-03-31T00:00:00Z\n"
     ]
    },
    {
     "name": "stderr",
     "output_type": "stream",
     "text": [
      "www.wikidata.org (labels) P569|P3417|P21|Q904827|P39|Q5|Q19969187...\n",
      "Prashant Kishor (en) data\n",
      "{\n",
      "  claims: <dict(6)> P31, P21, P569, P3417, P39, P102\n",
      "  description: Indian Political Strategist\n",
      "  label: Prashant Kishor\n",
      "  labels: <dict(10)> P569, P3417, P21, Q904827, P39, Q5, Q19969187...\n",
      "  modified: <dict(1)> wikidata\n",
      "  requests: <list(2)> wikidata, labels\n",
      "  title: Prashant_Kishor\n",
      "  what: human\n",
      "  wikibase: Q21516955\n",
      "  wikidata: <dict(6)> instance of (P31), sex or gender (P21), date...\n",
      "  wikidata_pageid: 23561568\n",
      "  wikidata_url: https://www.wikidata.org/wiki/Q21516955\n",
      "}\n",
      "www.wikidata.org (wikidata) Jairam Thakur\n"
     ]
    },
    {
     "name": "stdout",
     "output_type": "stream",
     "text": [
      "Prashant Kishor Didn't find any data\n",
      "Jairam Thakur Didn't find any data\n"
     ]
    },
    {
     "name": "stderr",
     "output_type": "stream",
     "text": [
      "www.wikidata.org (wikidata) Anil Tiwari\n"
     ]
    },
    {
     "name": "stdout",
     "output_type": "stream",
     "text": [
      "Anil Tiwari Didn't find any data\n"
     ]
    },
    {
     "name": "stderr",
     "output_type": "stream",
     "text": [
      "www.wikidata.org (wikidata) Ashok Chandna\n"
     ]
    },
    {
     "name": "stdout",
     "output_type": "stream",
     "text": [
      "Ashok Chandna Didn't find any data\n"
     ]
    },
    {
     "name": "stderr",
     "output_type": "stream",
     "text": [
      "www.wikidata.org (wikidata) Yuva Desh\n"
     ]
    },
    {
     "name": "stdout",
     "output_type": "stream",
     "text": [
      "Yuva Desh Didn't find any data\n"
     ]
    },
    {
     "name": "stderr",
     "output_type": "stream",
     "text": [
      "www.wikidata.org (wikidata) Uttam Kumar Reddy\n"
     ]
    },
    {
     "name": "stdout",
     "output_type": "stream",
     "text": [
      "Uttam Kumar Reddy Didn't find any data\n"
     ]
    },
    {
     "name": "stderr",
     "output_type": "stream",
     "text": [
      "www.wikidata.org (wikidata) TS Singh Deo\n"
     ]
    },
    {
     "name": "stdout",
     "output_type": "stream",
     "text": [
      "TS Singh Deo Didn't find any data\n"
     ]
    },
    {
     "name": "stderr",
     "output_type": "stream",
     "text": [
      "www.wikidata.org (wikidata) Dr. P Thiaga Rajan\n"
     ]
    },
    {
     "name": "stdout",
     "output_type": "stream",
     "text": [
      "Dr. P Thiaga Rajan Didn't find any data\n"
     ]
    },
    {
     "name": "stderr",
     "output_type": "stream",
     "text": [
      "www.wikidata.org (wikidata) RK Sinha\n"
     ]
    },
    {
     "name": "stdout",
     "output_type": "stream",
     "text": [
      "RK Sinha Didn't find any data\n"
     ]
    },
    {
     "name": "stderr",
     "output_type": "stream",
     "text": [
      "www.wikidata.org (wikidata) Rajiv Kumar\n",
      "www.wikidata.org (labels) P31|Q22808320\n",
      "Rajiv Kumar (en) data\n",
      "{\n",
      "  claims: <dict(1)> P31\n",
      "  description: Wikimedia disambiguation page\n",
      "  label: Rajiv Kumar\n",
      "  labels: <dict(2)> P31, Q22808320\n",
      "  modified: <dict(1)> wikidata\n",
      "  requests: <list(2)> wikidata, labels\n",
      "  title: Rajiv_Kumar\n",
      "  what: Wikimedia human name disambiguation page\n",
      "  wikibase: Q56249153\n",
      "  wikidata: <dict(1)> instance of (P31)\n",
      "  wikidata_pageid: 56187718\n",
      "  wikidata_url: https://www.wikidata.org/wiki/Q56249153\n",
      "}\n",
      "www.wikidata.org (wikidata) Suryanarayan Ganesh\n"
     ]
    },
    {
     "name": "stdout",
     "output_type": "stream",
     "text": [
      "Rajiv Kumar Didn't find the gender\n",
      "Rajiv Kumar Didn't find the date of birth\n",
      "Rajiv Kumar Didn't find any data\n",
      "Suryanarayan Ganesh Didn't find any data\n"
     ]
    },
    {
     "name": "stderr",
     "output_type": "stream",
     "text": [
      "www.wikidata.org (wikidata) Shukhpal Singh Khaira\n"
     ]
    },
    {
     "name": "stdout",
     "output_type": "stream",
     "text": [
      "Shukhpal Singh Khaira Didn't find any data\n"
     ]
    },
    {
     "name": "stderr",
     "output_type": "stream",
     "text": [
      "www.wikidata.org (wikidata) Nand Gopal Gupta Nandi\n"
     ]
    },
    {
     "name": "stdout",
     "output_type": "stream",
     "text": [
      "Nand Gopal Gupta Nandi Didn't find any data\n"
     ]
    },
    {
     "name": "stderr",
     "output_type": "stream",
     "text": [
      "www.wikidata.org (wikidata) V.Narayanasamy\n"
     ]
    },
    {
     "name": "stdout",
     "output_type": "stream",
     "text": [
      "V.Narayanasamy Didn't find any data\n"
     ]
    },
    {
     "name": "stderr",
     "output_type": "stream",
     "text": [
      "www.wikidata.org (wikidata) Dr. K Laxman\n"
     ]
    },
    {
     "name": "stdout",
     "output_type": "stream",
     "text": [
      "Dr. K Laxman Didn't find any data\n"
     ]
    },
    {
     "name": "stderr",
     "output_type": "stream",
     "text": [
      "www.wikidata.org (wikidata) Sidharajsinh Jadeja\n"
     ]
    },
    {
     "name": "stdout",
     "output_type": "stream",
     "text": [
      "Sidharajsinh Jadeja Didn't find any data\n"
     ]
    },
    {
     "name": "stderr",
     "output_type": "stream",
     "text": [
      "www.wikidata.org (wikidata) Sunil Jakhar\n"
     ]
    },
    {
     "name": "stdout",
     "output_type": "stream",
     "text": [
      "Sunil Jakhar Didn't find any data\n"
     ]
    },
    {
     "name": "stderr",
     "output_type": "stream",
     "text": [
      "www.wikidata.org (wikidata) Abhay Singh Chautala\n",
      "www.wikidata.org (labels) P569|P22|P21|Q10534955|P106|Q3195894|Q8...\n",
      "en.wikipedia.org (imageinfo) File:Abhay Singh Chautala.jpg\n"
     ]
    },
    {
     "name": "stdout",
     "output_type": "stream",
     "text": [
      "male (Q6581097) politician (Q82955) +1963-02-14T00:00:00Z\n"
     ]
    },
    {
     "name": "stderr",
     "output_type": "stream",
     "text": [
      "Abhay Singh Chautala (en) data\n",
      "{\n",
      "  claims: <dict(10)> P31, P569, P21, P27, P106, P39, P102, P19, P2...\n",
      "  description: Indian politician\n",
      "  image: <list(1)> {'file': 'File:Abhay Singh Chautala.jpg', 'kind...\n",
      "  label: Abhay Chautala\n",
      "  labels: <dict(18)> P569, P22, P21, Q10534955, P106, Q3195894, Q8...\n",
      "  modified: <dict(1)> wikidata\n",
      "  requests: <list(3)> wikidata, labels, imageinfo\n",
      "  title: Abhay_Singh_Chautala\n",
      "  what: human\n",
      "  wikibase: Q16194996\n",
      "  wikidata: <dict(10)> instance of (P31), date of birth (P569), se...\n",
      "  wikidata_pageid: 17821418\n",
      "  wikidata_url: https://www.wikidata.org/wiki/Q16194996\n",
      "}\n",
      "www.wikidata.org (wikidata) Dilip Chali\n"
     ]
    },
    {
     "name": "stdout",
     "output_type": "stream",
     "text": [
      "Dilip Chali Didn't find any data\n"
     ]
    },
    {
     "name": "stderr",
     "output_type": "stream",
     "text": [
      "www.wikidata.org (wikidata) Ashish Sood\n"
     ]
    },
    {
     "name": "stdout",
     "output_type": "stream",
     "text": [
      "Ashish Sood Didn't find any data\n"
     ]
    },
    {
     "name": "stderr",
     "output_type": "stream",
     "text": [
      "www.wikidata.org (wikidata) N A Haris\n"
     ]
    },
    {
     "name": "stdout",
     "output_type": "stream",
     "text": [
      "N A Haris Didn't find any data\n"
     ]
    },
    {
     "name": "stderr",
     "output_type": "stream",
     "text": [
      "www.wikidata.org (wikidata) Pramod Dubey\n",
      "www.wikidata.org (labels) P569|P21|P19|Q5|Q10225|Q372773|Q6581097...\n",
      "Pramod Dubey (en) data\n",
      "{\n",
      "  claims: <dict(6)> P31, P569, P19, P102, P21, P734\n",
      "  label: Pramod Dubey\n",
      "  labels: <dict(11)> P569, P21, P19, Q5, Q10225, Q372773, Q6581097...\n",
      "  modified: <dict(1)> wikidata\n",
      "  requests: <list(2)> wikidata, labels\n",
      "  title: Pramod_Dubey\n",
      "  what: human\n",
      "  wikibase: Q41188015\n",
      "  wikidata: <dict(6)> instance of (P31), date of birth (P569), pla...\n",
      "  wikidata_pageid: 42513137\n",
      "  wikidata_url: https://www.wikidata.org/wiki/Q41188015\n",
      "}\n",
      "www.wikidata.org (wikidata) Satya Pal Jain\n"
     ]
    },
    {
     "name": "stdout",
     "output_type": "stream",
     "text": [
      "Pramod Dubey Didn't find any data\n"
     ]
    },
    {
     "name": "stderr",
     "output_type": "stream",
     "text": [
      "www.wikidata.org (labels) P569|Q40348|P21|P106|Q42529900|Q82955|P...\n",
      "en.wikipedia.org (imageinfo) File:Satya Pal Jain.jpg\n",
      "Satya Pal Jain (en) data\n",
      "{\n",
      "  claims: <dict(9)> P106, P31, P569, P18, P39, P27, P21, P102, P19\n",
      "  description: Indian politician\n",
      "  image: <list(1)> {'file': 'File:Satya Pal Jain.jpg', 'kind': 'wi...\n",
      "  label: Satya Pal Jain\n",
      "  labels: <dict(18)> P569, Q40348, P21, P106, Q42529900, Q82955, P...\n",
      "  modified: <dict(1)> wikidata\n",
      "  requests: <list(3)> wikidata, labels, imageinfo\n",
      "  title: Satya_Pal_Jain\n",
      "  what: human\n",
      "  wikibase: Q7426877\n",
      "  wikidata: <dict(9)> occupation (P106), instance of (P31), date o...\n",
      "  wikidata_pageid: 7337586\n",
      "  wikidata_url: https://www.wikidata.org/wiki/Q7426877\n",
      "}\n",
      "www.wikidata.org (wikidata) Jai Nair\n"
     ]
    },
    {
     "name": "stdout",
     "output_type": "stream",
     "text": [
      "male (Q6581097) ['lawyer (Q40348)', 'politician (Q82955)'] +1952-06-15T00:00:00Z\n",
      "Jai Nair Didn't find any data\n"
     ]
    },
    {
     "name": "stderr",
     "output_type": "stream",
     "text": [
      "www.wikidata.org (wikidata) K Shivram\n"
     ]
    },
    {
     "name": "stdout",
     "output_type": "stream",
     "text": [
      "K Shivram Didn't find any data\n"
     ]
    },
    {
     "name": "stderr",
     "output_type": "stream",
     "text": [
      "www.wikidata.org (wikidata) Mohan Joshi\n",
      "www.wikidata.org (labels) Q4160502|Q10798782|Q1355|P18|P569|P345|...\n",
      "en.wikipedia.org (imageinfo) File:Mohan Joshi.jpg\n",
      "Mohan Joshi (en) data\n",
      "{\n",
      "  claims: <dict(12)> P345, P18, P31, P19, P106, P569, P21, P27, P1...\n",
      "  description: Indian film, television and theatre actor.\n",
      "  image: <list(1)> {'file': 'File:Mohan Joshi.jpg', 'kind': 'wikid...\n",
      "  label: Mohan Joshi\n",
      "  labels: <dict(23)> Q4160502, Q10798782, Q1355, P18, P569, P345, ...\n",
      "  modified: <dict(1)> wikidata\n",
      "  requests: <list(3)> wikidata, labels, imageinfo\n",
      "  title: Mohan_Joshi\n",
      "  what: human\n",
      "  wikibase: Q3630695\n",
      "  wikidata: <dict(12)> IMDb ID (P345), image (P18), instance of (P...\n",
      "  wikidata_pageid: 3458245\n",
      "  wikidata_url: https://www.wikidata.org/wiki/Q3630695\n",
      "}\n",
      "www.wikidata.org (wikidata) G.V.Prakash Kumar\n"
     ]
    },
    {
     "name": "stdout",
     "output_type": "stream",
     "text": [
      "male (Q6581097) ['actor (Q33999)', 'television actor (Q10798782)'] +1945-09-04T00:00:00Z\n",
      "G.V.Prakash Kumar Didn't find any data\n"
     ]
    },
    {
     "name": "stderr",
     "output_type": "stream",
     "text": [
      "www.wikidata.org (wikidata) King Mika Singh\n"
     ]
    },
    {
     "name": "stdout",
     "output_type": "stream",
     "text": [
      "King Mika Singh Didn't find any data\n"
     ]
    },
    {
     "name": "stderr",
     "output_type": "stream",
     "text": [
      "www.wikidata.org (wikidata) Melly Goeslaw\n",
      "www.wikidata.org (labels) Q37073|P6351|P1953|Q10389|P31|P2373|P20...\n",
      "Melly Goeslaw (en) data\n",
      "{\n",
      "  claims: <dict(32)> P31, P646, P569, P21, P106, P434, P27, P19, P...\n",
      "  description: Indonesian singer\n",
      "  label: Melly Goeslaw\n",
      "  labels: <dict(46)> Q37073, P6351, P1953, Q10389, P31, P2373, P20...\n",
      "  modified: <dict(1)> wikidata\n",
      "  requests: <list(2)> wikidata, labels\n",
      "  title: Melly_Goeslaw\n",
      "  what: human\n",
      "  wikibase: Q4794037\n",
      "  wikidata: <dict(32)> instance of (P31), Freebase ID (P646), date...\n",
      "  wikidata_pageid: 4580925\n",
      "  wikidata_url: https://www.wikidata.org/wiki/Q4794037\n",
      "}\n",
      "www.wikidata.org (wikidata) Raja Yuvan\n"
     ]
    },
    {
     "name": "stdout",
     "output_type": "stream",
     "text": [
      "female (Q6581072) ['singer (Q177220)', 'songwriter (Q753110)', 'composer (Q36834)'] +1974-01-07T00:00:00Z\n",
      "Raja Yuvan Didn't find any data\n"
     ]
    },
    {
     "name": "stderr",
     "output_type": "stream",
     "text": [
      "www.wikidata.org (wikidata) Pritam\n",
      "www.wikidata.org (labels) Q1414326|P434|P1953|P2013|P2002|P18|P56...\n",
      "en.wikipedia.org (imageinfo) File:Pritam Chakraborty at Deepika's...\n",
      "Pritam (en) data\n",
      "{\n",
      "  claims: <dict(29)> P434, P569, P31, P21, P69, P345, P27, P166, P...\n",
      "  description: Indian music director and composer\n",
      "  image: <list(1)> {'file': \"File:Pritam Chakraborty at Deepika's ...\n",
      "  label: Pritam Chakraborty\n",
      "  labels: <dict(41)> Q1414326, P434, P1953, P2013, P2002, P18, P56...\n",
      "  modified: <dict(1)> wikidata\n",
      "  requests: <list(3)> wikidata, labels, imageinfo\n",
      "  title: Pritam\n",
      "  what: human\n",
      "  wikibase: Q3633978\n",
      "  wikidata: <dict(29)> MusicBrainz artist ID (P434), date of birth...\n",
      "  wikidata_pageid: 3461465\n",
      "  wikidata_url: https://www.wikidata.org/wiki/Q3633978\n",
      "}\n",
      "www.wikidata.org (wikidata) Chinmayi Sripaada\n"
     ]
    },
    {
     "name": "stdout",
     "output_type": "stream",
     "text": [
      "male (Q6581097) ['composer (Q36834)', 'singer (Q177220)'] +1971-06-14T00:00:00Z\n",
      "Chinmayi Sripaada Didn't find any data\n"
     ]
    },
    {
     "name": "stderr",
     "output_type": "stream",
     "text": [
      "www.wikidata.org (wikidata) Jazzy B\n",
      "www.wikidata.org (labels) P434|P18|P569|P1303|P7704|P19|P3478|P21...\n",
      "en.wikipedia.org (imageinfo) File:Bhangra Night Jazzy B!!!!!!.jpg\n",
      "Jazzy B (en) data\n",
      "{\n",
      "  claims: <dict(16)> P434, P214, P569, P31, P21, P27, P18, P106, P...\n",
      "  description: Indian singer\n",
      "  image: <list(1)> {'file': 'File:Bhangra Night Jazzy B!!!!!!.jpg'...\n",
      "  label: Jazzy B\n",
      "  labels: <dict(26)> P434, P18, P569, P1303, P7704, P19, P3478, P2...\n",
      "  modified: <dict(1)> wikidata\n",
      "  requests: <list(3)> wikidata, labels, imageinfo\n",
      "  title: Jazzy_B\n",
      "  what: human\n",
      "  wikibase: Q6168478\n",
      "  wikidata: <dict(16)> MusicBrainz artist ID (P434), VIAF ID (P214...\n",
      "  wikidata_pageid: 5964027\n",
      "  wikidata_url: https://www.wikidata.org/wiki/Q6168478\n",
      "}\n",
      "www.wikidata.org (wikidata) Neha Kakkar\n"
     ]
    },
    {
     "name": "stdout",
     "output_type": "stream",
     "text": [
      "male (Q6581097) ['singer (Q177220)', 'actor (Q33999)'] +1975-04-01T00:00:00Z\n"
     ]
    },
    {
     "name": "stderr",
     "output_type": "stream",
     "text": [
      "www.wikidata.org (labels) Q3535998|Q30903|P6351|P1953|P6914|P31|P...\n",
      "en.wikipedia.org (imageinfo) File:Neha Kakkar at Gionnee Awards.jpg\n",
      "Neha Kakkar (en) data\n",
      "{\n",
      "  claims: <dict(27)> P21, P27, P106, P31, P345, P19, P569, P434, P...\n",
      "  description: Indian singer\n",
      "  image: <list(1)> {'file': 'File:Neha Kakkar at Gionnee Awards.jp...\n",
      "  label: Neha Kakkar\n",
      "  labels: <dict(41)> Q3535998, Q30903, P6351, P1953, P6914, P31, P...\n",
      "  modified: <dict(1)> wikidata\n",
      "  requests: <list(3)> wikidata, labels, imageinfo\n",
      "  title: Neha_Kakkar\n",
      "  what: human\n",
      "  wikibase: Q14917099\n",
      "  wikidata: <dict(27)> sex or gender (P21), country of citizenship...\n",
      "  wikidata_pageid: 16586191\n",
      "  wikidata_url: https://www.wikidata.org/wiki/Q14917099\n",
      "}\n",
      "www.wikidata.org (wikidata) Adnan Sami\n"
     ]
    },
    {
     "name": "stdout",
     "output_type": "stream",
     "text": [
      "female (Q6581072) singer (Q177220) +1988-06-06T00:00:00Z\n"
     ]
    },
    {
     "name": "stderr",
     "output_type": "stream",
     "text": [
      "www.wikidata.org (labels) P22|Q639669|Q359360|P434|P6351|P2013|P2...\n",
      "www.wikidata.org (labels) Q668|Q10800557\n",
      "en.wikipedia.org (imageinfo) File:Adnan Sami 2007 - still 17966 c...\n"
     ]
    },
    {
     "name": "stdout",
     "output_type": "stream",
     "text": [
      "Adnan Sami Didn't find any data\n"
     ]
    },
    {
     "name": "stderr",
     "output_type": "stream",
     "text": [
      "www.wikidata.org (wikidata) Sussanne Khan\n",
      "www.wikidata.org (labels) P22|P40|P18|P569|P26|Q22301985|P19|P337...\n",
      "en.wikipedia.org (imageinfo) File:Sussanne Khan on Monogram colle...\n",
      "Sussanne Khan (en) data\n",
      "{\n",
      "  aliases: <list(1)> Sussanne Roshan\n",
      "  claims: <dict(18)> P31, P21, P22, P26, P40, P25, P3373, P19, P56...\n",
      "  description: Indian interior fashion designer\n",
      "  image: <list(1)> {'file': 'File:Sussanne Khan on Monogram collec...\n",
      "  label: Sussanne Khan\n",
      "  labels: <dict(32)> P22, P40, P18, P569, P26, Q22301985, P19, P33...\n",
      "  modified: <dict(1)> wikidata\n",
      "  requests: <list(3)> wikidata, labels, imageinfo\n",
      "  title: Sussanne_Khan\n",
      "  what: human\n",
      "  wikibase: Q22301945\n",
      "  wikidata: <dict(18)> instance of (P31), sex or gender (P21), fat...\n",
      "  wikidata_pageid: 24329221\n",
      "  wikidata_url: https://www.wikidata.org/wiki/Q22301945\n",
      "}\n",
      "www.wikidata.org (wikidata) Krish\n"
     ]
    },
    {
     "name": "stdout",
     "output_type": "stream",
     "text": [
      "female (Q6581072) interior designer (Q2133309) +1978-10-26T00:00:00Z\n"
     ]
    },
    {
     "name": "stderr",
     "output_type": "stream",
     "text": [
      "www.wikidata.org (labels) P31|P1889|Q37024461|Q4167410\n",
      "Krish (en) data\n",
      "{\n",
      "  claims: <dict(2)> P31, P1889\n",
      "  description: Wikipedia disambiguation page\n",
      "  label: Krish\n",
      "  labels: <dict(4)> P31, P1889, Q37024461, Q4167410\n",
      "  modified: <dict(1)> wikidata\n",
      "  requests: <list(2)> wikidata, labels\n",
      "  title: Krish\n",
      "  what: Wikimedia disambiguation page\n",
      "  wikibase: Q6437320\n",
      "  wikidata: <dict(2)> instance of (P31), different from (P1889)\n",
      "  wikidata_pageid: 6253655\n",
      "  wikidata_url: https://www.wikidata.org/wiki/Q6437320\n",
      "}\n",
      "www.wikidata.org (wikidata) Vijayantony\n"
     ]
    },
    {
     "name": "stdout",
     "output_type": "stream",
     "text": [
      "Krish Didn't find the gender\n",
      "Krish Didn't find the date of birth\n",
      "Krish Didn't find any data\n",
      "Vijayantony Didn't find any data\n"
     ]
    },
    {
     "name": "stderr",
     "output_type": "stream",
     "text": [
      "www.wikidata.org (wikidata) Shilpa Rao\n",
      "www.wikidata.org (labels) P434|P6351|P1953|P2373|P18|P569|P1303|P...\n",
      "en.wikipedia.org (imageinfo) File:Shilpa Rao 2014.jpg\n",
      "Shilpa Rao (en) data\n",
      "{\n",
      "  claims: <dict(17)> P434, P345, P569, P31, P21, P106, P27, P18, P...\n",
      "  description: Indian singer\n",
      "  image: <list(1)> {'file': 'File:Shilpa Rao 2014.jpg', 'kind': 'w...\n",
      "  label: Shilpa Rao\n",
      "  labels: <dict(23)> P434, P6351, P1953, P2373, P18, P569, P1303, ...\n",
      "  modified: <dict(1)> wikidata\n",
      "  requests: <list(3)> wikidata, labels, imageinfo\n",
      "  title: Shilpa_Rao\n",
      "  what: human\n",
      "  wikibase: Q7496763\n",
      "  wikidata: <dict(17)> MusicBrainz artist ID (P434), IMDb ID (P345...\n",
      "  wikidata_pageid: 7409644\n",
      "  wikidata_url: https://www.wikidata.org/wiki/Q7496763\n",
      "}\n",
      "www.wikidata.org (wikidata) Arunraja Kamaraj\n"
     ]
    },
    {
     "name": "stdout",
     "output_type": "stream",
     "text": [
      "female (Q6581072) singer (Q177220) +1984-04-11T00:00:00Z\n"
     ]
    },
    {
     "name": "stderr",
     "output_type": "stream",
     "text": [
      "www.wikidata.org (labels) P569|Q33999|P21|Q2526255|P106|P345|P19|...\n",
      "Arunraja Kamaraj (en) data\n",
      "{\n",
      "  claims: <dict(8)> P31, P21, P106, P345, P434, P569, P2031, P19\n",
      "  description: actor\n",
      "  label: Arunraja Kamaraj\n",
      "  labels: <dict(14)> P569, Q33999, P21, Q2526255, P106, P345, P19,...\n",
      "  modified: <dict(1)> wikidata\n",
      "  requests: <list(2)> wikidata, labels\n",
      "  title: Arunraja_Kamaraj\n",
      "  what: human\n",
      "  wikibase: Q24851575\n",
      "  wikidata: <dict(8)> instance of (P31), sex or gender (P21), occu...\n",
      "  wikidata_pageid: 26812431\n",
      "  wikidata_url: https://www.wikidata.org/wiki/Q24851575\n",
      "}\n",
      "www.wikidata.org (wikidata) Deepu DJ\n"
     ]
    },
    {
     "name": "stdout",
     "output_type": "stream",
     "text": [
      "male (Q6581097) ['actor (Q33999)', 'film director (Q2526255)', 'screenwriter (Q28389)'] +1984-00-00T00:00:00Z\n",
      "Deepu DJ Didn't find any data\n"
     ]
    },
    {
     "name": "stderr",
     "output_type": "stream",
     "text": [
      "www.wikidata.org (wikidata) Neeti Mohan\n",
      "www.wikidata.org (labels) Q3535998|Q5189702|Q37073|P434|P6351|P19...\n",
      "en.wikipedia.org (imageinfo) File:Neeti Mohan attends Shakti Moha...\n",
      "Neeti Mohan (en) data\n",
      "{\n",
      "  claims: <dict(24)> P434, P31, P19, P21, P106, P27, P18, P2002, P...\n",
      "  description: Indian singer\n",
      "  image: <list(1)> {'file': 'File:Neeti Mohan attends Shakti Mohan...\n",
      "  label: Neeti Mohan\n",
      "  labels: <dict(38)> Q3535998, Q5189702, Q37073, P434, P6351, P195...\n",
      "  modified: <dict(1)> wikidata\n",
      "  requests: <list(3)> wikidata, labels, imageinfo\n",
      "  title: Neeti_Mohan\n",
      "  what: human\n",
      "  wikibase: Q6986984\n",
      "  wikidata: <dict(24)> MusicBrainz artist ID (P434), instance of (...\n",
      "  wikidata_pageid: 6859793\n",
      "  wikidata_url: https://www.wikidata.org/wiki/Q6986984\n",
      "}\n",
      "www.wikidata.org (wikidata) Jeet Gannguli\n"
     ]
    },
    {
     "name": "stdout",
     "output_type": "stream",
     "text": [
      "female (Q6581072) singer (Q177220) +1979-11-17T00:00:00Z\n"
     ]
    },
    {
     "name": "stderr",
     "output_type": "stream",
     "text": [
      "www.wikidata.org (labels) Q49817736|P935|Q9089|P2013|P31|P1066|P2...\n",
      "en.wikipedia.org (imageinfo) File:Jeet Gannguli image.crop.jpg\n",
      "Jeet Gannguli (en) data\n",
      "{\n",
      "  aliases: <list(2)> Chandrajeet Ganguly, Jeet Gannguli\n",
      "  claims: <dict(29)> P31, P19, P21, P345, P166, P27, P106, P1303, ...\n",
      "  description: Indian score composer, music direcor and singer\n",
      "  image: <list(1)> {'file': 'File:Jeet Gannguli image.crop.jpg', '...\n",
      "  label: Jeet Ganguly\n",
      "  labels: <dict(47)> Q49817736, P935, Q9089, P2013, P31, P1066, P2...\n",
      "  modified: <dict(1)> wikidata\n",
      "  requests: <list(3)> wikidata, labels, imageinfo\n",
      "  title: Jeet_Gannguli\n",
      "  what: human\n",
      "  wikibase: Q6172986\n",
      "  wikidata: <dict(29)> instance of (P31), place of birth (P19), se...\n",
      "  wikidata_pageid: 5968895\n",
      "  wikidata_url: https://www.wikidata.org/wiki/Q6172986\n",
      "}\n",
      "www.wikidata.org (wikidata) Vijay Yesudas\n"
     ]
    },
    {
     "name": "stdout",
     "output_type": "stream",
     "text": [
      "male (Q6581097) ['composer (Q36834)', 'singer (Q177220)', 'music director (Q1198887)'] +1977-02-10T00:00:00Z\n"
     ]
    },
    {
     "name": "stderr",
     "output_type": "stream",
     "text": [
      "www.wikidata.org (labels) Q19845408|P434|P18|P569|P1303|P345|P770...\n",
      "en.wikipedia.org (imageinfo) File:Vijay Yesudas in NJ USA, 2010 (...\n",
      "Vijay Yesudas (en) data\n",
      "{\n",
      "  claims: <dict(16)> P434, P373, P345, P569, P31, P21, P106, P27, ...\n",
      "  description: Bollywood singer\n",
      "  image: <list(1)> {'file': 'File:Vijay Yesudas in NJ USA, 2010 (c...\n",
      "  label: Vijay Yesudas\n",
      "  labels: <dict(25)> Q19845408, P434, P18, P569, P1303, P345, P770...\n",
      "  modified: <dict(1)> wikidata\n",
      "  requests: <list(3)> wikidata, labels, imageinfo\n",
      "  title: Vijay_Yesudas\n",
      "  what: human\n",
      "  wikibase: Q2051905\n",
      "  wikidata: <dict(16)> MusicBrainz artist ID (P434), Commons categ...\n",
      "  wikidata_pageid: 1979392\n",
      "  wikidata_url: https://www.wikidata.org/wiki/Q2051905\n",
      "}\n",
      "www.wikidata.org (wikidata) Benny Dayal\n"
     ]
    },
    {
     "name": "stdout",
     "output_type": "stream",
     "text": [
      "male (Q6581097) ['singer (Q177220)', 'actor (Q33999)'] +1979-03-23T00:00:00Z\n"
     ]
    },
    {
     "name": "stderr",
     "output_type": "stream",
     "text": [
      "www.wikidata.org (labels) Q3535998|P434|Q321475|P2002|P18|P569|P1...\n",
      "en.wikipedia.org (imageinfo) File:Benny+dayal singer.jpg\n",
      "Benny Dayal (en) data\n",
      "{\n",
      "  claims: <dict(16)> P434, P569, P31, P21, P27, P18, P735, P19, P3...\n",
      "  description: Indian singer\n",
      "  image: <list(1)> {'file': 'File:Benny+dayal singer.jpg', 'kind':...\n",
      "  label: Benny Dayal\n",
      "  labels: <dict(25)> Q3535998, P434, Q321475, P2002, P18, P569, P1...\n",
      "  modified: <dict(1)> wikidata\n",
      "  requests: <list(3)> wikidata, labels, imageinfo\n",
      "  title: Benny_Dayal\n",
      "  what: human\n",
      "  wikibase: Q4889964\n",
      "  wikidata: <dict(16)> MusicBrainz artist ID (P434), date of birth...\n",
      "  wikidata_pageid: 4671041\n",
      "  wikidata_url: https://www.wikidata.org/wiki/Q4889964\n",
      "}\n",
      "www.wikidata.org (wikidata) Jaz Dhami\n"
     ]
    },
    {
     "name": "stdout",
     "output_type": "stream",
     "text": [
      "male (Q6581097) singer (Q177220) +1984-05-13T00:00:00Z\n"
     ]
    },
    {
     "name": "stderr",
     "output_type": "stream",
     "text": [
      "www.wikidata.org (labels) Q639669|P31|P18|P569|P7704|P19|P3478|Q1...\n",
      "en.wikipedia.org (imageinfo) File:Jaz Dhami Punjabi Artist.jpg\n",
      "Jaz Dhami (en) data\n",
      "{\n",
      "  claims: <dict(13)> P856, P569, P31, P21, P18, P19, P136, P3478, ...\n",
      "  description: musician\n",
      "  image: <list(1)> {'file': 'File:Jaz Dhami Punjabi Artist.jpg', '...\n",
      "  label: Jaz Dhami\n",
      "  labels: <dict(19)> Q639669, P31, P18, P569, P7704, P19, P3478, Q...\n",
      "  modified: <dict(1)> wikidata\n",
      "  requests: <list(3)> wikidata, labels, imageinfo\n",
      "  title: Jaz_Dhami\n",
      "  what: human\n",
      "  wikibase: Q6168036\n",
      "  wikidata: <dict(13)> official website (P856), date of birth (P56...\n",
      "  wikidata_pageid: 5963543\n",
      "  wikidata_url: https://www.wikidata.org/wiki/Q6168036\n",
      "}\n",
      "www.wikidata.org (wikidata) Sonu Kakkar\n"
     ]
    },
    {
     "name": "stdout",
     "output_type": "stream",
     "text": [
      "male (Q6581097) musician (Q639669) +1988-08-11T00:00:00Z\n"
     ]
    },
    {
     "name": "stderr",
     "output_type": "stream",
     "text": [
      "www.wikidata.org (labels) Q3535998|P31|Q33410|P18|P569|P1303|P345...\n",
      "en.wikipedia.org (imageinfo) File:Sonu kakkar.jpg\n",
      "Sonu Kakkar (en) data\n",
      "{\n",
      "  claims: <dict(18)> P18, P31, P19, P856, P21, P106, P345, P27, P4...\n",
      "  description: Indian singer\n",
      "  image: <list(1)> {'file': 'File:Sonu kakkar.jpg', 'kind': 'wikid...\n",
      "  label: Sonu Kakkar\n",
      "  labels: <dict(30)> Q3535998, P31, Q33410, P18, P569, P1303, P345...\n",
      "  modified: <dict(1)> wikidata\n",
      "  requests: <list(3)> wikidata, labels, imageinfo\n",
      "  title: Sonu_Kakkar\n",
      "  what: human\n",
      "  wikibase: Q949606\n",
      "  wikidata: <dict(18)> image (P18), instance of (P31), place of bi...\n",
      "  wikidata_pageid: 899633\n",
      "  wikidata_url: https://www.wikidata.org/wiki/Q949606\n",
      "}\n",
      "www.wikidata.org (wikidata) ManJMusik\n"
     ]
    },
    {
     "name": "stdout",
     "output_type": "stream",
     "text": [
      "female (Q6581072) singer (Q177220) +1979-08-11T00:00:00Z\n",
      "ManJMusik Didn't find any data\n"
     ]
    },
    {
     "name": "stderr",
     "output_type": "stream",
     "text": [
      "www.wikidata.org (wikidata) Kanika Kapoor\n",
      "www.wikidata.org (labels) Q3535998|Q22814303|Q37137|P2013|P31|P20...\n",
      "en.wikipedia.org (imageinfo) File:Kanika Kapoor launches \"Teddy B...\n",
      "Kanika Kapoor (en) data\n",
      "{\n",
      "  claims: <dict(25)> P31, P21, P569, P735, P27, P106, P434, P1971,...\n",
      "  description: singer\n",
      "  image: <list(1)> {'file': 'File:Kanika Kapoor launches \"Teddy Be...\n",
      "  label: Kanika Kapoor\n",
      "  labels: <dict(38)> Q3535998, Q22814303, Q37137, P2013, P31, P200...\n",
      "  modified: <dict(1)> wikidata\n",
      "  requests: <list(3)> wikidata, labels, imageinfo\n",
      "  title: Kanika_Kapoor\n",
      "  what: human\n",
      "  wikibase: Q6363189\n",
      "  wikidata: <dict(25)> instance of (P31), sex or gender (P21), dat...\n",
      "  wikidata_pageid: 6174539\n",
      "  wikidata_url: https://www.wikidata.org/wiki/Q6363189\n",
      "}\n",
      "www.wikidata.org (wikidata) Sukhbir Singh\n"
     ]
    },
    {
     "name": "stdout",
     "output_type": "stream",
     "text": [
      "female (Q6581072) singer (Q177220) +1981-08-21T00:00:00Z\n",
      "Sukhbir Singh Didn't find any data\n"
     ]
    },
    {
     "name": "stderr",
     "output_type": "stream",
     "text": [
      "www.wikidata.org (wikidata) Raghav Sachar\n",
      "www.wikidata.org (labels) Q17386524|P434|P18|P569|P1303|P345|P26|...\n",
      "en.wikipedia.org (imageinfo) File:Raghav Sachar.jpg\n",
      "Raghav Sachar (en) data\n",
      "{\n",
      "  claims: <dict(15)> P373, P214, P434, P569, P31, P21, P106, P27, ...\n",
      "  description: Indian singer-songwriter\n",
      "  image: <list(1)> {'file': 'File:Raghav Sachar.jpg', 'kind': 'wik...\n",
      "  label: Raghav Sachar\n",
      "  labels: <dict(22)> Q17386524, P434, P18, P569, P1303, P345, P26,...\n",
      "  modified: <dict(1)> wikidata\n",
      "  requests: <list(3)> wikidata, labels, imageinfo\n",
      "  title: Raghav_Sachar\n",
      "  what: human\n",
      "  wikibase: Q3632518\n",
      "  wikidata: <dict(15)> Commons category (P373), VIAF ID (P214), Mu...\n",
      "  wikidata_pageid: 3460027\n",
      "  wikidata_url: https://www.wikidata.org/wiki/Q3632518\n",
      "}\n",
      "www.wikidata.org (wikidata) Darshan Raval\n"
     ]
    },
    {
     "name": "stdout",
     "output_type": "stream",
     "text": [
      "male (Q6581097) ['singer (Q177220)', 'songwriter (Q753110)'] +1981-07-24T00:00:00Z\n"
     ]
    },
    {
     "name": "stderr",
     "output_type": "stream",
     "text": [
      "www.wikidata.org (labels) P6914|P2013|P31|P2373|P18|P569|P345|P19...\n",
      "en.wikipedia.org (imageinfo) File:Darshan Raval.jpg\n",
      "Darshan Raval (en) data\n",
      "{\n",
      "  claims: <dict(18)> P31, P21, P735, P3417, P434, P2013, P106, P27...\n",
      "  description: indian playback singer\n",
      "  image: <list(1)> {'file': 'File:Darshan Raval.jpg', 'kind': 'wik...\n",
      "  label: Darshan Raval\n",
      "  labels: <dict(24)> P6914, P2013, P31, P2373, P18, P569, P345, P1...\n",
      "  modified: <dict(1)> wikidata\n",
      "  requests: <list(3)> wikidata, labels, imageinfo\n",
      "  title: Darshan_Raval\n",
      "  what: human\n",
      "  wikibase: Q21066378\n",
      "  wikidata: <dict(18)> instance of (P31), sex or gender (P21), giv...\n",
      "  wikidata_pageid: 23113501\n",
      "  wikidata_url: https://www.wikidata.org/wiki/Q21066378\n",
      "}\n",
      "www.wikidata.org (wikidata) Akriti Kakar\n"
     ]
    },
    {
     "name": "stdout",
     "output_type": "stream",
     "text": [
      "male (Q6581097) playback singer (Q1755412) +1992-01-01T00:00:00Z\n"
     ]
    },
    {
     "name": "stderr",
     "output_type": "stream",
     "text": [
      "www.wikidata.org (labels) P434|P18|P569|P1303|Q36834|P345|P19|P33...\n",
      "en.wikipedia.org (imageinfo) File:Akruti Kakkar at the audio rele...\n",
      "Akriti Kakar (en) data\n",
      "{\n",
      "  aliases: <list(1)> Akriti Kakkar\n",
      "  claims: <dict(14)> P434, P373, P856, P31, P569, P21, P106, P27, ...\n",
      "  description: Indian singer\n",
      "  image: <list(1)> {'file': 'File:Akruti Kakkar at the audio relea...\n",
      "  label: Akriti Kakar\n",
      "  labels: <dict(23)> P434, P18, P569, P1303, Q36834, P345, P19, P3...\n",
      "  modified: <dict(1)> wikidata\n",
      "  requests: <list(3)> wikidata, labels, imageinfo\n",
      "  title: Akriti_Kakar\n",
      "  what: human\n",
      "  wikibase: Q4701639\n",
      "  wikidata: <dict(14)> MusicBrainz artist ID (P434), Commons categ...\n",
      "  wikidata_pageid: 4492391\n",
      "  wikidata_url: https://www.wikidata.org/wiki/Q4701639\n",
      "}\n",
      "www.wikidata.org (wikidata) Ankit Tiwari\n"
     ]
    },
    {
     "name": "stdout",
     "output_type": "stream",
     "text": [
      "female (Q6581072) ['singer (Q177220)', 'composer (Q36834)'] +1986-08-07T00:00:00Z\n"
     ]
    },
    {
     "name": "stderr",
     "output_type": "stream",
     "text": [
      "www.wikidata.org (labels) Q3535998|P6351|Q66568|P2373|P18|P569|P1...\n",
      "en.wikipedia.org (imageinfo) File:Ankit Tiwari Filmfare.jpg\n",
      "Ankit Tiwari (en) data\n",
      "{\n",
      "  claims: <dict(19)> P21, P31, P106, P569, P27, P345, P166, P18, P...\n",
      "  description: Indian singer\n",
      "  image: <list(1)> {'file': 'File:Ankit Tiwari Filmfare.jpg', 'kin...\n",
      "  label: Ankit Tiwari\n",
      "  labels: <dict(30)> Q3535998, P6351, Q66568, P2373, P18, P569, P1...\n",
      "  modified: <dict(1)> wikidata\n",
      "  requests: <list(3)> wikidata, labels, imageinfo\n",
      "  title: Ankit_Tiwari\n",
      "  what: human\n",
      "  wikibase: Q15340767\n",
      "  wikidata: <dict(19)> sex or gender (P21), instance of (P31), occ...\n",
      "  wikidata_pageid: 16988279\n",
      "  wikidata_url: https://www.wikidata.org/wiki/Q15340767\n",
      "}\n",
      "www.wikidata.org (wikidata) Babbu Maan\n"
     ]
    },
    {
     "name": "stdout",
     "output_type": "stream",
     "text": [
      "male (Q6581097) ['singer (Q177220)', 'composer (Q36834)'] +1990-03-06T00:00:00Z\n"
     ]
    },
    {
     "name": "stderr",
     "output_type": "stream",
     "text": [
      "www.wikidata.org (labels) P2002|P18|P569|Q6400408|P345|P7704|P19|...\n",
      "en.wikipedia.org (imageinfo) File:Babbu Maan Vancouver 2010.jpg\n",
      "Babbu Maan (en) data\n",
      "{\n",
      "  claims: <dict(16)> P31, P27, P106, P21, P569, P856, P345, P2002,...\n",
      "  description: <str(64)> Indian actor, Singer, Writer, Lyricist, M...\n",
      "  image: <list(1)> {'file': 'File:Babbu Maan Vancouver 2010.jpg', ...\n",
      "  label: Babbu Maan\n",
      "  labels: <dict(22)> P2002, P18, P569, Q6400408, P345, P7704, P19,...\n",
      "  modified: <dict(1)> wikidata\n",
      "  requests: <list(3)> wikidata, labels, imageinfo\n",
      "  title: Babbu_Maan\n",
      "  what: human\n",
      "  wikibase: Q4837608\n",
      "  wikidata: <dict(16)> instance of (P31), country of citizenship (...\n",
      "  wikidata_pageid: 4623538\n",
      "  wikidata_url: https://www.wikidata.org/wiki/Q4837608\n",
      "}\n",
      "www.wikidata.org (wikidata) KK\n"
     ]
    },
    {
     "name": "stdout",
     "output_type": "stream",
     "text": [
      "male (Q6581097) ['actor (Q33999)', 'screenwriter (Q28389)'] ['+1975-03-18T00:00:00Z', '+1976-03-29T00:00:00Z']\n"
     ]
    },
    {
     "name": "stderr",
     "output_type": "stream",
     "text": [
      "www.wikidata.org (labels) P31|Q4167410\n"
     ]
    },
    {
     "name": "stdout",
     "output_type": "stream",
     "text": [
      "KK Didn't find the gender\n",
      "KK Didn't find the date of birth\n",
      "KK Didn't find any data\n"
     ]
    },
    {
     "name": "stderr",
     "output_type": "stream",
     "text": [
      "KK (en) data\n",
      "{\n",
      "  claims: <dict(1)> P31\n",
      "  description: Wikipedia disambiguation page\n",
      "  label: KK\n",
      "  labels: <dict(2)> P31, Q4167410\n",
      "  modified: <dict(1)> wikidata\n",
      "  requests: <list(2)> wikidata, labels\n",
      "  title: KK\n",
      "  what: Wikimedia disambiguation page\n",
      "  wikibase: Q1718730\n",
      "  wikidata: <dict(1)> instance of (P31)\n",
      "  wikidata_pageid: 1651862\n",
      "  wikidata_url: https://www.wikidata.org/wiki/Q1718730\n",
      "}\n"
     ]
    }
   ],
   "source": [
    "data = pandas.read_excel(\"Work Division/Fatima.xlsx\")\n",
    "output_labels = data[['usernames','name']]\n",
    "output_labels.set_index('name',inplace = True)\n",
    "output_labels.insert(1,'Gender','NaN')\n",
    "output_labels.insert(1,'Birthyear','NaN')\n",
    "output_labels.insert(1,'Occupation','NaN')\n",
    "\n",
    "for name in data['name']:\n",
    "    try:\n",
    "        page = wptools.page(name)\n",
    "        page.get_wikidata()\n",
    "        try:\n",
    "            output_labels.loc[name]['Gender'] = page.data['wikidata']['sex or gender (P21)']\n",
    "        except:\n",
    "            print(name,\"Didn't find the gender\")\n",
    "        try:\n",
    "            output_labels.loc[name]['Birthyear'] = page.data['wikidata']['date of birth (P569)'][0] if type(page.data['wikidata']['date of birth (P569)'])== list else page.data['wikidata']['date of birth (P569)']\n",
    "        except:\n",
    "            print(name,\"Didn't find the date of birth\")\n",
    "        try:\n",
    "            output_labels.loc[name]['Occupation'] = page.data['wikidata']['occupation (P106)'][0] if type(page.data['wikidata']['occupation (P106)'])== list else page.data['wikidata']['occupation (P106)']\n",
    "        except:\n",
    "            pritn(name,\"Didn't find the Occupation\")\n",
    "        print(page.data['wikidata']['sex or gender (P21)'],page.data['wikidata']['occupation (P106)'],page.data['wikidata']['date of birth (P569)'])        \n",
    "    except:\n",
    "        print(name,\"Didn't find any data\")"
   ]
  },
  {
   "cell_type": "code",
   "execution_count": 29,
   "metadata": {},
   "outputs": [
    {
     "name": "stderr",
     "output_type": "stream",
     "text": [
      "C:\\Users\\Waqar Ali\\Anaconda3\\lib\\site-packages\\ipykernel_launcher.py:1: SettingWithCopyWarning: \n",
      "A value is trying to be set on a copy of a slice from a DataFrame\n",
      "\n",
      "See the caveats in the documentation: http://pandas.pydata.org/pandas-docs/stable/indexing.html#indexing-view-versus-copy\n",
      "  \"\"\"Entry point for launching an IPython kernel.\n"
     ]
    }
   ],
   "source": [
    "output_labels.sort_values(['Gender','Birthyear','Occupation'],ascending = False,inplace=True)\n",
    "output_labels\n",
    "output_labels.to_excel('Fatima_bios.xlsx')"
   ]
  },
  {
   "cell_type": "code",
   "execution_count": 3,
   "metadata": {},
   "outputs": [],
   "source": [
    "import pandas\n",
    "output_labels = pandas.read_excel('remm_output.xlsx')\n",
    "output_labels.sort_values(['Gender','Birthyear','Occupation'],ascending = False,inplace=True)"
   ]
  },
  {
   "cell_type": "code",
   "execution_count": 8,
   "metadata": {},
   "outputs": [],
   "source": [
    "collected = pandas.read_excel('Complete_WD.xlsx')\n",
    "collected.set_index('username',inplace=True)"
   ]
  },
  {
   "cell_type": "code",
   "execution_count": 19,
   "metadata": {},
   "outputs": [],
   "source": [
    "collected.append(output_labels).to_excel('total_available.xlsx')"
   ]
  },
  {
   "cell_type": "code",
   "execution_count": 17,
   "metadata": {
    "collapsed": true
   },
   "outputs": [
    {
     "data": {
      "text/html": [
       "<div>\n",
       "<style scoped>\n",
       "    .dataframe tbody tr th:only-of-type {\n",
       "        vertical-align: middle;\n",
       "    }\n",
       "\n",
       "    .dataframe tbody tr th {\n",
       "        vertical-align: top;\n",
       "    }\n",
       "\n",
       "    .dataframe thead th {\n",
       "        text-align: right;\n",
       "    }\n",
       "</style>\n",
       "<table border=\"1\" class=\"dataframe\">\n",
       "  <thead>\n",
       "    <tr style=\"text-align: right;\">\n",
       "      <th></th>\n",
       "      <th>name</th>\n",
       "      <th>Occupation</th>\n",
       "      <th>Birthyear</th>\n",
       "      <th>Gender</th>\n",
       "    </tr>\n",
       "    <tr>\n",
       "      <th>username</th>\n",
       "      <th></th>\n",
       "      <th></th>\n",
       "      <th></th>\n",
       "      <th></th>\n",
       "    </tr>\n",
       "  </thead>\n",
       "  <tbody>\n",
       "    <tr>\n",
       "      <th>76Shadabkhan</th>\n",
       "      <td>Shadab Khan</td>\n",
       "      <td>cricketer (Q12299841)</td>\n",
       "      <td>+1998-10-04T00:00:00Z</td>\n",
       "      <td>male (Q6581097)</td>\n",
       "    </tr>\n",
       "    <tr>\n",
       "      <th>AsimAzharr</th>\n",
       "      <td>Asim Azhar</td>\n",
       "      <td>singer-songwriter (Q488205)</td>\n",
       "      <td>+1996-10-29T00:00:00Z</td>\n",
       "      <td>male (Q6581097)</td>\n",
       "    </tr>\n",
       "    <tr>\n",
       "      <th>iamusamamir</th>\n",
       "      <td>Usama Mir</td>\n",
       "      <td>cricketer (Q12299841)</td>\n",
       "      <td>+1995-12-23T00:00:00Z</td>\n",
       "      <td>male (Q6581097)</td>\n",
       "    </tr>\n",
       "    <tr>\n",
       "      <th>iamzafargohar</th>\n",
       "      <td>Zafar Gohar</td>\n",
       "      <td>cricketer (Q12299841)</td>\n",
       "      <td>+1995-02-01T00:00:00Z</td>\n",
       "      <td>male (Q6581097)</td>\n",
       "    </tr>\n",
       "    <tr>\n",
       "      <th>babarazam258</th>\n",
       "      <td>Babar Azam</td>\n",
       "      <td>cricketer (Q12299841)</td>\n",
       "      <td>+1994-10-15T00:00:00Z</td>\n",
       "      <td>male (Q6581097)</td>\n",
       "    </tr>\n",
       "    <tr>\n",
       "      <th>iFaheemAshraf</th>\n",
       "      <td>Faheem Ashraf</td>\n",
       "      <td>cricketer (Q12299841)</td>\n",
       "      <td>+1994-01-16T00:00:00Z</td>\n",
       "      <td>male (Q6581097)</td>\n",
       "    </tr>\n",
       "    <tr>\n",
       "      <th>iamamirofficial</th>\n",
       "      <td>Mohammad Amir</td>\n",
       "      <td>cricketer (Q12299841)</td>\n",
       "      <td>+1992-04-13T00:00:00Z</td>\n",
       "      <td>male (Q6581097)</td>\n",
       "    </tr>\n",
       "    <tr>\n",
       "      <th>rummanraees15</th>\n",
       "      <td>Rumman Raees</td>\n",
       "      <td>cricketer (Q12299841)</td>\n",
       "      <td>+1991-10-18T00:00:00Z</td>\n",
       "      <td>male (Q6581097)</td>\n",
       "    </tr>\n",
       "    <tr>\n",
       "      <th>AyazSamoo</th>\n",
       "      <td>Ayaz Samoo</td>\n",
       "      <td>VJ (Q6399436)</td>\n",
       "      <td>+1991-02-11T00:00:00Z</td>\n",
       "      <td>male (Q6581097)</td>\n",
       "    </tr>\n",
       "    <tr>\n",
       "      <th>AliWaqas235</th>\n",
       "      <td>Ali Waqas</td>\n",
       "      <td>cricketer (Q12299841)</td>\n",
       "      <td>+1989-12-26T00:00:00Z</td>\n",
       "      <td>male (Q6581097)</td>\n",
       "    </tr>\n",
       "    <tr>\n",
       "      <th>simadwasim</th>\n",
       "      <td>Imad Wasim</td>\n",
       "      <td>cricketer (Q12299841)</td>\n",
       "      <td>+1988-12-18T00:00:00Z</td>\n",
       "      <td>male (Q6581097)</td>\n",
       "    </tr>\n",
       "    <tr>\n",
       "      <th>kamrankbangash</th>\n",
       "      <td>Kamran Khan Bangash</td>\n",
       "      <td>politician (Q82955)</td>\n",
       "      <td>+1987-01-01T00:00:00Z</td>\n",
       "      <td>male (Q6581097)</td>\n",
       "    </tr>\n",
       "    <tr>\n",
       "      <th>Shah64Y</th>\n",
       "      <td>Yasir Shah</td>\n",
       "      <td>cricketer (Q12299841)</td>\n",
       "      <td>+1986-05-02T00:00:00Z</td>\n",
       "      <td>male (Q6581097)</td>\n",
       "    </tr>\n",
       "    <tr>\n",
       "      <th>aClockworkObi</th>\n",
       "      <td>Osman Khalid Butt</td>\n",
       "      <td>journalist (Q1930187)</td>\n",
       "      <td>+1986-02-09T00:00:00Z</td>\n",
       "      <td>male (Q6581097)</td>\n",
       "    </tr>\n",
       "    <tr>\n",
       "      <th>asadshafiq1986</th>\n",
       "      <td>Asad Shafiq</td>\n",
       "      <td>cricketer (Q12299841)</td>\n",
       "      <td>+1986-01-28T00:00:00Z</td>\n",
       "      <td>male (Q6581097)</td>\n",
       "    </tr>\n",
       "    <tr>\n",
       "      <th>bilalasif2411</th>\n",
       "      <td>Bilal Asif</td>\n",
       "      <td>cricketer (Q12299841)</td>\n",
       "      <td>+1985-09-24T00:00:00Z</td>\n",
       "      <td>male (Q6581097)</td>\n",
       "    </tr>\n",
       "    <tr>\n",
       "      <th>AzharAli_</th>\n",
       "      <td>Azhar Ali</td>\n",
       "      <td>cricketer (Q12299841)</td>\n",
       "      <td>+1985-02-19T00:00:00Z</td>\n",
       "      <td>male (Q6581097)</td>\n",
       "    </tr>\n",
       "    <tr>\n",
       "      <th>im_SalmanButt</th>\n",
       "      <td>Salman Butt</td>\n",
       "      <td>cricketer (Q12299841)</td>\n",
       "      <td>+1984-10-07T00:00:00Z</td>\n",
       "      <td>male (Q6581097)</td>\n",
       "    </tr>\n",
       "    <tr>\n",
       "      <th>hasnainlehri</th>\n",
       "      <td>Hasnain Lehri</td>\n",
       "      <td>model (Q4610556)</td>\n",
       "      <td>+1984-06-24T00:00:00Z</td>\n",
       "      <td>male (Q6581097)</td>\n",
       "    </tr>\n",
       "    <tr>\n",
       "      <th>fahadmustafa26</th>\n",
       "      <td>Fahad Mustafa</td>\n",
       "      <td>actor (Q33999)</td>\n",
       "      <td>+1983-06-26T00:00:00Z</td>\n",
       "      <td>male (Q6581097)</td>\n",
       "    </tr>\n",
       "    <tr>\n",
       "      <th>M_IrfanOfficial</th>\n",
       "      <td>Mohammad Irfan</td>\n",
       "      <td>cricketer (Q12299841)</td>\n",
       "      <td>+1982-06-06T00:00:00Z</td>\n",
       "      <td>male (Q6581097)</td>\n",
       "    </tr>\n",
       "    <tr>\n",
       "      <th>bazidkhan81</th>\n",
       "      <td>Bazid Khan</td>\n",
       "      <td>cricketer (Q12299841)</td>\n",
       "      <td>+1981-03-25T00:00:00Z</td>\n",
       "      <td>male (Q6581097)</td>\n",
       "    </tr>\n",
       "    <tr>\n",
       "      <th>zalmayzia</th>\n",
       "      <td>Zia Ur Rehman</td>\n",
       "      <td>journalist (Q1930187)</td>\n",
       "      <td>+1981-03-13T00:00:00Z</td>\n",
       "      <td>male (Q6581097)</td>\n",
       "    </tr>\n",
       "    <tr>\n",
       "      <th>adeelraja</th>\n",
       "      <td>Adeel Raja</td>\n",
       "      <td>cricketer (Q12299841)</td>\n",
       "      <td>+1980-08-15T00:00:00Z</td>\n",
       "      <td>male (Q6581097)</td>\n",
       "    </tr>\n",
       "    <tr>\n",
       "      <th>AizazCheema</th>\n",
       "      <td>Aizaz Cheema</td>\n",
       "      <td>cricketer (Q12299841)</td>\n",
       "      <td>+1979-09-05T00:00:00Z</td>\n",
       "      <td>male (Q6581097)</td>\n",
       "    </tr>\n",
       "    <tr>\n",
       "      <th>JavedMalik</th>\n",
       "      <td>Javed Malik</td>\n",
       "      <td>journalist (Q1930187)</td>\n",
       "      <td>+1976-04-17T00:00:00Z</td>\n",
       "      <td>male (Q6581097)</td>\n",
       "    </tr>\n",
       "    <tr>\n",
       "      <th>Atiq160Test</th>\n",
       "      <td>Atiq-uz-Zaman</td>\n",
       "      <td>cricketer (Q12299841)</td>\n",
       "      <td>+1975-07-20T00:00:00Z</td>\n",
       "      <td>male (Q6581097)</td>\n",
       "    </tr>\n",
       "    <tr>\n",
       "      <th>aliamjadrizvi</th>\n",
       "      <td>Ali A. Rizvi</td>\n",
       "      <td>writer (Q36180)</td>\n",
       "      <td>+1975-05-29T00:00:00Z</td>\n",
       "      <td>male (Q6581097)</td>\n",
       "    </tr>\n",
       "    <tr>\n",
       "      <th>MirwaizKashmir</th>\n",
       "      <td>Mirwaiz Umar Farooq</td>\n",
       "      <td>politician (Q82955)</td>\n",
       "      <td>+1973-03-23T00:00:00Z</td>\n",
       "      <td>male (Q6581097)</td>\n",
       "    </tr>\n",
       "    <tr>\n",
       "      <th>abidifactor</th>\n",
       "      <td>Syed Ali Raza Abidi</td>\n",
       "      <td>politician (Q82955)</td>\n",
       "      <td>+1972-07-06T00:00:00Z</td>\n",
       "      <td>male (Q6581097)</td>\n",
       "    </tr>\n",
       "    <tr>\n",
       "      <th>KamalPSP</th>\n",
       "      <td>Syed Mustafa Kamal</td>\n",
       "      <td>politician (Q82955)</td>\n",
       "      <td>+1971-12-27T00:00:00Z</td>\n",
       "      <td>male (Q6581097)</td>\n",
       "    </tr>\n",
       "    <tr>\n",
       "      <th>akleghari</th>\n",
       "      <td>Awais Leghari</td>\n",
       "      <td>politician (Q82955)</td>\n",
       "      <td>+1971-08-01T00:00:00Z</td>\n",
       "      <td>male (Q6581097)</td>\n",
       "    </tr>\n",
       "    <tr>\n",
       "      <th>mshaanshahid</th>\n",
       "      <td>Shaan Shahid</td>\n",
       "      <td>actor (Q33999)</td>\n",
       "      <td>+1971-04-27T00:00:00Z</td>\n",
       "      <td>male (Q6581097)</td>\n",
       "    </tr>\n",
       "    <tr>\n",
       "      <th>jawadahmadone</th>\n",
       "      <td>Jawad Ahmad</td>\n",
       "      <td>engineer (Q81096)</td>\n",
       "      <td>+1970-09-29T00:00:00Z</td>\n",
       "      <td>male (Q6581097)</td>\n",
       "    </tr>\n",
       "    <tr>\n",
       "      <th>AyazLatifPalijo</th>\n",
       "      <td>Ayaz Latif Palijo</td>\n",
       "      <td>journalist (Q1930187)</td>\n",
       "      <td>+1968-11-15T00:00:00Z</td>\n",
       "      <td>male (Q6581097)</td>\n",
       "    </tr>\n",
       "    <tr>\n",
       "      <th>sajjad_official</th>\n",
       "      <td>Sajjad Ali</td>\n",
       "      <td>film director (Q2526255)</td>\n",
       "      <td>+1966-08-24T00:00:00Z</td>\n",
       "      <td>male (Q6581097)</td>\n",
       "    </tr>\n",
       "    <tr>\n",
       "      <th>mrazaharoon</th>\n",
       "      <td>Raza Haroon</td>\n",
       "      <td>politician (Q82955)</td>\n",
       "      <td>+1965-10-04T00:00:00Z</td>\n",
       "      <td>male (Q6581097)</td>\n",
       "    </tr>\n",
       "    <tr>\n",
       "      <th>tapujaveri</th>\n",
       "      <td>Tapu Javeri</td>\n",
       "      <td>presenter (Q13590141)</td>\n",
       "      <td>+1965-05-05T00:00:00Z</td>\n",
       "      <td>male (Q6581097)</td>\n",
       "    </tr>\n",
       "    <tr>\n",
       "      <th>HassanNisar</th>\n",
       "      <td>Hassan Nisar</td>\n",
       "      <td>journalist (Q1930187)</td>\n",
       "      <td>+1951-07-05T00:00:00Z</td>\n",
       "      <td>male (Q6581097)</td>\n",
       "    </tr>\n",
       "    <tr>\n",
       "      <th>16hassankhan</th>\n",
       "      <td>Hassan Khan</td>\n",
       "      <td>politician (Q82955)</td>\n",
       "      <td>+1936-12-11T00:00:00Z</td>\n",
       "      <td>male (Q6581097)</td>\n",
       "    </tr>\n",
       "    <tr>\n",
       "      <th>abidhussayn</th>\n",
       "      <td>Abid Hussain</td>\n",
       "      <td>economist (Q188094)</td>\n",
       "      <td>+1926-12-26T00:00:00Z</td>\n",
       "      <td>male (Q6581097)</td>\n",
       "    </tr>\n",
       "    <tr>\n",
       "      <th>mnawaz94</th>\n",
       "      <td>Muhammad Nawaz</td>\n",
       "      <td>javelin thrower (Q18510502)</td>\n",
       "      <td>+1924-08-15T00:00:00Z</td>\n",
       "      <td>male (Q6581097)</td>\n",
       "    </tr>\n",
       "    <tr>\n",
       "      <th>hajrakn</th>\n",
       "      <td>Hajra Khan</td>\n",
       "      <td>association football player (Q937857)</td>\n",
       "      <td>+1993-12-29T00:00:00Z</td>\n",
       "      <td>female (Q6581072)</td>\n",
       "    </tr>\n",
       "    <tr>\n",
       "      <th>MominaMustehsan</th>\n",
       "      <td>Momina Mustehsan</td>\n",
       "      <td>singer (Q177220)</td>\n",
       "      <td>+1992-09-05T00:00:00Z</td>\n",
       "      <td>female (Q6581072)</td>\n",
       "    </tr>\n",
       "    <tr>\n",
       "      <th>kainatimtiaz16</th>\n",
       "      <td>Kainat Imtiaz</td>\n",
       "      <td>cricketer (Q12299841)</td>\n",
       "      <td>+1992-06-21T00:00:00Z</td>\n",
       "      <td>female (Q6581072)</td>\n",
       "    </tr>\n",
       "    <tr>\n",
       "      <th>maroof_bismah</th>\n",
       "      <td>Bismah Maroof</td>\n",
       "      <td>cricketer (Q12299841)</td>\n",
       "      <td>+1991-07-18T00:00:00Z</td>\n",
       "      <td>female (Q6581072)</td>\n",
       "    </tr>\n",
       "    <tr>\n",
       "      <th>ArmeenaRK</th>\n",
       "      <td>Armeena Khan</td>\n",
       "      <td>actor (Q33999)</td>\n",
       "      <td>+1987-03-30T00:00:00Z</td>\n",
       "      <td>female (Q6581072)</td>\n",
       "    </tr>\n",
       "    <tr>\n",
       "      <th>Gulalai_Ismail</th>\n",
       "      <td>Gulalai_Ismail</td>\n",
       "      <td>human rights activist (Q1476215)</td>\n",
       "      <td>+1986-00-00T00:00:00Z</td>\n",
       "      <td>female (Q6581072)</td>\n",
       "    </tr>\n",
       "    <tr>\n",
       "      <th>GulBukhari</th>\n",
       "      <td>Gul Bukhari</td>\n",
       "      <td>journalist (Q1930187)</td>\n",
       "      <td>+1966-07-02T00:00:00Z</td>\n",
       "      <td>female (Q6581072)</td>\n",
       "    </tr>\n",
       "    <tr>\n",
       "      <th>iamthedrifter</th>\n",
       "      <td>Ayesha Siddiqa</td>\n",
       "      <td>journalist (Q1930187)</td>\n",
       "      <td>+1966-04-07T00:00:00Z</td>\n",
       "      <td>female (Q6581072)</td>\n",
       "    </tr>\n",
       "    <tr>\n",
       "      <th>MehboobaMufti</th>\n",
       "      <td>Mehbooba Mufti</td>\n",
       "      <td>politician (Q82955)</td>\n",
       "      <td>+1959-05-22T00:00:00Z</td>\n",
       "      <td>female (Q6581072)</td>\n",
       "    </tr>\n",
       "  </tbody>\n",
       "</table>\n",
       "</div>"
      ],
      "text/plain": [
       "                                name                             Occupation  \\\n",
       "username                                                                      \n",
       "76Shadabkhan             Shadab Khan                  cricketer (Q12299841)   \n",
       "AsimAzharr                Asim Azhar            singer-songwriter (Q488205)   \n",
       "iamusamamir                Usama Mir                  cricketer (Q12299841)   \n",
       "iamzafargohar            Zafar Gohar                  cricketer (Q12299841)   \n",
       "babarazam258              Babar Azam                  cricketer (Q12299841)   \n",
       "iFaheemAshraf          Faheem Ashraf                  cricketer (Q12299841)   \n",
       "iamamirofficial        Mohammad Amir                  cricketer (Q12299841)   \n",
       "rummanraees15           Rumman Raees                  cricketer (Q12299841)   \n",
       "AyazSamoo                 Ayaz Samoo                          VJ (Q6399436)   \n",
       "AliWaqas235                Ali Waqas                  cricketer (Q12299841)   \n",
       "simadwasim                Imad Wasim                  cricketer (Q12299841)   \n",
       "kamrankbangash   Kamran Khan Bangash                    politician (Q82955)   \n",
       "Shah64Y                   Yasir Shah                  cricketer (Q12299841)   \n",
       "aClockworkObi      Osman Khalid Butt                  journalist (Q1930187)   \n",
       "asadshafiq1986           Asad Shafiq                  cricketer (Q12299841)   \n",
       "bilalasif2411             Bilal Asif                  cricketer (Q12299841)   \n",
       "AzharAli_                  Azhar Ali                  cricketer (Q12299841)   \n",
       "im_SalmanButt            Salman Butt                  cricketer (Q12299841)   \n",
       "hasnainlehri           Hasnain Lehri                       model (Q4610556)   \n",
       "fahadmustafa26         Fahad Mustafa                         actor (Q33999)   \n",
       "M_IrfanOfficial       Mohammad Irfan                  cricketer (Q12299841)   \n",
       "bazidkhan81               Bazid Khan                  cricketer (Q12299841)   \n",
       "zalmayzia              Zia Ur Rehman                  journalist (Q1930187)   \n",
       "adeelraja                 Adeel Raja                  cricketer (Q12299841)   \n",
       "AizazCheema             Aizaz Cheema                  cricketer (Q12299841)   \n",
       "JavedMalik               Javed Malik                  journalist (Q1930187)   \n",
       "Atiq160Test            Atiq-uz-Zaman                  cricketer (Q12299841)   \n",
       "aliamjadrizvi           Ali A. Rizvi                        writer (Q36180)   \n",
       "MirwaizKashmir   Mirwaiz Umar Farooq                    politician (Q82955)   \n",
       "abidifactor      Syed Ali Raza Abidi                    politician (Q82955)   \n",
       "KamalPSP          Syed Mustafa Kamal                    politician (Q82955)   \n",
       "akleghari              Awais Leghari                    politician (Q82955)   \n",
       "mshaanshahid            Shaan Shahid                         actor (Q33999)   \n",
       "jawadahmadone            Jawad Ahmad                      engineer (Q81096)   \n",
       "AyazLatifPalijo    Ayaz Latif Palijo                  journalist (Q1930187)   \n",
       "sajjad_official           Sajjad Ali               film director (Q2526255)   \n",
       "mrazaharoon              Raza Haroon                    politician (Q82955)   \n",
       "tapujaveri               Tapu Javeri                  presenter (Q13590141)   \n",
       "HassanNisar             Hassan Nisar                  journalist (Q1930187)   \n",
       "16hassankhan             Hassan Khan                    politician (Q82955)   \n",
       "abidhussayn             Abid Hussain                    economist (Q188094)   \n",
       "mnawaz94              Muhammad Nawaz            javelin thrower (Q18510502)   \n",
       "hajrakn                   Hajra Khan  association football player (Q937857)   \n",
       "MominaMustehsan     Momina Mustehsan                       singer (Q177220)   \n",
       "kainatimtiaz16         Kainat Imtiaz                  cricketer (Q12299841)   \n",
       "maroof_bismah          Bismah Maroof                  cricketer (Q12299841)   \n",
       "ArmeenaRK               Armeena Khan                         actor (Q33999)   \n",
       "Gulalai_Ismail        Gulalai_Ismail       human rights activist (Q1476215)   \n",
       "GulBukhari               Gul Bukhari                  journalist (Q1930187)   \n",
       "iamthedrifter         Ayesha Siddiqa                  journalist (Q1930187)   \n",
       "MehboobaMufti         Mehbooba Mufti                    politician (Q82955)   \n",
       "\n",
       "                             Birthyear             Gender  \n",
       "username                                                   \n",
       "76Shadabkhan     +1998-10-04T00:00:00Z    male (Q6581097)  \n",
       "AsimAzharr       +1996-10-29T00:00:00Z    male (Q6581097)  \n",
       "iamusamamir      +1995-12-23T00:00:00Z    male (Q6581097)  \n",
       "iamzafargohar    +1995-02-01T00:00:00Z    male (Q6581097)  \n",
       "babarazam258     +1994-10-15T00:00:00Z    male (Q6581097)  \n",
       "iFaheemAshraf    +1994-01-16T00:00:00Z    male (Q6581097)  \n",
       "iamamirofficial  +1992-04-13T00:00:00Z    male (Q6581097)  \n",
       "rummanraees15    +1991-10-18T00:00:00Z    male (Q6581097)  \n",
       "AyazSamoo        +1991-02-11T00:00:00Z    male (Q6581097)  \n",
       "AliWaqas235      +1989-12-26T00:00:00Z    male (Q6581097)  \n",
       "simadwasim       +1988-12-18T00:00:00Z    male (Q6581097)  \n",
       "kamrankbangash   +1987-01-01T00:00:00Z    male (Q6581097)  \n",
       "Shah64Y          +1986-05-02T00:00:00Z    male (Q6581097)  \n",
       "aClockworkObi    +1986-02-09T00:00:00Z    male (Q6581097)  \n",
       "asadshafiq1986   +1986-01-28T00:00:00Z    male (Q6581097)  \n",
       "bilalasif2411    +1985-09-24T00:00:00Z    male (Q6581097)  \n",
       "AzharAli_        +1985-02-19T00:00:00Z    male (Q6581097)  \n",
       "im_SalmanButt    +1984-10-07T00:00:00Z    male (Q6581097)  \n",
       "hasnainlehri     +1984-06-24T00:00:00Z    male (Q6581097)  \n",
       "fahadmustafa26   +1983-06-26T00:00:00Z    male (Q6581097)  \n",
       "M_IrfanOfficial  +1982-06-06T00:00:00Z    male (Q6581097)  \n",
       "bazidkhan81      +1981-03-25T00:00:00Z    male (Q6581097)  \n",
       "zalmayzia        +1981-03-13T00:00:00Z    male (Q6581097)  \n",
       "adeelraja        +1980-08-15T00:00:00Z    male (Q6581097)  \n",
       "AizazCheema      +1979-09-05T00:00:00Z    male (Q6581097)  \n",
       "JavedMalik       +1976-04-17T00:00:00Z    male (Q6581097)  \n",
       "Atiq160Test      +1975-07-20T00:00:00Z    male (Q6581097)  \n",
       "aliamjadrizvi    +1975-05-29T00:00:00Z    male (Q6581097)  \n",
       "MirwaizKashmir   +1973-03-23T00:00:00Z    male (Q6581097)  \n",
       "abidifactor      +1972-07-06T00:00:00Z    male (Q6581097)  \n",
       "KamalPSP         +1971-12-27T00:00:00Z    male (Q6581097)  \n",
       "akleghari        +1971-08-01T00:00:00Z    male (Q6581097)  \n",
       "mshaanshahid     +1971-04-27T00:00:00Z    male (Q6581097)  \n",
       "jawadahmadone    +1970-09-29T00:00:00Z    male (Q6581097)  \n",
       "AyazLatifPalijo  +1968-11-15T00:00:00Z    male (Q6581097)  \n",
       "sajjad_official  +1966-08-24T00:00:00Z    male (Q6581097)  \n",
       "mrazaharoon      +1965-10-04T00:00:00Z    male (Q6581097)  \n",
       "tapujaveri       +1965-05-05T00:00:00Z    male (Q6581097)  \n",
       "HassanNisar      +1951-07-05T00:00:00Z    male (Q6581097)  \n",
       "16hassankhan     +1936-12-11T00:00:00Z    male (Q6581097)  \n",
       "abidhussayn      +1926-12-26T00:00:00Z    male (Q6581097)  \n",
       "mnawaz94         +1924-08-15T00:00:00Z    male (Q6581097)  \n",
       "hajrakn          +1993-12-29T00:00:00Z  female (Q6581072)  \n",
       "MominaMustehsan  +1992-09-05T00:00:00Z  female (Q6581072)  \n",
       "kainatimtiaz16   +1992-06-21T00:00:00Z  female (Q6581072)  \n",
       "maroof_bismah    +1991-07-18T00:00:00Z  female (Q6581072)  \n",
       "ArmeenaRK        +1987-03-30T00:00:00Z  female (Q6581072)  \n",
       "Gulalai_Ismail   +1986-00-00T00:00:00Z  female (Q6581072)  \n",
       "GulBukhari       +1966-07-02T00:00:00Z  female (Q6581072)  \n",
       "iamthedrifter    +1966-04-07T00:00:00Z  female (Q6581072)  \n",
       "MehboobaMufti    +1959-05-22T00:00:00Z  female (Q6581072)  "
      ]
     },
     "execution_count": 17,
     "metadata": {},
     "output_type": "execute_result"
    }
   ],
   "source": [
    "output_labels"
   ]
  },
  {
   "cell_type": "code",
   "execution_count": 16,
   "metadata": {},
   "outputs": [],
   "source": [
    "output_labels.dropna(axis=0,how='any',inplace=True)"
   ]
  },
  {
   "cell_type": "code",
   "execution_count": 5,
   "metadata": {},
   "outputs": [
    {
     "data": {
      "text/html": [
       "<div>\n",
       "<style scoped>\n",
       "    .dataframe tbody tr th:only-of-type {\n",
       "        vertical-align: middle;\n",
       "    }\n",
       "\n",
       "    .dataframe tbody tr th {\n",
       "        vertical-align: top;\n",
       "    }\n",
       "\n",
       "    .dataframe thead th {\n",
       "        text-align: right;\n",
       "    }\n",
       "</style>\n",
       "<table border=\"1\" class=\"dataframe\">\n",
       "  <thead>\n",
       "    <tr style=\"text-align: right;\">\n",
       "      <th></th>\n",
       "      <th>name</th>\n",
       "      <th>username</th>\n",
       "      <th>Occupation</th>\n",
       "      <th>Birthyear</th>\n",
       "      <th>Gender</th>\n",
       "    </tr>\n",
       "  </thead>\n",
       "  <tbody>\n",
       "    <tr>\n",
       "      <th>10</th>\n",
       "      <td>Shadab Khan</td>\n",
       "      <td>76Shadabkhan</td>\n",
       "      <td>cricketer (Q12299841)</td>\n",
       "      <td>+1998-10-04T00:00:00Z</td>\n",
       "      <td>male (Q6581097)</td>\n",
       "    </tr>\n",
       "    <tr>\n",
       "      <th>11</th>\n",
       "      <td>Asim Azhar</td>\n",
       "      <td>AsimAzharr</td>\n",
       "      <td>singer-songwriter (Q488205)</td>\n",
       "      <td>+1996-10-29T00:00:00Z</td>\n",
       "      <td>male (Q6581097)</td>\n",
       "    </tr>\n",
       "    <tr>\n",
       "      <th>12</th>\n",
       "      <td>Usama Mir</td>\n",
       "      <td>iamusamamir</td>\n",
       "      <td>cricketer (Q12299841)</td>\n",
       "      <td>+1995-12-23T00:00:00Z</td>\n",
       "      <td>male (Q6581097)</td>\n",
       "    </tr>\n",
       "    <tr>\n",
       "      <th>13</th>\n",
       "      <td>Zafar Gohar</td>\n",
       "      <td>iamzafargohar</td>\n",
       "      <td>cricketer (Q12299841)</td>\n",
       "      <td>+1995-02-01T00:00:00Z</td>\n",
       "      <td>male (Q6581097)</td>\n",
       "    </tr>\n",
       "    <tr>\n",
       "      <th>14</th>\n",
       "      <td>Babar Azam</td>\n",
       "      <td>babarazam258</td>\n",
       "      <td>cricketer (Q12299841)</td>\n",
       "      <td>+1994-10-15T00:00:00Z</td>\n",
       "      <td>male (Q6581097)</td>\n",
       "    </tr>\n",
       "    <tr>\n",
       "      <th>15</th>\n",
       "      <td>Faheem Ashraf</td>\n",
       "      <td>iFaheemAshraf</td>\n",
       "      <td>cricketer (Q12299841)</td>\n",
       "      <td>+1994-01-16T00:00:00Z</td>\n",
       "      <td>male (Q6581097)</td>\n",
       "    </tr>\n",
       "    <tr>\n",
       "      <th>16</th>\n",
       "      <td>Mohammad Amir</td>\n",
       "      <td>iamamirofficial</td>\n",
       "      <td>cricketer (Q12299841)</td>\n",
       "      <td>+1992-04-13T00:00:00Z</td>\n",
       "      <td>male (Q6581097)</td>\n",
       "    </tr>\n",
       "    <tr>\n",
       "      <th>17</th>\n",
       "      <td>Rumman Raees</td>\n",
       "      <td>rummanraees15</td>\n",
       "      <td>cricketer (Q12299841)</td>\n",
       "      <td>+1991-10-18T00:00:00Z</td>\n",
       "      <td>male (Q6581097)</td>\n",
       "    </tr>\n",
       "    <tr>\n",
       "      <th>18</th>\n",
       "      <td>Ayaz Samoo</td>\n",
       "      <td>AyazSamoo</td>\n",
       "      <td>VJ (Q6399436)</td>\n",
       "      <td>+1991-02-11T00:00:00Z</td>\n",
       "      <td>male (Q6581097)</td>\n",
       "    </tr>\n",
       "    <tr>\n",
       "      <th>19</th>\n",
       "      <td>Ali Waqas</td>\n",
       "      <td>AliWaqas235</td>\n",
       "      <td>cricketer (Q12299841)</td>\n",
       "      <td>+1989-12-26T00:00:00Z</td>\n",
       "      <td>male (Q6581097)</td>\n",
       "    </tr>\n",
       "    <tr>\n",
       "      <th>20</th>\n",
       "      <td>Imad Wasim</td>\n",
       "      <td>simadwasim</td>\n",
       "      <td>cricketer (Q12299841)</td>\n",
       "      <td>+1988-12-18T00:00:00Z</td>\n",
       "      <td>male (Q6581097)</td>\n",
       "    </tr>\n",
       "    <tr>\n",
       "      <th>21</th>\n",
       "      <td>Kamran Khan Bangash</td>\n",
       "      <td>kamrankbangash</td>\n",
       "      <td>politician (Q82955)</td>\n",
       "      <td>+1987-01-01T00:00:00Z</td>\n",
       "      <td>male (Q6581097)</td>\n",
       "    </tr>\n",
       "    <tr>\n",
       "      <th>22</th>\n",
       "      <td>Yasir Shah</td>\n",
       "      <td>Shah64Y</td>\n",
       "      <td>cricketer (Q12299841)</td>\n",
       "      <td>+1986-05-02T00:00:00Z</td>\n",
       "      <td>male (Q6581097)</td>\n",
       "    </tr>\n",
       "    <tr>\n",
       "      <th>23</th>\n",
       "      <td>Osman Khalid Butt</td>\n",
       "      <td>aClockworkObi</td>\n",
       "      <td>journalist (Q1930187)</td>\n",
       "      <td>+1986-02-09T00:00:00Z</td>\n",
       "      <td>male (Q6581097)</td>\n",
       "    </tr>\n",
       "    <tr>\n",
       "      <th>24</th>\n",
       "      <td>Asad Shafiq</td>\n",
       "      <td>asadshafiq1986</td>\n",
       "      <td>cricketer (Q12299841)</td>\n",
       "      <td>+1986-01-28T00:00:00Z</td>\n",
       "      <td>male (Q6581097)</td>\n",
       "    </tr>\n",
       "    <tr>\n",
       "      <th>25</th>\n",
       "      <td>Bilal Asif</td>\n",
       "      <td>bilalasif2411</td>\n",
       "      <td>cricketer (Q12299841)</td>\n",
       "      <td>+1985-09-24T00:00:00Z</td>\n",
       "      <td>male (Q6581097)</td>\n",
       "    </tr>\n",
       "    <tr>\n",
       "      <th>26</th>\n",
       "      <td>Azhar Ali</td>\n",
       "      <td>AzharAli_</td>\n",
       "      <td>cricketer (Q12299841)</td>\n",
       "      <td>+1985-02-19T00:00:00Z</td>\n",
       "      <td>male (Q6581097)</td>\n",
       "    </tr>\n",
       "    <tr>\n",
       "      <th>27</th>\n",
       "      <td>Salman Butt</td>\n",
       "      <td>im_SalmanButt</td>\n",
       "      <td>cricketer (Q12299841)</td>\n",
       "      <td>+1984-10-07T00:00:00Z</td>\n",
       "      <td>male (Q6581097)</td>\n",
       "    </tr>\n",
       "    <tr>\n",
       "      <th>28</th>\n",
       "      <td>Hasnain Lehri</td>\n",
       "      <td>hasnainlehri</td>\n",
       "      <td>model (Q4610556)</td>\n",
       "      <td>+1984-06-24T00:00:00Z</td>\n",
       "      <td>male (Q6581097)</td>\n",
       "    </tr>\n",
       "    <tr>\n",
       "      <th>29</th>\n",
       "      <td>Fahad Mustafa</td>\n",
       "      <td>fahadmustafa26</td>\n",
       "      <td>actor (Q33999)</td>\n",
       "      <td>+1983-06-26T00:00:00Z</td>\n",
       "      <td>male (Q6581097)</td>\n",
       "    </tr>\n",
       "    <tr>\n",
       "      <th>30</th>\n",
       "      <td>Mohammad Irfan</td>\n",
       "      <td>M_IrfanOfficial</td>\n",
       "      <td>cricketer (Q12299841)</td>\n",
       "      <td>+1982-06-06T00:00:00Z</td>\n",
       "      <td>male (Q6581097)</td>\n",
       "    </tr>\n",
       "    <tr>\n",
       "      <th>31</th>\n",
       "      <td>Bazid Khan</td>\n",
       "      <td>bazidkhan81</td>\n",
       "      <td>cricketer (Q12299841)</td>\n",
       "      <td>+1981-03-25T00:00:00Z</td>\n",
       "      <td>male (Q6581097)</td>\n",
       "    </tr>\n",
       "    <tr>\n",
       "      <th>32</th>\n",
       "      <td>Zia Ur Rehman</td>\n",
       "      <td>zalmayzia</td>\n",
       "      <td>journalist (Q1930187)</td>\n",
       "      <td>+1981-03-13T00:00:00Z</td>\n",
       "      <td>male (Q6581097)</td>\n",
       "    </tr>\n",
       "    <tr>\n",
       "      <th>33</th>\n",
       "      <td>Adeel Raja</td>\n",
       "      <td>adeelraja</td>\n",
       "      <td>cricketer (Q12299841)</td>\n",
       "      <td>+1980-08-15T00:00:00Z</td>\n",
       "      <td>male (Q6581097)</td>\n",
       "    </tr>\n",
       "    <tr>\n",
       "      <th>34</th>\n",
       "      <td>Aizaz Cheema</td>\n",
       "      <td>AizazCheema</td>\n",
       "      <td>cricketer (Q12299841)</td>\n",
       "      <td>+1979-09-05T00:00:00Z</td>\n",
       "      <td>male (Q6581097)</td>\n",
       "    </tr>\n",
       "    <tr>\n",
       "      <th>35</th>\n",
       "      <td>Javed Malik</td>\n",
       "      <td>JavedMalik</td>\n",
       "      <td>journalist (Q1930187)</td>\n",
       "      <td>+1976-04-17T00:00:00Z</td>\n",
       "      <td>male (Q6581097)</td>\n",
       "    </tr>\n",
       "    <tr>\n",
       "      <th>36</th>\n",
       "      <td>Atiq-uz-Zaman</td>\n",
       "      <td>Atiq160Test</td>\n",
       "      <td>cricketer (Q12299841)</td>\n",
       "      <td>+1975-07-20T00:00:00Z</td>\n",
       "      <td>male (Q6581097)</td>\n",
       "    </tr>\n",
       "    <tr>\n",
       "      <th>37</th>\n",
       "      <td>Ali A. Rizvi</td>\n",
       "      <td>aliamjadrizvi</td>\n",
       "      <td>writer (Q36180)</td>\n",
       "      <td>+1975-05-29T00:00:00Z</td>\n",
       "      <td>male (Q6581097)</td>\n",
       "    </tr>\n",
       "    <tr>\n",
       "      <th>38</th>\n",
       "      <td>Mirwaiz Umar Farooq</td>\n",
       "      <td>MirwaizKashmir</td>\n",
       "      <td>politician (Q82955)</td>\n",
       "      <td>+1973-03-23T00:00:00Z</td>\n",
       "      <td>male (Q6581097)</td>\n",
       "    </tr>\n",
       "    <tr>\n",
       "      <th>39</th>\n",
       "      <td>Syed Ali Raza Abidi</td>\n",
       "      <td>abidifactor</td>\n",
       "      <td>politician (Q82955)</td>\n",
       "      <td>+1972-07-06T00:00:00Z</td>\n",
       "      <td>male (Q6581097)</td>\n",
       "    </tr>\n",
       "    <tr>\n",
       "      <th>40</th>\n",
       "      <td>Syed Mustafa Kamal</td>\n",
       "      <td>KamalPSP</td>\n",
       "      <td>politician (Q82955)</td>\n",
       "      <td>+1971-12-27T00:00:00Z</td>\n",
       "      <td>male (Q6581097)</td>\n",
       "    </tr>\n",
       "    <tr>\n",
       "      <th>41</th>\n",
       "      <td>Awais Leghari</td>\n",
       "      <td>akleghari</td>\n",
       "      <td>politician (Q82955)</td>\n",
       "      <td>+1971-08-01T00:00:00Z</td>\n",
       "      <td>male (Q6581097)</td>\n",
       "    </tr>\n",
       "    <tr>\n",
       "      <th>42</th>\n",
       "      <td>Shaan Shahid</td>\n",
       "      <td>mshaanshahid</td>\n",
       "      <td>actor (Q33999)</td>\n",
       "      <td>+1971-04-27T00:00:00Z</td>\n",
       "      <td>male (Q6581097)</td>\n",
       "    </tr>\n",
       "    <tr>\n",
       "      <th>43</th>\n",
       "      <td>Jawad Ahmad</td>\n",
       "      <td>jawadahmadone</td>\n",
       "      <td>engineer (Q81096)</td>\n",
       "      <td>+1970-09-29T00:00:00Z</td>\n",
       "      <td>male (Q6581097)</td>\n",
       "    </tr>\n",
       "    <tr>\n",
       "      <th>44</th>\n",
       "      <td>Ayaz Latif Palijo</td>\n",
       "      <td>AyazLatifPalijo</td>\n",
       "      <td>journalist (Q1930187)</td>\n",
       "      <td>+1968-11-15T00:00:00Z</td>\n",
       "      <td>male (Q6581097)</td>\n",
       "    </tr>\n",
       "    <tr>\n",
       "      <th>45</th>\n",
       "      <td>Sajjad Ali</td>\n",
       "      <td>sajjad_official</td>\n",
       "      <td>film director (Q2526255)</td>\n",
       "      <td>+1966-08-24T00:00:00Z</td>\n",
       "      <td>male (Q6581097)</td>\n",
       "    </tr>\n",
       "    <tr>\n",
       "      <th>46</th>\n",
       "      <td>Raza Haroon</td>\n",
       "      <td>mrazaharoon</td>\n",
       "      <td>politician (Q82955)</td>\n",
       "      <td>+1965-10-04T00:00:00Z</td>\n",
       "      <td>male (Q6581097)</td>\n",
       "    </tr>\n",
       "    <tr>\n",
       "      <th>47</th>\n",
       "      <td>Tapu Javeri</td>\n",
       "      <td>tapujaveri</td>\n",
       "      <td>presenter (Q13590141)</td>\n",
       "      <td>+1965-05-05T00:00:00Z</td>\n",
       "      <td>male (Q6581097)</td>\n",
       "    </tr>\n",
       "    <tr>\n",
       "      <th>48</th>\n",
       "      <td>Hassan Nisar</td>\n",
       "      <td>HassanNisar</td>\n",
       "      <td>journalist (Q1930187)</td>\n",
       "      <td>+1951-07-05T00:00:00Z</td>\n",
       "      <td>male (Q6581097)</td>\n",
       "    </tr>\n",
       "    <tr>\n",
       "      <th>49</th>\n",
       "      <td>Hassan Khan</td>\n",
       "      <td>16hassankhan</td>\n",
       "      <td>politician (Q82955)</td>\n",
       "      <td>+1936-12-11T00:00:00Z</td>\n",
       "      <td>male (Q6581097)</td>\n",
       "    </tr>\n",
       "    <tr>\n",
       "      <th>50</th>\n",
       "      <td>Abid Hussain</td>\n",
       "      <td>abidhussayn</td>\n",
       "      <td>economist (Q188094)</td>\n",
       "      <td>+1926-12-26T00:00:00Z</td>\n",
       "      <td>male (Q6581097)</td>\n",
       "    </tr>\n",
       "    <tr>\n",
       "      <th>51</th>\n",
       "      <td>Muhammad Nawaz</td>\n",
       "      <td>mnawaz94</td>\n",
       "      <td>javelin thrower (Q18510502)</td>\n",
       "      <td>+1924-08-15T00:00:00Z</td>\n",
       "      <td>male (Q6581097)</td>\n",
       "    </tr>\n",
       "    <tr>\n",
       "      <th>59</th>\n",
       "      <td>Hajra Khan</td>\n",
       "      <td>hajrakn</td>\n",
       "      <td>association football player (Q937857)</td>\n",
       "      <td>+1993-12-29T00:00:00Z</td>\n",
       "      <td>female (Q6581072)</td>\n",
       "    </tr>\n",
       "    <tr>\n",
       "      <th>60</th>\n",
       "      <td>Momina Mustehsan</td>\n",
       "      <td>MominaMustehsan</td>\n",
       "      <td>singer (Q177220)</td>\n",
       "      <td>+1992-09-05T00:00:00Z</td>\n",
       "      <td>female (Q6581072)</td>\n",
       "    </tr>\n",
       "    <tr>\n",
       "      <th>61</th>\n",
       "      <td>Kainat Imtiaz</td>\n",
       "      <td>kainatimtiaz16</td>\n",
       "      <td>cricketer (Q12299841)</td>\n",
       "      <td>+1992-06-21T00:00:00Z</td>\n",
       "      <td>female (Q6581072)</td>\n",
       "    </tr>\n",
       "    <tr>\n",
       "      <th>62</th>\n",
       "      <td>Bismah Maroof</td>\n",
       "      <td>maroof_bismah</td>\n",
       "      <td>cricketer (Q12299841)</td>\n",
       "      <td>+1991-07-18T00:00:00Z</td>\n",
       "      <td>female (Q6581072)</td>\n",
       "    </tr>\n",
       "    <tr>\n",
       "      <th>63</th>\n",
       "      <td>Armeena Khan</td>\n",
       "      <td>ArmeenaRK</td>\n",
       "      <td>actor (Q33999)</td>\n",
       "      <td>+1987-03-30T00:00:00Z</td>\n",
       "      <td>female (Q6581072)</td>\n",
       "    </tr>\n",
       "    <tr>\n",
       "      <th>64</th>\n",
       "      <td>Gulalai_Ismail</td>\n",
       "      <td>Gulalai_Ismail</td>\n",
       "      <td>human rights activist (Q1476215)</td>\n",
       "      <td>+1986-00-00T00:00:00Z</td>\n",
       "      <td>female (Q6581072)</td>\n",
       "    </tr>\n",
       "    <tr>\n",
       "      <th>65</th>\n",
       "      <td>Gul Bukhari</td>\n",
       "      <td>GulBukhari</td>\n",
       "      <td>journalist (Q1930187)</td>\n",
       "      <td>+1966-07-02T00:00:00Z</td>\n",
       "      <td>female (Q6581072)</td>\n",
       "    </tr>\n",
       "    <tr>\n",
       "      <th>66</th>\n",
       "      <td>Ayesha Siddiqa</td>\n",
       "      <td>iamthedrifter</td>\n",
       "      <td>journalist (Q1930187)</td>\n",
       "      <td>+1966-04-07T00:00:00Z</td>\n",
       "      <td>female (Q6581072)</td>\n",
       "    </tr>\n",
       "    <tr>\n",
       "      <th>67</th>\n",
       "      <td>Mehbooba Mufti</td>\n",
       "      <td>MehboobaMufti</td>\n",
       "      <td>politician (Q82955)</td>\n",
       "      <td>+1959-05-22T00:00:00Z</td>\n",
       "      <td>female (Q6581072)</td>\n",
       "    </tr>\n",
       "  </tbody>\n",
       "</table>\n",
       "</div>"
      ],
      "text/plain": [
       "                   name         username  \\\n",
       "10          Shadab Khan     76Shadabkhan   \n",
       "11           Asim Azhar       AsimAzharr   \n",
       "12            Usama Mir      iamusamamir   \n",
       "13          Zafar Gohar    iamzafargohar   \n",
       "14           Babar Azam     babarazam258   \n",
       "15        Faheem Ashraf    iFaheemAshraf   \n",
       "16        Mohammad Amir  iamamirofficial   \n",
       "17         Rumman Raees    rummanraees15   \n",
       "18           Ayaz Samoo        AyazSamoo   \n",
       "19            Ali Waqas      AliWaqas235   \n",
       "20           Imad Wasim       simadwasim   \n",
       "21  Kamran Khan Bangash   kamrankbangash   \n",
       "22           Yasir Shah          Shah64Y   \n",
       "23    Osman Khalid Butt    aClockworkObi   \n",
       "24          Asad Shafiq   asadshafiq1986   \n",
       "25           Bilal Asif    bilalasif2411   \n",
       "26            Azhar Ali        AzharAli_   \n",
       "27          Salman Butt    im_SalmanButt   \n",
       "28        Hasnain Lehri     hasnainlehri   \n",
       "29        Fahad Mustafa   fahadmustafa26   \n",
       "30       Mohammad Irfan  M_IrfanOfficial   \n",
       "31           Bazid Khan      bazidkhan81   \n",
       "32        Zia Ur Rehman        zalmayzia   \n",
       "33           Adeel Raja        adeelraja   \n",
       "34         Aizaz Cheema      AizazCheema   \n",
       "35          Javed Malik       JavedMalik   \n",
       "36        Atiq-uz-Zaman      Atiq160Test   \n",
       "37         Ali A. Rizvi    aliamjadrizvi   \n",
       "38  Mirwaiz Umar Farooq   MirwaizKashmir   \n",
       "39  Syed Ali Raza Abidi      abidifactor   \n",
       "40   Syed Mustafa Kamal         KamalPSP   \n",
       "41        Awais Leghari        akleghari   \n",
       "42         Shaan Shahid     mshaanshahid   \n",
       "43          Jawad Ahmad    jawadahmadone   \n",
       "44    Ayaz Latif Palijo  AyazLatifPalijo   \n",
       "45           Sajjad Ali  sajjad_official   \n",
       "46          Raza Haroon      mrazaharoon   \n",
       "47          Tapu Javeri       tapujaveri   \n",
       "48         Hassan Nisar      HassanNisar   \n",
       "49          Hassan Khan     16hassankhan   \n",
       "50         Abid Hussain      abidhussayn   \n",
       "51       Muhammad Nawaz         mnawaz94   \n",
       "59           Hajra Khan          hajrakn   \n",
       "60     Momina Mustehsan  MominaMustehsan   \n",
       "61        Kainat Imtiaz   kainatimtiaz16   \n",
       "62        Bismah Maroof    maroof_bismah   \n",
       "63         Armeena Khan        ArmeenaRK   \n",
       "64       Gulalai_Ismail   Gulalai_Ismail   \n",
       "65          Gul Bukhari       GulBukhari   \n",
       "66       Ayesha Siddiqa    iamthedrifter   \n",
       "67       Mehbooba Mufti    MehboobaMufti   \n",
       "\n",
       "                               Occupation              Birthyear  \\\n",
       "10                  cricketer (Q12299841)  +1998-10-04T00:00:00Z   \n",
       "11            singer-songwriter (Q488205)  +1996-10-29T00:00:00Z   \n",
       "12                  cricketer (Q12299841)  +1995-12-23T00:00:00Z   \n",
       "13                  cricketer (Q12299841)  +1995-02-01T00:00:00Z   \n",
       "14                  cricketer (Q12299841)  +1994-10-15T00:00:00Z   \n",
       "15                  cricketer (Q12299841)  +1994-01-16T00:00:00Z   \n",
       "16                  cricketer (Q12299841)  +1992-04-13T00:00:00Z   \n",
       "17                  cricketer (Q12299841)  +1991-10-18T00:00:00Z   \n",
       "18                          VJ (Q6399436)  +1991-02-11T00:00:00Z   \n",
       "19                  cricketer (Q12299841)  +1989-12-26T00:00:00Z   \n",
       "20                  cricketer (Q12299841)  +1988-12-18T00:00:00Z   \n",
       "21                    politician (Q82955)  +1987-01-01T00:00:00Z   \n",
       "22                  cricketer (Q12299841)  +1986-05-02T00:00:00Z   \n",
       "23                  journalist (Q1930187)  +1986-02-09T00:00:00Z   \n",
       "24                  cricketer (Q12299841)  +1986-01-28T00:00:00Z   \n",
       "25                  cricketer (Q12299841)  +1985-09-24T00:00:00Z   \n",
       "26                  cricketer (Q12299841)  +1985-02-19T00:00:00Z   \n",
       "27                  cricketer (Q12299841)  +1984-10-07T00:00:00Z   \n",
       "28                       model (Q4610556)  +1984-06-24T00:00:00Z   \n",
       "29                         actor (Q33999)  +1983-06-26T00:00:00Z   \n",
       "30                  cricketer (Q12299841)  +1982-06-06T00:00:00Z   \n",
       "31                  cricketer (Q12299841)  +1981-03-25T00:00:00Z   \n",
       "32                  journalist (Q1930187)  +1981-03-13T00:00:00Z   \n",
       "33                  cricketer (Q12299841)  +1980-08-15T00:00:00Z   \n",
       "34                  cricketer (Q12299841)  +1979-09-05T00:00:00Z   \n",
       "35                  journalist (Q1930187)  +1976-04-17T00:00:00Z   \n",
       "36                  cricketer (Q12299841)  +1975-07-20T00:00:00Z   \n",
       "37                        writer (Q36180)  +1975-05-29T00:00:00Z   \n",
       "38                    politician (Q82955)  +1973-03-23T00:00:00Z   \n",
       "39                    politician (Q82955)  +1972-07-06T00:00:00Z   \n",
       "40                    politician (Q82955)  +1971-12-27T00:00:00Z   \n",
       "41                    politician (Q82955)  +1971-08-01T00:00:00Z   \n",
       "42                         actor (Q33999)  +1971-04-27T00:00:00Z   \n",
       "43                      engineer (Q81096)  +1970-09-29T00:00:00Z   \n",
       "44                  journalist (Q1930187)  +1968-11-15T00:00:00Z   \n",
       "45               film director (Q2526255)  +1966-08-24T00:00:00Z   \n",
       "46                    politician (Q82955)  +1965-10-04T00:00:00Z   \n",
       "47                  presenter (Q13590141)  +1965-05-05T00:00:00Z   \n",
       "48                  journalist (Q1930187)  +1951-07-05T00:00:00Z   \n",
       "49                    politician (Q82955)  +1936-12-11T00:00:00Z   \n",
       "50                    economist (Q188094)  +1926-12-26T00:00:00Z   \n",
       "51            javelin thrower (Q18510502)  +1924-08-15T00:00:00Z   \n",
       "59  association football player (Q937857)  +1993-12-29T00:00:00Z   \n",
       "60                       singer (Q177220)  +1992-09-05T00:00:00Z   \n",
       "61                  cricketer (Q12299841)  +1992-06-21T00:00:00Z   \n",
       "62                  cricketer (Q12299841)  +1991-07-18T00:00:00Z   \n",
       "63                         actor (Q33999)  +1987-03-30T00:00:00Z   \n",
       "64       human rights activist (Q1476215)  +1986-00-00T00:00:00Z   \n",
       "65                  journalist (Q1930187)  +1966-07-02T00:00:00Z   \n",
       "66                  journalist (Q1930187)  +1966-04-07T00:00:00Z   \n",
       "67                    politician (Q82955)  +1959-05-22T00:00:00Z   \n",
       "\n",
       "               Gender  \n",
       "10    male (Q6581097)  \n",
       "11    male (Q6581097)  \n",
       "12    male (Q6581097)  \n",
       "13    male (Q6581097)  \n",
       "14    male (Q6581097)  \n",
       "15    male (Q6581097)  \n",
       "16    male (Q6581097)  \n",
       "17    male (Q6581097)  \n",
       "18    male (Q6581097)  \n",
       "19    male (Q6581097)  \n",
       "20    male (Q6581097)  \n",
       "21    male (Q6581097)  \n",
       "22    male (Q6581097)  \n",
       "23    male (Q6581097)  \n",
       "24    male (Q6581097)  \n",
       "25    male (Q6581097)  \n",
       "26    male (Q6581097)  \n",
       "27    male (Q6581097)  \n",
       "28    male (Q6581097)  \n",
       "29    male (Q6581097)  \n",
       "30    male (Q6581097)  \n",
       "31    male (Q6581097)  \n",
       "32    male (Q6581097)  \n",
       "33    male (Q6581097)  \n",
       "34    male (Q6581097)  \n",
       "35    male (Q6581097)  \n",
       "36    male (Q6581097)  \n",
       "37    male (Q6581097)  \n",
       "38    male (Q6581097)  \n",
       "39    male (Q6581097)  \n",
       "40    male (Q6581097)  \n",
       "41    male (Q6581097)  \n",
       "42    male (Q6581097)  \n",
       "43    male (Q6581097)  \n",
       "44    male (Q6581097)  \n",
       "45    male (Q6581097)  \n",
       "46    male (Q6581097)  \n",
       "47    male (Q6581097)  \n",
       "48    male (Q6581097)  \n",
       "49    male (Q6581097)  \n",
       "50    male (Q6581097)  \n",
       "51    male (Q6581097)  \n",
       "59  female (Q6581072)  \n",
       "60  female (Q6581072)  \n",
       "61  female (Q6581072)  \n",
       "62  female (Q6581072)  \n",
       "63  female (Q6581072)  \n",
       "64  female (Q6581072)  \n",
       "65  female (Q6581072)  \n",
       "66  female (Q6581072)  \n",
       "67  female (Q6581072)  "
      ]
     },
     "execution_count": 5,
     "metadata": {},
     "output_type": "execute_result"
    }
   ],
   "source": [
    "output_labels.set_index('username',inplace=True)\n",
    "output_labels.dropna(axis=0,how='any',inplace=True)"
   ]
  },
  {
   "cell_type": "code",
   "execution_count": 10,
   "metadata": {
    "scrolled": true
   },
   "outputs": [
    {
     "name": "stderr",
     "output_type": "stream",
     "text": [
      "C:\\Users\\Waqar Ali\\Anaconda3\\lib\\site-packages\\ipykernel_launcher.py:1: SettingWithCopyWarning: \n",
      "A value is trying to be set on a copy of a slice from a DataFrame\n",
      "\n",
      "See the caveats in the documentation: http://pandas.pydata.org/pandas-docs/stable/indexing.html#indexing-view-versus-copy\n",
      "  \"\"\"Entry point for launching an IPython kernel.\n"
     ]
    }
   ],
   "source": [
    "output_labels.dropna(axis=0,how='any',inplace=True)"
   ]
  },
  {
   "cell_type": "markdown",
   "metadata": {},
   "source": [
    "# Username Categorization"
   ]
  },
  {
   "cell_type": "code",
   "execution_count": 39,
   "metadata": {},
   "outputs": [],
   "source": [
    "import pandas\n",
    "import numpy as np"
   ]
  },
  {
   "cell_type": "code",
   "execution_count": 40,
   "metadata": {},
   "outputs": [],
   "source": [
    "collected = pandas.read_excel('input_files/Wikidata_partial.xlsx')\n",
    "collected.set_index('username',inplace=True)\n",
    "collected.sort_values(['username','Occupation','Gender'],inplace=True)"
   ]
  },
  {
   "cell_type": "code",
   "execution_count": 41,
   "metadata": {},
   "outputs": [],
   "source": [
    "newCollected = pandas.read_excel('Wikidata-Pending.xlsx')\n",
    "newCollected.set_index('username',inplace=True)\n",
    "newCollected.sort_values(['username','Occupation','Gender'],inplace=True)\n",
    "newCollected.replace('-',np.nan,inplace=True)"
   ]
  },
  {
   "cell_type": "code",
   "execution_count": 42,
   "metadata": {},
   "outputs": [],
   "source": [
    "collected.dropna(axis=0,how='any',inplace=True)\n",
    "newCollected.dropna(axis=0,how='any',inplace=True)"
   ]
  },
  {
   "cell_type": "code",
   "execution_count": 46,
   "metadata": {},
   "outputs": [],
   "source": [
    "totalAvail = collected.append(newCollected).to_excel('TotalAvailable.xlsx')\n"
   ]
  },
  {
   "cell_type": "markdown",
   "metadata": {},
   "source": [
    "# Seportator"
   ]
  },
  {
   "cell_type": "code",
   "execution_count": 1,
   "metadata": {},
   "outputs": [],
   "source": [
    "import pandas"
   ]
  },
  {
   "cell_type": "code",
   "execution_count": 47,
   "metadata": {},
   "outputs": [],
   "source": [
    "totalUser = pandas.read_excel('input_files/user_scrapper_input.xlsx')\n",
    "readUser = pandas.read_excel('TotalAvailable.xlsx')"
   ]
  },
  {
   "cell_type": "code",
   "execution_count": 48,
   "metadata": {},
   "outputs": [
    {
     "name": "stdout",
     "output_type": "stream",
     "text": [
      "414 151\n"
     ]
    }
   ],
   "source": [
    "print(len(totalUser),len(readUser))"
   ]
  },
  {
   "cell_type": "code",
   "execution_count": 51,
   "metadata": {},
   "outputs": [],
   "source": [
    "# totalUser.set_index('username',inplace=True)\n",
    "# readUser.set_index('username',inplace=True)\n",
    "totalUser.drop(readUser.index.values).to_excel('total_remaining_pak.xlsx')"
   ]
  },
  {
   "cell_type": "markdown",
   "metadata": {},
   "source": [
    "# Data"
   ]
  },
  {
   "cell_type": "code",
   "execution_count": 1,
   "metadata": {},
   "outputs": [],
   "source": [
    "import pandas"
   ]
  },
  {
   "cell_type": "code",
   "execution_count": 2,
   "metadata": {},
   "outputs": [],
   "source": [
    "Total_users = pandas.read_excel('input_files/user_scrapper_input.xlsx')\n",
    "collected_user = pandas.read_excel('total_available.xlsx')\n",
    "file = pandas.read_excel('input_files/Wikidata_partial.xlsx')\n",
    "fil2 = pandas.read_excel('remm_output.xlsx')\n",
    "fil3 = pandas.read_excel('Wikidata-Pending.xlsx')"
   ]
  },
  {
   "cell_type": "code",
   "execution_count": 4,
   "metadata": {},
   "outputs": [],
   "source": [
    "Total_users.set_index('username',inplace=True)\n",
    "collected_user.set_index('username',inplace=True)\n",
    "file.set_index('username',inplace=True)\n",
    "fil2.set_index('username',inplace=True)\n",
    "fil3.set_index('username',inplace=True)"
   ]
  },
  {
   "cell_type": "code",
   "execution_count": 11,
   "metadata": {},
   "outputs": [
    {
     "ename": "KeyError",
     "evalue": "\"['007Bilawal' 'AbrarUlHaqPK' 'ArsalanGhumman' 'AseefaBZ' 'BakhtawarBZ'\\n 'ChMSarwar' 'DrAwab' 'GFarooqi' 'HSYCOUTUREKING' 'Jan_Achakzai'\\n 'JunaidkhanREAL' 'KhawajaMAsif' 'Malala' 'MehrTarar' 'Mushy_online'\\n 'RabiaAnumm' 'SMQureshiPTI' 'Shamidrees' 'SharjeelLeo14'\\n 'ShoaibPTI_PP147' 'SidraIqbal' 'SirajOfficial' 'TahirulQadri'\\n 'TalatHussain12' 'ZAbbasOfficial' '_Mansoor_Ali' 'ajmaljami'\\n 'aleemkhan_pti' 'beenasarwar' 'faizanlakhani' 'fara_yousaf'\\n 'fawadchaudhry' 'faysalquraishi' 'fbhutto' 'iMehreenSyed'\\n 'iamAhmadshahzad' 'iramizraja' 'jawabdeyh' 'junaidmuhammadd' 'mak_asif'\\n 'nadeemmalik' 'najiaashar' 'officialsaadN' 'shazbkhanzdaGEO'\\n 'sherryrehman' '76Shadabkhan' 'AsimAzharr' 'iamusamamir' 'iamzafargohar'\\n 'babarazam258' 'iFaheemAshraf' 'iamamirofficial' 'rummanraees15'\\n 'AyazSamoo' 'AliWaqas235' 'simadwasim' 'kamrankbangash' 'Shah64Y'\\n 'aClockworkObi' 'asadshafiq1986' 'bilalasif2411' 'AzharAli_'\\n 'im_SalmanButt' 'hasnainlehri' 'fahadmustafa26' 'M_IrfanOfficial'\\n 'bazidkhan81' 'zalmayzia' 'adeelraja' 'AizazCheema' 'JavedMalik'\\n 'Atiq160Test' 'aliamjadrizvi' 'MirwaizKashmir' 'abidifactor' 'KamalPSP'\\n 'akleghari' 'mshaanshahid' 'jawadahmadone' 'AyazLatifPalijo'\\n 'sajjad_official' 'mrazaharoon' 'tapujaveri' 'HassanNisar' '16hassankhan'\\n 'abidhussayn' 'mnawaz94' 'hajrakn' 'MominaMustehsan' 'kainatimtiaz16'\\n 'maroof_bismah' 'ArmeenaRK' 'Gulalai_Ismail' 'GulBukhari' 'iamthedrifter'\\n 'MehboobaMufti'] not found in axis\"",
     "output_type": "error",
     "traceback": [
      "\u001b[1;31m---------------------------------------------------------------------------\u001b[0m",
      "\u001b[1;31mKeyError\u001b[0m                                  Traceback (most recent call last)",
      "\u001b[1;32m<ipython-input-11-95864a38b055>\u001b[0m in \u001b[0;36m<module>\u001b[1;34m\u001b[0m\n\u001b[1;32m----> 1\u001b[1;33m \u001b[0mfile\u001b[0m\u001b[1;33m.\u001b[0m\u001b[0mdrop\u001b[0m\u001b[1;33m(\u001b[0m\u001b[0mcollected_user\u001b[0m\u001b[1;33m.\u001b[0m\u001b[0mindex\u001b[0m\u001b[1;33m,\u001b[0m\u001b[0maxis\u001b[0m\u001b[1;33m=\u001b[0m\u001b[1;36m0\u001b[0m\u001b[1;33m)\u001b[0m\u001b[1;33m\u001b[0m\u001b[1;33m\u001b[0m\u001b[0m\n\u001b[0m",
      "\u001b[1;32m~\\Anaconda3\\lib\\site-packages\\pandas\\core\\frame.py\u001b[0m in \u001b[0;36mdrop\u001b[1;34m(self, labels, axis, index, columns, level, inplace, errors)\u001b[0m\n\u001b[0;32m   3695\u001b[0m                                            \u001b[0mindex\u001b[0m\u001b[1;33m=\u001b[0m\u001b[0mindex\u001b[0m\u001b[1;33m,\u001b[0m \u001b[0mcolumns\u001b[0m\u001b[1;33m=\u001b[0m\u001b[0mcolumns\u001b[0m\u001b[1;33m,\u001b[0m\u001b[1;33m\u001b[0m\u001b[1;33m\u001b[0m\u001b[0m\n\u001b[0;32m   3696\u001b[0m                                            \u001b[0mlevel\u001b[0m\u001b[1;33m=\u001b[0m\u001b[0mlevel\u001b[0m\u001b[1;33m,\u001b[0m \u001b[0minplace\u001b[0m\u001b[1;33m=\u001b[0m\u001b[0minplace\u001b[0m\u001b[1;33m,\u001b[0m\u001b[1;33m\u001b[0m\u001b[1;33m\u001b[0m\u001b[0m\n\u001b[1;32m-> 3697\u001b[1;33m                                            errors=errors)\n\u001b[0m\u001b[0;32m   3698\u001b[0m \u001b[1;33m\u001b[0m\u001b[0m\n\u001b[0;32m   3699\u001b[0m     @rewrite_axis_style_signature('mapper', [('copy', True),\n",
      "\u001b[1;32m~\\Anaconda3\\lib\\site-packages\\pandas\\core\\generic.py\u001b[0m in \u001b[0;36mdrop\u001b[1;34m(self, labels, axis, index, columns, level, inplace, errors)\u001b[0m\n\u001b[0;32m   3109\u001b[0m         \u001b[1;32mfor\u001b[0m \u001b[0maxis\u001b[0m\u001b[1;33m,\u001b[0m \u001b[0mlabels\u001b[0m \u001b[1;32min\u001b[0m \u001b[0maxes\u001b[0m\u001b[1;33m.\u001b[0m\u001b[0mitems\u001b[0m\u001b[1;33m(\u001b[0m\u001b[1;33m)\u001b[0m\u001b[1;33m:\u001b[0m\u001b[1;33m\u001b[0m\u001b[1;33m\u001b[0m\u001b[0m\n\u001b[0;32m   3110\u001b[0m             \u001b[1;32mif\u001b[0m \u001b[0mlabels\u001b[0m \u001b[1;32mis\u001b[0m \u001b[1;32mnot\u001b[0m \u001b[1;32mNone\u001b[0m\u001b[1;33m:\u001b[0m\u001b[1;33m\u001b[0m\u001b[1;33m\u001b[0m\u001b[0m\n\u001b[1;32m-> 3111\u001b[1;33m                 \u001b[0mobj\u001b[0m \u001b[1;33m=\u001b[0m \u001b[0mobj\u001b[0m\u001b[1;33m.\u001b[0m\u001b[0m_drop_axis\u001b[0m\u001b[1;33m(\u001b[0m\u001b[0mlabels\u001b[0m\u001b[1;33m,\u001b[0m \u001b[0maxis\u001b[0m\u001b[1;33m,\u001b[0m \u001b[0mlevel\u001b[0m\u001b[1;33m=\u001b[0m\u001b[0mlevel\u001b[0m\u001b[1;33m,\u001b[0m \u001b[0merrors\u001b[0m\u001b[1;33m=\u001b[0m\u001b[0merrors\u001b[0m\u001b[1;33m)\u001b[0m\u001b[1;33m\u001b[0m\u001b[1;33m\u001b[0m\u001b[0m\n\u001b[0m\u001b[0;32m   3112\u001b[0m \u001b[1;33m\u001b[0m\u001b[0m\n\u001b[0;32m   3113\u001b[0m         \u001b[1;32mif\u001b[0m \u001b[0minplace\u001b[0m\u001b[1;33m:\u001b[0m\u001b[1;33m\u001b[0m\u001b[1;33m\u001b[0m\u001b[0m\n",
      "\u001b[1;32m~\\Anaconda3\\lib\\site-packages\\pandas\\core\\generic.py\u001b[0m in \u001b[0;36m_drop_axis\u001b[1;34m(self, labels, axis, level, errors)\u001b[0m\n\u001b[0;32m   3141\u001b[0m                 \u001b[0mnew_axis\u001b[0m \u001b[1;33m=\u001b[0m \u001b[0maxis\u001b[0m\u001b[1;33m.\u001b[0m\u001b[0mdrop\u001b[0m\u001b[1;33m(\u001b[0m\u001b[0mlabels\u001b[0m\u001b[1;33m,\u001b[0m \u001b[0mlevel\u001b[0m\u001b[1;33m=\u001b[0m\u001b[0mlevel\u001b[0m\u001b[1;33m,\u001b[0m \u001b[0merrors\u001b[0m\u001b[1;33m=\u001b[0m\u001b[0merrors\u001b[0m\u001b[1;33m)\u001b[0m\u001b[1;33m\u001b[0m\u001b[1;33m\u001b[0m\u001b[0m\n\u001b[0;32m   3142\u001b[0m             \u001b[1;32melse\u001b[0m\u001b[1;33m:\u001b[0m\u001b[1;33m\u001b[0m\u001b[1;33m\u001b[0m\u001b[0m\n\u001b[1;32m-> 3143\u001b[1;33m                 \u001b[0mnew_axis\u001b[0m \u001b[1;33m=\u001b[0m \u001b[0maxis\u001b[0m\u001b[1;33m.\u001b[0m\u001b[0mdrop\u001b[0m\u001b[1;33m(\u001b[0m\u001b[0mlabels\u001b[0m\u001b[1;33m,\u001b[0m \u001b[0merrors\u001b[0m\u001b[1;33m=\u001b[0m\u001b[0merrors\u001b[0m\u001b[1;33m)\u001b[0m\u001b[1;33m\u001b[0m\u001b[1;33m\u001b[0m\u001b[0m\n\u001b[0m\u001b[0;32m   3144\u001b[0m             \u001b[0mresult\u001b[0m \u001b[1;33m=\u001b[0m \u001b[0mself\u001b[0m\u001b[1;33m.\u001b[0m\u001b[0mreindex\u001b[0m\u001b[1;33m(\u001b[0m\u001b[1;33m**\u001b[0m\u001b[1;33m{\u001b[0m\u001b[0maxis_name\u001b[0m\u001b[1;33m:\u001b[0m \u001b[0mnew_axis\u001b[0m\u001b[1;33m}\u001b[0m\u001b[1;33m)\u001b[0m\u001b[1;33m\u001b[0m\u001b[1;33m\u001b[0m\u001b[0m\n\u001b[0;32m   3145\u001b[0m \u001b[1;33m\u001b[0m\u001b[0m\n",
      "\u001b[1;32m~\\Anaconda3\\lib\\site-packages\\pandas\\core\\indexes\\base.py\u001b[0m in \u001b[0;36mdrop\u001b[1;34m(self, labels, errors)\u001b[0m\n\u001b[0;32m   4402\u001b[0m             \u001b[1;32mif\u001b[0m \u001b[0merrors\u001b[0m \u001b[1;33m!=\u001b[0m \u001b[1;34m'ignore'\u001b[0m\u001b[1;33m:\u001b[0m\u001b[1;33m\u001b[0m\u001b[1;33m\u001b[0m\u001b[0m\n\u001b[0;32m   4403\u001b[0m                 raise KeyError(\n\u001b[1;32m-> 4404\u001b[1;33m                     '{} not found in axis'.format(labels[mask]))\n\u001b[0m\u001b[0;32m   4405\u001b[0m             \u001b[0mindexer\u001b[0m \u001b[1;33m=\u001b[0m \u001b[0mindexer\u001b[0m\u001b[1;33m[\u001b[0m\u001b[1;33m~\u001b[0m\u001b[0mmask\u001b[0m\u001b[1;33m]\u001b[0m\u001b[1;33m\u001b[0m\u001b[1;33m\u001b[0m\u001b[0m\n\u001b[0;32m   4406\u001b[0m         \u001b[1;32mreturn\u001b[0m \u001b[0mself\u001b[0m\u001b[1;33m.\u001b[0m\u001b[0mdelete\u001b[0m\u001b[1;33m(\u001b[0m\u001b[0mindexer\u001b[0m\u001b[1;33m)\u001b[0m\u001b[1;33m\u001b[0m\u001b[1;33m\u001b[0m\u001b[0m\n",
      "\u001b[1;31mKeyError\u001b[0m: \"['007Bilawal' 'AbrarUlHaqPK' 'ArsalanGhumman' 'AseefaBZ' 'BakhtawarBZ'\\n 'ChMSarwar' 'DrAwab' 'GFarooqi' 'HSYCOUTUREKING' 'Jan_Achakzai'\\n 'JunaidkhanREAL' 'KhawajaMAsif' 'Malala' 'MehrTarar' 'Mushy_online'\\n 'RabiaAnumm' 'SMQureshiPTI' 'Shamidrees' 'SharjeelLeo14'\\n 'ShoaibPTI_PP147' 'SidraIqbal' 'SirajOfficial' 'TahirulQadri'\\n 'TalatHussain12' 'ZAbbasOfficial' '_Mansoor_Ali' 'ajmaljami'\\n 'aleemkhan_pti' 'beenasarwar' 'faizanlakhani' 'fara_yousaf'\\n 'fawadchaudhry' 'faysalquraishi' 'fbhutto' 'iMehreenSyed'\\n 'iamAhmadshahzad' 'iramizraja' 'jawabdeyh' 'junaidmuhammadd' 'mak_asif'\\n 'nadeemmalik' 'najiaashar' 'officialsaadN' 'shazbkhanzdaGEO'\\n 'sherryrehman' '76Shadabkhan' 'AsimAzharr' 'iamusamamir' 'iamzafargohar'\\n 'babarazam258' 'iFaheemAshraf' 'iamamirofficial' 'rummanraees15'\\n 'AyazSamoo' 'AliWaqas235' 'simadwasim' 'kamrankbangash' 'Shah64Y'\\n 'aClockworkObi' 'asadshafiq1986' 'bilalasif2411' 'AzharAli_'\\n 'im_SalmanButt' 'hasnainlehri' 'fahadmustafa26' 'M_IrfanOfficial'\\n 'bazidkhan81' 'zalmayzia' 'adeelraja' 'AizazCheema' 'JavedMalik'\\n 'Atiq160Test' 'aliamjadrizvi' 'MirwaizKashmir' 'abidifactor' 'KamalPSP'\\n 'akleghari' 'mshaanshahid' 'jawadahmadone' 'AyazLatifPalijo'\\n 'sajjad_official' 'mrazaharoon' 'tapujaveri' 'HassanNisar' '16hassankhan'\\n 'abidhussayn' 'mnawaz94' 'hajrakn' 'MominaMustehsan' 'kainatimtiaz16'\\n 'maroof_bismah' 'ArmeenaRK' 'Gulalai_Ismail' 'GulBukhari' 'iamthedrifter'\\n 'MehboobaMufti'] not found in axis\""
     ]
    }
   ],
   "source": [
    "file.drop(collected_user.index,axis=0)"
   ]
  },
  {
   "cell_type": "code",
   "execution_count": null,
   "metadata": {},
   "outputs": [],
   "source": []
  }
 ],
 "metadata": {
  "kernelspec": {
   "display_name": "'Python Interactive'",
   "language": "python",
   "name": "7a860039-f2e2-4198-854a-ba0e84e6436b"
  },
  "language_info": {
   "codemirror_mode": {
    "name": "ipython",
    "version": 3
   },
   "file_extension": ".py",
   "mimetype": "text/x-python",
   "name": "python",
   "nbconvert_exporter": "python",
   "pygments_lexer": "ipython3",
   "version": "3.7.1"
  }
 },
 "nbformat": 4,
 "nbformat_minor": 2
}
